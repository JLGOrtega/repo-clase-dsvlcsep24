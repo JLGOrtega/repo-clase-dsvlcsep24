{
 "cells": [
  {
   "cell_type": "markdown",
   "metadata": {
    "_uuid": "cb01ca96934e5c83a36a2308da9645b87a9c52a0"
   },
   "source": [
    "## <center> Assignment 4. Sarcasm detection with logistic regression\n",
    "    \n",
    "We'll be using the dataset from the [paper](https://arxiv.org/abs/1704.05579) \"A Large Self-Annotated Corpus for Sarcasm\" with >1mln comments from Reddit, labeled as either sarcastic or not. A processed version can be found on Kaggle in a form of a [Kaggle Dataset](https://www.kaggle.com/danofer/sarcasm).\n",
    "\n",
    "Sarcasm detection is easy. \n",
    "\n",
    "<img src=\"https://habrastorage.org/webt/1f/0d/ta/1f0dtavsd14ncf17gbsy1cvoga4.jpeg\" />"
   ]
  },
  {
   "cell_type": "markdown",
   "metadata": {},
   "source": [
    "# Detección de sarcasmo\n",
    "Para este ejercicio vas a utilizar el dataset del paper [A Large Self-Annotated Corpus for Sarcasm](https://arxiv.org/abs/1704.05579), con un millón de comentarios de Reddit, etiquetados como sarcásticos o no sarcásticos. Se pide:\n",
    "1. Si hubiese missings, eliminalos\n"
   ]
  },
  {
   "cell_type": "code",
   "execution_count": 1,
   "metadata": {
    "_uuid": "ffa03aec57ab6150f9bec0fa56cd3a5791a3e6f4"
   },
   "outputs": [],
   "source": [
    "# some necessary imports\n",
    "import os\n",
    "import numpy as np\n",
    "import pandas as pd\n",
    "from sklearn.feature_extraction.text import TfidfVectorizer\n",
    "from sklearn.linear_model import LogisticRegression\n",
    "from sklearn.pipeline import Pipeline\n",
    "from sklearn.model_selection import train_test_split\n",
    "from sklearn.metrics import accuracy_score, confusion_matrix\n",
    "import seaborn as sns\n",
    "from matplotlib import pyplot as plt"
   ]
  },
  {
   "cell_type": "code",
   "execution_count": null,
   "metadata": {},
   "outputs": [],
   "source": [
    "# Carga el 'data/train-balanced-sarcasm.csv' en un df y muestra su inicio"
   ]
  },
  {
   "cell_type": "code",
   "execution_count": 2,
   "metadata": {},
   "outputs": [
    {
     "data": {
      "text/html": [
       "<div>\n",
       "<style scoped>\n",
       "    .dataframe tbody tr th:only-of-type {\n",
       "        vertical-align: middle;\n",
       "    }\n",
       "\n",
       "    .dataframe tbody tr th {\n",
       "        vertical-align: top;\n",
       "    }\n",
       "\n",
       "    .dataframe thead th {\n",
       "        text-align: right;\n",
       "    }\n",
       "</style>\n",
       "<table border=\"1\" class=\"dataframe\">\n",
       "  <thead>\n",
       "    <tr style=\"text-align: right;\">\n",
       "      <th></th>\n",
       "      <th>label</th>\n",
       "      <th>comment</th>\n",
       "      <th>author</th>\n",
       "      <th>subreddit</th>\n",
       "      <th>score</th>\n",
       "      <th>ups</th>\n",
       "      <th>downs</th>\n",
       "      <th>date</th>\n",
       "      <th>created_utc</th>\n",
       "      <th>parent_comment</th>\n",
       "    </tr>\n",
       "  </thead>\n",
       "  <tbody>\n",
       "    <tr>\n",
       "      <th>0</th>\n",
       "      <td>0</td>\n",
       "      <td>NC and NH.</td>\n",
       "      <td>Trumpbart</td>\n",
       "      <td>politics</td>\n",
       "      <td>2</td>\n",
       "      <td>-1</td>\n",
       "      <td>-1</td>\n",
       "      <td>2016-10</td>\n",
       "      <td>2016-10-16 23:55:23</td>\n",
       "      <td>Yeah, I get that argument. At this point, I'd ...</td>\n",
       "    </tr>\n",
       "    <tr>\n",
       "      <th>1</th>\n",
       "      <td>0</td>\n",
       "      <td>You do know west teams play against west teams...</td>\n",
       "      <td>Shbshb906</td>\n",
       "      <td>nba</td>\n",
       "      <td>-4</td>\n",
       "      <td>-1</td>\n",
       "      <td>-1</td>\n",
       "      <td>2016-11</td>\n",
       "      <td>2016-11-01 00:24:10</td>\n",
       "      <td>The blazers and Mavericks (The wests 5 and 6 s...</td>\n",
       "    </tr>\n",
       "    <tr>\n",
       "      <th>2</th>\n",
       "      <td>0</td>\n",
       "      <td>They were underdogs earlier today, but since G...</td>\n",
       "      <td>Creepeth</td>\n",
       "      <td>nfl</td>\n",
       "      <td>3</td>\n",
       "      <td>3</td>\n",
       "      <td>0</td>\n",
       "      <td>2016-09</td>\n",
       "      <td>2016-09-22 21:45:37</td>\n",
       "      <td>They're favored to win.</td>\n",
       "    </tr>\n",
       "    <tr>\n",
       "      <th>3</th>\n",
       "      <td>0</td>\n",
       "      <td>This meme isn't funny none of the \"new york ni...</td>\n",
       "      <td>icebrotha</td>\n",
       "      <td>BlackPeopleTwitter</td>\n",
       "      <td>-8</td>\n",
       "      <td>-1</td>\n",
       "      <td>-1</td>\n",
       "      <td>2016-10</td>\n",
       "      <td>2016-10-18 21:03:47</td>\n",
       "      <td>deadass don't kill my buzz</td>\n",
       "    </tr>\n",
       "    <tr>\n",
       "      <th>4</th>\n",
       "      <td>0</td>\n",
       "      <td>I could use one of those tools.</td>\n",
       "      <td>cush2push</td>\n",
       "      <td>MaddenUltimateTeam</td>\n",
       "      <td>6</td>\n",
       "      <td>-1</td>\n",
       "      <td>-1</td>\n",
       "      <td>2016-12</td>\n",
       "      <td>2016-12-30 17:00:13</td>\n",
       "      <td>Yep can confirm I saw the tool they use for th...</td>\n",
       "    </tr>\n",
       "  </tbody>\n",
       "</table>\n",
       "</div>"
      ],
      "text/plain": [
       "   label                                            comment     author  \\\n",
       "0      0                                         NC and NH.  Trumpbart   \n",
       "1      0  You do know west teams play against west teams...  Shbshb906   \n",
       "2      0  They were underdogs earlier today, but since G...   Creepeth   \n",
       "3      0  This meme isn't funny none of the \"new york ni...  icebrotha   \n",
       "4      0                    I could use one of those tools.  cush2push   \n",
       "\n",
       "            subreddit  score  ups  downs     date          created_utc  \\\n",
       "0            politics      2   -1     -1  2016-10  2016-10-16 23:55:23   \n",
       "1                 nba     -4   -1     -1  2016-11  2016-11-01 00:24:10   \n",
       "2                 nfl      3    3      0  2016-09  2016-09-22 21:45:37   \n",
       "3  BlackPeopleTwitter     -8   -1     -1  2016-10  2016-10-18 21:03:47   \n",
       "4  MaddenUltimateTeam      6   -1     -1  2016-12  2016-12-30 17:00:13   \n",
       "\n",
       "                                      parent_comment  \n",
       "0  Yeah, I get that argument. At this point, I'd ...  \n",
       "1  The blazers and Mavericks (The wests 5 and 6 s...  \n",
       "2                            They're favored to win.  \n",
       "3                         deadass don't kill my buzz  \n",
       "4  Yep can confirm I saw the tool they use for th...  "
      ]
     },
     "execution_count": 2,
     "metadata": {},
     "output_type": "execute_result"
    }
   ],
   "source": []
  },
  {
   "cell_type": "markdown",
   "metadata": {
    "_uuid": "6472f52fb5ecb8bb2a6e3b292678a2042fcfe34c"
   },
   "source": [
    "Some comments are missing, so we drop the corresponding rows."
   ]
  },
  {
   "cell_type": "code",
   "execution_count": 3,
   "metadata": {},
   "outputs": [
    {
     "name": "stdout",
     "output_type": "stream",
     "text": [
      "<class 'pandas.core.frame.DataFrame'>\n",
      "RangeIndex: 1010826 entries, 0 to 1010825\n",
      "Data columns (total 10 columns):\n",
      " #   Column          Non-Null Count    Dtype \n",
      "---  ------          --------------    ----- \n",
      " 0   label           1010826 non-null  int64 \n",
      " 1   comment         1010773 non-null  object\n",
      " 2   author          1010826 non-null  object\n",
      " 3   subreddit       1010826 non-null  object\n",
      " 4   score           1010826 non-null  int64 \n",
      " 5   ups             1010826 non-null  int64 \n",
      " 6   downs           1010826 non-null  int64 \n",
      " 7   date            1010826 non-null  object\n",
      " 8   created_utc     1010826 non-null  object\n",
      " 9   parent_comment  1010826 non-null  object\n",
      "dtypes: int64(4), object(6)\n",
      "memory usage: 77.1+ MB\n"
     ]
    }
   ],
   "source": []
  },
  {
   "cell_type": "code",
   "execution_count": null,
   "metadata": {},
   "outputs": [],
   "source": [
    "# Haz un dropna a todo el dataframe"
   ]
  },
  {
   "cell_type": "code",
   "execution_count": 4,
   "metadata": {},
   "outputs": [],
   "source": []
  },
  {
   "cell_type": "code",
   "execution_count": null,
   "metadata": {},
   "outputs": [],
   "source": [
    "# Eliminamos de la columna 'comment' todo aquello que no sean caracteres de palabra o whitespace, pista: '[^\\w\\s]'"
   ]
  },
  {
   "cell_type": "markdown",
   "metadata": {
    "_uuid": "9d51637ee70dca7693737ad0da1dbb8c6ce9230b"
   },
   "source": [
    "We notice that the dataset is indeed balanced"
   ]
  },
  {
   "cell_type": "code",
   "execution_count": 6,
   "metadata": {},
   "outputs": [
    {
     "data": {
      "text/plain": [
       "0    505405\n",
       "1    505368\n",
       "Name: label, dtype: int64"
      ]
     },
     "execution_count": 6,
     "metadata": {},
     "output_type": "execute_result"
    }
   ],
   "source": [
    "#Miramos cuantos valores tenemos de cada categoria de la columna 'label'"
   ]
  },
  {
   "cell_type": "markdown",
   "metadata": {
    "_uuid": "5b836574e5093c5eb2e9063fefe1c8d198dcba79"
   },
   "source": [
    "We split data into training and validation parts."
   ]
  },
  {
   "cell_type": "code",
   "execution_count": null,
   "metadata": {},
   "outputs": [],
   "source": [
    "# Separa los conjuntos de entrenamiento y test\n",
    "\n",
    "# Usa para el conjunto X la columna 'comment' y para el y la columna 'label'\n",
    "\n",
    "# Usa un test size del 20% y una semilla de 12 (ojo, 12)"
   ]
  },
  {
   "cell_type": "code",
   "execution_count": 7,
   "metadata": {},
   "outputs": [],
   "source": []
  },
  {
   "cell_type": "code",
   "execution_count": null,
   "metadata": {},
   "outputs": [],
   "source": [
    "# Muestra X_train"
   ]
  },
  {
   "cell_type": "code",
   "execution_count": 8,
   "metadata": {},
   "outputs": [
    {
     "data": {
      "text/plain": [
       "158349                            Where can you farm his SA\n",
       "265983    but marriott provides dozens of underpaid loca...\n",
       "75179     EVERYTHING IS OBAMAS FAULT AND HE BIRTHED EVER...\n",
       "928442                       You just one upped Dave Dictor\n",
       "886906    u didnt hav fun with gears of war and gta u pc...\n",
       "                                ...                        \n",
       "564484    Poor kid was just going out to get some schmok...\n",
       "412938    and yet the friendzone is not a real thing and...\n",
       "255370                                     You dropped this\n",
       "759477                                           Thanks man\n",
       "472921    Dude dont overhype it that shit is bronze IV t...\n",
       "Name: comment, Length: 808618, dtype: object"
      ]
     },
     "execution_count": 8,
     "metadata": {},
     "output_type": "execute_result"
    }
   ],
   "source": []
  },
  {
   "cell_type": "code",
   "execution_count": null,
   "metadata": {},
   "outputs": [],
   "source": [
    "# Muestra los shapes resultantes"
   ]
  },
  {
   "cell_type": "code",
   "execution_count": 9,
   "metadata": {},
   "outputs": [
    {
     "name": "stdout",
     "output_type": "stream",
     "text": [
      "(808618,)\n",
      "(202155,)\n",
      "(808618,)\n",
      "(202155,)\n"
     ]
    }
   ],
   "source": []
  },
  {
   "cell_type": "markdown",
   "metadata": {
    "_uuid": "7f0f47b98e49a185cd5cffe19fcbe28409bf00c0"
   },
   "source": [
    "## Tasks:\n",
    "1. Analyze the dataset, make some plots. This [Kernel](https://www.kaggle.com/sudalairajkumar/simple-exploration-notebook-qiqc) might serve as an example\n",
    "2. Build a Tf-Idf + logistic regression pipeline to predict sarcasm (`label`) based on the text of a comment on Reddit (`comment`).\n",
    "3. Plot the words/bigrams which a most predictive of sarcasm (you can use [eli5](https://github.com/TeamHG-Memex/eli5) for that)\n",
    "4. (optionally) add subreddits as new features to improve model performance. Apply here the Bag of Words approach, i.e. treat each subreddit as a new feature.\n",
    "\n",
    "## Links:\n",
    "  - Machine learning library [Scikit-learn](https://scikit-learn.org/stable/index.html) (a.k.a. sklearn)\n",
    "  - Kernels on [logistic regression](https://www.kaggle.com/kashnitsky/topic-4-linear-models-part-2-classification) and its applications to [text classification](https://www.kaggle.com/kashnitsky/topic-4-linear-models-part-4-more-of-logit), also a [Kernel](https://www.kaggle.com/kashnitsky/topic-6-feature-engineering-and-feature-selection) on feature engineering and feature selection\n",
    "  - [Kaggle Kernel](https://www.kaggle.com/abhishek/approaching-almost-any-nlp-problem-on-kaggle) \"Approaching (Almost) Any NLP Problem on Kaggle\"\n",
    "  - [ELI5](https://github.com/TeamHG-Memex/eli5) to explain model predictions"
   ]
  },
  {
   "cell_type": "code",
   "execution_count": 10,
   "metadata": {},
   "outputs": [],
   "source": [
    "import plotly.graph_objects as go\n",
    "import plotly.offline as py"
   ]
  },
  {
   "cell_type": "code",
   "execution_count": 11,
   "metadata": {},
   "outputs": [
    {
     "data": {
      "application/vnd.plotly.v1+json": {
       "config": {
        "linkText": "Export to plot.ly",
        "plotlyServerURL": "https://plot.ly",
        "showLink": false
       },
       "data": [
        {
         "marker": {
          "color": [
           505405,
           505368
          ],
          "colorscale": [
           [
            0,
            "rgb(0,0,255)"
           ],
           [
            0.1,
            "rgb(51,153,255)"
           ],
           [
            0.2,
            "rgb(102,204,255)"
           ],
           [
            0.3,
            "rgb(153,204,255)"
           ],
           [
            0.4,
            "rgb(204,204,255)"
           ],
           [
            0.5,
            "rgb(255,255,255)"
           ],
           [
            0.6,
            "rgb(255,204,255)"
           ],
           [
            0.7,
            "rgb(255,153,255)"
           ],
           [
            0.8,
            "rgb(255,102,204)"
           ],
           [
            0.9,
            "rgb(255,102,102)"
           ],
           [
            1,
            "rgb(255,0,0)"
           ]
          ],
          "reversescale": true
         },
         "type": "bar",
         "x": [
          0,
          1
         ],
         "y": [
          505405,
          505368
         ]
        }
       ],
       "layout": {
        "font": {
         "size": 11
        },
        "template": {
         "data": {
          "bar": [
           {
            "error_x": {
             "color": "#2a3f5f"
            },
            "error_y": {
             "color": "#2a3f5f"
            },
            "marker": {
             "line": {
              "color": "#E5ECF6",
              "width": 0.5
             },
             "pattern": {
              "fillmode": "overlay",
              "size": 10,
              "solidity": 0.2
             }
            },
            "type": "bar"
           }
          ],
          "barpolar": [
           {
            "marker": {
             "line": {
              "color": "#E5ECF6",
              "width": 0.5
             },
             "pattern": {
              "fillmode": "overlay",
              "size": 10,
              "solidity": 0.2
             }
            },
            "type": "barpolar"
           }
          ],
          "carpet": [
           {
            "aaxis": {
             "endlinecolor": "#2a3f5f",
             "gridcolor": "white",
             "linecolor": "white",
             "minorgridcolor": "white",
             "startlinecolor": "#2a3f5f"
            },
            "baxis": {
             "endlinecolor": "#2a3f5f",
             "gridcolor": "white",
             "linecolor": "white",
             "minorgridcolor": "white",
             "startlinecolor": "#2a3f5f"
            },
            "type": "carpet"
           }
          ],
          "choropleth": [
           {
            "colorbar": {
             "outlinewidth": 0,
             "ticks": ""
            },
            "type": "choropleth"
           }
          ],
          "contour": [
           {
            "colorbar": {
             "outlinewidth": 0,
             "ticks": ""
            },
            "colorscale": [
             [
              0,
              "#0d0887"
             ],
             [
              0.1111111111111111,
              "#46039f"
             ],
             [
              0.2222222222222222,
              "#7201a8"
             ],
             [
              0.3333333333333333,
              "#9c179e"
             ],
             [
              0.4444444444444444,
              "#bd3786"
             ],
             [
              0.5555555555555556,
              "#d8576b"
             ],
             [
              0.6666666666666666,
              "#ed7953"
             ],
             [
              0.7777777777777778,
              "#fb9f3a"
             ],
             [
              0.8888888888888888,
              "#fdca26"
             ],
             [
              1,
              "#f0f921"
             ]
            ],
            "type": "contour"
           }
          ],
          "contourcarpet": [
           {
            "colorbar": {
             "outlinewidth": 0,
             "ticks": ""
            },
            "type": "contourcarpet"
           }
          ],
          "heatmap": [
           {
            "colorbar": {
             "outlinewidth": 0,
             "ticks": ""
            },
            "colorscale": [
             [
              0,
              "#0d0887"
             ],
             [
              0.1111111111111111,
              "#46039f"
             ],
             [
              0.2222222222222222,
              "#7201a8"
             ],
             [
              0.3333333333333333,
              "#9c179e"
             ],
             [
              0.4444444444444444,
              "#bd3786"
             ],
             [
              0.5555555555555556,
              "#d8576b"
             ],
             [
              0.6666666666666666,
              "#ed7953"
             ],
             [
              0.7777777777777778,
              "#fb9f3a"
             ],
             [
              0.8888888888888888,
              "#fdca26"
             ],
             [
              1,
              "#f0f921"
             ]
            ],
            "type": "heatmap"
           }
          ],
          "heatmapgl": [
           {
            "colorbar": {
             "outlinewidth": 0,
             "ticks": ""
            },
            "colorscale": [
             [
              0,
              "#0d0887"
             ],
             [
              0.1111111111111111,
              "#46039f"
             ],
             [
              0.2222222222222222,
              "#7201a8"
             ],
             [
              0.3333333333333333,
              "#9c179e"
             ],
             [
              0.4444444444444444,
              "#bd3786"
             ],
             [
              0.5555555555555556,
              "#d8576b"
             ],
             [
              0.6666666666666666,
              "#ed7953"
             ],
             [
              0.7777777777777778,
              "#fb9f3a"
             ],
             [
              0.8888888888888888,
              "#fdca26"
             ],
             [
              1,
              "#f0f921"
             ]
            ],
            "type": "heatmapgl"
           }
          ],
          "histogram": [
           {
            "marker": {
             "pattern": {
              "fillmode": "overlay",
              "size": 10,
              "solidity": 0.2
             }
            },
            "type": "histogram"
           }
          ],
          "histogram2d": [
           {
            "colorbar": {
             "outlinewidth": 0,
             "ticks": ""
            },
            "colorscale": [
             [
              0,
              "#0d0887"
             ],
             [
              0.1111111111111111,
              "#46039f"
             ],
             [
              0.2222222222222222,
              "#7201a8"
             ],
             [
              0.3333333333333333,
              "#9c179e"
             ],
             [
              0.4444444444444444,
              "#bd3786"
             ],
             [
              0.5555555555555556,
              "#d8576b"
             ],
             [
              0.6666666666666666,
              "#ed7953"
             ],
             [
              0.7777777777777778,
              "#fb9f3a"
             ],
             [
              0.8888888888888888,
              "#fdca26"
             ],
             [
              1,
              "#f0f921"
             ]
            ],
            "type": "histogram2d"
           }
          ],
          "histogram2dcontour": [
           {
            "colorbar": {
             "outlinewidth": 0,
             "ticks": ""
            },
            "colorscale": [
             [
              0,
              "#0d0887"
             ],
             [
              0.1111111111111111,
              "#46039f"
             ],
             [
              0.2222222222222222,
              "#7201a8"
             ],
             [
              0.3333333333333333,
              "#9c179e"
             ],
             [
              0.4444444444444444,
              "#bd3786"
             ],
             [
              0.5555555555555556,
              "#d8576b"
             ],
             [
              0.6666666666666666,
              "#ed7953"
             ],
             [
              0.7777777777777778,
              "#fb9f3a"
             ],
             [
              0.8888888888888888,
              "#fdca26"
             ],
             [
              1,
              "#f0f921"
             ]
            ],
            "type": "histogram2dcontour"
           }
          ],
          "mesh3d": [
           {
            "colorbar": {
             "outlinewidth": 0,
             "ticks": ""
            },
            "type": "mesh3d"
           }
          ],
          "parcoords": [
           {
            "line": {
             "colorbar": {
              "outlinewidth": 0,
              "ticks": ""
             }
            },
            "type": "parcoords"
           }
          ],
          "pie": [
           {
            "automargin": true,
            "type": "pie"
           }
          ],
          "scatter": [
           {
            "marker": {
             "colorbar": {
              "outlinewidth": 0,
              "ticks": ""
             }
            },
            "type": "scatter"
           }
          ],
          "scatter3d": [
           {
            "line": {
             "colorbar": {
              "outlinewidth": 0,
              "ticks": ""
             }
            },
            "marker": {
             "colorbar": {
              "outlinewidth": 0,
              "ticks": ""
             }
            },
            "type": "scatter3d"
           }
          ],
          "scattercarpet": [
           {
            "marker": {
             "colorbar": {
              "outlinewidth": 0,
              "ticks": ""
             }
            },
            "type": "scattercarpet"
           }
          ],
          "scattergeo": [
           {
            "marker": {
             "colorbar": {
              "outlinewidth": 0,
              "ticks": ""
             }
            },
            "type": "scattergeo"
           }
          ],
          "scattergl": [
           {
            "marker": {
             "colorbar": {
              "outlinewidth": 0,
              "ticks": ""
             }
            },
            "type": "scattergl"
           }
          ],
          "scattermapbox": [
           {
            "marker": {
             "colorbar": {
              "outlinewidth": 0,
              "ticks": ""
             }
            },
            "type": "scattermapbox"
           }
          ],
          "scatterpolar": [
           {
            "marker": {
             "colorbar": {
              "outlinewidth": 0,
              "ticks": ""
             }
            },
            "type": "scatterpolar"
           }
          ],
          "scatterpolargl": [
           {
            "marker": {
             "colorbar": {
              "outlinewidth": 0,
              "ticks": ""
             }
            },
            "type": "scatterpolargl"
           }
          ],
          "scatterternary": [
           {
            "marker": {
             "colorbar": {
              "outlinewidth": 0,
              "ticks": ""
             }
            },
            "type": "scatterternary"
           }
          ],
          "surface": [
           {
            "colorbar": {
             "outlinewidth": 0,
             "ticks": ""
            },
            "colorscale": [
             [
              0,
              "#0d0887"
             ],
             [
              0.1111111111111111,
              "#46039f"
             ],
             [
              0.2222222222222222,
              "#7201a8"
             ],
             [
              0.3333333333333333,
              "#9c179e"
             ],
             [
              0.4444444444444444,
              "#bd3786"
             ],
             [
              0.5555555555555556,
              "#d8576b"
             ],
             [
              0.6666666666666666,
              "#ed7953"
             ],
             [
              0.7777777777777778,
              "#fb9f3a"
             ],
             [
              0.8888888888888888,
              "#fdca26"
             ],
             [
              1,
              "#f0f921"
             ]
            ],
            "type": "surface"
           }
          ],
          "table": [
           {
            "cells": {
             "fill": {
              "color": "#EBF0F8"
             },
             "line": {
              "color": "white"
             }
            },
            "header": {
             "fill": {
              "color": "#C8D4E3"
             },
             "line": {
              "color": "white"
             }
            },
            "type": "table"
           }
          ]
         },
         "layout": {
          "annotationdefaults": {
           "arrowcolor": "#2a3f5f",
           "arrowhead": 0,
           "arrowwidth": 1
          },
          "autotypenumbers": "strict",
          "coloraxis": {
           "colorbar": {
            "outlinewidth": 0,
            "ticks": ""
           }
          },
          "colorscale": {
           "diverging": [
            [
             0,
             "#8e0152"
            ],
            [
             0.1,
             "#c51b7d"
            ],
            [
             0.2,
             "#de77ae"
            ],
            [
             0.3,
             "#f1b6da"
            ],
            [
             0.4,
             "#fde0ef"
            ],
            [
             0.5,
             "#f7f7f7"
            ],
            [
             0.6,
             "#e6f5d0"
            ],
            [
             0.7,
             "#b8e186"
            ],
            [
             0.8,
             "#7fbc41"
            ],
            [
             0.9,
             "#4d9221"
            ],
            [
             1,
             "#276419"
            ]
           ],
           "sequential": [
            [
             0,
             "#0d0887"
            ],
            [
             0.1111111111111111,
             "#46039f"
            ],
            [
             0.2222222222222222,
             "#7201a8"
            ],
            [
             0.3333333333333333,
             "#9c179e"
            ],
            [
             0.4444444444444444,
             "#bd3786"
            ],
            [
             0.5555555555555556,
             "#d8576b"
            ],
            [
             0.6666666666666666,
             "#ed7953"
            ],
            [
             0.7777777777777778,
             "#fb9f3a"
            ],
            [
             0.8888888888888888,
             "#fdca26"
            ],
            [
             1,
             "#f0f921"
            ]
           ],
           "sequentialminus": [
            [
             0,
             "#0d0887"
            ],
            [
             0.1111111111111111,
             "#46039f"
            ],
            [
             0.2222222222222222,
             "#7201a8"
            ],
            [
             0.3333333333333333,
             "#9c179e"
            ],
            [
             0.4444444444444444,
             "#bd3786"
            ],
            [
             0.5555555555555556,
             "#d8576b"
            ],
            [
             0.6666666666666666,
             "#ed7953"
            ],
            [
             0.7777777777777778,
             "#fb9f3a"
            ],
            [
             0.8888888888888888,
             "#fdca26"
            ],
            [
             1,
             "#f0f921"
            ]
           ]
          },
          "colorway": [
           "#636efa",
           "#EF553B",
           "#00cc96",
           "#ab63fa",
           "#FFA15A",
           "#19d3f3",
           "#FF6692",
           "#B6E880",
           "#FF97FF",
           "#FECB52"
          ],
          "font": {
           "color": "#2a3f5f"
          },
          "geo": {
           "bgcolor": "white",
           "lakecolor": "white",
           "landcolor": "#E5ECF6",
           "showlakes": true,
           "showland": true,
           "subunitcolor": "white"
          },
          "hoverlabel": {
           "align": "left"
          },
          "hovermode": "closest",
          "mapbox": {
           "style": "light"
          },
          "paper_bgcolor": "white",
          "plot_bgcolor": "#E5ECF6",
          "polar": {
           "angularaxis": {
            "gridcolor": "white",
            "linecolor": "white",
            "ticks": ""
           },
           "bgcolor": "#E5ECF6",
           "radialaxis": {
            "gridcolor": "white",
            "linecolor": "white",
            "ticks": ""
           }
          },
          "scene": {
           "xaxis": {
            "backgroundcolor": "#E5ECF6",
            "gridcolor": "white",
            "gridwidth": 2,
            "linecolor": "white",
            "showbackground": true,
            "ticks": "",
            "zerolinecolor": "white"
           },
           "yaxis": {
            "backgroundcolor": "#E5ECF6",
            "gridcolor": "white",
            "gridwidth": 2,
            "linecolor": "white",
            "showbackground": true,
            "ticks": "",
            "zerolinecolor": "white"
           },
           "zaxis": {
            "backgroundcolor": "#E5ECF6",
            "gridcolor": "white",
            "gridwidth": 2,
            "linecolor": "white",
            "showbackground": true,
            "ticks": "",
            "zerolinecolor": "white"
           }
          },
          "shapedefaults": {
           "line": {
            "color": "#2a3f5f"
           }
          },
          "ternary": {
           "aaxis": {
            "gridcolor": "white",
            "linecolor": "white",
            "ticks": ""
           },
           "baxis": {
            "gridcolor": "white",
            "linecolor": "white",
            "ticks": ""
           },
           "bgcolor": "#E5ECF6",
           "caxis": {
            "gridcolor": "white",
            "linecolor": "white",
            "ticks": ""
           }
          },
          "title": {
           "x": 0.05
          },
          "xaxis": {
           "automargin": true,
           "gridcolor": "white",
           "linecolor": "white",
           "ticks": "",
           "title": {
            "standoff": 15
           },
           "zerolinecolor": "white",
           "zerolinewidth": 2
          },
          "yaxis": {
           "automargin": true,
           "gridcolor": "white",
           "linecolor": "white",
           "ticks": "",
           "title": {
            "standoff": 15
           },
           "zerolinecolor": "white",
           "zerolinewidth": 2
          }
         }
        },
        "title": {
         "text": "Number of Labels"
        }
       }
      }
     },
     "metadata": {},
     "output_type": "display_data"
    }
   ],
   "source": [
    "cnt_lbl = df['label'].value_counts()\n",
    "trace = go.Bar(\n",
    "    x=cnt_lbl.index,\n",
    "    y=cnt_lbl.values,\n",
    "    marker=dict(\n",
    "        color=cnt_lbl.values,\n",
    "        colorscale = 'Picnic',\n",
    "        reversescale = True\n",
    "    ),\n",
    ")\n",
    "\n",
    "layout = go.Layout(\n",
    "    title='Number of Labels',\n",
    "    font=dict(size=11)\n",
    ")\n",
    "\n",
    "data = [trace]\n",
    "fig = go.Figure(data=data, layout=layout)\n",
    "py.iplot(fig, filename=\"TargetCount\")"
   ]
  },
  {
   "cell_type": "code",
   "execution_count": 12,
   "metadata": {},
   "outputs": [
    {
     "data": {
      "application/vnd.plotly.v1+json": {
       "config": {
        "linkText": "Export to plot.ly",
        "plotlyServerURL": "https://plot.ly",
        "showLink": false
       },
       "data": [
        {
         "labels": [
          0,
          1
         ],
         "type": "pie",
         "values": [
          50.001830282368054,
          49.99816971763195
         ]
        }
       ],
       "layout": {
        "font": {
         "size": 11
        },
        "height": 600,
        "template": {
         "data": {
          "bar": [
           {
            "error_x": {
             "color": "#2a3f5f"
            },
            "error_y": {
             "color": "#2a3f5f"
            },
            "marker": {
             "line": {
              "color": "#E5ECF6",
              "width": 0.5
             },
             "pattern": {
              "fillmode": "overlay",
              "size": 10,
              "solidity": 0.2
             }
            },
            "type": "bar"
           }
          ],
          "barpolar": [
           {
            "marker": {
             "line": {
              "color": "#E5ECF6",
              "width": 0.5
             },
             "pattern": {
              "fillmode": "overlay",
              "size": 10,
              "solidity": 0.2
             }
            },
            "type": "barpolar"
           }
          ],
          "carpet": [
           {
            "aaxis": {
             "endlinecolor": "#2a3f5f",
             "gridcolor": "white",
             "linecolor": "white",
             "minorgridcolor": "white",
             "startlinecolor": "#2a3f5f"
            },
            "baxis": {
             "endlinecolor": "#2a3f5f",
             "gridcolor": "white",
             "linecolor": "white",
             "minorgridcolor": "white",
             "startlinecolor": "#2a3f5f"
            },
            "type": "carpet"
           }
          ],
          "choropleth": [
           {
            "colorbar": {
             "outlinewidth": 0,
             "ticks": ""
            },
            "type": "choropleth"
           }
          ],
          "contour": [
           {
            "colorbar": {
             "outlinewidth": 0,
             "ticks": ""
            },
            "colorscale": [
             [
              0,
              "#0d0887"
             ],
             [
              0.1111111111111111,
              "#46039f"
             ],
             [
              0.2222222222222222,
              "#7201a8"
             ],
             [
              0.3333333333333333,
              "#9c179e"
             ],
             [
              0.4444444444444444,
              "#bd3786"
             ],
             [
              0.5555555555555556,
              "#d8576b"
             ],
             [
              0.6666666666666666,
              "#ed7953"
             ],
             [
              0.7777777777777778,
              "#fb9f3a"
             ],
             [
              0.8888888888888888,
              "#fdca26"
             ],
             [
              1,
              "#f0f921"
             ]
            ],
            "type": "contour"
           }
          ],
          "contourcarpet": [
           {
            "colorbar": {
             "outlinewidth": 0,
             "ticks": ""
            },
            "type": "contourcarpet"
           }
          ],
          "heatmap": [
           {
            "colorbar": {
             "outlinewidth": 0,
             "ticks": ""
            },
            "colorscale": [
             [
              0,
              "#0d0887"
             ],
             [
              0.1111111111111111,
              "#46039f"
             ],
             [
              0.2222222222222222,
              "#7201a8"
             ],
             [
              0.3333333333333333,
              "#9c179e"
             ],
             [
              0.4444444444444444,
              "#bd3786"
             ],
             [
              0.5555555555555556,
              "#d8576b"
             ],
             [
              0.6666666666666666,
              "#ed7953"
             ],
             [
              0.7777777777777778,
              "#fb9f3a"
             ],
             [
              0.8888888888888888,
              "#fdca26"
             ],
             [
              1,
              "#f0f921"
             ]
            ],
            "type": "heatmap"
           }
          ],
          "heatmapgl": [
           {
            "colorbar": {
             "outlinewidth": 0,
             "ticks": ""
            },
            "colorscale": [
             [
              0,
              "#0d0887"
             ],
             [
              0.1111111111111111,
              "#46039f"
             ],
             [
              0.2222222222222222,
              "#7201a8"
             ],
             [
              0.3333333333333333,
              "#9c179e"
             ],
             [
              0.4444444444444444,
              "#bd3786"
             ],
             [
              0.5555555555555556,
              "#d8576b"
             ],
             [
              0.6666666666666666,
              "#ed7953"
             ],
             [
              0.7777777777777778,
              "#fb9f3a"
             ],
             [
              0.8888888888888888,
              "#fdca26"
             ],
             [
              1,
              "#f0f921"
             ]
            ],
            "type": "heatmapgl"
           }
          ],
          "histogram": [
           {
            "marker": {
             "pattern": {
              "fillmode": "overlay",
              "size": 10,
              "solidity": 0.2
             }
            },
            "type": "histogram"
           }
          ],
          "histogram2d": [
           {
            "colorbar": {
             "outlinewidth": 0,
             "ticks": ""
            },
            "colorscale": [
             [
              0,
              "#0d0887"
             ],
             [
              0.1111111111111111,
              "#46039f"
             ],
             [
              0.2222222222222222,
              "#7201a8"
             ],
             [
              0.3333333333333333,
              "#9c179e"
             ],
             [
              0.4444444444444444,
              "#bd3786"
             ],
             [
              0.5555555555555556,
              "#d8576b"
             ],
             [
              0.6666666666666666,
              "#ed7953"
             ],
             [
              0.7777777777777778,
              "#fb9f3a"
             ],
             [
              0.8888888888888888,
              "#fdca26"
             ],
             [
              1,
              "#f0f921"
             ]
            ],
            "type": "histogram2d"
           }
          ],
          "histogram2dcontour": [
           {
            "colorbar": {
             "outlinewidth": 0,
             "ticks": ""
            },
            "colorscale": [
             [
              0,
              "#0d0887"
             ],
             [
              0.1111111111111111,
              "#46039f"
             ],
             [
              0.2222222222222222,
              "#7201a8"
             ],
             [
              0.3333333333333333,
              "#9c179e"
             ],
             [
              0.4444444444444444,
              "#bd3786"
             ],
             [
              0.5555555555555556,
              "#d8576b"
             ],
             [
              0.6666666666666666,
              "#ed7953"
             ],
             [
              0.7777777777777778,
              "#fb9f3a"
             ],
             [
              0.8888888888888888,
              "#fdca26"
             ],
             [
              1,
              "#f0f921"
             ]
            ],
            "type": "histogram2dcontour"
           }
          ],
          "mesh3d": [
           {
            "colorbar": {
             "outlinewidth": 0,
             "ticks": ""
            },
            "type": "mesh3d"
           }
          ],
          "parcoords": [
           {
            "line": {
             "colorbar": {
              "outlinewidth": 0,
              "ticks": ""
             }
            },
            "type": "parcoords"
           }
          ],
          "pie": [
           {
            "automargin": true,
            "type": "pie"
           }
          ],
          "scatter": [
           {
            "marker": {
             "colorbar": {
              "outlinewidth": 0,
              "ticks": ""
             }
            },
            "type": "scatter"
           }
          ],
          "scatter3d": [
           {
            "line": {
             "colorbar": {
              "outlinewidth": 0,
              "ticks": ""
             }
            },
            "marker": {
             "colorbar": {
              "outlinewidth": 0,
              "ticks": ""
             }
            },
            "type": "scatter3d"
           }
          ],
          "scattercarpet": [
           {
            "marker": {
             "colorbar": {
              "outlinewidth": 0,
              "ticks": ""
             }
            },
            "type": "scattercarpet"
           }
          ],
          "scattergeo": [
           {
            "marker": {
             "colorbar": {
              "outlinewidth": 0,
              "ticks": ""
             }
            },
            "type": "scattergeo"
           }
          ],
          "scattergl": [
           {
            "marker": {
             "colorbar": {
              "outlinewidth": 0,
              "ticks": ""
             }
            },
            "type": "scattergl"
           }
          ],
          "scattermapbox": [
           {
            "marker": {
             "colorbar": {
              "outlinewidth": 0,
              "ticks": ""
             }
            },
            "type": "scattermapbox"
           }
          ],
          "scatterpolar": [
           {
            "marker": {
             "colorbar": {
              "outlinewidth": 0,
              "ticks": ""
             }
            },
            "type": "scatterpolar"
           }
          ],
          "scatterpolargl": [
           {
            "marker": {
             "colorbar": {
              "outlinewidth": 0,
              "ticks": ""
             }
            },
            "type": "scatterpolargl"
           }
          ],
          "scatterternary": [
           {
            "marker": {
             "colorbar": {
              "outlinewidth": 0,
              "ticks": ""
             }
            },
            "type": "scatterternary"
           }
          ],
          "surface": [
           {
            "colorbar": {
             "outlinewidth": 0,
             "ticks": ""
            },
            "colorscale": [
             [
              0,
              "#0d0887"
             ],
             [
              0.1111111111111111,
              "#46039f"
             ],
             [
              0.2222222222222222,
              "#7201a8"
             ],
             [
              0.3333333333333333,
              "#9c179e"
             ],
             [
              0.4444444444444444,
              "#bd3786"
             ],
             [
              0.5555555555555556,
              "#d8576b"
             ],
             [
              0.6666666666666666,
              "#ed7953"
             ],
             [
              0.7777777777777778,
              "#fb9f3a"
             ],
             [
              0.8888888888888888,
              "#fdca26"
             ],
             [
              1,
              "#f0f921"
             ]
            ],
            "type": "surface"
           }
          ],
          "table": [
           {
            "cells": {
             "fill": {
              "color": "#EBF0F8"
             },
             "line": {
              "color": "white"
             }
            },
            "header": {
             "fill": {
              "color": "#C8D4E3"
             },
             "line": {
              "color": "white"
             }
            },
            "type": "table"
           }
          ]
         },
         "layout": {
          "annotationdefaults": {
           "arrowcolor": "#2a3f5f",
           "arrowhead": 0,
           "arrowwidth": 1
          },
          "autotypenumbers": "strict",
          "coloraxis": {
           "colorbar": {
            "outlinewidth": 0,
            "ticks": ""
           }
          },
          "colorscale": {
           "diverging": [
            [
             0,
             "#8e0152"
            ],
            [
             0.1,
             "#c51b7d"
            ],
            [
             0.2,
             "#de77ae"
            ],
            [
             0.3,
             "#f1b6da"
            ],
            [
             0.4,
             "#fde0ef"
            ],
            [
             0.5,
             "#f7f7f7"
            ],
            [
             0.6,
             "#e6f5d0"
            ],
            [
             0.7,
             "#b8e186"
            ],
            [
             0.8,
             "#7fbc41"
            ],
            [
             0.9,
             "#4d9221"
            ],
            [
             1,
             "#276419"
            ]
           ],
           "sequential": [
            [
             0,
             "#0d0887"
            ],
            [
             0.1111111111111111,
             "#46039f"
            ],
            [
             0.2222222222222222,
             "#7201a8"
            ],
            [
             0.3333333333333333,
             "#9c179e"
            ],
            [
             0.4444444444444444,
             "#bd3786"
            ],
            [
             0.5555555555555556,
             "#d8576b"
            ],
            [
             0.6666666666666666,
             "#ed7953"
            ],
            [
             0.7777777777777778,
             "#fb9f3a"
            ],
            [
             0.8888888888888888,
             "#fdca26"
            ],
            [
             1,
             "#f0f921"
            ]
           ],
           "sequentialminus": [
            [
             0,
             "#0d0887"
            ],
            [
             0.1111111111111111,
             "#46039f"
            ],
            [
             0.2222222222222222,
             "#7201a8"
            ],
            [
             0.3333333333333333,
             "#9c179e"
            ],
            [
             0.4444444444444444,
             "#bd3786"
            ],
            [
             0.5555555555555556,
             "#d8576b"
            ],
            [
             0.6666666666666666,
             "#ed7953"
            ],
            [
             0.7777777777777778,
             "#fb9f3a"
            ],
            [
             0.8888888888888888,
             "#fdca26"
            ],
            [
             1,
             "#f0f921"
            ]
           ]
          },
          "colorway": [
           "#636efa",
           "#EF553B",
           "#00cc96",
           "#ab63fa",
           "#FFA15A",
           "#19d3f3",
           "#FF6692",
           "#B6E880",
           "#FF97FF",
           "#FECB52"
          ],
          "font": {
           "color": "#2a3f5f"
          },
          "geo": {
           "bgcolor": "white",
           "lakecolor": "white",
           "landcolor": "#E5ECF6",
           "showlakes": true,
           "showland": true,
           "subunitcolor": "white"
          },
          "hoverlabel": {
           "align": "left"
          },
          "hovermode": "closest",
          "mapbox": {
           "style": "light"
          },
          "paper_bgcolor": "white",
          "plot_bgcolor": "#E5ECF6",
          "polar": {
           "angularaxis": {
            "gridcolor": "white",
            "linecolor": "white",
            "ticks": ""
           },
           "bgcolor": "#E5ECF6",
           "radialaxis": {
            "gridcolor": "white",
            "linecolor": "white",
            "ticks": ""
           }
          },
          "scene": {
           "xaxis": {
            "backgroundcolor": "#E5ECF6",
            "gridcolor": "white",
            "gridwidth": 2,
            "linecolor": "white",
            "showbackground": true,
            "ticks": "",
            "zerolinecolor": "white"
           },
           "yaxis": {
            "backgroundcolor": "#E5ECF6",
            "gridcolor": "white",
            "gridwidth": 2,
            "linecolor": "white",
            "showbackground": true,
            "ticks": "",
            "zerolinecolor": "white"
           },
           "zaxis": {
            "backgroundcolor": "#E5ECF6",
            "gridcolor": "white",
            "gridwidth": 2,
            "linecolor": "white",
            "showbackground": true,
            "ticks": "",
            "zerolinecolor": "white"
           }
          },
          "shapedefaults": {
           "line": {
            "color": "#2a3f5f"
           }
          },
          "ternary": {
           "aaxis": {
            "gridcolor": "white",
            "linecolor": "white",
            "ticks": ""
           },
           "baxis": {
            "gridcolor": "white",
            "linecolor": "white",
            "ticks": ""
           },
           "bgcolor": "#E5ECF6",
           "caxis": {
            "gridcolor": "white",
            "linecolor": "white",
            "ticks": ""
           }
          },
          "title": {
           "x": 0.05
          },
          "xaxis": {
           "automargin": true,
           "gridcolor": "white",
           "linecolor": "white",
           "ticks": "",
           "title": {
            "standoff": 15
           },
           "zerolinecolor": "white",
           "zerolinewidth": 2
          },
          "yaxis": {
           "automargin": true,
           "gridcolor": "white",
           "linecolor": "white",
           "ticks": "",
           "title": {
            "standoff": 15
           },
           "zerolinecolor": "white",
           "zerolinewidth": 2
          }
         }
        },
        "title": {
         "text": "Label distribution"
        },
        "width": 600
       }
      }
     },
     "metadata": {},
     "output_type": "display_data"
    }
   ],
   "source": [
    "labels = (np.array(cnt_lbl.index))\n",
    "sizes = (np.array((cnt_lbl / cnt_lbl.sum())*100))\n",
    "\n",
    "trace = go.Pie(labels=labels, values=sizes)\n",
    "layout = go.Layout(\n",
    "    title='Label distribution',\n",
    "    font=dict(size=11),\n",
    "    width=600,\n",
    "    height=600,\n",
    ")\n",
    "data = [trace]\n",
    "fig = go.Figure(data=data, layout=layout)\n",
    "py.iplot(fig, filename=\"usertype\")"
   ]
  },
  {
   "cell_type": "code",
   "execution_count": 13,
   "metadata": {},
   "outputs": [],
   "source": [
    "from wordcloud import WordCloud, STOPWORDS"
   ]
  },
  {
   "cell_type": "code",
   "execution_count": 14,
   "metadata": {},
   "outputs": [
    {
     "name": "stderr",
     "output_type": "stream",
     "text": [
      "C:\\Users\\Miguel Angel\\AppData\\Local\\Programs\\Python\\Python37\\lib\\site-packages\\plotly\\tools.py:465: DeprecationWarning:\n",
      "\n",
      "plotly.tools.make_subplots is deprecated, please use plotly.subplots.make_subplots instead\n",
      "\n"
     ]
    },
    {
     "data": {
      "application/vnd.plotly.v1+json": {
       "config": {
        "linkText": "Export to plot.ly",
        "plotlyServerURL": "https://plot.ly",
        "showLink": false
       },
       "data": [
        {
         "marker": {
          "color": "blue"
         },
         "orientation": "h",
         "showlegend": false,
         "type": "bar",
         "x": [
          5251,
          5303,
          5401,
          5449,
          5600,
          5612,
          5724,
          5956,
          5990,
          6114,
          6203,
          6240,
          6246,
          6351,
          6403,
          6444,
          6567,
          6735,
          6829,
          6836,
          6888,
          6921,
          6975,
          7203,
          7223,
          7468,
          7595,
          7648,
          7941,
          8223,
          8331,
          8575,
          8620,
          8701,
          8759,
          8921,
          9690,
          10166,
          10349,
          10560,
          11427,
          11702,
          12242,
          12546,
          12906,
          15243,
          15382,
          17918,
          18108,
          20793
         ],
         "xaxis": "x",
         "y": [
          "someone",
          "isnt",
          "use",
          "lol",
          "thing",
          "back",
          "yes",
          "hes",
          "first",
          "need",
          "probably",
          "something",
          "shit",
          "never",
          "doesnt",
          "better",
          "actually",
          "say",
          "way",
          "didnt",
          "pretty",
          "going",
          "sure",
          "cant",
          "want",
          "game",
          "go",
          "got",
          "right",
          "much",
          "make",
          "see",
          "still",
          "yeah",
          "even",
          "youre",
          "now",
          "time",
          "really",
          "fuck",
          "know",
          "good",
          "well",
          "will",
          "thats",
          "people",
          "think",
          "one",
          "im",
          "dont"
         ],
         "yaxis": "y"
        },
        {
         "marker": {
          "color": "red"
         },
         "orientation": "h",
         "showlegend": false,
         "type": "bar",
         "x": [
          5566,
          5668,
          5968,
          6127,
          6158,
          6185,
          6310,
          6377,
          6471,
          6473,
          6492,
          6506,
          6653,
          6943,
          7123,
          7305,
          7326,
          7570,
          7977,
          7998,
          8076,
          8218,
          8290,
          8294,
          8380,
          8614,
          8692,
          8763,
          8887,
          9173,
          9187,
          9323,
          9400,
          9555,
          9590,
          11320,
          11674,
          11969,
          12426,
          12557,
          13507,
          14367,
          14494,
          15027,
          15937,
          16553,
          18422,
          20768,
          23009,
          32056
         ],
         "xaxis": "x2",
         "y": [
          "white",
          "got",
          "even",
          "theyre",
          "going",
          "must",
          "thing",
          "isnt",
          "clearly",
          "mean",
          "everyone",
          "great",
          "go",
          "want",
          "doesnt",
          "us",
          "much",
          "way",
          "forgot",
          "totally",
          "better",
          "didnt",
          "need",
          "game",
          "time",
          "hes",
          "man",
          "never",
          "see",
          "really",
          "obviously",
          "make",
          "oh",
          "think",
          "now",
          "youre",
          "cant",
          "yes",
          "sure",
          "good",
          "one",
          "know",
          "will",
          "right",
          "im",
          "thats",
          "well",
          "people",
          "dont",
          "yeah"
         ],
         "yaxis": "y2"
        }
       ],
       "layout": {
        "annotations": [
         {
          "font": {
           "size": 16
          },
          "showarrow": false,
          "text": "Frequent words of not sarcastic comments",
          "x": 0.225,
          "xanchor": "center",
          "xref": "paper",
          "y": 1,
          "yanchor": "bottom",
          "yref": "paper"
         },
         {
          "font": {
           "size": 16
          },
          "showarrow": false,
          "text": "Frequent words of sarcastic comments",
          "x": 0.775,
          "xanchor": "center",
          "xref": "paper",
          "y": 1,
          "yanchor": "bottom",
          "yref": "paper"
         }
        ],
        "height": 1200,
        "paper_bgcolor": "rgb(233,233,233)",
        "template": {
         "data": {
          "bar": [
           {
            "error_x": {
             "color": "#2a3f5f"
            },
            "error_y": {
             "color": "#2a3f5f"
            },
            "marker": {
             "line": {
              "color": "#E5ECF6",
              "width": 0.5
             },
             "pattern": {
              "fillmode": "overlay",
              "size": 10,
              "solidity": 0.2
             }
            },
            "type": "bar"
           }
          ],
          "barpolar": [
           {
            "marker": {
             "line": {
              "color": "#E5ECF6",
              "width": 0.5
             },
             "pattern": {
              "fillmode": "overlay",
              "size": 10,
              "solidity": 0.2
             }
            },
            "type": "barpolar"
           }
          ],
          "carpet": [
           {
            "aaxis": {
             "endlinecolor": "#2a3f5f",
             "gridcolor": "white",
             "linecolor": "white",
             "minorgridcolor": "white",
             "startlinecolor": "#2a3f5f"
            },
            "baxis": {
             "endlinecolor": "#2a3f5f",
             "gridcolor": "white",
             "linecolor": "white",
             "minorgridcolor": "white",
             "startlinecolor": "#2a3f5f"
            },
            "type": "carpet"
           }
          ],
          "choropleth": [
           {
            "colorbar": {
             "outlinewidth": 0,
             "ticks": ""
            },
            "type": "choropleth"
           }
          ],
          "contour": [
           {
            "colorbar": {
             "outlinewidth": 0,
             "ticks": ""
            },
            "colorscale": [
             [
              0,
              "#0d0887"
             ],
             [
              0.1111111111111111,
              "#46039f"
             ],
             [
              0.2222222222222222,
              "#7201a8"
             ],
             [
              0.3333333333333333,
              "#9c179e"
             ],
             [
              0.4444444444444444,
              "#bd3786"
             ],
             [
              0.5555555555555556,
              "#d8576b"
             ],
             [
              0.6666666666666666,
              "#ed7953"
             ],
             [
              0.7777777777777778,
              "#fb9f3a"
             ],
             [
              0.8888888888888888,
              "#fdca26"
             ],
             [
              1,
              "#f0f921"
             ]
            ],
            "type": "contour"
           }
          ],
          "contourcarpet": [
           {
            "colorbar": {
             "outlinewidth": 0,
             "ticks": ""
            },
            "type": "contourcarpet"
           }
          ],
          "heatmap": [
           {
            "colorbar": {
             "outlinewidth": 0,
             "ticks": ""
            },
            "colorscale": [
             [
              0,
              "#0d0887"
             ],
             [
              0.1111111111111111,
              "#46039f"
             ],
             [
              0.2222222222222222,
              "#7201a8"
             ],
             [
              0.3333333333333333,
              "#9c179e"
             ],
             [
              0.4444444444444444,
              "#bd3786"
             ],
             [
              0.5555555555555556,
              "#d8576b"
             ],
             [
              0.6666666666666666,
              "#ed7953"
             ],
             [
              0.7777777777777778,
              "#fb9f3a"
             ],
             [
              0.8888888888888888,
              "#fdca26"
             ],
             [
              1,
              "#f0f921"
             ]
            ],
            "type": "heatmap"
           }
          ],
          "heatmapgl": [
           {
            "colorbar": {
             "outlinewidth": 0,
             "ticks": ""
            },
            "colorscale": [
             [
              0,
              "#0d0887"
             ],
             [
              0.1111111111111111,
              "#46039f"
             ],
             [
              0.2222222222222222,
              "#7201a8"
             ],
             [
              0.3333333333333333,
              "#9c179e"
             ],
             [
              0.4444444444444444,
              "#bd3786"
             ],
             [
              0.5555555555555556,
              "#d8576b"
             ],
             [
              0.6666666666666666,
              "#ed7953"
             ],
             [
              0.7777777777777778,
              "#fb9f3a"
             ],
             [
              0.8888888888888888,
              "#fdca26"
             ],
             [
              1,
              "#f0f921"
             ]
            ],
            "type": "heatmapgl"
           }
          ],
          "histogram": [
           {
            "marker": {
             "pattern": {
              "fillmode": "overlay",
              "size": 10,
              "solidity": 0.2
             }
            },
            "type": "histogram"
           }
          ],
          "histogram2d": [
           {
            "colorbar": {
             "outlinewidth": 0,
             "ticks": ""
            },
            "colorscale": [
             [
              0,
              "#0d0887"
             ],
             [
              0.1111111111111111,
              "#46039f"
             ],
             [
              0.2222222222222222,
              "#7201a8"
             ],
             [
              0.3333333333333333,
              "#9c179e"
             ],
             [
              0.4444444444444444,
              "#bd3786"
             ],
             [
              0.5555555555555556,
              "#d8576b"
             ],
             [
              0.6666666666666666,
              "#ed7953"
             ],
             [
              0.7777777777777778,
              "#fb9f3a"
             ],
             [
              0.8888888888888888,
              "#fdca26"
             ],
             [
              1,
              "#f0f921"
             ]
            ],
            "type": "histogram2d"
           }
          ],
          "histogram2dcontour": [
           {
            "colorbar": {
             "outlinewidth": 0,
             "ticks": ""
            },
            "colorscale": [
             [
              0,
              "#0d0887"
             ],
             [
              0.1111111111111111,
              "#46039f"
             ],
             [
              0.2222222222222222,
              "#7201a8"
             ],
             [
              0.3333333333333333,
              "#9c179e"
             ],
             [
              0.4444444444444444,
              "#bd3786"
             ],
             [
              0.5555555555555556,
              "#d8576b"
             ],
             [
              0.6666666666666666,
              "#ed7953"
             ],
             [
              0.7777777777777778,
              "#fb9f3a"
             ],
             [
              0.8888888888888888,
              "#fdca26"
             ],
             [
              1,
              "#f0f921"
             ]
            ],
            "type": "histogram2dcontour"
           }
          ],
          "mesh3d": [
           {
            "colorbar": {
             "outlinewidth": 0,
             "ticks": ""
            },
            "type": "mesh3d"
           }
          ],
          "parcoords": [
           {
            "line": {
             "colorbar": {
              "outlinewidth": 0,
              "ticks": ""
             }
            },
            "type": "parcoords"
           }
          ],
          "pie": [
           {
            "automargin": true,
            "type": "pie"
           }
          ],
          "scatter": [
           {
            "marker": {
             "colorbar": {
              "outlinewidth": 0,
              "ticks": ""
             }
            },
            "type": "scatter"
           }
          ],
          "scatter3d": [
           {
            "line": {
             "colorbar": {
              "outlinewidth": 0,
              "ticks": ""
             }
            },
            "marker": {
             "colorbar": {
              "outlinewidth": 0,
              "ticks": ""
             }
            },
            "type": "scatter3d"
           }
          ],
          "scattercarpet": [
           {
            "marker": {
             "colorbar": {
              "outlinewidth": 0,
              "ticks": ""
             }
            },
            "type": "scattercarpet"
           }
          ],
          "scattergeo": [
           {
            "marker": {
             "colorbar": {
              "outlinewidth": 0,
              "ticks": ""
             }
            },
            "type": "scattergeo"
           }
          ],
          "scattergl": [
           {
            "marker": {
             "colorbar": {
              "outlinewidth": 0,
              "ticks": ""
             }
            },
            "type": "scattergl"
           }
          ],
          "scattermapbox": [
           {
            "marker": {
             "colorbar": {
              "outlinewidth": 0,
              "ticks": ""
             }
            },
            "type": "scattermapbox"
           }
          ],
          "scatterpolar": [
           {
            "marker": {
             "colorbar": {
              "outlinewidth": 0,
              "ticks": ""
             }
            },
            "type": "scatterpolar"
           }
          ],
          "scatterpolargl": [
           {
            "marker": {
             "colorbar": {
              "outlinewidth": 0,
              "ticks": ""
             }
            },
            "type": "scatterpolargl"
           }
          ],
          "scatterternary": [
           {
            "marker": {
             "colorbar": {
              "outlinewidth": 0,
              "ticks": ""
             }
            },
            "type": "scatterternary"
           }
          ],
          "surface": [
           {
            "colorbar": {
             "outlinewidth": 0,
             "ticks": ""
            },
            "colorscale": [
             [
              0,
              "#0d0887"
             ],
             [
              0.1111111111111111,
              "#46039f"
             ],
             [
              0.2222222222222222,
              "#7201a8"
             ],
             [
              0.3333333333333333,
              "#9c179e"
             ],
             [
              0.4444444444444444,
              "#bd3786"
             ],
             [
              0.5555555555555556,
              "#d8576b"
             ],
             [
              0.6666666666666666,
              "#ed7953"
             ],
             [
              0.7777777777777778,
              "#fb9f3a"
             ],
             [
              0.8888888888888888,
              "#fdca26"
             ],
             [
              1,
              "#f0f921"
             ]
            ],
            "type": "surface"
           }
          ],
          "table": [
           {
            "cells": {
             "fill": {
              "color": "#EBF0F8"
             },
             "line": {
              "color": "white"
             }
            },
            "header": {
             "fill": {
              "color": "#C8D4E3"
             },
             "line": {
              "color": "white"
             }
            },
            "type": "table"
           }
          ]
         },
         "layout": {
          "annotationdefaults": {
           "arrowcolor": "#2a3f5f",
           "arrowhead": 0,
           "arrowwidth": 1
          },
          "autotypenumbers": "strict",
          "coloraxis": {
           "colorbar": {
            "outlinewidth": 0,
            "ticks": ""
           }
          },
          "colorscale": {
           "diverging": [
            [
             0,
             "#8e0152"
            ],
            [
             0.1,
             "#c51b7d"
            ],
            [
             0.2,
             "#de77ae"
            ],
            [
             0.3,
             "#f1b6da"
            ],
            [
             0.4,
             "#fde0ef"
            ],
            [
             0.5,
             "#f7f7f7"
            ],
            [
             0.6,
             "#e6f5d0"
            ],
            [
             0.7,
             "#b8e186"
            ],
            [
             0.8,
             "#7fbc41"
            ],
            [
             0.9,
             "#4d9221"
            ],
            [
             1,
             "#276419"
            ]
           ],
           "sequential": [
            [
             0,
             "#0d0887"
            ],
            [
             0.1111111111111111,
             "#46039f"
            ],
            [
             0.2222222222222222,
             "#7201a8"
            ],
            [
             0.3333333333333333,
             "#9c179e"
            ],
            [
             0.4444444444444444,
             "#bd3786"
            ],
            [
             0.5555555555555556,
             "#d8576b"
            ],
            [
             0.6666666666666666,
             "#ed7953"
            ],
            [
             0.7777777777777778,
             "#fb9f3a"
            ],
            [
             0.8888888888888888,
             "#fdca26"
            ],
            [
             1,
             "#f0f921"
            ]
           ],
           "sequentialminus": [
            [
             0,
             "#0d0887"
            ],
            [
             0.1111111111111111,
             "#46039f"
            ],
            [
             0.2222222222222222,
             "#7201a8"
            ],
            [
             0.3333333333333333,
             "#9c179e"
            ],
            [
             0.4444444444444444,
             "#bd3786"
            ],
            [
             0.5555555555555556,
             "#d8576b"
            ],
            [
             0.6666666666666666,
             "#ed7953"
            ],
            [
             0.7777777777777778,
             "#fb9f3a"
            ],
            [
             0.8888888888888888,
             "#fdca26"
            ],
            [
             1,
             "#f0f921"
            ]
           ]
          },
          "colorway": [
           "#636efa",
           "#EF553B",
           "#00cc96",
           "#ab63fa",
           "#FFA15A",
           "#19d3f3",
           "#FF6692",
           "#B6E880",
           "#FF97FF",
           "#FECB52"
          ],
          "font": {
           "color": "#2a3f5f"
          },
          "geo": {
           "bgcolor": "white",
           "lakecolor": "white",
           "landcolor": "#E5ECF6",
           "showlakes": true,
           "showland": true,
           "subunitcolor": "white"
          },
          "hoverlabel": {
           "align": "left"
          },
          "hovermode": "closest",
          "mapbox": {
           "style": "light"
          },
          "paper_bgcolor": "white",
          "plot_bgcolor": "#E5ECF6",
          "polar": {
           "angularaxis": {
            "gridcolor": "white",
            "linecolor": "white",
            "ticks": ""
           },
           "bgcolor": "#E5ECF6",
           "radialaxis": {
            "gridcolor": "white",
            "linecolor": "white",
            "ticks": ""
           }
          },
          "scene": {
           "xaxis": {
            "backgroundcolor": "#E5ECF6",
            "gridcolor": "white",
            "gridwidth": 2,
            "linecolor": "white",
            "showbackground": true,
            "ticks": "",
            "zerolinecolor": "white"
           },
           "yaxis": {
            "backgroundcolor": "#E5ECF6",
            "gridcolor": "white",
            "gridwidth": 2,
            "linecolor": "white",
            "showbackground": true,
            "ticks": "",
            "zerolinecolor": "white"
           },
           "zaxis": {
            "backgroundcolor": "#E5ECF6",
            "gridcolor": "white",
            "gridwidth": 2,
            "linecolor": "white",
            "showbackground": true,
            "ticks": "",
            "zerolinecolor": "white"
           }
          },
          "shapedefaults": {
           "line": {
            "color": "#2a3f5f"
           }
          },
          "ternary": {
           "aaxis": {
            "gridcolor": "white",
            "linecolor": "white",
            "ticks": ""
           },
           "baxis": {
            "gridcolor": "white",
            "linecolor": "white",
            "ticks": ""
           },
           "bgcolor": "#E5ECF6",
           "caxis": {
            "gridcolor": "white",
            "linecolor": "white",
            "ticks": ""
           }
          },
          "title": {
           "x": 0.05
          },
          "xaxis": {
           "automargin": true,
           "gridcolor": "white",
           "linecolor": "white",
           "ticks": "",
           "title": {
            "standoff": 15
           },
           "zerolinecolor": "white",
           "zerolinewidth": 2
          },
          "yaxis": {
           "automargin": true,
           "gridcolor": "white",
           "linecolor": "white",
           "ticks": "",
           "title": {
            "standoff": 15
           },
           "zerolinecolor": "white",
           "zerolinewidth": 2
          }
         }
        },
        "title": {
         "text": "Word Count Plots"
        },
        "width": 900,
        "xaxis": {
         "anchor": "y",
         "domain": [
          0,
          0.45
         ]
        },
        "xaxis2": {
         "anchor": "y2",
         "domain": [
          0.55,
          1
         ]
        },
        "yaxis": {
         "anchor": "x",
         "domain": [
          0,
          1
         ]
        },
        "yaxis2": {
         "anchor": "x2",
         "domain": [
          0,
          1
         ]
        }
       }
      }
     },
     "metadata": {},
     "output_type": "display_data"
    }
   ],
   "source": [
    "from collections import defaultdict\n",
    "from plotly import tools\n",
    "\n",
    "train1_df = df[df[\"label\"]==1]\n",
    "train0_df = df[df[\"label\"]==0]\n",
    "\n",
    "## custom function for ngram generation ##\n",
    "def generate_ngrams(text, n_gram=1):\n",
    "    token = [token for token in text.lower().split(\" \") if token != \"\" if token not in STOPWORDS]\n",
    "    ngrams = zip(*[token[i:] for i in range(n_gram)])\n",
    "    return [\" \".join(ngram) for ngram in ngrams]\n",
    "\n",
    "\n",
    "## custom function for horizontal bar chart ##\n",
    "def horizontal_bar_chart(df, color):\n",
    "    trace = go.Bar(\n",
    "        y=df[\"word\"].values[::-1],\n",
    "        x=df[\"wordcount\"].values[::-1],\n",
    "        showlegend=False,\n",
    "        orientation = 'h',\n",
    "        marker=dict(\n",
    "            color=color,\n",
    "        ),\n",
    "    )\n",
    "    return trace\n",
    "\n",
    "## Get the bar chart from not sarcastic comment ##\n",
    "freq_dict = defaultdict(int)\n",
    "for sent in train0_df[\"comment\"]:\n",
    "    for word in generate_ngrams(sent):\n",
    "        freq_dict[word] += 1\n",
    "fd_sorted = pd.DataFrame(sorted(freq_dict.items(), key=lambda x: x[1])[::-1])\n",
    "fd_sorted.columns = [\"word\", \"wordcount\"]\n",
    "trace0 = horizontal_bar_chart(fd_sorted.head(50), 'blue')\n",
    "\n",
    "## Get the bar chart from sarcastic comment ##\n",
    "freq_dict = defaultdict(int)\n",
    "for sent in train1_df[\"comment\"]:\n",
    "    for word in generate_ngrams(sent):\n",
    "        freq_dict[word] += 1\n",
    "fd_sorted = pd.DataFrame(sorted(freq_dict.items(), key=lambda x: x[1])[::-1])\n",
    "fd_sorted.columns = [\"word\", \"wordcount\"]\n",
    "trace1 = horizontal_bar_chart(fd_sorted.head(50), 'red')\n",
    "\n",
    "# Creating two subplots\n",
    "fig = tools.make_subplots(rows=1, cols=2, vertical_spacing=0.04,\n",
    "                          subplot_titles=[\"Frequent words of not sarcastic comments\", \n",
    "                                          \"Frequent words of sarcastic comments\"])\n",
    "fig.append_trace(trace0, 1, 1)\n",
    "fig.append_trace(trace1, 1, 2)\n",
    "fig['layout'].update(height=1200, width=900, paper_bgcolor='rgb(233,233,233)', title=\"Word Count Plots\")\n",
    "py.iplot(fig, filename='word-plots');"
   ]
  },
  {
   "cell_type": "code",
   "execution_count": 15,
   "metadata": {},
   "outputs": [
    {
     "data": {
      "application/vnd.plotly.v1+json": {
       "config": {
        "linkText": "Export to plot.ly",
        "plotlyServerURL": "https://plot.ly",
        "showLink": false
       },
       "data": [
        {
         "marker": {
          "color": "orange"
         },
         "orientation": "h",
         "showlegend": false,
         "type": "bar",
         "x": [
          455,
          456,
          477,
          479,
          482,
          492,
          514,
          515,
          517,
          522,
          525,
          529,
          530,
          531,
          539,
          544,
          552,
          554,
          556,
          557,
          566,
          578,
          614,
          615,
          616,
          619,
          737,
          783,
          797,
          899,
          908,
          912,
          920,
          934,
          955,
          958,
          1017,
          1053,
          1074,
          1110,
          1129,
          1333,
          1341,
          1351,
          1495,
          1704,
          2134,
          2284,
          2675,
          5267
         ],
         "xaxis": "x",
         "y": [
          "even though",
          "doesnt mean",
          "cmd cmd",
          "dont need",
          "last year",
          "didnt know",
          "dont even",
          "pretty good",
          "first time",
          "ive never",
          "people dont",
          "trumps hate",
          "love trumps",
          "hate love",
          "islam islam",
          "holy shit",
          "makes sense",
          "id say",
          "make sure",
          "year old",
          "dont see",
          "dont forget",
          "years ago",
          "gjallarhorn gjallarhorn",
          "every time",
          "ziggo ziggo",
          "im going",
          "trump donald",
          "im pretty",
          "news fake",
          "pasta copy",
          "ive seen",
          "copy pasta",
          "fake news",
          "donald trump",
          "dont want",
          "raving raving",
          "pretty much",
          "liar liar",
          "7 iphone",
          "iphone 7",
          "right now",
          "jerry jerry",
          "pretty sure",
          "im sure",
          "money money",
          "dont think",
          "dont know",
          "comcast comcast",
          "fuck fuck"
         ],
         "yaxis": "y"
        },
        {
         "marker": {
          "color": "orange"
         },
         "orientation": "h",
         "showlegend": false,
         "type": "bar",
         "x": [
          431,
          432,
          432,
          437,
          442,
          442,
          459,
          466,
          483,
          504,
          509,
          520,
          537,
          551,
          554,
          580,
          588,
          610,
          610,
          612,
          615,
          633,
          642,
          649,
          665,
          699,
          718,
          738,
          759,
          772,
          776,
          824,
          841,
          850,
          873,
          925,
          983,
          1007,
          1037,
          1088,
          1121,
          1154,
          1167,
          1205,
          1259,
          1273,
          1429,
          1642,
          2944,
          5652
         ],
         "xaxis": "x2",
         "y": [
          "every single",
          "years ago",
          "go back",
          "never heard",
          "ive never",
          "youre saying",
          "im going",
          "yeah lets",
          "cant believe",
          "well obviously",
          "think forgot",
          "doesnt matter",
          "yeah cause",
          "im pretty",
          "yeah man",
          "never seen",
          "makes sense",
          "year old",
          "thank god",
          "well thats",
          "yeah totally",
          "ah yes",
          "nah man",
          "cant see",
          "dont need",
          "make sure",
          "people dont",
          "dont see",
          "yeah fuck",
          "im glad",
          "dont forget",
          "dont understand",
          "right now",
          "yeah im",
          "dont think",
          "pretty sure",
          "dont want",
          "black people",
          "yeah thats",
          "oh yeah",
          "much better",
          "cant wait",
          "didnt know",
          "white people",
          "youre right",
          "dont worry",
          "everyone knows",
          "good thing",
          "dont know",
          "im sure"
         ],
         "yaxis": "y2"
        }
       ],
       "layout": {
        "annotations": [
         {
          "font": {
           "size": 16
          },
          "showarrow": false,
          "text": "Frequent bigrams of not sarcastic questions",
          "x": 0.2125,
          "xanchor": "center",
          "xref": "paper",
          "y": 1,
          "yanchor": "bottom",
          "yref": "paper"
         },
         {
          "font": {
           "size": 16
          },
          "showarrow": false,
          "text": "Frequent bigrams of sarcastic questions",
          "x": 0.7875,
          "xanchor": "center",
          "xref": "paper",
          "y": 1,
          "yanchor": "bottom",
          "yref": "paper"
         }
        ],
        "height": 1200,
        "paper_bgcolor": "rgb(233,233,233)",
        "template": {
         "data": {
          "bar": [
           {
            "error_x": {
             "color": "#2a3f5f"
            },
            "error_y": {
             "color": "#2a3f5f"
            },
            "marker": {
             "line": {
              "color": "#E5ECF6",
              "width": 0.5
             },
             "pattern": {
              "fillmode": "overlay",
              "size": 10,
              "solidity": 0.2
             }
            },
            "type": "bar"
           }
          ],
          "barpolar": [
           {
            "marker": {
             "line": {
              "color": "#E5ECF6",
              "width": 0.5
             },
             "pattern": {
              "fillmode": "overlay",
              "size": 10,
              "solidity": 0.2
             }
            },
            "type": "barpolar"
           }
          ],
          "carpet": [
           {
            "aaxis": {
             "endlinecolor": "#2a3f5f",
             "gridcolor": "white",
             "linecolor": "white",
             "minorgridcolor": "white",
             "startlinecolor": "#2a3f5f"
            },
            "baxis": {
             "endlinecolor": "#2a3f5f",
             "gridcolor": "white",
             "linecolor": "white",
             "minorgridcolor": "white",
             "startlinecolor": "#2a3f5f"
            },
            "type": "carpet"
           }
          ],
          "choropleth": [
           {
            "colorbar": {
             "outlinewidth": 0,
             "ticks": ""
            },
            "type": "choropleth"
           }
          ],
          "contour": [
           {
            "colorbar": {
             "outlinewidth": 0,
             "ticks": ""
            },
            "colorscale": [
             [
              0,
              "#0d0887"
             ],
             [
              0.1111111111111111,
              "#46039f"
             ],
             [
              0.2222222222222222,
              "#7201a8"
             ],
             [
              0.3333333333333333,
              "#9c179e"
             ],
             [
              0.4444444444444444,
              "#bd3786"
             ],
             [
              0.5555555555555556,
              "#d8576b"
             ],
             [
              0.6666666666666666,
              "#ed7953"
             ],
             [
              0.7777777777777778,
              "#fb9f3a"
             ],
             [
              0.8888888888888888,
              "#fdca26"
             ],
             [
              1,
              "#f0f921"
             ]
            ],
            "type": "contour"
           }
          ],
          "contourcarpet": [
           {
            "colorbar": {
             "outlinewidth": 0,
             "ticks": ""
            },
            "type": "contourcarpet"
           }
          ],
          "heatmap": [
           {
            "colorbar": {
             "outlinewidth": 0,
             "ticks": ""
            },
            "colorscale": [
             [
              0,
              "#0d0887"
             ],
             [
              0.1111111111111111,
              "#46039f"
             ],
             [
              0.2222222222222222,
              "#7201a8"
             ],
             [
              0.3333333333333333,
              "#9c179e"
             ],
             [
              0.4444444444444444,
              "#bd3786"
             ],
             [
              0.5555555555555556,
              "#d8576b"
             ],
             [
              0.6666666666666666,
              "#ed7953"
             ],
             [
              0.7777777777777778,
              "#fb9f3a"
             ],
             [
              0.8888888888888888,
              "#fdca26"
             ],
             [
              1,
              "#f0f921"
             ]
            ],
            "type": "heatmap"
           }
          ],
          "heatmapgl": [
           {
            "colorbar": {
             "outlinewidth": 0,
             "ticks": ""
            },
            "colorscale": [
             [
              0,
              "#0d0887"
             ],
             [
              0.1111111111111111,
              "#46039f"
             ],
             [
              0.2222222222222222,
              "#7201a8"
             ],
             [
              0.3333333333333333,
              "#9c179e"
             ],
             [
              0.4444444444444444,
              "#bd3786"
             ],
             [
              0.5555555555555556,
              "#d8576b"
             ],
             [
              0.6666666666666666,
              "#ed7953"
             ],
             [
              0.7777777777777778,
              "#fb9f3a"
             ],
             [
              0.8888888888888888,
              "#fdca26"
             ],
             [
              1,
              "#f0f921"
             ]
            ],
            "type": "heatmapgl"
           }
          ],
          "histogram": [
           {
            "marker": {
             "pattern": {
              "fillmode": "overlay",
              "size": 10,
              "solidity": 0.2
             }
            },
            "type": "histogram"
           }
          ],
          "histogram2d": [
           {
            "colorbar": {
             "outlinewidth": 0,
             "ticks": ""
            },
            "colorscale": [
             [
              0,
              "#0d0887"
             ],
             [
              0.1111111111111111,
              "#46039f"
             ],
             [
              0.2222222222222222,
              "#7201a8"
             ],
             [
              0.3333333333333333,
              "#9c179e"
             ],
             [
              0.4444444444444444,
              "#bd3786"
             ],
             [
              0.5555555555555556,
              "#d8576b"
             ],
             [
              0.6666666666666666,
              "#ed7953"
             ],
             [
              0.7777777777777778,
              "#fb9f3a"
             ],
             [
              0.8888888888888888,
              "#fdca26"
             ],
             [
              1,
              "#f0f921"
             ]
            ],
            "type": "histogram2d"
           }
          ],
          "histogram2dcontour": [
           {
            "colorbar": {
             "outlinewidth": 0,
             "ticks": ""
            },
            "colorscale": [
             [
              0,
              "#0d0887"
             ],
             [
              0.1111111111111111,
              "#46039f"
             ],
             [
              0.2222222222222222,
              "#7201a8"
             ],
             [
              0.3333333333333333,
              "#9c179e"
             ],
             [
              0.4444444444444444,
              "#bd3786"
             ],
             [
              0.5555555555555556,
              "#d8576b"
             ],
             [
              0.6666666666666666,
              "#ed7953"
             ],
             [
              0.7777777777777778,
              "#fb9f3a"
             ],
             [
              0.8888888888888888,
              "#fdca26"
             ],
             [
              1,
              "#f0f921"
             ]
            ],
            "type": "histogram2dcontour"
           }
          ],
          "mesh3d": [
           {
            "colorbar": {
             "outlinewidth": 0,
             "ticks": ""
            },
            "type": "mesh3d"
           }
          ],
          "parcoords": [
           {
            "line": {
             "colorbar": {
              "outlinewidth": 0,
              "ticks": ""
             }
            },
            "type": "parcoords"
           }
          ],
          "pie": [
           {
            "automargin": true,
            "type": "pie"
           }
          ],
          "scatter": [
           {
            "marker": {
             "colorbar": {
              "outlinewidth": 0,
              "ticks": ""
             }
            },
            "type": "scatter"
           }
          ],
          "scatter3d": [
           {
            "line": {
             "colorbar": {
              "outlinewidth": 0,
              "ticks": ""
             }
            },
            "marker": {
             "colorbar": {
              "outlinewidth": 0,
              "ticks": ""
             }
            },
            "type": "scatter3d"
           }
          ],
          "scattercarpet": [
           {
            "marker": {
             "colorbar": {
              "outlinewidth": 0,
              "ticks": ""
             }
            },
            "type": "scattercarpet"
           }
          ],
          "scattergeo": [
           {
            "marker": {
             "colorbar": {
              "outlinewidth": 0,
              "ticks": ""
             }
            },
            "type": "scattergeo"
           }
          ],
          "scattergl": [
           {
            "marker": {
             "colorbar": {
              "outlinewidth": 0,
              "ticks": ""
             }
            },
            "type": "scattergl"
           }
          ],
          "scattermapbox": [
           {
            "marker": {
             "colorbar": {
              "outlinewidth": 0,
              "ticks": ""
             }
            },
            "type": "scattermapbox"
           }
          ],
          "scatterpolar": [
           {
            "marker": {
             "colorbar": {
              "outlinewidth": 0,
              "ticks": ""
             }
            },
            "type": "scatterpolar"
           }
          ],
          "scatterpolargl": [
           {
            "marker": {
             "colorbar": {
              "outlinewidth": 0,
              "ticks": ""
             }
            },
            "type": "scatterpolargl"
           }
          ],
          "scatterternary": [
           {
            "marker": {
             "colorbar": {
              "outlinewidth": 0,
              "ticks": ""
             }
            },
            "type": "scatterternary"
           }
          ],
          "surface": [
           {
            "colorbar": {
             "outlinewidth": 0,
             "ticks": ""
            },
            "colorscale": [
             [
              0,
              "#0d0887"
             ],
             [
              0.1111111111111111,
              "#46039f"
             ],
             [
              0.2222222222222222,
              "#7201a8"
             ],
             [
              0.3333333333333333,
              "#9c179e"
             ],
             [
              0.4444444444444444,
              "#bd3786"
             ],
             [
              0.5555555555555556,
              "#d8576b"
             ],
             [
              0.6666666666666666,
              "#ed7953"
             ],
             [
              0.7777777777777778,
              "#fb9f3a"
             ],
             [
              0.8888888888888888,
              "#fdca26"
             ],
             [
              1,
              "#f0f921"
             ]
            ],
            "type": "surface"
           }
          ],
          "table": [
           {
            "cells": {
             "fill": {
              "color": "#EBF0F8"
             },
             "line": {
              "color": "white"
             }
            },
            "header": {
             "fill": {
              "color": "#C8D4E3"
             },
             "line": {
              "color": "white"
             }
            },
            "type": "table"
           }
          ]
         },
         "layout": {
          "annotationdefaults": {
           "arrowcolor": "#2a3f5f",
           "arrowhead": 0,
           "arrowwidth": 1
          },
          "autotypenumbers": "strict",
          "coloraxis": {
           "colorbar": {
            "outlinewidth": 0,
            "ticks": ""
           }
          },
          "colorscale": {
           "diverging": [
            [
             0,
             "#8e0152"
            ],
            [
             0.1,
             "#c51b7d"
            ],
            [
             0.2,
             "#de77ae"
            ],
            [
             0.3,
             "#f1b6da"
            ],
            [
             0.4,
             "#fde0ef"
            ],
            [
             0.5,
             "#f7f7f7"
            ],
            [
             0.6,
             "#e6f5d0"
            ],
            [
             0.7,
             "#b8e186"
            ],
            [
             0.8,
             "#7fbc41"
            ],
            [
             0.9,
             "#4d9221"
            ],
            [
             1,
             "#276419"
            ]
           ],
           "sequential": [
            [
             0,
             "#0d0887"
            ],
            [
             0.1111111111111111,
             "#46039f"
            ],
            [
             0.2222222222222222,
             "#7201a8"
            ],
            [
             0.3333333333333333,
             "#9c179e"
            ],
            [
             0.4444444444444444,
             "#bd3786"
            ],
            [
             0.5555555555555556,
             "#d8576b"
            ],
            [
             0.6666666666666666,
             "#ed7953"
            ],
            [
             0.7777777777777778,
             "#fb9f3a"
            ],
            [
             0.8888888888888888,
             "#fdca26"
            ],
            [
             1,
             "#f0f921"
            ]
           ],
           "sequentialminus": [
            [
             0,
             "#0d0887"
            ],
            [
             0.1111111111111111,
             "#46039f"
            ],
            [
             0.2222222222222222,
             "#7201a8"
            ],
            [
             0.3333333333333333,
             "#9c179e"
            ],
            [
             0.4444444444444444,
             "#bd3786"
            ],
            [
             0.5555555555555556,
             "#d8576b"
            ],
            [
             0.6666666666666666,
             "#ed7953"
            ],
            [
             0.7777777777777778,
             "#fb9f3a"
            ],
            [
             0.8888888888888888,
             "#fdca26"
            ],
            [
             1,
             "#f0f921"
            ]
           ]
          },
          "colorway": [
           "#636efa",
           "#EF553B",
           "#00cc96",
           "#ab63fa",
           "#FFA15A",
           "#19d3f3",
           "#FF6692",
           "#B6E880",
           "#FF97FF",
           "#FECB52"
          ],
          "font": {
           "color": "#2a3f5f"
          },
          "geo": {
           "bgcolor": "white",
           "lakecolor": "white",
           "landcolor": "#E5ECF6",
           "showlakes": true,
           "showland": true,
           "subunitcolor": "white"
          },
          "hoverlabel": {
           "align": "left"
          },
          "hovermode": "closest",
          "mapbox": {
           "style": "light"
          },
          "paper_bgcolor": "white",
          "plot_bgcolor": "#E5ECF6",
          "polar": {
           "angularaxis": {
            "gridcolor": "white",
            "linecolor": "white",
            "ticks": ""
           },
           "bgcolor": "#E5ECF6",
           "radialaxis": {
            "gridcolor": "white",
            "linecolor": "white",
            "ticks": ""
           }
          },
          "scene": {
           "xaxis": {
            "backgroundcolor": "#E5ECF6",
            "gridcolor": "white",
            "gridwidth": 2,
            "linecolor": "white",
            "showbackground": true,
            "ticks": "",
            "zerolinecolor": "white"
           },
           "yaxis": {
            "backgroundcolor": "#E5ECF6",
            "gridcolor": "white",
            "gridwidth": 2,
            "linecolor": "white",
            "showbackground": true,
            "ticks": "",
            "zerolinecolor": "white"
           },
           "zaxis": {
            "backgroundcolor": "#E5ECF6",
            "gridcolor": "white",
            "gridwidth": 2,
            "linecolor": "white",
            "showbackground": true,
            "ticks": "",
            "zerolinecolor": "white"
           }
          },
          "shapedefaults": {
           "line": {
            "color": "#2a3f5f"
           }
          },
          "ternary": {
           "aaxis": {
            "gridcolor": "white",
            "linecolor": "white",
            "ticks": ""
           },
           "baxis": {
            "gridcolor": "white",
            "linecolor": "white",
            "ticks": ""
           },
           "bgcolor": "#E5ECF6",
           "caxis": {
            "gridcolor": "white",
            "linecolor": "white",
            "ticks": ""
           }
          },
          "title": {
           "x": 0.05
          },
          "xaxis": {
           "automargin": true,
           "gridcolor": "white",
           "linecolor": "white",
           "ticks": "",
           "title": {
            "standoff": 15
           },
           "zerolinecolor": "white",
           "zerolinewidth": 2
          },
          "yaxis": {
           "automargin": true,
           "gridcolor": "white",
           "linecolor": "white",
           "ticks": "",
           "title": {
            "standoff": 15
           },
           "zerolinecolor": "white",
           "zerolinewidth": 2
          }
         }
        },
        "title": {
         "text": "Bigram Count Plots"
        },
        "width": 900,
        "xaxis": {
         "anchor": "y",
         "domain": [
          0,
          0.425
         ]
        },
        "xaxis2": {
         "anchor": "y2",
         "domain": [
          0.575,
          1
         ]
        },
        "yaxis": {
         "anchor": "x",
         "domain": [
          0,
          1
         ]
        },
        "yaxis2": {
         "anchor": "x2",
         "domain": [
          0,
          1
         ]
        }
       }
      }
     },
     "metadata": {},
     "output_type": "display_data"
    }
   ],
   "source": [
    "freq_dict = defaultdict(int)\n",
    "for sent in train0_df[\"comment\"]:\n",
    "    for word in generate_ngrams(sent,2):\n",
    "        freq_dict[word] += 1\n",
    "fd_sorted = pd.DataFrame(sorted(freq_dict.items(), key=lambda x: x[1])[::-1])\n",
    "fd_sorted.columns = [\"word\", \"wordcount\"]\n",
    "trace0 = horizontal_bar_chart(fd_sorted.head(50), 'orange')\n",
    "\n",
    "\n",
    "freq_dict = defaultdict(int)\n",
    "for sent in train1_df[\"comment\"]:\n",
    "    for word in generate_ngrams(sent,2):\n",
    "        freq_dict[word] += 1\n",
    "fd_sorted = pd.DataFrame(sorted(freq_dict.items(), key=lambda x: x[1])[::-1])\n",
    "fd_sorted.columns = [\"word\", \"wordcount\"]\n",
    "trace1 = horizontal_bar_chart(fd_sorted.head(50), 'orange')\n",
    "\n",
    "# Creating two subplots\n",
    "fig = tools.make_subplots(rows=1, cols=2, vertical_spacing=0.04,horizontal_spacing=0.15,\n",
    "                          subplot_titles=[\"Frequent bigrams of not sarcastic questions\", \n",
    "                                          \"Frequent bigrams of sarcastic questions\"])\n",
    "fig.append_trace(trace0, 1, 1)\n",
    "fig.append_trace(trace1, 1, 2)\n",
    "fig['layout'].update(height=1200, width=900, paper_bgcolor='rgb(233,233,233)', title=\"Bigram Count Plots\")\n",
    "py.iplot(fig, filename='word-plots')"
   ]
  },
  {
   "cell_type": "code",
   "execution_count": 16,
   "metadata": {},
   "outputs": [
    {
     "data": {
      "application/vnd.plotly.v1+json": {
       "config": {
        "linkText": "Export to plot.ly",
        "plotlyServerURL": "https://plot.ly",
        "showLink": false
       },
       "data": [
        {
         "marker": {
          "color": "green"
         },
         "orientation": "h",
         "showlegend": false,
         "type": "bar",
         "x": [
          130,
          131,
          132,
          133,
          133,
          135,
          139,
          139,
          139,
          139,
          141,
          141,
          188,
          188,
          199,
          199,
          200,
          223,
          286,
          290,
          359,
          361,
          383,
          383,
          400,
          419,
          419,
          442,
          475,
          527,
          527,
          529,
          538,
          614,
          618,
          690,
          783,
          783,
          899,
          899,
          908,
          908,
          1010,
          1069,
          1110,
          1110,
          1340,
          1692,
          2667,
          5243
         ],
         "xaxis": "x",
         "y": [
          "opieop opieop opieop",
          "sli smp nvidia",
          "edition sli smp",
          "founders edition sli",
          "smp nvidia gtx",
          "nvidia gtx 1080",
          "nope nope nope",
          "1070 1060 1050",
          "1060 1050 founders",
          "1050 founders edition",
          "1080 1070 1060",
          "gtx 1080 1070",
          "got nothing got",
          "nothing got nothing",
          "family trump first",
          "trump first family",
          "first family trump",
          "wsgy wsgy wsgy",
          "wat wat wat",
          "kek kek kek",
          "pc mac pc",
          "mac pc mac",
          "tronald dump tronald",
          "dump tronald dump",
          "genocide genocide genocide",
          "lm ayy lm",
          "ayy lm ayy",
          "flintstones flintstones flintstones",
          "cmd cmd cmd",
          "trumps hate love",
          "hate love trumps",
          "love trumps hate",
          "islam islam islam",
          "gjallarhorn gjallarhorn gjallarhorn",
          "ziggo ziggo ziggo",
          "im pretty sure",
          "donald trump donald",
          "trump donald trump",
          "fake news fake",
          "news fake news",
          "copy pasta copy",
          "pasta copy pasta",
          "raving raving raving",
          "liar liar liar",
          "iphone 7 iphone",
          "7 iphone 7",
          "jerry jerry jerry",
          "money money money",
          "comcast comcast comcast",
          "fuck fuck fuck"
         ],
         "yaxis": "y"
        },
        {
         "marker": {
          "color": "green"
         },
         "orientation": "h",
         "showlegend": false,
         "type": "bar",
         "x": [
          68,
          70,
          71,
          71,
          71,
          72,
          72,
          74,
          74,
          75,
          76,
          76,
          77,
          78,
          79,
          83,
          83,
          83,
          84,
          84,
          84,
          84,
          85,
          88,
          88,
          92,
          92,
          94,
          97,
          98,
          101,
          102,
          102,
          102,
          103,
          104,
          108,
          110,
          121,
          133,
          142,
          146,
          154,
          168,
          178,
          218,
          256,
          313,
          498,
          569
         ],
         "xaxis": "x2",
         "y": [
          "svchostexe svchostexe svchostexe",
          "cant see past",
          "im sure youre",
          "makes much sense",
          "people cant racist",
          "please tell forgot",
          "well good thing",
          "cant racist white",
          "dont worry im",
          "people dont know",
          "well im sure",
          "blah blah blah",
          "dont even know",
          "yes thats exactly",
          "im sure people",
          "works mysterious ways",
          "dont know man",
          "men cant raped",
          "white people racist",
          "make america great",
          "never heard one",
          "ha ha ha",
          "many many many",
          "know youre talking",
          "oh im sure",
          "yeah fuck people",
          "never gets old",
          "black people cant",
          "theres one thing",
          "dont worry guys",
          "im sure theyll",
          "didnt think needed",
          "dont know youre",
          "ive never heard",
          "dont see problem",
          "human eye see",
          "possibly go wrong",
          "racist white people",
          "makes perfect sense",
          "didnt see coming",
          "yeah youre right",
          "im sure thats",
          "cant wait see",
          "human eye cant",
          "eye cant see",
          "ive never seen",
          "yes im sure",
          "im sure will",
          "im pretty sure",
          "yeah im sure"
         ],
         "yaxis": "y2"
        }
       ],
       "layout": {
        "annotations": [
         {
          "font": {
           "size": 16
          },
          "showarrow": false,
          "text": "Frequent trigrams of not sarcastic comments",
          "x": 0.2,
          "xanchor": "center",
          "xref": "paper",
          "y": 1,
          "yanchor": "bottom",
          "yref": "paper"
         },
         {
          "font": {
           "size": 16
          },
          "showarrow": false,
          "text": "Frequent trigrams of sarcastic comments",
          "x": 0.8,
          "xanchor": "center",
          "xref": "paper",
          "y": 1,
          "yanchor": "bottom",
          "yref": "paper"
         }
        ],
        "height": 1200,
        "paper_bgcolor": "rgb(233,233,233)",
        "template": {
         "data": {
          "bar": [
           {
            "error_x": {
             "color": "#2a3f5f"
            },
            "error_y": {
             "color": "#2a3f5f"
            },
            "marker": {
             "line": {
              "color": "#E5ECF6",
              "width": 0.5
             },
             "pattern": {
              "fillmode": "overlay",
              "size": 10,
              "solidity": 0.2
             }
            },
            "type": "bar"
           }
          ],
          "barpolar": [
           {
            "marker": {
             "line": {
              "color": "#E5ECF6",
              "width": 0.5
             },
             "pattern": {
              "fillmode": "overlay",
              "size": 10,
              "solidity": 0.2
             }
            },
            "type": "barpolar"
           }
          ],
          "carpet": [
           {
            "aaxis": {
             "endlinecolor": "#2a3f5f",
             "gridcolor": "white",
             "linecolor": "white",
             "minorgridcolor": "white",
             "startlinecolor": "#2a3f5f"
            },
            "baxis": {
             "endlinecolor": "#2a3f5f",
             "gridcolor": "white",
             "linecolor": "white",
             "minorgridcolor": "white",
             "startlinecolor": "#2a3f5f"
            },
            "type": "carpet"
           }
          ],
          "choropleth": [
           {
            "colorbar": {
             "outlinewidth": 0,
             "ticks": ""
            },
            "type": "choropleth"
           }
          ],
          "contour": [
           {
            "colorbar": {
             "outlinewidth": 0,
             "ticks": ""
            },
            "colorscale": [
             [
              0,
              "#0d0887"
             ],
             [
              0.1111111111111111,
              "#46039f"
             ],
             [
              0.2222222222222222,
              "#7201a8"
             ],
             [
              0.3333333333333333,
              "#9c179e"
             ],
             [
              0.4444444444444444,
              "#bd3786"
             ],
             [
              0.5555555555555556,
              "#d8576b"
             ],
             [
              0.6666666666666666,
              "#ed7953"
             ],
             [
              0.7777777777777778,
              "#fb9f3a"
             ],
             [
              0.8888888888888888,
              "#fdca26"
             ],
             [
              1,
              "#f0f921"
             ]
            ],
            "type": "contour"
           }
          ],
          "contourcarpet": [
           {
            "colorbar": {
             "outlinewidth": 0,
             "ticks": ""
            },
            "type": "contourcarpet"
           }
          ],
          "heatmap": [
           {
            "colorbar": {
             "outlinewidth": 0,
             "ticks": ""
            },
            "colorscale": [
             [
              0,
              "#0d0887"
             ],
             [
              0.1111111111111111,
              "#46039f"
             ],
             [
              0.2222222222222222,
              "#7201a8"
             ],
             [
              0.3333333333333333,
              "#9c179e"
             ],
             [
              0.4444444444444444,
              "#bd3786"
             ],
             [
              0.5555555555555556,
              "#d8576b"
             ],
             [
              0.6666666666666666,
              "#ed7953"
             ],
             [
              0.7777777777777778,
              "#fb9f3a"
             ],
             [
              0.8888888888888888,
              "#fdca26"
             ],
             [
              1,
              "#f0f921"
             ]
            ],
            "type": "heatmap"
           }
          ],
          "heatmapgl": [
           {
            "colorbar": {
             "outlinewidth": 0,
             "ticks": ""
            },
            "colorscale": [
             [
              0,
              "#0d0887"
             ],
             [
              0.1111111111111111,
              "#46039f"
             ],
             [
              0.2222222222222222,
              "#7201a8"
             ],
             [
              0.3333333333333333,
              "#9c179e"
             ],
             [
              0.4444444444444444,
              "#bd3786"
             ],
             [
              0.5555555555555556,
              "#d8576b"
             ],
             [
              0.6666666666666666,
              "#ed7953"
             ],
             [
              0.7777777777777778,
              "#fb9f3a"
             ],
             [
              0.8888888888888888,
              "#fdca26"
             ],
             [
              1,
              "#f0f921"
             ]
            ],
            "type": "heatmapgl"
           }
          ],
          "histogram": [
           {
            "marker": {
             "pattern": {
              "fillmode": "overlay",
              "size": 10,
              "solidity": 0.2
             }
            },
            "type": "histogram"
           }
          ],
          "histogram2d": [
           {
            "colorbar": {
             "outlinewidth": 0,
             "ticks": ""
            },
            "colorscale": [
             [
              0,
              "#0d0887"
             ],
             [
              0.1111111111111111,
              "#46039f"
             ],
             [
              0.2222222222222222,
              "#7201a8"
             ],
             [
              0.3333333333333333,
              "#9c179e"
             ],
             [
              0.4444444444444444,
              "#bd3786"
             ],
             [
              0.5555555555555556,
              "#d8576b"
             ],
             [
              0.6666666666666666,
              "#ed7953"
             ],
             [
              0.7777777777777778,
              "#fb9f3a"
             ],
             [
              0.8888888888888888,
              "#fdca26"
             ],
             [
              1,
              "#f0f921"
             ]
            ],
            "type": "histogram2d"
           }
          ],
          "histogram2dcontour": [
           {
            "colorbar": {
             "outlinewidth": 0,
             "ticks": ""
            },
            "colorscale": [
             [
              0,
              "#0d0887"
             ],
             [
              0.1111111111111111,
              "#46039f"
             ],
             [
              0.2222222222222222,
              "#7201a8"
             ],
             [
              0.3333333333333333,
              "#9c179e"
             ],
             [
              0.4444444444444444,
              "#bd3786"
             ],
             [
              0.5555555555555556,
              "#d8576b"
             ],
             [
              0.6666666666666666,
              "#ed7953"
             ],
             [
              0.7777777777777778,
              "#fb9f3a"
             ],
             [
              0.8888888888888888,
              "#fdca26"
             ],
             [
              1,
              "#f0f921"
             ]
            ],
            "type": "histogram2dcontour"
           }
          ],
          "mesh3d": [
           {
            "colorbar": {
             "outlinewidth": 0,
             "ticks": ""
            },
            "type": "mesh3d"
           }
          ],
          "parcoords": [
           {
            "line": {
             "colorbar": {
              "outlinewidth": 0,
              "ticks": ""
             }
            },
            "type": "parcoords"
           }
          ],
          "pie": [
           {
            "automargin": true,
            "type": "pie"
           }
          ],
          "scatter": [
           {
            "marker": {
             "colorbar": {
              "outlinewidth": 0,
              "ticks": ""
             }
            },
            "type": "scatter"
           }
          ],
          "scatter3d": [
           {
            "line": {
             "colorbar": {
              "outlinewidth": 0,
              "ticks": ""
             }
            },
            "marker": {
             "colorbar": {
              "outlinewidth": 0,
              "ticks": ""
             }
            },
            "type": "scatter3d"
           }
          ],
          "scattercarpet": [
           {
            "marker": {
             "colorbar": {
              "outlinewidth": 0,
              "ticks": ""
             }
            },
            "type": "scattercarpet"
           }
          ],
          "scattergeo": [
           {
            "marker": {
             "colorbar": {
              "outlinewidth": 0,
              "ticks": ""
             }
            },
            "type": "scattergeo"
           }
          ],
          "scattergl": [
           {
            "marker": {
             "colorbar": {
              "outlinewidth": 0,
              "ticks": ""
             }
            },
            "type": "scattergl"
           }
          ],
          "scattermapbox": [
           {
            "marker": {
             "colorbar": {
              "outlinewidth": 0,
              "ticks": ""
             }
            },
            "type": "scattermapbox"
           }
          ],
          "scatterpolar": [
           {
            "marker": {
             "colorbar": {
              "outlinewidth": 0,
              "ticks": ""
             }
            },
            "type": "scatterpolar"
           }
          ],
          "scatterpolargl": [
           {
            "marker": {
             "colorbar": {
              "outlinewidth": 0,
              "ticks": ""
             }
            },
            "type": "scatterpolargl"
           }
          ],
          "scatterternary": [
           {
            "marker": {
             "colorbar": {
              "outlinewidth": 0,
              "ticks": ""
             }
            },
            "type": "scatterternary"
           }
          ],
          "surface": [
           {
            "colorbar": {
             "outlinewidth": 0,
             "ticks": ""
            },
            "colorscale": [
             [
              0,
              "#0d0887"
             ],
             [
              0.1111111111111111,
              "#46039f"
             ],
             [
              0.2222222222222222,
              "#7201a8"
             ],
             [
              0.3333333333333333,
              "#9c179e"
             ],
             [
              0.4444444444444444,
              "#bd3786"
             ],
             [
              0.5555555555555556,
              "#d8576b"
             ],
             [
              0.6666666666666666,
              "#ed7953"
             ],
             [
              0.7777777777777778,
              "#fb9f3a"
             ],
             [
              0.8888888888888888,
              "#fdca26"
             ],
             [
              1,
              "#f0f921"
             ]
            ],
            "type": "surface"
           }
          ],
          "table": [
           {
            "cells": {
             "fill": {
              "color": "#EBF0F8"
             },
             "line": {
              "color": "white"
             }
            },
            "header": {
             "fill": {
              "color": "#C8D4E3"
             },
             "line": {
              "color": "white"
             }
            },
            "type": "table"
           }
          ]
         },
         "layout": {
          "annotationdefaults": {
           "arrowcolor": "#2a3f5f",
           "arrowhead": 0,
           "arrowwidth": 1
          },
          "autotypenumbers": "strict",
          "coloraxis": {
           "colorbar": {
            "outlinewidth": 0,
            "ticks": ""
           }
          },
          "colorscale": {
           "diverging": [
            [
             0,
             "#8e0152"
            ],
            [
             0.1,
             "#c51b7d"
            ],
            [
             0.2,
             "#de77ae"
            ],
            [
             0.3,
             "#f1b6da"
            ],
            [
             0.4,
             "#fde0ef"
            ],
            [
             0.5,
             "#f7f7f7"
            ],
            [
             0.6,
             "#e6f5d0"
            ],
            [
             0.7,
             "#b8e186"
            ],
            [
             0.8,
             "#7fbc41"
            ],
            [
             0.9,
             "#4d9221"
            ],
            [
             1,
             "#276419"
            ]
           ],
           "sequential": [
            [
             0,
             "#0d0887"
            ],
            [
             0.1111111111111111,
             "#46039f"
            ],
            [
             0.2222222222222222,
             "#7201a8"
            ],
            [
             0.3333333333333333,
             "#9c179e"
            ],
            [
             0.4444444444444444,
             "#bd3786"
            ],
            [
             0.5555555555555556,
             "#d8576b"
            ],
            [
             0.6666666666666666,
             "#ed7953"
            ],
            [
             0.7777777777777778,
             "#fb9f3a"
            ],
            [
             0.8888888888888888,
             "#fdca26"
            ],
            [
             1,
             "#f0f921"
            ]
           ],
           "sequentialminus": [
            [
             0,
             "#0d0887"
            ],
            [
             0.1111111111111111,
             "#46039f"
            ],
            [
             0.2222222222222222,
             "#7201a8"
            ],
            [
             0.3333333333333333,
             "#9c179e"
            ],
            [
             0.4444444444444444,
             "#bd3786"
            ],
            [
             0.5555555555555556,
             "#d8576b"
            ],
            [
             0.6666666666666666,
             "#ed7953"
            ],
            [
             0.7777777777777778,
             "#fb9f3a"
            ],
            [
             0.8888888888888888,
             "#fdca26"
            ],
            [
             1,
             "#f0f921"
            ]
           ]
          },
          "colorway": [
           "#636efa",
           "#EF553B",
           "#00cc96",
           "#ab63fa",
           "#FFA15A",
           "#19d3f3",
           "#FF6692",
           "#B6E880",
           "#FF97FF",
           "#FECB52"
          ],
          "font": {
           "color": "#2a3f5f"
          },
          "geo": {
           "bgcolor": "white",
           "lakecolor": "white",
           "landcolor": "#E5ECF6",
           "showlakes": true,
           "showland": true,
           "subunitcolor": "white"
          },
          "hoverlabel": {
           "align": "left"
          },
          "hovermode": "closest",
          "mapbox": {
           "style": "light"
          },
          "paper_bgcolor": "white",
          "plot_bgcolor": "#E5ECF6",
          "polar": {
           "angularaxis": {
            "gridcolor": "white",
            "linecolor": "white",
            "ticks": ""
           },
           "bgcolor": "#E5ECF6",
           "radialaxis": {
            "gridcolor": "white",
            "linecolor": "white",
            "ticks": ""
           }
          },
          "scene": {
           "xaxis": {
            "backgroundcolor": "#E5ECF6",
            "gridcolor": "white",
            "gridwidth": 2,
            "linecolor": "white",
            "showbackground": true,
            "ticks": "",
            "zerolinecolor": "white"
           },
           "yaxis": {
            "backgroundcolor": "#E5ECF6",
            "gridcolor": "white",
            "gridwidth": 2,
            "linecolor": "white",
            "showbackground": true,
            "ticks": "",
            "zerolinecolor": "white"
           },
           "zaxis": {
            "backgroundcolor": "#E5ECF6",
            "gridcolor": "white",
            "gridwidth": 2,
            "linecolor": "white",
            "showbackground": true,
            "ticks": "",
            "zerolinecolor": "white"
           }
          },
          "shapedefaults": {
           "line": {
            "color": "#2a3f5f"
           }
          },
          "ternary": {
           "aaxis": {
            "gridcolor": "white",
            "linecolor": "white",
            "ticks": ""
           },
           "baxis": {
            "gridcolor": "white",
            "linecolor": "white",
            "ticks": ""
           },
           "bgcolor": "#E5ECF6",
           "caxis": {
            "gridcolor": "white",
            "linecolor": "white",
            "ticks": ""
           }
          },
          "title": {
           "x": 0.05
          },
          "xaxis": {
           "automargin": true,
           "gridcolor": "white",
           "linecolor": "white",
           "ticks": "",
           "title": {
            "standoff": 15
           },
           "zerolinecolor": "white",
           "zerolinewidth": 2
          },
          "yaxis": {
           "automargin": true,
           "gridcolor": "white",
           "linecolor": "white",
           "ticks": "",
           "title": {
            "standoff": 15
           },
           "zerolinecolor": "white",
           "zerolinewidth": 2
          }
         }
        },
        "title": {
         "text": "Trigram Count Plots"
        },
        "width": 1200,
        "xaxis": {
         "anchor": "y",
         "domain": [
          0,
          0.4
         ]
        },
        "xaxis2": {
         "anchor": "y2",
         "domain": [
          0.6000000000000001,
          1
         ]
        },
        "yaxis": {
         "anchor": "x",
         "domain": [
          0,
          1
         ]
        },
        "yaxis2": {
         "anchor": "x2",
         "domain": [
          0,
          1
         ]
        }
       }
      }
     },
     "metadata": {},
     "output_type": "display_data"
    }
   ],
   "source": [
    "freq_dict = defaultdict(int)\n",
    "for sent in train0_df[\"comment\"]:\n",
    "    for word in generate_ngrams(sent,3):\n",
    "        freq_dict[word] += 1\n",
    "fd_sorted = pd.DataFrame(sorted(freq_dict.items(), key=lambda x: x[1])[::-1])\n",
    "fd_sorted.columns = [\"word\", \"wordcount\"]\n",
    "trace0 = horizontal_bar_chart(fd_sorted.head(50), 'green')\n",
    "\n",
    "\n",
    "freq_dict = defaultdict(int)\n",
    "for sent in train1_df[\"comment\"]:\n",
    "    for word in generate_ngrams(sent,3):\n",
    "        freq_dict[word] += 1\n",
    "fd_sorted = pd.DataFrame(sorted(freq_dict.items(), key=lambda x: x[1])[::-1])\n",
    "fd_sorted.columns = [\"word\", \"wordcount\"]\n",
    "trace1 = horizontal_bar_chart(fd_sorted.head(50), 'green')\n",
    "\n",
    "# Creating two subplots\n",
    "fig = tools.make_subplots(rows=1, cols=2, vertical_spacing=0.04, horizontal_spacing=0.2,\n",
    "                          subplot_titles=[\"Frequent trigrams of not sarcastic comments\", \n",
    "                                          \"Frequent trigrams of sarcastic comments\"])\n",
    "fig.append_trace(trace0, 1, 1)\n",
    "fig.append_trace(trace1, 1, 2)\n",
    "fig['layout'].update(height=1200, width=1200, paper_bgcolor='rgb(233,233,233)', title=\"Trigram Count Plots\")\n",
    "py.iplot(fig, filename='word-plots')"
   ]
  },
  {
   "cell_type": "code",
   "execution_count": 17,
   "metadata": {},
   "outputs": [
    {
     "data": {
      "text/plain": [
       "Counter({('{\"33\":\"But', 'theyll'): 1,\n",
       "         ('theyll', 'have'): 33,\n",
       "         ('have', 'all'): 210,\n",
       "         ('all', 'those'): 1317,\n",
       "         ('those', 'reviews\",\"44\":\"wow'): 1,\n",
       "         ('reviews\",\"44\":\"wow', 'it'): 1,\n",
       "         ('it', 'is'): 2297,\n",
       "         ('is', 'totally'): 1092,\n",
       "         ('totally', 'unreasonable'): 6,\n",
       "         ('unreasonable', 'to'): 7,\n",
       "         ('to', 'assume'): 107,\n",
       "         ('assume', 'that'): 84,\n",
       "         ('that', 'the'): 2155,\n",
       "         ('the', 'agency'): 6,\n",
       "         ('agency', 'that'): 5,\n",
       "         ('that', 'covered'): 4,\n",
       "         ('covered', 'up'): 15,\n",
       "         ('up', 'Bush'): 2,\n",
       "         ('Bush', 'war'): 1,\n",
       "         ('war', 'crimes'): 20,\n",
       "         ('crimes', 'because'): 4,\n",
       "         ('because', 'muh'): 4,\n",
       "         ('muh', 'republican'): 1,\n",
       "         ('republican', 'party'): 12,\n",
       "         ('party', 'would'): 8,\n",
       "         ('would', 'be'): 3267,\n",
       "         ('be', 'partisan'): 1,\n",
       "         ('partisan', 'as'): 1,\n",
       "         ('as', 'fuck\",\"45\":\"Ho'): 1,\n",
       "         ('fuck\",\"45\":\"Ho', 'ho'): 1,\n",
       "         ('ho', 'ho'): 3,\n",
       "         ('ho', 'But'): 1,\n",
       "         ('But', 'Melania'): 1,\n",
       "         ('Melania', 'said'): 1,\n",
       "         ('said', 'that'): 203,\n",
       "         ('that', 'there'): 298,\n",
       "         ('there', 'is'): 1450,\n",
       "         ('is', 'no'): 773,\n",
       "         ('no', 'way'): 730,\n",
       "         ('way', 'it'): 71,\n",
       "         ('it', 'could'): 197,\n",
       "         ('could', 'have'): 843,\n",
       "         ('have', 'happened'): 147,\n",
       "         ('happened', 'because'): 28,\n",
       "         ('because', 'she'): 234,\n",
       "         ('she', 'didnt'): 152,\n",
       "         ('didnt', 'know'): 608,\n",
       "         ('know', 'the'): 720,\n",
       "         ('the', 'woman\",\"66\":\"I'): 1,\n",
       "         ('woman\",\"66\":\"I', 'cant'): 1,\n",
       "         ('cant', 'wait'): 595,\n",
       "         ('wait', 'until'): 252,\n",
       "         ('until', 'potus'): 1,\n",
       "         ('potus', 'starts'): 1,\n",
       "         ('starts', 'a'): 4,\n",
       "         ('a', 'twitter'): 11,\n",
       "         ('twitter', 'war'): 1,\n",
       "         ('war', 'against'): 31,\n",
       "         ('against', 'Morning'): 1,\n",
       "         ('Morning', 'Joe\",\"69\":\"gotta'): 1,\n",
       "         ('Joe\",\"69\":\"gotta', 'love'): 1,\n",
       "         ('love', 'the'): 291,\n",
       "         ('the', 'teachers'): 28,\n",
       "         ('teachers', 'who'): 4,\n",
       "         ('who', 'give'): 10,\n",
       "         ('give', 'exams'): 1,\n",
       "         ('exams', 'on'): 1,\n",
       "         ('on', 'the'): 6583,\n",
       "         ('the', 'day'): 216,\n",
       "         ('day', 'after'): 22,\n",
       "         ('after', 'halloween\",\"74\":\"Hoiberg'): 1,\n",
       "         ('halloween\",\"74\":\"Hoiberg', 'said'): 1,\n",
       "         ('said', 'great'): 1,\n",
       "         ('great', 'players'): 4,\n",
       "         ('players', 'not'): 5,\n",
       "         ('not', 'Dwight\",\"76\":\"Oh'): 1,\n",
       "         ('Dwight\",\"76\":\"Oh', 'I'): 1,\n",
       "         ('I', 'never'): 262,\n",
       "         ('never', 'realized'): 18,\n",
       "         ('realized', 'it'): 14,\n",
       "         ('it', 'was'): 3428,\n",
       "         ('was', 'so'): 572,\n",
       "         ('so', 'easy'): 143,\n",
       "         ('easy', 'why'): 4,\n",
       "         ('why', 'had'): 1,\n",
       "         ('had', 'I'): 5,\n",
       "         ('I', 'and'): 10,\n",
       "         ('and', 'every'): 144,\n",
       "         ('every', 'other'): 265,\n",
       "         ('other', 'lonely'): 1,\n",
       "         ('lonely', 'person'): 1,\n",
       "         ('person', 'on'): 53,\n",
       "         ('on', 'earth'): 110,\n",
       "         ('earth', 'never'): 1,\n",
       "         ('never', 'thought'): 97,\n",
       "         ('thought', 'of'): 212,\n",
       "         ('of', 'that'): 733,\n",
       "         ('that', 'before\",\"160\":\"Exactly'): 1,\n",
       "         ('before\",\"160\":\"Exactly', 'no'): 1,\n",
       "         ('no', 'reason'): 214,\n",
       "         ('reason', 'whatsoever\",\"169\":\"Hank'): 1,\n",
       "         ('whatsoever\",\"169\":\"Hank', 'would'): 1,\n",
       "         ('would', 'have'): 2184,\n",
       "         ('have', 'a'): 3770,\n",
       "         ('a', 'great'): 1926,\n",
       "         ('great', 'time'): 31,\n",
       "         ('time', 'in'): 158,\n",
       "         ('in', 'the'): 13171,\n",
       "         ('the', 'Legends'): 1,\n",
       "         ('Legends', 'of'): 1,\n",
       "         ('of', 'Tomorrow\",\"193\":\"I'): 1,\n",
       "         ('Tomorrow\",\"193\":\"I', 'remember'): 1,\n",
       "         ('remember', 'reading'): 10,\n",
       "         ('reading', 'all'): 7,\n",
       "         ('all', 'of'): 1834,\n",
       "         ('of', 'those'): 1070,\n",
       "         ('those', 'stories'): 10,\n",
       "         ('stories', 'in'): 6,\n",
       "         ('the', 'news'): 140,\n",
       "         ('news', 'about'): 19,\n",
       "         ('about', 'riot'): 1,\n",
       "         ('riot', 'police'): 2,\n",
       "         ('police', 'marching'): 1,\n",
       "         ('marching', 'into'): 1,\n",
       "         ('into', 'the'): 1026,\n",
       "         ('the', 'Volvo'): 1,\n",
       "         ('Volvo', 'head'): 1,\n",
       "         ('head', 'offices'): 1,\n",
       "         ('offices', 'with'): 1,\n",
       "         ('with', 'truncheons'): 1,\n",
       "         ('truncheons', 'and'): 1,\n",
       "         ('and', 'beating'): 11,\n",
       "         ('beating', 'the'): 23,\n",
       "         ('the', 'designers'): 7,\n",
       "         ('designers', 'until'): 1,\n",
       "         ('until', 'they'): 165,\n",
       "         ('they', 'invented'): 22,\n",
       "         ('invented', 'the'): 56,\n",
       "         ('the', 'seatbelt\",\"194\":\"cant'): 1,\n",
       "         ('seatbelt\",\"194\":\"cant', 'watch'): 1,\n",
       "         ('watch', 'it'): 50,\n",
       "         ('it', 'and'): 668,\n",
       "         ('and', 'get'): 574,\n",
       "         ('get', 'into'): 155,\n",
       "         ('into', 'heaven'): 7,\n",
       "         ('heaven', 'son'): 1,\n",
       "         ('son', 'thats'): 3,\n",
       "         ('thats', 'stealing'): 2,\n",
       "         ('stealing', '\",\"216\":\"Yeah'): 1,\n",
       "         ('\",\"216\":\"Yeah', 'those'): 1,\n",
       "         ('those', 'kids'): 60,\n",
       "         ('kids', 'who'): 50,\n",
       "         ('who', 'cant'): 149,\n",
       "         ('cant', 'eat'): 11,\n",
       "         ('eat', 'peanuts'): 1,\n",
       "         ('peanuts', 'without'): 1,\n",
       "         ('without', 'dying'): 5,\n",
       "         ('dying', 'or'): 2,\n",
       "         ('or', 'milk'): 1,\n",
       "         ('milk', 'without'): 1,\n",
       "         ('without', 'diarrhea'): 1,\n",
       "         ('diarrhea', 'or'): 1,\n",
       "         ('or', 'the'): 350,\n",
       "         ('the', 'rare'): 13,\n",
       "         ('rare', 'kid'): 1,\n",
       "         ('kid', 'who'): 29,\n",
       "         ('eat', 'gluten'): 3,\n",
       "         ('gluten', 'without'): 1,\n",
       "         ('without', 'other'): 2,\n",
       "         ('other', 'problems'): 6,\n",
       "         ('problems', 'they'): 5,\n",
       "         ('they', 'should'): 1015,\n",
       "         ('should', 'just'): 848,\n",
       "         ('just', 'stay'): 29,\n",
       "         ('stay', 'at'): 39,\n",
       "         ('at', 'home'): 132,\n",
       "         ('home', 'like'): 10,\n",
       "         ('like', 'they'): 543,\n",
       "         ('they', 'deserve\",\"230\":\"Dude'): 1,\n",
       "         ('deserve\",\"230\":\"Dude', 'have'): 1,\n",
       "         ('have', 'you'): 352,\n",
       "         ('you', 'not'): 359,\n",
       "         ('not', 'heard'): 10,\n",
       "         ('heard', 'of'): 399,\n",
       "         ('of', 'the'): 11799,\n",
       "         ('the', 'Lions'): 13,\n",
       "         ('Lions', 'legend'): 1,\n",
       "         ('legend', 'Armbrisster\",\"255\":\"I'): 1,\n",
       "         ('Armbrisster\",\"255\":\"I', 'mean'): 1,\n",
       "         ('mean', 'if'): 142,\n",
       "         ('if', 'you'): 4045,\n",
       "         ('you', 'guys'): 691,\n",
       "         ('guys', 'still'): 5,\n",
       "         ('still', 'dont'): 43,\n",
       "         ('dont', 'understand'): 697,\n",
       "         ('understand', 'what'): 78,\n",
       "         ('what', 'you'): 815,\n",
       "         ('you', 'did'): 139,\n",
       "         ('did', 'to'): 65,\n",
       "         ('to', 'him'): 162,\n",
       "         ('him', 'then'): 19,\n",
       "         ('then', 'I'): 262,\n",
       "         ('I', 'dont'): 1841,\n",
       "         ('dont', 'think'): 777,\n",
       "         ('think', 'youll'): 27,\n",
       "         ('youll', 'ever'): 15,\n",
       "         ('ever', 'get'): 45,\n",
       "         ('get', 'it\",\"274\":\"How'): 1,\n",
       "         ('it\",\"274\":\"How', 'about'): 1,\n",
       "         ('about', 'Marcos'): 1,\n",
       "         ('Marcos', 'Rojo\",\"278\":\"no'): 1,\n",
       "         ('Rojo\",\"278\":\"no', 'Galio'): 1,\n",
       "         ('Galio', 'stacks'): 1,\n",
       "         ('stacks', 'magic'): 1,\n",
       "         ('magic', 'resistance'): 1,\n",
       "         ('resistance', 'but'): 1,\n",
       "         ('but', 'Ryze'): 1,\n",
       "         ('Ryze', 'deals'): 1,\n",
       "         ('deals', 'mana'): 1,\n",
       "         ('mana', 'damage\",\"305\":\"Language'): 1,\n",
       "         ('damage\",\"305\":\"Language', 'Cap'): 1,\n",
       "         ('Cap', 'such'): 1,\n",
       "         ('such', 'a'): 2409,\n",
       "         ('a', 'hypocrite\",\"336\":\"Damn'): 1,\n",
       "         ('hypocrite\",\"336\":\"Damn', 'didnt'): 1,\n",
       "         ('know', 'Samsung'): 1,\n",
       "         ('Samsung', 'made'): 1,\n",
       "         ('made', 'VRMs'): 1,\n",
       "         ('VRMs', 'aswell\",\"346\":\"No'): 1,\n",
       "         ('aswell\",\"346\":\"No', 'Juno'): 1,\n",
       "         ('Juno', 'needs'): 1,\n",
       "         ('needs', 'a'): 250,\n",
       "         ('a', 'buff'): 46,\n",
       "         ('buff', 'she'): 2,\n",
       "         ('she', 'sucks\",\"359\":\"Man'): 1,\n",
       "         ('sucks\",\"359\":\"Man', 'that'): 1,\n",
       "         ('that', 'sounds'): 228,\n",
       "         ('sounds', 'terrifying\",\"370\":\"yeah'): 1,\n",
       "         ('terrifying\",\"370\":\"yeah', 'like'): 1,\n",
       "         ('like', 'the'): 1959,\n",
       "         ('the', 'president'): 92,\n",
       "         ('president', 'is'): 29,\n",
       "         ('is', 'a'): 7476,\n",
       "         ('a', 'big'): 579,\n",
       "         ('big', 'deal\",\"443\":\"A'): 1,\n",
       "         ('deal\",\"443\":\"A', 'WHITE'): 1,\n",
       "         ('WHITE', 'FUCKIN'): 1,\n",
       "         ('FUCKIN', 'MALE'): 1,\n",
       "         ('MALE', 'is'): 2,\n",
       "         ('is', 'out'): 88,\n",
       "         ('out', 'to'): 370,\n",
       "         ('to', 'destroy'): 133,\n",
       "         ('destroy', '2'): 1,\n",
       "         ('2', 'strong'): 1,\n",
       "         ('strong', 'independent'): 26,\n",
       "         ('independent', 'women'): 3,\n",
       "         ('women', 'who'): 130,\n",
       "         ('who', 'just'): 85,\n",
       "         ('just', 'want'): 257,\n",
       "         ('want', 'to'): 3289,\n",
       "         ('to', 'help'): 497,\n",
       "         ('help', 'America\",\"457\":\"Sweet'): 1,\n",
       "         ('America\",\"457\":\"Sweet', 'tax'): 1,\n",
       "         ('tax', 'cuts'): 46,\n",
       "         ('cuts', 'coming'): 1,\n",
       "         ('coming', 'soon\",\"479\":\"Oh'): 1,\n",
       "         ('soon\",\"479\":\"Oh', 'but'): 1,\n",
       "         ('but', 'didnt'): 25,\n",
       "         ('didnt', 'you'): 476,\n",
       "         ('you', 'know'): 3096,\n",
       "         ('know', 'being'): 19,\n",
       "         ('being', 'in'): 131,\n",
       "         ('in', 'a'): 3761,\n",
       "         ('a', 'relationship'): 74,\n",
       "         ('relationship', 'means'): 2,\n",
       "         ('means', 'you'): 191,\n",
       "         ('you', 'totally'): 95,\n",
       "         ('totally', 'have'): 57,\n",
       "         ('have', 'to'): 4366,\n",
       "         ('to', 'just'): 281,\n",
       "         ('just', 'put'): 112,\n",
       "         ('put', 'up'): 98,\n",
       "         ('up', 'with'): 618,\n",
       "         ('with', 'their'): 584,\n",
       "         ('their', 'broke'): 1,\n",
       "         ('broke', 'ass'): 5,\n",
       "         ('ass', 'being'): 1,\n",
       "         ('being', 'a'): 929,\n",
       "         ('a', 'broke'): 3,\n",
       "         ('ass', 'all'): 11,\n",
       "         ('all', 'the'): 5224,\n",
       "         ('the', 'time\",\"487\":\"Yea'): 1,\n",
       "         ('time\",\"487\":\"Yea', 'that'): 1,\n",
       "         ('that', 'isnt'): 235,\n",
       "         ('isnt', 'demeaning'): 1,\n",
       "         ('demeaning', 'to'): 2,\n",
       "         ('to', 'women'): 59,\n",
       "         ('women', 'at'): 20,\n",
       "         ('at', 'all\",\"497\":\"But'): 1,\n",
       "         ('all\",\"497\":\"But', 'I'): 1,\n",
       "         ('I', 'want'): 615,\n",
       "         ('want', 'it'): 133,\n",
       "         ('it', 'to'): 1304,\n",
       "         ('to', 'charge'): 48,\n",
       "         ('charge', 'Super'): 1,\n",
       "         ('Super', 'fast\",\"508\":\"yea'): 1,\n",
       "         ('fast\",\"508\":\"yea', 'cause'): 1,\n",
       "         ('cause', 'Kobbe'): 1,\n",
       "         ('Kobbe', 'was'): 1,\n",
       "         ('so', 'much'): 2206,\n",
       "         ('much', 'better\",\"526\":\"I'): 1,\n",
       "         ('better\",\"526\":\"I', 'might'): 1,\n",
       "         ('might', 'have'): 271,\n",
       "         ('have', 'dropped'): 58,\n",
       "         ('dropped', 'this\",\"556\":\"Im'): 1,\n",
       "         ('this\",\"556\":\"Im', 'just'): 1,\n",
       "         ('just', 'going'): 125,\n",
       "         ('going', 'to'): 4427,\n",
       "         ('to', 'subsist'): 2,\n",
       "         ('subsist', 'on'): 2,\n",
       "         ('on', 'G'): 3,\n",
       "         ('G', 'Fuel'): 1,\n",
       "         ('Fuel', 'all'): 1,\n",
       "         ('all', 'weekend\",\"575\":\"Vayne\",\"624\":\"Yes'): 1,\n",
       "         ('weekend\",\"575\":\"Vayne\",\"624\":\"Yes', 'Switzerlands'): 1,\n",
       "         ('Switzerlands', 'black'): 1,\n",
       "         ('black', 'ops'): 16,\n",
       "         ('ops', 'are'): 3,\n",
       "         ('are', 'pulling'): 6,\n",
       "         ('pulling', 'off'): 4,\n",
       "         ('off', 'special'): 1,\n",
       "         ('special', 'operations'): 1,\n",
       "         ('operations', 'all'): 1,\n",
       "         ('all', 'around'): 21,\n",
       "         ('around', 'the'): 315,\n",
       "         ('the', 'world'): 1461,\n",
       "         ('world', 'protect'): 1,\n",
       "         ('protect', 'its'): 6,\n",
       "         ('its', 'citizens'): 15,\n",
       "         ('citizens', 'high'): 1,\n",
       "         ('high', 'standard'): 5,\n",
       "         ('standard', 'of'): 30,\n",
       "         ('of', 'living\",\"626\":\"Hillary'): 1,\n",
       "         ('living\",\"626\":\"Hillary', 'Clinton'): 1,\n",
       "         ('Clinton', 'is'): 57,\n",
       "         ('a', 'saint\",\"627\":\"Fuck'): 1,\n",
       "         ('saint\",\"627\":\"Fuck', 'anyone'): 1,\n",
       "         ('anyone', 'from'): 11,\n",
       "         ('from', 'NJ\",\"637\":\"Gotta'): 1,\n",
       "         ('NJ\",\"637\":\"Gotta', 'save'): 1,\n",
       "         ('save', 'our'): 16,\n",
       "         ('our', 'children'): 47,\n",
       "         ('children', 'from'): 24,\n",
       "         ('from', 'the'): 2499,\n",
       "         ('the', 'dangers'): 19,\n",
       "         ('dangers', 'of'): 18,\n",
       "         ('of', 'text'): 19,\n",
       "         ('text', 'on'): 16,\n",
       "         ('on', 'a'): 1881,\n",
       "         ('a', 'screen'): 24,\n",
       "         ('screen', 'in'): 7,\n",
       "         ('a', 'rhythm'): 2,\n",
       "         ('rhythm', 'game\",\"643\":\"SEC'): 1,\n",
       "         ('game\",\"643\":\"SEC', 'wins'): 1,\n",
       "         ('wins', 'count'): 1,\n",
       "         ('count', 'twice'): 1,\n",
       "         ('twice', 'to'): 6,\n",
       "         ('to', 'the'): 6032,\n",
       "         ('the', 'committee\",\"681\":\"Ahh'): 1,\n",
       "         ('committee\",\"681\":\"Ahh', 'the'): 1,\n",
       "         ('the', 'glorious'): 56,\n",
       "         ('glorious', 'american'): 1,\n",
       "         ('american', 'cuisine\",\"695\":\"Im'): 1,\n",
       "         ('cuisine\",\"695\":\"Im', 'more'): 1,\n",
       "         ('more', 'curious'): 2,\n",
       "         ('curious', 'of'): 1,\n",
       "         ('of', 'how'): 252,\n",
       "         ('how', 'the'): 495,\n",
       "         ('the', 'coffee'): 16,\n",
       "         ('coffee', 'is'): 7,\n",
       "         ('is', 'burnt\",\"729\":\"It'): 1,\n",
       "         ('burnt\",\"729\":\"It', 'just'): 1,\n",
       "         ('just', 'never'): 27,\n",
       "         ('never', 'stops'): 2,\n",
       "         ('stops', 'being'): 7,\n",
       "         ('being', 'funny'): 6,\n",
       "         ('funny', 'guys\",\"744\":\"Because'): 1,\n",
       "         ('guys\",\"744\":\"Because', 'society'): 1,\n",
       "         ('society', 'tells'): 3,\n",
       "         ('tells', 'them'): 15,\n",
       "         ('them', 'to'): 1047,\n",
       "         ('to', 'our'): 212,\n",
       "         ('our', 'theyre'): 1,\n",
       "         ('theyre', 'not'): 410,\n",
       "         ('not', 'cool\",\"756\":\"Damn'): 1,\n",
       "         ('cool\",\"756\":\"Damn', 'Karma'): 1,\n",
       "         ('Karma', 'whores\",\"759\":\"Teams'): 1,\n",
       "         ('whores\",\"759\":\"Teams', 'should'): 1,\n",
       "         ('just', 'perpetually'): 1,\n",
       "         ('perpetually', 'keep'): 1,\n",
       "         ('keep', 'us'): 51,\n",
       "         ('us', 'on'): 31,\n",
       "         ('the', 'power'): 214,\n",
       "         ('power', 'play'): 6,\n",
       "         ('play', 'that'): 36,\n",
       "         ('that', 'way'): 233,\n",
       "         ('way', 'they'): 113,\n",
       "         ('they', 'shut'): 11,\n",
       "         ('shut', 'us'): 1,\n",
       "         ('us', 'out'): 24,\n",
       "         ('out', 'every'): 14,\n",
       "         ('every', 'time\",\"760\":\"She'): 1,\n",
       "         ('time\",\"760\":\"She', 'should'): 1,\n",
       "         ('just', 'get'): 283,\n",
       "         ('get', 'out'): 232,\n",
       "         ('out', 'of'): 3370,\n",
       "         ('the', 'way'): 835,\n",
       "         ('way', 'so'): 38,\n",
       "         ('so', 'the'): 409,\n",
       "         ('the', 'spoiled'): 4,\n",
       "         ('spoiled', 'corrupt'): 1,\n",
       "         ('corrupt', 'taxdodging'): 1,\n",
       "         ('taxdodging', 'draftdodging'): 1,\n",
       "         ('draftdodging', 'groping'): 1,\n",
       "         ('groping', 'lying'): 1,\n",
       "         ('lying', 'alleged'): 1,\n",
       "         ('alleged', 'child'): 1,\n",
       "         ('child', 'rapist'): 5,\n",
       "         ('rapist', 'can'): 3,\n",
       "         ('can', 'be'): 1097,\n",
       "         ('be', 'president\",\"772\":\"great'): 1,\n",
       "         ('president\",\"772\":\"great', 'offer\",\"795\":\"But'): 1,\n",
       "         ('offer\",\"795\":\"But', 'its'): 1,\n",
       "         ('its', 'her'): 67,\n",
       "         ('her', 'turn'): 23,\n",
       "         ('turn', 'plus'): 1,\n",
       "         ('plus', 'its'): 6,\n",
       "         ('its', 'a'): 1915,\n",
       "         ('a', 'woman'): 703,\n",
       "         ('woman', 'President\",\"798\":\"The'): 1,\n",
       "         ('President\",\"798\":\"The', 'tables'): 1,\n",
       "         ('tables', 'have'): 2,\n",
       "         ('have', 'turned'): 17,\n",
       "         ('turned', 'stop'): 1,\n",
       "         ('stop', 'trying'): 39,\n",
       "         ('trying', 'to'): 2223,\n",
       "         ('to', 'one'): 99,\n",
       "         ('one', 'up'): 22,\n",
       "         ('up', 'everyone\",\"807\":\"He'): 1,\n",
       "         ('everyone\",\"807\":\"He', 'probably'): 1,\n",
       "         ('probably', 'just'): 215,\n",
       "         ('just', 'didnt'): 98,\n",
       "         ('didnt', 'want'): 293,\n",
       "         ('to', 'read'): 286,\n",
       "         ('read', 'them'): 16,\n",
       "         ('them', 'because'): 79,\n",
       "         ('because', 'its'): 870,\n",
       "         ('its', 'illegal'): 33,\n",
       "         ('illegal', 'to'): 61,\n",
       "         ('them', 'and'): 339,\n",
       "         ('and', 'only'): 303,\n",
       "         ('only', 'the'): 400,\n",
       "         ('news', 'media'): 9,\n",
       "         ('media', 'can'): 8,\n",
       "         ('can', 'see'): 554,\n",
       "         ('see', 'them'): 110,\n",
       "         ('them', 'duh\",\"814\":\"We'): 1,\n",
       "         ('duh\",\"814\":\"We', 'all'): 1,\n",
       "         ('all', 'know'): 1229,\n",
       "         ('know', 'Hanzo'): 1,\n",
       "         ('Hanzo', 'is'): 5,\n",
       "         ('is', 'super'): 152,\n",
       "         ('super', 'original'): 3,\n",
       "         ('original', 'and'): 85,\n",
       "         ('and', 'clearly'): 35,\n",
       "         ('clearly', 'the'): 377,\n",
       "         ('the', 'first'): 1526,\n",
       "         ('first', 'Japanese'): 1,\n",
       "         ('Japanese', 'bow'): 1,\n",
       "         ('bow', 'character'): 1,\n",
       "         ('character', 'ever\",\"818\":\"If'): 1,\n",
       "         ('ever\",\"818\":\"If', 'only'): 1,\n",
       "         ('only', 'this'): 18,\n",
       "         ('this', 'could'): 115,\n",
       "         ('have', 'been'): 1877,\n",
       "         ('been', 'prevented'): 6,\n",
       "         ('prevented', '\",\"845\":\"Fuck'): 1,\n",
       "         ('\",\"845\":\"Fuck', 'YOU\",\"851\":\"Said'): 1,\n",
       "         ('YOU\",\"851\":\"Said', 'the'): 1,\n",
       "         ('the', 'under'): 13,\n",
       "         ('under', '2k'): 5,\n",
       "         ('2k', 'post'): 5,\n",
       "         ('post', 'karma'): 9,\n",
       "         ('karma', 'guy'): 11,\n",
       "         ('guy', 'expert\",\"858\":\"You'): 1,\n",
       "         ('expert\",\"858\":\"You', 'deserve'): 1,\n",
       "         ('deserve', 'and'): 1,\n",
       "         ('and', 'execution\",\"873\":\"Thats'): 1,\n",
       "         ('execution\",\"873\":\"Thats', 'just'): 1,\n",
       "         ('just', 'the'): 469,\n",
       "         ('the', 'WiFi'): 6,\n",
       "         ('WiFi', 'making'): 1,\n",
       "         ('making', 'you'): 29,\n",
       "         ('you', 'say'): 340,\n",
       "         ('say', 'those'): 6,\n",
       "         ('those', 'things\",\"893\":\"thats'): 1,\n",
       "         ('things\",\"893\":\"thats', 'not'): 1,\n",
       "         ('not', 'a'): 2145,\n",
       "         ('a', 'very'): 495,\n",
       "         ('very', 'nice'): 32,\n",
       "         ('nice', 'thing'): 15,\n",
       "         ('thing', 'to'): 431,\n",
       "         ('to', 'say'): 870,\n",
       "         ('say', 'about'): 88,\n",
       "         ('about', 'Susan'): 2,\n",
       "         ('Susan', 'Sarandon\",\"902\":\"Yeah'): 1,\n",
       "         ('Sarandon\",\"902\":\"Yeah', 'dude'): 1,\n",
       "         ('dude', 'just'): 21,\n",
       "         ('just', 'approach'): 2,\n",
       "         ('approach', 'random'): 1,\n",
       "         ('random', 'people'): 39,\n",
       "         ('people', 'from'): 224,\n",
       "         ('from', 'your'): 191,\n",
       "         ('your', 'college'): 6,\n",
       "         ('college', 'like'): 1,\n",
       "         ('like', 'an'): 330,\n",
       "         ('an', 'idiot'): 115,\n",
       "         ('idiot', 'after'): 1,\n",
       "         ('after', 'all'): 223,\n",
       "         ('all', 'thats'): 11,\n",
       "         ('thats', 'how'): 291,\n",
       "         ('how', 'relationships'): 3,\n",
       "         ('relationships', 'are'): 11,\n",
       "         ('are', 'formed\",\"927\":\"Resigned\",\"946\":\"Thats'): 1,\n",
       "         ('formed\",\"927\":\"Resigned\",\"946\":\"Thats', 'how'): 1,\n",
       "         ('how', 'hes'): 26,\n",
       "         ('hes', 'bringing'): 3,\n",
       "         ('bringing', 'jobs'): 1,\n",
       "         ('jobs', 'back'): 9,\n",
       "         ('back', 'to'): 949,\n",
       "         ('to', 'America\",\"948\":\"you'): 1,\n",
       "         ('America\",\"948\":\"you', 'know'): 1,\n",
       "         ('know', 'if'): 334,\n",
       "         ('if', 'I'): 850,\n",
       "         ('I', 'were'): 35,\n",
       "         ('were', 'a'): 270,\n",
       "         ('a', 'pro'): 77,\n",
       "         ('pro', 'Id'): 1,\n",
       "         ('Id', 'practice'): 1,\n",
       "         ('practice', '16'): 1,\n",
       "         ('16', 'hours'): 6,\n",
       "         ('hours', 'a'): 65,\n",
       "         ('a', 'day'): 244,\n",
       "         ('day', 'for'): 58,\n",
       "         ('for', '5'): 73,\n",
       "         ('5', 'years'): 92,\n",
       "         ('years', 'straight'): 2,\n",
       "         ('straight', 'especially'): 1,\n",
       "         ('especially', 'after'): 9,\n",
       "         ('after', 'single'): 1,\n",
       "         ('single', 'handedly'): 28,\n",
       "         ('handedly', 'throwing'): 1,\n",
       "         ('throwing', 'the'): 17,\n",
       "         ('world', 'championship'): 6,\n",
       "         ('championship', 'away'): 1,\n",
       "         ('away', 'after'): 7,\n",
       "         ('after', 'being'): 54,\n",
       "         ('being', 'carried'): 8,\n",
       "         ('carried', 'to'): 2,\n",
       "         ('the', 'group'): 29,\n",
       "         ('group', 'stage\",\"955\":\"But'): 1,\n",
       "         ('stage\",\"955\":\"But', 'Snowbowl'): 1,\n",
       "         ('Snowbowl', 'is'): 1,\n",
       "         ('is', 'opening'): 3,\n",
       "         ('opening', 'in'): 1,\n",
       "         ('in', '9'): 6,\n",
       "         ('9', 'days\",\"985\":\"Youre'): 1,\n",
       "         ('days\",\"985\":\"Youre', 'probably'): 1,\n",
       "         ('probably', 'not'): 47,\n",
       "         ('not', 'druid'): 1,\n",
       "         ('druid', 'master'): 1,\n",
       "         ('master', 'race\",\"998\":\"yeah'): 1,\n",
       "         ('race\",\"998\":\"yeah', 'god'): 1,\n",
       "         ('god', 'forbid'): 63,\n",
       "         ('forbid', 'jesse'): 1,\n",
       "         ('jesse', 'look'): 1,\n",
       "         ('look', 'out'): 27,\n",
       "         ('out', 'for'): 419,\n",
       "         ('for', 'his'): 405,\n",
       "         ('his', 'fans'): 8,\n",
       "         ('fans', 'by'): 4,\n",
       "         ('by', 'removing'): 14,\n",
       "         ('removing', 'an'): 1,\n",
       "         ('an', 'abusive'): 18,\n",
       "         ('abusive', 'asshole'): 1,\n",
       "         ('asshole', 'who'): 18,\n",
       "         ('who', 'was'): 152,\n",
       "         ('was', 'disturbing'): 1,\n",
       "         ('disturbing', 'the'): 4,\n",
       "         ('the', 'experience'): 39,\n",
       "         ('experience', 'for'): 16,\n",
       "         ('for', 'the'): 6133,\n",
       "         ('the', 'rest'): 823,\n",
       "         ('rest', 'of'): 795,\n",
       "         ('the', 'crowd\",\"1018\":\"Isnt'): 1,\n",
       "         ('crowd\",\"1018\":\"Isnt', 'it'): 1,\n",
       "         ('it', 'in'): 802,\n",
       "         ('in', 'Islamistan\",\"1021\":\"Haha'): 1,\n",
       "         ('Islamistan\",\"1021\":\"Haha', 'yes'): 1,\n",
       "         ('yes', 'but'): 44,\n",
       "         ('but', 'at'): 174,\n",
       "         ('at', 'least'): 1787,\n",
       "         ('least', 'we'): 228,\n",
       "         ('we', 'can'): 1493,\n",
       "         ('can', 'play'): 187,\n",
       "         ('play', 'him'): 24,\n",
       "         ('him', 'now\",\"1022\":\"Just'): 1,\n",
       "         ('now\",\"1022\":\"Just', 'like'): 1,\n",
       "         ('the', 'RNC'): 12,\n",
       "         ('RNC', 'burned'): 1,\n",
       "         ('burned', 'down'): 9,\n",
       "         ('down', 'their'): 31,\n",
       "         ('their', 'own'): 670,\n",
       "         ('own', 'headquarters'): 2,\n",
       "         ('headquarters', 'in'): 2,\n",
       "         ('in', 'Charlotte\",\"1023\":\"Cringelord'): 1,\n",
       "         ('Charlotte\",\"1023\":\"Cringelord', 'ooh'): 1,\n",
       "         ('ooh', 'you'): 1,\n",
       "         ('you', 'got'): 499,\n",
       "         ('got', 'him\",\"1026\":\"Sounds'): 1,\n",
       "         ('him\",\"1026\":\"Sounds', 'like'): 1,\n",
       "         ('like', 'fun\",\"1034\":\"NASA'): 1,\n",
       "         ('fun\",\"1034\":\"NASA', 'wastes'): 1,\n",
       "         ('wastes', 'taxpayer'): 1,\n",
       "         ('taxpayer', 'dollars'): 9,\n",
       "         ('dollars', 'on'): 25,\n",
       "         ('on', 'throwing'): 1,\n",
       "         ('throwing', 'lavish'): 1,\n",
       "         ('lavish', 'parties'): 1,\n",
       "         ('parties', 'for'): 3,\n",
       "         ('for', 'billionaires'): 2,\n",
       "         ('billionaires', 'news'): 1,\n",
       "         ('news', 'at'): 6,\n",
       "         ('at', '11\",\"1035\":\"Because'): 1,\n",
       "         ('11\",\"1035\":\"Because', 'anecdotes'): 1,\n",
       "         ('anecdotes', 'mean'): 1,\n",
       "         ('mean', 'anything'): 28,\n",
       "         ('anything', 'and'): 56,\n",
       "         ('and', 'being'): 168,\n",
       "         ('being', 'gaytrans'): 1,\n",
       "         ('gaytrans', 'is'): 1,\n",
       "         ('is', 'evil\",\"1036\":\"No'): 1,\n",
       "         ('evil\",\"1036\":\"No', 'it'): 1,\n",
       "         ('it', 'isnt'): 381,\n",
       "         ('isnt', 'what'): 13,\n",
       "         ('what', 'are'): 220,\n",
       "         ('are', 'you'): 1251,\n",
       "         ('you', 'talking'): 298,\n",
       "         ('talking', 'about\",\"1047\":\"The'): 1,\n",
       "         ('about\",\"1047\":\"The', 'Heathens'): 1,\n",
       "         ('Heathens', 'deserved'): 1,\n",
       "         ('deserved', 'it\",\"1049\":\"Right'): 1,\n",
       "         ('it\",\"1049\":\"Right', 'because'): 1,\n",
       "         ('because', 'no'): 220,\n",
       "         ('no', 'woman'): 23,\n",
       "         ('woman', 'being'): 15,\n",
       "         ('being', 'filmed'): 4,\n",
       "         ('filmed', 'kissing'): 1,\n",
       "         ('kissing', 'a'): 4,\n",
       "         ('woman', 'has'): 27,\n",
       "         ('has', 'ever'): 349,\n",
       "         ('ever', 'liked'): 1,\n",
       "         ('liked', 'kissing'): 1,\n",
       "         ('a', 'woman\",\"1055\":\"I'): 1,\n",
       "         ('woman\",\"1055\":\"I', 'wouldve'): 1,\n",
       "         ('wouldve', 'thought'): 25,\n",
       "         ('thought', 'this'): 124,\n",
       "         ('this', 'was'): 483,\n",
       "         ('was', 'going'): 318,\n",
       "         ('to', 'be'): 8200,\n",
       "         ('be', 'about'): 61,\n",
       "         ('about', 'how'): 554,\n",
       "         ('how', 'you'): 445,\n",
       "         ('got', 'yelled'): 4,\n",
       "         ('yelled', 'atfired'): 1,\n",
       "         ('atfired', 'by'): 1,\n",
       "         ('by', 'your'): 167,\n",
       "         ('your', 'boss'): 26,\n",
       "         ('boss', 'Not'): 1,\n",
       "         ('Not', 'some'): 1,\n",
       "         ('some', 'SJW'): 3,\n",
       "         ('SJW', 'getting'): 2,\n",
       "         ('getting', 'triggered'): 5,\n",
       "         ('triggered', 'I'): 2,\n",
       "         ('I', 'cant'): 973,\n",
       "         ('cant', 'believe'): 403,\n",
       "         ('believe', 'you'): 171,\n",
       "         ('you', 'would'): 418,\n",
       "         ('be', 'so'): 650,\n",
       "         ('so', 'insensitive'): 7,\n",
       "         ('insensitive', 'to'): 10,\n",
       "         ('to', 'his'): 313,\n",
       "         ('his', 'distress'): 1,\n",
       "         ('distress', 'smh\",\"1071\":\"She'): 1,\n",
       "         ('smh\",\"1071\":\"She', 'enjoyed'): 1,\n",
       "         ('enjoyed', 'it\",\"1074\":\"Man'): 1,\n",
       "         ('it\",\"1074\":\"Man', 'those'): 1,\n",
       "         ('those', 'same'): 8,\n",
       "         ('same', 'few'): 2,\n",
       "         ('few', 'people'): 37,\n",
       "         ('people', 'that'): 443,\n",
       "         ('that', 'own'): 4,\n",
       "         ('own', 'guns'): 7,\n",
       "         ('guns', 'just'): 3,\n",
       "         ('just', 'keep'): 109,\n",
       "         ('keep', 'buying'): 12,\n",
       "         ('buying', 'more\",\"1081\":\"Im'): 1,\n",
       "         ('more\",\"1081\":\"Im', 'sure'): 1,\n",
       "         ('sure', 'she'): 125,\n",
       "         ('she', 'doesnt'): 164,\n",
       "         ('doesnt', 'have'): 692,\n",
       "         ('have', 'any'): 469,\n",
       "         ('any', 'influence\",\"1082\":\"But'): 1,\n",
       "         ('influence\",\"1082\":\"But', 'separating'): 1,\n",
       "         ('separating', 'and'): 1,\n",
       "         ('and', 'demonizing'): 1,\n",
       "         ('demonizing', 'people'): 2,\n",
       "         ('people', 'different'): 2,\n",
       "         ('different', 'then'): 5,\n",
       "         ('then', 'you'): 466,\n",
       "         ('you', 'has'): 4,\n",
       "         ('has', 'had'): 66,\n",
       "         ('had', 'such'): 67,\n",
       "         ('such', 'positive'): 3,\n",
       "         ('positive', 'benefits'): 1,\n",
       "         ('benefits', 'in'): 3,\n",
       "         ('the', 'past\",\"1085\":\"Yeah'): 1,\n",
       "         ('past\",\"1085\":\"Yeah', 'how'): 1,\n",
       "         ('how', 'dare'): 490,\n",
       "         ('dare', 'she'): 41,\n",
       "         ('she', 'stick'): 1,\n",
       "         ('stick', 'up'): 15,\n",
       "         ('up', 'for'): 578,\n",
       "         ('for', 'herself\",\"1086\":\"Of'): 1,\n",
       "         ('herself\",\"1086\":\"Of', 'course'): 1,\n",
       "         ('course', 'we'): 51,\n",
       "         ('we', 'love'): 36,\n",
       "         ('love', 'lazy'): 1,\n",
       "         ('lazy', 'customers'): 1,\n",
       "         ('customers', 'without'): 1,\n",
       "         ('without', 'them'): 20,\n",
       "         ('them', 'we'): 15,\n",
       "         ('we', 'would'): 205,\n",
       "         ('have', 'nothing'): 256,\n",
       "         ('nothing', 'to'): 1030,\n",
       "         ('to', 'do\",\"1088\":\"At'): 1,\n",
       "         ('do\",\"1088\":\"At', 'least'): 1,\n",
       "         ('least', 'it'): 84,\n",
       "         ('it', 'wasnt'): 464,\n",
       "         ('wasnt', 'abortion\",\"1090\":\"Oh'): 1,\n",
       "         ('abortion\",\"1090\":\"Oh', 'well'): 1,\n",
       "         ('well', 'in'): 241,\n",
       "         ('in', 'that'): 672,\n",
       "         ('that', 'case'): 175,\n",
       "         ('case', 'Make'): 1,\n",
       "         ('Make', 'fun'): 1,\n",
       "         ('fun', 'of'): 253,\n",
       "         ('of', 'him'): 179,\n",
       "         ('him', 'all'): 26,\n",
       "         ('all', 'you'): 268,\n",
       "         ('you', 'want\",\"1096\":\"Most'): 1,\n",
       "         ('want\",\"1096\":\"Most', 'likely'): 1,\n",
       "         ('likely', 'you'): 5,\n",
       "         ('you', 'will'): 350,\n",
       "         ('will', 'wake'): 8,\n",
       "         ('wake', 'up'): 83,\n",
       "         ('up', 'tomorrow'): 2,\n",
       "         ('tomorrow', 'and'): 6,\n",
       "         ('and', 'it'): 644,\n",
       "         ('it', 'will'): 835,\n",
       "         ('will', 'say'): 28,\n",
       "         ('say', 'Season'): 1,\n",
       "         ('Season', '4'): 5,\n",
       "         ('4', 'starts'): 1,\n",
       "         ('starts', 'in'): 9,\n",
       "         ('in', '11'): 5,\n",
       "         ('11', 'seconds'): 2,\n",
       "         ('seconds', 'buckle'): 1,\n",
       "         ('buckle', 'up'): 1,\n",
       "         ('up', 'buckaroo'): 1,\n",
       "         ('buckaroo', 'and'): 1,\n",
       "         ('and', 'this'): 261,\n",
       "         ('this', 'will'): 402,\n",
       "         ('will', 'ruin'): 20,\n",
       "         ('ruin', 'your'): 17,\n",
       "         ('your', 'day\",\"1111\":\"Omg'): 1,\n",
       "         ('day\",\"1111\":\"Omg', 'stop'): 1,\n",
       "         ('stop', 'manspreading'): 1,\n",
       "         ('manspreading', 'you'): 2,\n",
       "         ('you', 'misogynist\",\"1112\":\"Oh'): 1,\n",
       "         ('misogynist\",\"1112\":\"Oh', 'please'): 1,\n",
       "         ('please', 'they'): 1,\n",
       "         ('they', 'are'): 3287,\n",
       "         ('are', 'a'): 977,\n",
       "         ('a', 'complete'): 141,\n",
       "         ('complete', 'nothingburrito\",\"1121\":\"Its'): 1,\n",
       "         ('nothingburrito\",\"1121\":\"Its', 'a'): 1,\n",
       "         ('a', 'metaphorical'): 2,\n",
       "         ('metaphorical', 'physical'): 1,\n",
       "         ('physical', 'wall\",\"1122\":\"JFK'): 1,\n",
       "         ('wall\",\"1122\":\"JFK', 'right'): 1,\n",
       "         ('right', 'when'): 31,\n",
       "         ('when', 'he'): 557,\n",
       "         ('he', 'was'): 2279,\n",
       "         ('was', 'getting'): 51,\n",
       "         ('getting', 'shot\",\"1135\":\"bomb'): 1,\n",
       "         ('shot\",\"1135\":\"bomb', 'king'): 1,\n",
       "         ('king', 'should'): 1,\n",
       "         ('should', 'have'): 2150,\n",
       "         ('to', 'reload'): 11,\n",
       "         ('reload', 'after'): 2,\n",
       "         ('after', 'every'): 42,\n",
       "         ('every', '2'): 21,\n",
       "         ('2', 'bombs'): 1,\n",
       "         ('bombs', 'because'): 2,\n",
       "         ('because', 'OP\",\"1142\":\"Hitler'): 1,\n",
       "         ('OP\",\"1142\":\"Hitler', 'bestreed'): 1,\n",
       "         ('bestreed', 'den'): 1,\n",
       "         ('den', 'Angelsaksen'): 1,\n",
       "         ('Angelsaksen', 'tenminste\",\"1160\":\"No'): 1,\n",
       "         ('tenminste\",\"1160\":\"No', 'thats'): 1,\n",
       "         ('thats', 'Dwight\",\"1205\":\"Pretty'): 1,\n",
       "         ('Dwight\",\"1205\":\"Pretty', 'sure'): 1,\n",
       "         ('sure', 'Malcolm'): 1,\n",
       "         ('Malcolm', 'already'): 1,\n",
       "         ('already', 'gave'): 3,\n",
       "         ('gave', 'you'): 66,\n",
       "         ('you', 'the'): 206,\n",
       "         ('the', 'solution'): 136,\n",
       "         ('solution', 'just'): 6,\n",
       "         ('just', 'up'): 8,\n",
       "         ('up', 'and'): 631,\n",
       "         ('and', 'move'): 60,\n",
       "         ('move', 'to'): 205,\n",
       "         ('the', 'most'): 1420,\n",
       "         ('most', 'expensive'): 14,\n",
       "         ('expensive', 'suburbs'): 1,\n",
       "         ('suburbs', 'in'): 1,\n",
       "         ('in', 'Brisbane'): 2,\n",
       "         ('Brisbane', 'if'): 1,\n",
       "         ('you', 'want'): 867,\n",
       "         ('want', 'fibre\",\"1211\":\"Yea'): 1,\n",
       "         ('fibre\",\"1211\":\"Yea', 'lets'): 1,\n",
       "         ('lets', 'bring'): 20,\n",
       "         ('bring', 'back'): 128,\n",
       "         ('back', 'the'): 105,\n",
       "         ('the', 'good'): 557,\n",
       "         ('good', 'ol'): 97,\n",
       "         ('ol', 'tank'): 1,\n",
       "         ('tank', 'meta\",\"1214\":\"Hey'): 1,\n",
       "         ('meta\",\"1214\":\"Hey', 'now'): 1,\n",
       "         ('now', 'lets'): 31,\n",
       "         ('lets', 'keep'): 49,\n",
       "         ('keep', 'in'): 21,\n",
       "         ('in', 'mind'): 61,\n",
       "         ('mind', 'whats'): 1,\n",
       "         ('whats', 'important'): 17,\n",
       "         ('important', 'Did'): 1,\n",
       "         ('Did', 'she'): 2,\n",
       "         ('she', 'intend'): 2,\n",
       "         ('intend', 'to'): 26,\n",
       "         ('to', 'do'): 3178,\n",
       "         ('do', 'it\",\"1247\":\"Quite'): 1,\n",
       "         ('it\",\"1247\":\"Quite', 'odd'): 1,\n",
       "         ('odd', 'that'): 14,\n",
       "         ('that', 'Peanut'): 1,\n",
       "         ('Peanut', 'started'): 1,\n",
       "         ('started', 'streaming'): 2,\n",
       "         ('streaming', 'on'): 3,\n",
       "         ('on', 'twitch'): 10,\n",
       "         ('twitch', 'recently\",\"1248\":\"First'): 1,\n",
       "         ('recently\",\"1248\":\"First', 'picture'): 1,\n",
       "         ('picture', 'was'): 19,\n",
       "         ('was', 'pretty'): 115,\n",
       "         ('pretty', 'lit'): 1,\n",
       "         ('lit', 'fam\",\"1260\":\"Yea'): 1,\n",
       "         ('fam\",\"1260\":\"Yea', 'i'): 1,\n",
       "         ('i', 'wish'): 21,\n",
       "         ('wish', 'he'): 12,\n",
       "         ('he', 'could'): 376,\n",
       "         ('could', '1shot'): 1,\n",
       "         ('1shot', 'musketeers\",\"1301\":\"Well'): 1,\n",
       "         ('musketeers\",\"1301\":\"Well', 'she'): 1,\n",
       "         ('she', 'IS'): 2,\n",
       "         ('IS', 'a'): 37,\n",
       "         ('a', 'part'): 153,\n",
       "         ('part', 'of'): 1230,\n",
       "         ('of', 'Eddies'): 1,\n",
       "         ('Eddies', 'legacy\",\"1308\":\"Youre'): 1,\n",
       "         ('legacy\",\"1308\":\"Youre', 'right'): 1,\n",
       "         ('right', 'theyd'): 2,\n",
       "         ('theyd', 'have'): 51,\n",
       "         ('have', 'voted'): 24,\n",
       "         ('voted', 'Trump\",\"1340\":\"Did'): 1,\n",
       "         ('Trump\",\"1340\":\"Did', 'you'): 1,\n",
       "         ('you', 'see'): 733,\n",
       "         ('see', 'how'): 426,\n",
       "         ('how', 'cool'): 28,\n",
       "         ('cool', 'they'): 13,\n",
       "         ('they', 'looked'): 12,\n",
       "         ('looked', 'while'): 1,\n",
       "         ('while', 'loading'): 3,\n",
       "         ('loading', 'up'): 1,\n",
       "         ('up', 'the'): 622,\n",
       "         ('the', 'nerfs'): 3,\n",
       "         ('nerfs', 'though\",\"1352\":\"Maybe'): 1,\n",
       "         ('though\",\"1352\":\"Maybe', 'its'): 1,\n",
       "         ('its', 'the'): 1054,\n",
       "         ('the', 'Whigs\",\"1353\":\"Yea'): 1,\n",
       "         ('Whigs\",\"1353\":\"Yea', 'but'): 1,\n",
       "         ('but', 'MAGA'): 1,\n",
       "         ('MAGA', 'so'): 1,\n",
       "         ('so', 'who'): 105,\n",
       "         ('who', 'cares\",\"1354\":\"Damn'): 1,\n",
       "         ('cares\",\"1354\":\"Damn', 'it'): 1,\n",
       "         ('it', 'now'): 82,\n",
       "         ('now', 'he'): 72,\n",
       "         ('he', 'has'): 937,\n",
       "         ('has', 'to'): 945,\n",
       "         ('to', 'make'): 2757,\n",
       "         ('make', 'a'): 995,\n",
       "         ('a', 'new'): 1055,\n",
       "         ('new', 'name\",\"1364\":\"Here'): 1,\n",
       "         ('name\",\"1364\":\"Here', 'you'): 1,\n",
       "         ('you', 'dropped'): 724,\n",
       "         ('dropped', 'this\",\"1366\":\"You'): 1,\n",
       "         ('this\",\"1366\":\"You', 'know'): 1,\n",
       "         ('the', 'Chinese'): 113,\n",
       "         ('Chinese', 'are'): 19,\n",
       "         ('are', 'scamming'): 1,\n",
       "         ('scamming', 'us\",\"1371\":\"Yep'): 1,\n",
       "         ('us\",\"1371\":\"Yep', 'no'): 1,\n",
       "         ('no', 'more'): 130,\n",
       "         ('more', 'taking'): 2,\n",
       "         ('taking', 'anti'): 1,\n",
       "         ('anti', 'depressants'): 1,\n",
       "         ('depressants', 'if'): 1,\n",
       "         ('to', 'drive\",\"1373\":\"Im'): 1,\n",
       "         ('drive\",\"1373\":\"Im', 'really'): 1,\n",
       "         ('really', 'losing'): 2,\n",
       "         ('losing', 'a'): 32,\n",
       "         ('a', 'lot'): 1565,\n",
       "         ('lot', 'of'): 1100,\n",
       "         ('of', 'respect'): 33,\n",
       "         ('respect', 'for'): 94,\n",
       "         ('the', 'RHONY'): 1,\n",
       "         ('RHONY', 'ahem'): 1,\n",
       "         ('ahem', 'cougars\",\"1374\":\"Sheree'): 1,\n",
       "         ('cougars\",\"1374\":\"Sheree', 'was'): 1,\n",
       "         ('was', 'not'): 189,\n",
       "         ('not', 'serving'): 2,\n",
       "         ('serving', 'Chicken'): 1,\n",
       "         ('Chicken', 'and'): 1,\n",
       "         ('and', 'Ramen'): 2,\n",
       "         ('Ramen', 'noodle'): 1,\n",
       "         ('noodle', 'soup\",\"1394\":\"Yes'): 1,\n",
       "         ('soup\",\"1394\":\"Yes', 'Because'): 1,\n",
       "         ('Because', 'suburban'): 1,\n",
       "         ('suburban', 'women'): 1,\n",
       "         ('women', 'can'): 68,\n",
       "         ('can', 'totally'): 161,\n",
       "         ('totally', 'relate'): 5,\n",
       "         ('relate', 'to'): 49,\n",
       "         ('to', 'a'): 1673,\n",
       "         ('a', 'trophy'): 16,\n",
       "         ('trophy', 'wife'): 3,\n",
       "         ('wife', '5'): 1,\n",
       "         ('5', 'days'): 15,\n",
       "         ('days', 'before'): 27,\n",
       "         ('before', 'the'): 443,\n",
       "         ('the', 'election\",\"1395\":\"Who'): 1,\n",
       "         ('election\",\"1395\":\"Who', 'is'): 1,\n",
       "         ('is', 'Mike'): 3,\n",
       "         ('Mike', 'Huckleberry\",\"1399\":\"Greek\",\"1405\":\"My'): 1,\n",
       "         ('Huckleberry\",\"1399\":\"Greek\",\"1405\":\"My', 'mistake'): 1,\n",
       "         ('mistake', 'I'): 8,\n",
       "         ('I', 'should'): 640,\n",
       "         ('have', 'added\",\"1413\":\"Literally'): 1,\n",
       "         ('added\",\"1413\":\"Literally', 'white'): 1,\n",
       "         ('white', 'privilege\",\"1417\":\"No\",\"1437\":\"Um'): 1,\n",
       "         ('privilege\",\"1417\":\"No\",\"1437\":\"Um', 'hello'): 1,\n",
       "         ('hello', 'EIDE\",\"1445\":\"is'): 1,\n",
       "         ('EIDE\",\"1445\":\"is', 'this\",\"1450\":\"wow'): 1,\n",
       "         ('this\",\"1450\":\"wow', 'i'): 1,\n",
       "         ('i', 'never'): 40,\n",
       "         ('of', 'this\",\"1459\":\"The'): 1,\n",
       "         ('this\",\"1459\":\"The', 'only'): 1,\n",
       "         ('only', 'way'): 244,\n",
       "         ('way', 'to'): 1872,\n",
       "         ('to', 'fix'): 297,\n",
       "         ...})"
      ]
     },
     "execution_count": 17,
     "metadata": {},
     "output_type": "execute_result"
    }
   ],
   "source": [
    "from collections import Counter\n",
    "from nltk import ngrams\n",
    "\n",
    "ngram_counts = Counter(ngrams(train1_df['comment'].to_json().split(), 2))\n",
    "ngram_counts"
   ]
  },
  {
   "cell_type": "code",
   "execution_count": 18,
   "metadata": {},
   "outputs": [],
   "source": [
    "# Number of words\n"
   ]
  },
  {
   "cell_type": "code",
   "execution_count": 19,
   "metadata": {},
   "outputs": [],
   "source": [
    "# Number of words unique\n"
   ]
  },
  {
   "cell_type": "code",
   "execution_count": 20,
   "metadata": {},
   "outputs": [],
   "source": [
    "# Number of case words\n"
   ]
  },
  {
   "cell_type": "code",
   "execution_count": 25,
   "metadata": {},
   "outputs": [
    {
     "data": {
      "text/plain": [
       "<seaborn.axisgrid.PairGrid at 0x21e82f1e3c8>"
      ]
     },
     "execution_count": 25,
     "metadata": {},
     "output_type": "execute_result"
    },
    {
     "data": {
      "image/png": "[encoded data removed]",
      "text/plain": [
       "<Figure size 402.375x360 with 6 Axes>"
      ]
     },
     "metadata": {
      "needs_background": "light"
     },
     "output_type": "display_data"
    }
   ],
   "source": []
  },
  {
   "cell_type": "markdown",
   "metadata": {},
   "source": [
    "## MODELO\n",
    "\n",
    "\n",
    "Build a Tf-Idf + logistic regression pipeline to predict sarcasm (`label`) based on the text of a comment on Reddit (`comment`)"
   ]
  },
  {
   "cell_type": "code",
   "execution_count": 42,
   "metadata": {},
   "outputs": [],
   "source": [
    "# tf_idf = TfidfVectorizer(ngram_range=(1,3), max_features=50000)\n"
   ]
  },
  {
   "cell_type": "code",
   "execution_count": 45,
   "metadata": {},
   "outputs": [
    {
     "data": {
      "text/plain": [
       "0.7225198486310009"
      ]
     },
     "execution_count": 45,
     "metadata": {},
     "output_type": "execute_result"
    }
   ],
   "source": [
    "# accuarcy"
   ]
  },
  {
   "cell_type": "code",
   "execution_count": 36,
   "metadata": {},
   "outputs": [],
   "source": [
    "# confusion matrix"
   ]
  },
  {
   "cell_type": "code",
   "execution_count": 37,
   "metadata": {},
   "outputs": [
    {
     "data": {
      "text/plain": [
       "<AxesSubplot:>"
      ]
     },
     "execution_count": 37,
     "metadata": {},
     "output_type": "execute_result"
    },
    {
     "data": {
      "image/png": "[encoded data removed]",
      "text/plain": [
       "<Figure size 432x288 with 2 Axes>"
      ]
     },
     "metadata": {
      "needs_background": "light"
     },
     "output_type": "display_data"
    }
   ],
   "source": []
  },
  {
   "cell_type": "code",
   "execution_count": 38,
   "metadata": {},
   "outputs": [],
   "source": [
    "import eli5"
   ]
  },
  {
   "cell_type": "code",
   "execution_count": 46,
   "metadata": {},
   "outputs": [
    {
     "name": "stderr",
     "output_type": "stream",
     "text": [
      "C:\\Users\\Miguel Angel\\AppData\\Local\\Programs\\Python\\Python37\\lib\\site-packages\\sklearn\\utils\\deprecation.py:87: FutureWarning:\n",
      "\n",
      "Function get_feature_names is deprecated; get_feature_names is deprecated in 1.0 and will be removed in 1.2. Please use get_feature_names_out instead.\n",
      "\n"
     ]
    },
    {
     "data": {
      "text/html": [
       "\n",
       "    <style>\n",
       "    table.eli5-weights tr:hover {\n",
       "        filter: brightness(85%);\n",
       "    }\n",
       "</style>\n",
       "\n",
       "\n",
       "\n",
       "    \n",
       "\n",
       "    \n",
       "\n",
       "    \n",
       "\n",
       "    \n",
       "\n",
       "    \n",
       "\n",
       "    \n",
       "\n",
       "\n",
       "    \n",
       "\n",
       "    \n",
       "\n",
       "    \n",
       "\n",
       "    \n",
       "        \n",
       "\n",
       "    \n",
       "\n",
       "        \n",
       "            \n",
       "                \n",
       "                \n",
       "    \n",
       "        <p style=\"margin-bottom: 0.5em; margin-top: 0em\">\n",
       "            <b>\n",
       "    \n",
       "        y=1\n",
       "    \n",
       "</b>\n",
       "\n",
       "top features\n",
       "        </p>\n",
       "    \n",
       "    <table class=\"eli5-weights\"\n",
       "           style=\"border-collapse: collapse; border: none; margin-top: 0em; table-layout: auto; margin-bottom: 2em;\">\n",
       "        <thead>\n",
       "        <tr style=\"border: none;\">\n",
       "            \n",
       "                <th style=\"padding: 0 1em 0 0.5em; text-align: right; border: none;\" title=\"Feature weights. Note that weights do not account for feature value scales, so if feature values have different scales, features with highest weights might not be the most important.\">\n",
       "                    Weight<sup>?</sup>\n",
       "                </th>\n",
       "            \n",
       "            <th style=\"padding: 0 0.5em 0 0.5em; text-align: left; border: none;\">Feature</th>\n",
       "            \n",
       "        </tr>\n",
       "        </thead>\n",
       "        <tbody>\n",
       "        \n",
       "            <tr style=\"background-color: hsl(120, 100.00%, 80.00%); border: none;\">\n",
       "    <td style=\"padding: 0 1em 0 0.5em; text-align: right; border: none;\">\n",
       "        +9.742\n",
       "    </td>\n",
       "    <td style=\"padding: 0 0.5em 0 0.5em; text-align: left; border: none;\">\n",
       "        yes because\n",
       "    </td>\n",
       "    \n",
       "</tr>\n",
       "        \n",
       "            <tr style=\"background-color: hsl(120, 100.00%, 82.99%); border: none;\">\n",
       "    <td style=\"padding: 0 1em 0 0.5em; text-align: right; border: none;\">\n",
       "        +7.732\n",
       "    </td>\n",
       "    <td style=\"padding: 0 0.5em 0 0.5em; text-align: left; border: none;\">\n",
       "        clearly\n",
       "    </td>\n",
       "    \n",
       "</tr>\n",
       "        \n",
       "            <tr style=\"background-color: hsl(120, 100.00%, 83.10%); border: none;\">\n",
       "    <td style=\"padding: 0 1em 0 0.5em; text-align: right; border: none;\">\n",
       "        +7.661\n",
       "    </td>\n",
       "    <td style=\"padding: 0 0.5em 0 0.5em; text-align: left; border: none;\">\n",
       "        yeah because\n",
       "    </td>\n",
       "    \n",
       "</tr>\n",
       "        \n",
       "            <tr style=\"background-color: hsl(120, 100.00%, 83.70%); border: none;\">\n",
       "    <td style=\"padding: 0 1em 0 0.5em; text-align: right; border: none;\">\n",
       "        +7.276\n",
       "    </td>\n",
       "    <td style=\"padding: 0 0.5em 0 0.5em; text-align: left; border: none;\">\n",
       "        im sure\n",
       "    </td>\n",
       "    \n",
       "</tr>\n",
       "        \n",
       "            <tr style=\"background-color: hsl(120, 100.00%, 83.75%); border: none;\">\n",
       "    <td style=\"padding: 0 1em 0 0.5em; text-align: right; border: none;\">\n",
       "        +7.239\n",
       "    </td>\n",
       "    <td style=\"padding: 0 0.5em 0 0.5em; text-align: left; border: none;\">\n",
       "        obviously\n",
       "    </td>\n",
       "    \n",
       "</tr>\n",
       "        \n",
       "            <tr style=\"background-color: hsl(120, 100.00%, 84.25%); border: none;\">\n",
       "    <td style=\"padding: 0 1em 0 0.5em; text-align: right; border: none;\">\n",
       "        +6.924\n",
       "    </td>\n",
       "    <td style=\"padding: 0 0.5em 0 0.5em; text-align: left; border: none;\">\n",
       "        totally\n",
       "    </td>\n",
       "    \n",
       "</tr>\n",
       "        \n",
       "            <tr style=\"background-color: hsl(120, 100.00%, 85.84%); border: none;\">\n",
       "    <td style=\"padding: 0 1em 0 0.5em; text-align: right; border: none;\">\n",
       "        +5.950\n",
       "    </td>\n",
       "    <td style=\"padding: 0 0.5em 0 0.5em; text-align: left; border: none;\">\n",
       "        because\n",
       "    </td>\n",
       "    \n",
       "</tr>\n",
       "        \n",
       "            <tr style=\"background-color: hsl(120, 100.00%, 86.13%); border: none;\">\n",
       "    <td style=\"padding: 0 1em 0 0.5em; text-align: right; border: none;\">\n",
       "        +5.777\n",
       "    </td>\n",
       "    <td style=\"padding: 0 0.5em 0 0.5em; text-align: left; border: none;\">\n",
       "        right because\n",
       "    </td>\n",
       "    \n",
       "</tr>\n",
       "        \n",
       "            <tr style=\"background-color: hsl(120, 100.00%, 86.19%); border: none;\">\n",
       "    <td style=\"padding: 0 1em 0 0.5em; text-align: right; border: none;\">\n",
       "        +5.739\n",
       "    </td>\n",
       "    <td style=\"padding: 0 0.5em 0 0.5em; text-align: left; border: none;\">\n",
       "        dont you know\n",
       "    </td>\n",
       "    \n",
       "</tr>\n",
       "        \n",
       "            <tr style=\"background-color: hsl(120, 100.00%, 86.24%); border: none;\">\n",
       "    <td style=\"padding: 0 1em 0 0.5em; text-align: right; border: none;\">\n",
       "        +5.711\n",
       "    </td>\n",
       "    <td style=\"padding: 0 0.5em 0 0.5em; text-align: left; border: none;\">\n",
       "        how dare\n",
       "    </td>\n",
       "    \n",
       "</tr>\n",
       "        \n",
       "            <tr style=\"background-color: hsl(120, 100.00%, 86.34%); border: none;\">\n",
       "    <td style=\"padding: 0 1em 0 0.5em; text-align: right; border: none;\">\n",
       "        +5.648\n",
       "    </td>\n",
       "    <td style=\"padding: 0 0.5em 0 0.5em; text-align: left; border: none;\">\n",
       "        bbut\n",
       "    </td>\n",
       "    \n",
       "</tr>\n",
       "        \n",
       "            <tr style=\"background-color: hsl(120, 100.00%, 86.68%); border: none;\">\n",
       "    <td style=\"padding: 0 1em 0 0.5em; text-align: right; border: none;\">\n",
       "        +5.451\n",
       "    </td>\n",
       "    <td style=\"padding: 0 0.5em 0 0.5em; text-align: left; border: none;\">\n",
       "        duh\n",
       "    </td>\n",
       "    \n",
       "</tr>\n",
       "        \n",
       "            <tr style=\"background-color: hsl(120, 100.00%, 86.98%); border: none;\">\n",
       "    <td style=\"padding: 0 1em 0 0.5em; text-align: right; border: none;\">\n",
       "        +5.276\n",
       "    </td>\n",
       "    <td style=\"padding: 0 0.5em 0 0.5em; text-align: left; border: none;\">\n",
       "        good thing\n",
       "    </td>\n",
       "    \n",
       "</tr>\n",
       "        \n",
       "            <tr style=\"background-color: hsl(120, 100.00%, 87.07%); border: none;\">\n",
       "    <td style=\"padding: 0 1em 0 0.5em; text-align: right; border: none;\">\n",
       "        +5.227\n",
       "    </td>\n",
       "    <td style=\"padding: 0 0.5em 0 0.5em; text-align: left; border: none;\">\n",
       "        when you can\n",
       "    </td>\n",
       "    \n",
       "</tr>\n",
       "        \n",
       "            <tr style=\"background-color: hsl(120, 100.00%, 87.23%); border: none;\">\n",
       "    <td style=\"padding: 0 1em 0 0.5em; text-align: right; border: none;\">\n",
       "        +5.130\n",
       "    </td>\n",
       "    <td style=\"padding: 0 0.5em 0 0.5em; text-align: left; border: none;\">\n",
       "        forgot the\n",
       "    </td>\n",
       "    \n",
       "</tr>\n",
       "        \n",
       "            <tr style=\"background-color: hsl(120, 100.00%, 87.60%); border: none;\">\n",
       "    <td style=\"padding: 0 1em 0 0.5em; text-align: right; border: none;\">\n",
       "        +4.920\n",
       "    </td>\n",
       "    <td style=\"padding: 0 0.5em 0 0.5em; text-align: left; border: none;\">\n",
       "        but thought\n",
       "    </td>\n",
       "    \n",
       "</tr>\n",
       "        \n",
       "            <tr style=\"background-color: hsl(120, 100.00%, 87.68%); border: none;\">\n",
       "    <td style=\"padding: 0 1em 0 0.5em; text-align: right; border: none;\">\n",
       "        +4.877\n",
       "    </td>\n",
       "    <td style=\"padding: 0 0.5em 0 0.5em; text-align: left; border: none;\">\n",
       "        fault\n",
       "    </td>\n",
       "    \n",
       "</tr>\n",
       "        \n",
       "            <tr style=\"background-color: hsl(120, 100.00%, 87.85%); border: none;\">\n",
       "    <td style=\"padding: 0 1em 0 0.5em; text-align: right; border: none;\">\n",
       "        +4.782\n",
       "    </td>\n",
       "    <td style=\"padding: 0 0.5em 0 0.5em; text-align: left; border: none;\">\n",
       "        therefore\n",
       "    </td>\n",
       "    \n",
       "</tr>\n",
       "        \n",
       "            <tr style=\"background-color: hsl(120, 100.00%, 87.89%); border: none;\">\n",
       "    <td style=\"padding: 0 1em 0 0.5em; text-align: right; border: none;\">\n",
       "        +4.758\n",
       "    </td>\n",
       "    <td style=\"padding: 0 0.5em 0 0.5em; text-align: left; border: none;\">\n",
       "        unbiased\n",
       "    </td>\n",
       "    \n",
       "</tr>\n",
       "        \n",
       "            <tr style=\"background-color: hsl(120, 100.00%, 87.90%); border: none;\">\n",
       "    <td style=\"padding: 0 1em 0 0.5em; text-align: right; border: none;\">\n",
       "        +4.753\n",
       "    </td>\n",
       "    <td style=\"padding: 0 0.5em 0 0.5em; text-align: left; border: none;\">\n",
       "        gee\n",
       "    </td>\n",
       "    \n",
       "</tr>\n",
       "        \n",
       "            <tr style=\"background-color: hsl(120, 100.00%, 87.90%); border: none;\">\n",
       "    <td style=\"padding: 0 1em 0 0.5em; text-align: right; border: none;\">\n",
       "        +4.751\n",
       "    </td>\n",
       "    <td style=\"padding: 0 0.5em 0 0.5em; text-align: left; border: none;\">\n",
       "        yes lets\n",
       "    </td>\n",
       "    \n",
       "</tr>\n",
       "        \n",
       "            <tr style=\"background-color: hsl(120, 100.00%, 87.94%); border: none;\">\n",
       "    <td style=\"padding: 0 1em 0 0.5em; text-align: right; border: none;\">\n",
       "        +4.731\n",
       "    </td>\n",
       "    <td style=\"padding: 0 0.5em 0 0.5em; text-align: left; border: none;\">\n",
       "        am sure\n",
       "    </td>\n",
       "    \n",
       "</tr>\n",
       "        \n",
       "            <tr style=\"background-color: hsl(120, 100.00%, 88.13%); border: none;\">\n",
       "    <td style=\"padding: 0 1em 0 0.5em; text-align: right; border: none;\">\n",
       "        +4.624\n",
       "    </td>\n",
       "    <td style=\"padding: 0 0.5em 0 0.5em; text-align: left; border: none;\">\n",
       "        yeah\n",
       "    </td>\n",
       "    \n",
       "</tr>\n",
       "        \n",
       "            <tr style=\"background-color: hsl(120, 100.00%, 88.16%); border: none;\">\n",
       "    <td style=\"padding: 0 1em 0 0.5em; text-align: right; border: none;\">\n",
       "        +4.605\n",
       "    </td>\n",
       "    <td style=\"padding: 0 0.5em 0 0.5em; text-align: left; border: none;\">\n",
       "        butbut\n",
       "    </td>\n",
       "    \n",
       "</tr>\n",
       "        \n",
       "            <tr style=\"background-color: hsl(120, 100.00%, 88.26%); border: none;\">\n",
       "    <td style=\"padding: 0 1em 0 0.5em; text-align: right; border: none;\">\n",
       "        +4.553\n",
       "    </td>\n",
       "    <td style=\"padding: 0 0.5em 0 0.5em; text-align: left; border: none;\">\n",
       "        or anything\n",
       "    </td>\n",
       "    \n",
       "</tr>\n",
       "        \n",
       "            <tr style=\"background-color: hsl(120, 100.00%, 88.45%); border: none;\">\n",
       "    <td style=\"padding: 0 1em 0 0.5em; text-align: right; border: none;\">\n",
       "        +4.449\n",
       "    </td>\n",
       "    <td style=\"padding: 0 0.5em 0 0.5em; text-align: left; border: none;\">\n",
       "        dropped this\n",
       "    </td>\n",
       "    \n",
       "</tr>\n",
       "        \n",
       "            <tr style=\"background-color: hsl(120, 100.00%, 88.45%); border: none;\">\n",
       "    <td style=\"padding: 0 1em 0 0.5em; text-align: right; border: none;\">\n",
       "        +4.447\n",
       "    </td>\n",
       "    <td style=\"padding: 0 0.5em 0 0.5em; text-align: left; border: none;\">\n",
       "        everyone knows\n",
       "    </td>\n",
       "    \n",
       "</tr>\n",
       "        \n",
       "            <tr style=\"background-color: hsl(120, 100.00%, 88.45%); border: none;\">\n",
       "    <td style=\"padding: 0 1em 0 0.5em; text-align: right; border: none;\">\n",
       "        +4.446\n",
       "    </td>\n",
       "    <td style=\"padding: 0 0.5em 0 0.5em; text-align: left; border: none;\">\n",
       "        bbbut\n",
       "    </td>\n",
       "    \n",
       "</tr>\n",
       "        \n",
       "            <tr style=\"background-color: hsl(120, 100.00%, 88.57%); border: none;\">\n",
       "    <td style=\"padding: 0 1em 0 0.5em; text-align: right; border: none;\">\n",
       "        +4.378\n",
       "    </td>\n",
       "    <td style=\"padding: 0 0.5em 0 0.5em; text-align: left; border: none;\">\n",
       "        oh but\n",
       "    </td>\n",
       "    \n",
       "</tr>\n",
       "        \n",
       "            <tr style=\"background-color: hsl(120, 100.00%, 88.60%); border: none;\">\n",
       "    <td style=\"padding: 0 1em 0 0.5em; text-align: right; border: none;\">\n",
       "        +4.364\n",
       "    </td>\n",
       "    <td style=\"padding: 0 0.5em 0 0.5em; text-align: left; border: none;\">\n",
       "        no dude\n",
       "    </td>\n",
       "    \n",
       "</tr>\n",
       "        \n",
       "            <tr style=\"background-color: hsl(120, 100.00%, 88.63%); border: none;\">\n",
       "    <td style=\"padding: 0 1em 0 0.5em; text-align: right; border: none;\">\n",
       "        +4.347\n",
       "    </td>\n",
       "    <td style=\"padding: 0 0.5em 0 0.5em; text-align: left; border: none;\">\n",
       "        yeah fuck\n",
       "    </td>\n",
       "    \n",
       "</tr>\n",
       "        \n",
       "            <tr style=\"background-color: hsl(120, 100.00%, 88.76%); border: none;\">\n",
       "    <td style=\"padding: 0 1em 0 0.5em; text-align: right; border: none;\">\n",
       "        +4.274\n",
       "    </td>\n",
       "    <td style=\"padding: 0 0.5em 0 0.5em; text-align: left; border: none;\">\n",
       "        constructive\n",
       "    </td>\n",
       "    \n",
       "</tr>\n",
       "        \n",
       "            <tr style=\"background-color: hsl(120, 100.00%, 88.83%); border: none;\">\n",
       "    <td style=\"padding: 0 1em 0 0.5em; text-align: right; border: none;\">\n",
       "        +4.237\n",
       "    </td>\n",
       "    <td style=\"padding: 0 0.5em 0 0.5em; text-align: left; border: none;\">\n",
       "        sexist\n",
       "    </td>\n",
       "    \n",
       "</tr>\n",
       "        \n",
       "            <tr style=\"background-color: hsl(120, 100.00%, 88.92%); border: none;\">\n",
       "    <td style=\"padding: 0 1em 0 0.5em; text-align: right; border: none;\">\n",
       "        +4.193\n",
       "    </td>\n",
       "    <td style=\"padding: 0 0.5em 0 0.5em; text-align: left; border: none;\">\n",
       "        but but\n",
       "    </td>\n",
       "    \n",
       "</tr>\n",
       "        \n",
       "            <tr style=\"background-color: hsl(120, 100.00%, 88.95%); border: none;\">\n",
       "    <td style=\"padding: 0 1em 0 0.5em; text-align: right; border: none;\">\n",
       "        +4.172\n",
       "    </td>\n",
       "    <td style=\"padding: 0 0.5em 0 0.5em; text-align: left; border: none;\">\n",
       "        what you dont\n",
       "    </td>\n",
       "    \n",
       "</tr>\n",
       "        \n",
       "            <tr style=\"background-color: hsl(120, 100.00%, 89.01%); border: none;\">\n",
       "    <td style=\"padding: 0 1em 0 0.5em; text-align: right; border: none;\">\n",
       "        +4.140\n",
       "    </td>\n",
       "    <td style=\"padding: 0 0.5em 0 0.5em; text-align: left; border: none;\">\n",
       "        love it when\n",
       "    </td>\n",
       "    \n",
       "</tr>\n",
       "        \n",
       "            <tr style=\"background-color: hsl(120, 100.00%, 89.05%); border: none;\">\n",
       "    <td style=\"padding: 0 1em 0 0.5em; text-align: right; border: none;\">\n",
       "        +4.121\n",
       "    </td>\n",
       "    <td style=\"padding: 0 0.5em 0 0.5em; text-align: left; border: none;\">\n",
       "        would never\n",
       "    </td>\n",
       "    \n",
       "</tr>\n",
       "        \n",
       "            <tr style=\"background-color: hsl(120, 100.00%, 89.11%); border: none;\">\n",
       "    <td style=\"padding: 0 1em 0 0.5em; text-align: right; border: none;\">\n",
       "        +4.090\n",
       "    </td>\n",
       "    <td style=\"padding: 0 0.5em 0 0.5em; text-align: left; border: none;\">\n",
       "        nah man\n",
       "    </td>\n",
       "    \n",
       "</tr>\n",
       "        \n",
       "            <tr style=\"background-color: hsl(120, 100.00%, 89.24%); border: none;\">\n",
       "    <td style=\"padding: 0 1em 0 0.5em; text-align: right; border: none;\">\n",
       "        +4.020\n",
       "    </td>\n",
       "    <td style=\"padding: 0 0.5em 0 0.5em; text-align: left; border: none;\">\n",
       "        nah bro\n",
       "    </td>\n",
       "    \n",
       "</tr>\n",
       "        \n",
       "            <tr style=\"background-color: hsl(120, 100.00%, 89.30%); border: none;\">\n",
       "    <td style=\"padding: 0 1em 0 0.5em; text-align: right; border: none;\">\n",
       "        +3.986\n",
       "    </td>\n",
       "    <td style=\"padding: 0 0.5em 0 0.5em; text-align: left; border: none;\">\n",
       "        racist\n",
       "    </td>\n",
       "    \n",
       "</tr>\n",
       "        \n",
       "            <tr style=\"background-color: hsl(120, 100.00%, 89.35%); border: none;\">\n",
       "    <td style=\"padding: 0 1em 0 0.5em; text-align: right; border: none;\">\n",
       "        +3.960\n",
       "    </td>\n",
       "    <td style=\"padding: 0 0.5em 0 0.5em; text-align: left; border: none;\">\n",
       "        yeah man\n",
       "    </td>\n",
       "    \n",
       "</tr>\n",
       "        \n",
       "            <tr style=\"background-color: hsl(120, 100.00%, 89.40%); border: none;\">\n",
       "    <td style=\"padding: 0 1em 0 0.5em; text-align: right; border: none;\">\n",
       "        +3.934\n",
       "    </td>\n",
       "    <td style=\"padding: 0 0.5em 0 0.5em; text-align: left; border: none;\">\n",
       "        what surprise\n",
       "    </td>\n",
       "    \n",
       "</tr>\n",
       "        \n",
       "            <tr style=\"background-color: hsl(120, 100.00%, 89.44%); border: none;\">\n",
       "    <td style=\"padding: 0 1em 0 0.5em; text-align: right; border: none;\">\n",
       "        +3.912\n",
       "    </td>\n",
       "    <td style=\"padding: 0 0.5em 0 0.5em; text-align: left; border: none;\">\n",
       "        shitlord\n",
       "    </td>\n",
       "    \n",
       "</tr>\n",
       "        \n",
       "        \n",
       "            <tr style=\"background-color: hsl(120, 100.00%, 89.44%); border: none;\">\n",
       "                <td colspan=\"2\" style=\"padding: 0 0.5em 0 0.5em; text-align: center; border: none; white-space: nowrap;\">\n",
       "                    <i>&hellip; 28021 more positive &hellip;</i>\n",
       "                </td>\n",
       "            </tr>\n",
       "        \n",
       "\n",
       "        \n",
       "            <tr style=\"background-color: hsl(0, 100.00%, 89.36%); border: none;\">\n",
       "                <td colspan=\"2\" style=\"padding: 0 0.5em 0 0.5em; text-align: center; border: none; white-space: nowrap;\">\n",
       "                    <i>&hellip; 21930 more negative &hellip;</i>\n",
       "                </td>\n",
       "            </tr>\n",
       "        \n",
       "        \n",
       "            <tr style=\"background-color: hsl(0, 100.00%, 89.36%); border: none;\">\n",
       "    <td style=\"padding: 0 1em 0 0.5em; text-align: right; border: none;\">\n",
       "        -3.954\n",
       "    </td>\n",
       "    <td style=\"padding: 0 0.5em 0 0.5em; text-align: left; border: none;\">\n",
       "        imo\n",
       "    </td>\n",
       "    \n",
       "</tr>\n",
       "        \n",
       "            <tr style=\"background-color: hsl(0, 100.00%, 89.31%); border: none;\">\n",
       "    <td style=\"padding: 0 1em 0 0.5em; text-align: right; border: none;\">\n",
       "        -3.984\n",
       "    </td>\n",
       "    <td style=\"padding: 0 0.5em 0 0.5em; text-align: left; border: none;\">\n",
       "        that but\n",
       "    </td>\n",
       "    \n",
       "</tr>\n",
       "        \n",
       "            <tr style=\"background-color: hsl(0, 100.00%, 89.23%); border: none;\">\n",
       "    <td style=\"padding: 0 1em 0 0.5em; text-align: right; border: none;\">\n",
       "        -4.025\n",
       "    </td>\n",
       "    <td style=\"padding: 0 0.5em 0 0.5em; text-align: left; border: none;\">\n",
       "        but yeah\n",
       "    </td>\n",
       "    \n",
       "</tr>\n",
       "        \n",
       "            <tr style=\"background-color: hsl(0, 100.00%, 88.99%); border: none;\">\n",
       "    <td style=\"padding: 0 1em 0 0.5em; text-align: right; border: none;\">\n",
       "        -4.152\n",
       "    </td>\n",
       "    <td style=\"padding: 0 0.5em 0 0.5em; text-align: left; border: none;\">\n",
       "        it but\n",
       "    </td>\n",
       "    \n",
       "</tr>\n",
       "        \n",
       "            <tr style=\"background-color: hsl(0, 100.00%, 88.95%); border: none;\">\n",
       "    <td style=\"padding: 0 1em 0 0.5em; text-align: right; border: none;\">\n",
       "        -4.175\n",
       "    </td>\n",
       "    <td style=\"padding: 0 0.5em 0 0.5em; text-align: left; border: none;\">\n",
       "        true but\n",
       "    </td>\n",
       "    \n",
       "</tr>\n",
       "        \n",
       "            <tr style=\"background-color: hsl(0, 100.00%, 87.91%); border: none;\">\n",
       "    <td style=\"padding: 0 1em 0 0.5em; text-align: right; border: none;\">\n",
       "        -4.745\n",
       "    </td>\n",
       "    <td style=\"padding: 0 0.5em 0 0.5em; text-align: left; border: none;\">\n",
       "        iirc\n",
       "    </td>\n",
       "    \n",
       "</tr>\n",
       "        \n",
       "            <tr style=\"background-color: hsl(0, 100.00%, 87.38%); border: none;\">\n",
       "    <td style=\"padding: 0 1em 0 0.5em; text-align: right; border: none;\">\n",
       "        -5.044\n",
       "    </td>\n",
       "    <td style=\"padding: 0 0.5em 0 0.5em; text-align: left; border: none;\">\n",
       "        fair enough\n",
       "    </td>\n",
       "    \n",
       "</tr>\n",
       "        \n",
       "\n",
       "        </tbody>\n",
       "    </table>\n",
       "\n",
       "            \n",
       "        \n",
       "\n",
       "        \n",
       "\n",
       "\n",
       "\n",
       "    \n",
       "\n",
       "    \n",
       "\n",
       "    \n",
       "\n",
       "    \n",
       "\n",
       "\n",
       "    \n",
       "\n",
       "    \n",
       "\n",
       "    \n",
       "\n",
       "    \n",
       "\n",
       "    \n",
       "\n",
       "    \n",
       "\n",
       "\n",
       "    \n",
       "\n",
       "    \n",
       "\n",
       "    \n",
       "\n",
       "    \n",
       "\n",
       "    \n",
       "\n",
       "    \n",
       "\n",
       "\n",
       "\n"
      ],
      "text/plain": [
       "<IPython.core.display.HTML object>"
      ]
     },
     "execution_count": 46,
     "metadata": {},
     "output_type": "execute_result"
    }
   ],
   "source": [
    "eli5.show_weights(estimator=pipeline.named_steps['log_reg'],\n",
    "                  vec=pipeline.named_steps['tf_idf'],\n",
    "                  top = 50)"
   ]
  },
  {
   "cell_type": "code",
   "execution_count": null,
   "metadata": {},
   "outputs": [],
   "source": []
  }
 ],
 "metadata": {
  "kernelspec": {
   "display_name": "Python 3.9.13 64-bit (microsoft store)",
   "language": "python",
   "name": "python3"
  },
  "language_info": {
   "codemirror_mode": {
    "name": "ipython",
    "version": 3
   },
   "file_extension": ".py",
   "mimetype": "text/x-python",
   "name": "python",
   "nbconvert_exporter": "python",
   "pygments_lexer": "ipython3",
   "version": "3.9.16"
  },
  "vscode": {
   "interpreter": {
    "hash": "b7f22e608a9410c9a00adbb49e3cb6a72010c497ae6b30c9496ff58de178a89c"
   }
  }
 },
 "nbformat": 4,
 "nbformat_minor": 4
}
