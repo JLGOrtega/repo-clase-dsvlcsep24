{
 "cells": [
  {
   "cell_type": "markdown",
   "id": "96a7fae6",
   "metadata": {
    "papermill": {
     "duration": 0.044733,
     "end_time": "2021-08-31T23:19:59.938796",
     "exception": false,
     "start_time": "2021-08-31T23:19:59.894063",
     "status": "completed"
    },
    "tags": []
   },
   "source": [
    "We will perform sentiment analysis with IMDb. The workflow is as follows:\n",
    "1. EDA & cleaning\n",
    "2. Baseline linear model\n",
    "3. LSTM model"
   ]
  },
  {
   "cell_type": "code",
   "execution_count": 14,
   "id": "31a855b3",
   "metadata": {
    "execution": {
     "iopub.execute_input": "2021-08-31T23:20:00.115780Z",
     "iopub.status.busy": "2021-08-31T23:20:00.112809Z",
     "iopub.status.idle": "2021-08-31T23:20:06.329648Z",
     "shell.execute_reply": "2021-08-31T23:20:06.328804Z",
     "shell.execute_reply.started": "2021-08-31T14:06:34.735365Z"
    },
    "papermill": {
     "duration": 6.341435,
     "end_time": "2021-08-31T23:20:06.329828",
     "exception": false,
     "start_time": "2021-08-31T23:19:59.988393",
     "status": "completed"
    },
    "tags": []
   },
   "outputs": [],
   "source": [
    "import numpy as np\n",
    "import pandas as pd\n",
    "import matplotlib.pyplot as plt\n",
    "%matplotlib inline\n",
    "import seaborn as sns\n",
    "\n",
    "import re\n",
    "\n",
    "from sklearn.model_selection import train_test_split\n",
    "from sklearn.metrics import accuracy_score, classification_report, confusion_matrix\n",
    "from sklearn.feature_extraction.text import TfidfVectorizer\n",
    "from sklearn.pipeline import Pipeline\n",
    "from sklearn.linear_model import LogisticRegression\n",
    "\n",
    "import tensorflow as tf\n",
    "from tensorflow import keras\n",
    "from keras.preprocessing.text import Tokenizer\n",
    "from keras.preprocessing.sequence import pad_sequences\n",
    "\n",
    "import collections\n",
    "import itertools\n",
    "import os"
   ]
  },
  {
   "cell_type": "code",
   "execution_count": 35,
   "id": "67ebea5a",
   "metadata": {
    "execution": {
     "iopub.execute_input": "2021-08-31T23:20:06.393733Z",
     "iopub.status.busy": "2021-08-31T23:20:06.392745Z",
     "iopub.status.idle": "2021-08-31T23:20:07.895056Z",
     "shell.execute_reply": "2021-08-31T23:20:07.894378Z",
     "shell.execute_reply.started": "2021-08-31T14:06:39.745942Z"
    },
    "papermill": {
     "duration": 1.535935,
     "end_time": "2021-08-31T23:20:07.895206",
     "exception": false,
     "start_time": "2021-08-31T23:20:06.359271",
     "status": "completed"
    },
    "tags": []
   },
   "outputs": [],
   "source": [
    "reviews_train = []\n",
    "for line in open(os.getcwd() + '/data/imbd_train.txt', 'r', encoding='latin1'):\n",
    "    \n",
    "    reviews_train.append(line.strip())\n",
    "    \n",
    "reviews_test = []\n",
    "for line in open(os.getcwd() + '/data/imbd_test.txt', 'r', encoding='latin1'):\n",
    "    \n",
    "    reviews_test.append(line.strip())"
   ]
  },
  {
   "cell_type": "code",
   "execution_count": 36,
   "metadata": {},
   "outputs": [],
   "source": [
    "target = [\"positive\" if i < 12500 else \"negative\" for i in range(25000)]"
   ]
  },
  {
   "cell_type": "code",
   "execution_count": 37,
   "metadata": {},
   "outputs": [],
   "source": [
    "df1 = pd.DataFrame({\"review\": reviews_train, \"sentiment\":target})\n",
    "df2 = pd.DataFrame({\"review\": reviews_test, \"sentiment\":target})"
   ]
  },
  {
   "cell_type": "code",
   "execution_count": 38,
   "metadata": {},
   "outputs": [],
   "source": [
    "df = pd.concat([df1, df2]).sample(frac=1.0, random_state=42).reset_index(drop=True)"
   ]
  },
  {
   "cell_type": "code",
   "execution_count": 39,
   "metadata": {},
   "outputs": [
    {
     "data": {
      "text/html": [
       "<div>\n",
       "<style scoped>\n",
       "    .dataframe tbody tr th:only-of-type {\n",
       "        vertical-align: middle;\n",
       "    }\n",
       "\n",
       "    .dataframe tbody tr th {\n",
       "        vertical-align: top;\n",
       "    }\n",
       "\n",
       "    .dataframe thead th {\n",
       "        text-align: right;\n",
       "    }\n",
       "</style>\n",
       "<table border=\"1\" class=\"dataframe\">\n",
       "  <thead>\n",
       "    <tr style=\"text-align: right;\">\n",
       "      <th></th>\n",
       "      <th>review</th>\n",
       "      <th>sentiment</th>\n",
       "    </tr>\n",
       "  </thead>\n",
       "  <tbody>\n",
       "    <tr>\n",
       "      <th>0</th>\n",
       "      <td>When I first saw the ad for this, I was like '...</td>\n",
       "      <td>positive</td>\n",
       "    </tr>\n",
       "    <tr>\n",
       "      <th>1</th>\n",
       "      <td>\"A Girl's Folly\" is a sort of half-comedy, hal...</td>\n",
       "      <td>positive</td>\n",
       "    </tr>\n",
       "    <tr>\n",
       "      <th>2</th>\n",
       "      <td>I started watching the show from the first sea...</td>\n",
       "      <td>positive</td>\n",
       "    </tr>\n",
       "    <tr>\n",
       "      <th>3</th>\n",
       "      <td>This is a more interesting than usual porn mov...</td>\n",
       "      <td>positive</td>\n",
       "    </tr>\n",
       "    <tr>\n",
       "      <th>4</th>\n",
       "      <td>I suppose for 1961 this film was supposed to b...</td>\n",
       "      <td>negative</td>\n",
       "    </tr>\n",
       "    <tr>\n",
       "      <th>...</th>\n",
       "      <td>...</td>\n",
       "      <td>...</td>\n",
       "    </tr>\n",
       "    <tr>\n",
       "      <th>49995</th>\n",
       "      <td>I saw this movie at midnight on On Demand the ...</td>\n",
       "      <td>positive</td>\n",
       "    </tr>\n",
       "    <tr>\n",
       "      <th>49996</th>\n",
       "      <td>Some aspects of this production are good, such...</td>\n",
       "      <td>negative</td>\n",
       "    </tr>\n",
       "    <tr>\n",
       "      <th>49997</th>\n",
       "      <td>I was not old enough to really appreciate the ...</td>\n",
       "      <td>negative</td>\n",
       "    </tr>\n",
       "    <tr>\n",
       "      <th>49998</th>\n",
       "      <td>Nice movie with a great soundtrack which spans...</td>\n",
       "      <td>positive</td>\n",
       "    </tr>\n",
       "    <tr>\n",
       "      <th>49999</th>\n",
       "      <td>Even though this was a made-for-TV production,...</td>\n",
       "      <td>negative</td>\n",
       "    </tr>\n",
       "  </tbody>\n",
       "</table>\n",
       "<p>50000 rows × 2 columns</p>\n",
       "</div>"
      ],
      "text/plain": [
       "                                                  review sentiment\n",
       "0      When I first saw the ad for this, I was like '...  positive\n",
       "1      \"A Girl's Folly\" is a sort of half-comedy, hal...  positive\n",
       "2      I started watching the show from the first sea...  positive\n",
       "3      This is a more interesting than usual porn mov...  positive\n",
       "4      I suppose for 1961 this film was supposed to b...  negative\n",
       "...                                                  ...       ...\n",
       "49995  I saw this movie at midnight on On Demand the ...  positive\n",
       "49996  Some aspects of this production are good, such...  negative\n",
       "49997  I was not old enough to really appreciate the ...  negative\n",
       "49998  Nice movie with a great soundtrack which spans...  positive\n",
       "49999  Even though this was a made-for-TV production,...  negative\n",
       "\n",
       "[50000 rows x 2 columns]"
      ]
     },
     "execution_count": 39,
     "metadata": {},
     "output_type": "execute_result"
    }
   ],
   "source": [
    "df"
   ]
  },
  {
   "cell_type": "markdown",
   "id": "9cf67832",
   "metadata": {
    "papermill": {
     "duration": 0.028005,
     "end_time": "2021-08-31T23:20:07.951859",
     "exception": false,
     "start_time": "2021-08-31T23:20:07.923854",
     "status": "completed"
    },
    "tags": []
   },
   "source": [
    "# 1. EDA & cleaning"
   ]
  },
  {
   "cell_type": "code",
   "execution_count": 42,
   "metadata": {},
   "outputs": [
    {
     "ename": "ValueError",
     "evalue": "could not convert string to float: 'positive'",
     "output_type": "error",
     "traceback": [
      "\u001b[1;31m---------------------------------------------------------------------------\u001b[0m",
      "\u001b[1;31mValueError\u001b[0m                                Traceback (most recent call last)",
      "\u001b[1;32mc:\\Users\\admin\\Desktop\\THISONE\\AQUI\\ds_thebridge_1_22\\3-Machine_Learning\\5-NLP\\NLTK&CountVectorizer\\imdb-sentiment-analysis-keras-lstm.ipynb Cell 9\u001b[0m line \u001b[0;36m1\n\u001b[1;32m----> <a href='vscode-notebook-cell:/c%3A/Users/admin/Desktop/THISONE/AQUI/ds_thebridge_1_22/3-Machine_Learning/5-NLP/NLTK%26CountVectorizer/imdb-sentiment-analysis-keras-lstm.ipynb#X61sZmlsZQ%3D%3D?line=0'>1</a>\u001b[0m sns\u001b[39m.\u001b[39;49mcountplot(df[\u001b[39m\"\u001b[39;49m\u001b[39msentiment\u001b[39;49m\u001b[39m\"\u001b[39;49m])\n",
      "File \u001b[1;32mc:\\Users\\admin\\anaconda3\\envs\\tensorflow_env\\lib\\site-packages\\seaborn\\categorical.py:2943\u001b[0m, in \u001b[0;36mcountplot\u001b[1;34m(data, x, y, hue, order, hue_order, orient, color, palette, saturation, width, dodge, ax, **kwargs)\u001b[0m\n\u001b[0;32m   2940\u001b[0m \u001b[39melif\u001b[39;00m x \u001b[39mis\u001b[39;00m \u001b[39mnot\u001b[39;00m \u001b[39mNone\u001b[39;00m \u001b[39mand\u001b[39;00m y \u001b[39mis\u001b[39;00m \u001b[39mnot\u001b[39;00m \u001b[39mNone\u001b[39;00m:\n\u001b[0;32m   2941\u001b[0m     \u001b[39mraise\u001b[39;00m \u001b[39mValueError\u001b[39;00m(\u001b[39m\"\u001b[39m\u001b[39mCannot pass values for both `x` and `y`\u001b[39m\u001b[39m\"\u001b[39m)\n\u001b[1;32m-> 2943\u001b[0m plotter \u001b[39m=\u001b[39m _CountPlotter(\n\u001b[0;32m   2944\u001b[0m     x, y, hue, data, order, hue_order,\n\u001b[0;32m   2945\u001b[0m     estimator, errorbar, n_boot, units, seed,\n\u001b[0;32m   2946\u001b[0m     orient, color, palette, saturation,\n\u001b[0;32m   2947\u001b[0m     width, errcolor, errwidth, capsize, dodge\n\u001b[0;32m   2948\u001b[0m )\n\u001b[0;32m   2950\u001b[0m plotter\u001b[39m.\u001b[39mvalue_label \u001b[39m=\u001b[39m \u001b[39m\"\u001b[39m\u001b[39mcount\u001b[39m\u001b[39m\"\u001b[39m\n\u001b[0;32m   2952\u001b[0m \u001b[39mif\u001b[39;00m ax \u001b[39mis\u001b[39;00m \u001b[39mNone\u001b[39;00m:\n",
      "File \u001b[1;32mc:\\Users\\admin\\anaconda3\\envs\\tensorflow_env\\lib\\site-packages\\seaborn\\categorical.py:1530\u001b[0m, in \u001b[0;36m_BarPlotter.__init__\u001b[1;34m(self, x, y, hue, data, order, hue_order, estimator, errorbar, n_boot, units, seed, orient, color, palette, saturation, width, errcolor, errwidth, capsize, dodge)\u001b[0m\n\u001b[0;32m   1525\u001b[0m \u001b[39mdef\u001b[39;00m \u001b[39m__init__\u001b[39m(\u001b[39mself\u001b[39m, x, y, hue, data, order, hue_order,\n\u001b[0;32m   1526\u001b[0m              estimator, errorbar, n_boot, units, seed,\n\u001b[0;32m   1527\u001b[0m              orient, color, palette, saturation, width,\n\u001b[0;32m   1528\u001b[0m              errcolor, errwidth, capsize, dodge):\n\u001b[0;32m   1529\u001b[0m \u001b[39m    \u001b[39m\u001b[39m\"\"\"Initialize the plotter.\"\"\"\u001b[39;00m\n\u001b[1;32m-> 1530\u001b[0m     \u001b[39mself\u001b[39;49m\u001b[39m.\u001b[39;49mestablish_variables(x, y, hue, data, orient,\n\u001b[0;32m   1531\u001b[0m                              order, hue_order, units)\n\u001b[0;32m   1532\u001b[0m     \u001b[39mself\u001b[39m\u001b[39m.\u001b[39mestablish_colors(color, palette, saturation)\n\u001b[0;32m   1533\u001b[0m     \u001b[39mself\u001b[39m\u001b[39m.\u001b[39mestimate_statistic(estimator, errorbar, n_boot, seed)\n",
      "File \u001b[1;32mc:\\Users\\admin\\anaconda3\\envs\\tensorflow_env\\lib\\site-packages\\seaborn\\categorical.py:516\u001b[0m, in \u001b[0;36m_CategoricalPlotter.establish_variables\u001b[1;34m(self, x, y, hue, data, orient, order, hue_order, units)\u001b[0m\n\u001b[0;32m    513\u001b[0m     plot_data \u001b[39m=\u001b[39m data\n\u001b[0;32m    515\u001b[0m \u001b[39m# Convert to a list of arrays, the common representation\u001b[39;00m\n\u001b[1;32m--> 516\u001b[0m plot_data \u001b[39m=\u001b[39m [np\u001b[39m.\u001b[39masarray(d, \u001b[39mfloat\u001b[39m) \u001b[39mfor\u001b[39;00m d \u001b[39min\u001b[39;00m plot_data]\n\u001b[0;32m    518\u001b[0m \u001b[39m# The group names will just be numeric indices\u001b[39;00m\n\u001b[0;32m    519\u001b[0m group_names \u001b[39m=\u001b[39m \u001b[39mlist\u001b[39m(\u001b[39mrange\u001b[39m(\u001b[39mlen\u001b[39m(plot_data)))\n",
      "File \u001b[1;32mc:\\Users\\admin\\anaconda3\\envs\\tensorflow_env\\lib\\site-packages\\seaborn\\categorical.py:516\u001b[0m, in \u001b[0;36m<listcomp>\u001b[1;34m(.0)\u001b[0m\n\u001b[0;32m    513\u001b[0m     plot_data \u001b[39m=\u001b[39m data\n\u001b[0;32m    515\u001b[0m \u001b[39m# Convert to a list of arrays, the common representation\u001b[39;00m\n\u001b[1;32m--> 516\u001b[0m plot_data \u001b[39m=\u001b[39m [np\u001b[39m.\u001b[39;49masarray(d, \u001b[39mfloat\u001b[39;49m) \u001b[39mfor\u001b[39;00m d \u001b[39min\u001b[39;00m plot_data]\n\u001b[0;32m    518\u001b[0m \u001b[39m# The group names will just be numeric indices\u001b[39;00m\n\u001b[0;32m    519\u001b[0m group_names \u001b[39m=\u001b[39m \u001b[39mlist\u001b[39m(\u001b[39mrange\u001b[39m(\u001b[39mlen\u001b[39m(plot_data)))\n",
      "File \u001b[1;32mc:\\Users\\admin\\anaconda3\\envs\\tensorflow_env\\lib\\site-packages\\pandas\\core\\series.py:917\u001b[0m, in \u001b[0;36mSeries.__array__\u001b[1;34m(self, dtype)\u001b[0m\n\u001b[0;32m    870\u001b[0m \u001b[39m\u001b[39m\u001b[39m\"\"\"\u001b[39;00m\n\u001b[0;32m    871\u001b[0m \u001b[39mReturn the values as a NumPy array.\u001b[39;00m\n\u001b[0;32m    872\u001b[0m \n\u001b[1;32m   (...)\u001b[0m\n\u001b[0;32m    914\u001b[0m \u001b[39m      dtype='datetime64[ns]')\u001b[39;00m\n\u001b[0;32m    915\u001b[0m \u001b[39m\"\"\"\u001b[39;00m\n\u001b[0;32m    916\u001b[0m values \u001b[39m=\u001b[39m \u001b[39mself\u001b[39m\u001b[39m.\u001b[39m_values\n\u001b[1;32m--> 917\u001b[0m arr \u001b[39m=\u001b[39m np\u001b[39m.\u001b[39;49masarray(values, dtype\u001b[39m=\u001b[39;49mdtype)\n\u001b[0;32m    918\u001b[0m \u001b[39mif\u001b[39;00m using_copy_on_write() \u001b[39mand\u001b[39;00m astype_is_view(values\u001b[39m.\u001b[39mdtype, arr\u001b[39m.\u001b[39mdtype):\n\u001b[0;32m    919\u001b[0m     arr \u001b[39m=\u001b[39m arr\u001b[39m.\u001b[39mview()\n",
      "\u001b[1;31mValueError\u001b[0m: could not convert string to float: 'positive'"
     ]
    }
   ],
   "source": [
    "sns.countplot(df[\"sentiment\"])"
   ]
  },
  {
   "cell_type": "code",
   "execution_count": 41,
   "id": "4604c902",
   "metadata": {
    "execution": {
     "iopub.execute_input": "2021-08-31T23:20:08.315730Z",
     "iopub.status.busy": "2021-08-31T23:20:08.314633Z",
     "iopub.status.idle": "2021-08-31T23:20:08.322506Z",
     "shell.execute_reply": "2021-08-31T23:20:08.323064Z",
     "shell.execute_reply.started": "2021-08-31T14:06:41.486562Z"
    },
    "papermill": {
     "duration": 0.056588,
     "end_time": "2021-08-31T23:20:08.323230",
     "exception": false,
     "start_time": "2021-08-31T23:20:08.266642",
     "status": "completed"
    },
    "tags": []
   },
   "outputs": [
    {
     "data": {
      "text/plain": [
       "review       0\n",
       "sentiment    0\n",
       "dtype: int64"
      ]
     },
     "execution_count": 41,
     "metadata": {},
     "output_type": "execute_result"
    }
   ],
   "source": [
    "df.isna().sum()"
   ]
  },
  {
   "cell_type": "markdown",
   "id": "6ca643b2",
   "metadata": {
    "papermill": {
     "duration": 0.030008,
     "end_time": "2021-08-31T23:20:08.383186",
     "exception": false,
     "start_time": "2021-08-31T23:20:08.353178",
     "status": "completed"
    },
    "tags": []
   },
   "source": [
    "There is no null data."
   ]
  },
  {
   "cell_type": "markdown",
   "id": "91683368",
   "metadata": {
    "papermill": {
     "duration": 0.029725,
     "end_time": "2021-08-31T23:20:08.442892",
     "exception": false,
     "start_time": "2021-08-31T23:20:08.413167",
     "status": "completed"
    },
    "tags": []
   },
   "source": [
    "### Text cleaning"
   ]
  },
  {
   "cell_type": "code",
   "execution_count": 44,
   "id": "66319eb7",
   "metadata": {
    "execution": {
     "iopub.execute_input": "2021-08-31T23:20:08.508737Z",
     "iopub.status.busy": "2021-08-31T23:20:08.507762Z",
     "iopub.status.idle": "2021-08-31T23:20:08.512451Z",
     "shell.execute_reply": "2021-08-31T23:20:08.511887Z",
     "shell.execute_reply.started": "2021-08-31T14:06:43.124304Z"
    },
    "papermill": {
     "duration": 0.039485,
     "end_time": "2021-08-31T23:20:08.512583",
     "exception": false,
     "start_time": "2021-08-31T23:20:08.473098",
     "status": "completed"
    },
    "tags": []
   },
   "outputs": [],
   "source": [
    "def preprocessing_text(texts):\n",
    "    texts = re.sub(r'<.*?>', '', texts)\n",
    "    texts = re.sub(r'[^a-zA-Z]', ' ', texts)\n",
    "    return ' '.join(x.lower() for x in texts.split())"
   ]
  },
  {
   "cell_type": "code",
   "execution_count": 45,
   "id": "4c458a8d",
   "metadata": {
    "execution": {
     "iopub.execute_input": "2021-08-31T23:20:08.594020Z",
     "iopub.status.busy": "2021-08-31T23:20:08.583581Z",
     "iopub.status.idle": "2021-08-31T23:20:17.282271Z",
     "shell.execute_reply": "2021-08-31T23:20:17.281311Z",
     "shell.execute_reply.started": "2021-08-31T14:06:45.309831Z"
    },
    "papermill": {
     "duration": 8.739297,
     "end_time": "2021-08-31T23:20:17.282487",
     "exception": false,
     "start_time": "2021-08-31T23:20:08.543190",
     "status": "completed"
    },
    "tags": []
   },
   "outputs": [],
   "source": [
    "df['review_cleaned'] = df['review'].apply(lambda x : preprocessing_text(x))"
   ]
  },
  {
   "cell_type": "markdown",
   "id": "670d71f0",
   "metadata": {
    "papermill": {
     "duration": 0.029181,
     "end_time": "2021-08-31T23:20:17.343295",
     "exception": false,
     "start_time": "2021-08-31T23:20:17.314114",
     "status": "completed"
    },
    "tags": []
   },
   "source": [
    "# 2. Baseline linear model"
   ]
  },
  {
   "cell_type": "markdown",
   "id": "28c66825",
   "metadata": {
    "papermill": {
     "duration": 0.029602,
     "end_time": "2021-08-31T23:20:17.403300",
     "exception": false,
     "start_time": "2021-08-31T23:20:17.373698",
     "status": "completed"
    },
    "tags": []
   },
   "source": [
    "Before we build time-consuming neural network model, simple classifier is tried.\n",
    "Tfidf method is used for text vectorization."
   ]
  },
  {
   "cell_type": "code",
   "execution_count": 46,
   "id": "9452bb20",
   "metadata": {
    "execution": {
     "iopub.execute_input": "2021-08-31T23:20:17.474921Z",
     "iopub.status.busy": "2021-08-31T23:20:17.473816Z",
     "iopub.status.idle": "2021-08-31T23:20:35.377110Z",
     "shell.execute_reply": "2021-08-31T23:20:35.376495Z",
     "shell.execute_reply.started": "2021-08-31T14:18:40.33851Z"
    },
    "papermill": {
     "duration": 17.945017,
     "end_time": "2021-08-31T23:20:35.377260",
     "exception": false,
     "start_time": "2021-08-31T23:20:17.432243",
     "status": "completed"
    },
    "tags": []
   },
   "outputs": [
    {
     "name": "stdout",
     "output_type": "stream",
     "text": [
      "              precision    recall  f1-score   support\n",
      "\n",
      "           0       0.91      0.88      0.89      6245\n",
      "           1       0.88      0.91      0.90      6255\n",
      "\n",
      "    accuracy                           0.89     12500\n",
      "   macro avg       0.89      0.89      0.89     12500\n",
      "weighted avg       0.89      0.89      0.89     12500\n",
      "\n"
     ]
    },
    {
     "data": {
      "text/plain": [
       "<Axes: >"
      ]
     },
     "execution_count": 46,
     "metadata": {},
     "output_type": "execute_result"
    },
    {
     "data": {
      "image/png": "[encoded data removed]",
      "text/plain": [
       "<Figure size 640x480 with 2 Axes>"
      ]
     },
     "metadata": {},
     "output_type": "display_data"
    }
   ],
   "source": [
    "X_train, X_test, y_train, y_test = train_test_split(df['review_cleaned'], df['sentiment'].map({'negative':0, 'positive':1}))\n",
    "pipeline = Pipeline([('tfidf', TfidfVectorizer()),\n",
    "                    ('lr_clf', LogisticRegression())])\n",
    "pipeline.fit(X_train, y_train)\n",
    "\n",
    "y_pred = pipeline.predict(X_test)\n",
    "\n",
    "print(classification_report(y_test, y_pred))\n",
    "\n",
    "sns.heatmap(confusion_matrix(y_test, y_pred), \n",
    "            annot=True, fmt='.0f', \n",
    "            xticklabels=['Predicted negative', 'Predicted positive'], \n",
    "            yticklabels=['Negative', 'Positive'])"
   ]
  },
  {
   "cell_type": "markdown",
   "id": "5a725d4d",
   "metadata": {
    "papermill": {
     "duration": 0.030128,
     "end_time": "2021-08-31T23:20:35.438382",
     "exception": false,
     "start_time": "2021-08-31T23:20:35.408254",
     "status": "completed"
    },
    "tags": []
   },
   "source": [
    "Logistic regression provides 90% accuracy for test set, which is fast and adapted for such large datasets."
   ]
  },
  {
   "cell_type": "markdown",
   "id": "2cdc9cae",
   "metadata": {
    "papermill": {
     "duration": 0.031387,
     "end_time": "2021-08-31T23:20:35.499765",
     "exception": false,
     "start_time": "2021-08-31T23:20:35.468378",
     "status": "completed"
    },
    "tags": []
   },
   "source": [
    "# 3. LSTM model"
   ]
  },
  {
   "cell_type": "markdown",
   "id": "8e9fca7c",
   "metadata": {
    "papermill": {
     "duration": 0.029453,
     "end_time": "2021-08-31T23:20:35.559601",
     "exception": false,
     "start_time": "2021-08-31T23:20:35.530148",
     "status": "completed"
    },
    "tags": []
   },
   "source": [
    "To quickly explore LSTM model, we firstly take only 500 characters. That is much faster way than taking full sentences."
   ]
  },
  {
   "cell_type": "code",
   "execution_count": 47,
   "id": "7c531bf1",
   "metadata": {
    "execution": {
     "iopub.execute_input": "2021-08-31T23:20:35.644276Z",
     "iopub.status.busy": "2021-08-31T23:20:35.633907Z",
     "iopub.status.idle": "2021-08-31T23:20:35.674782Z",
     "shell.execute_reply": "2021-08-31T23:20:35.674174Z",
     "shell.execute_reply.started": "2021-08-31T12:03:36.100282Z"
    },
    "papermill": {
     "duration": 0.083801,
     "end_time": "2021-08-31T23:20:35.675001",
     "exception": false,
     "start_time": "2021-08-31T23:20:35.591200",
     "status": "completed"
    },
    "tags": []
   },
   "outputs": [
    {
     "data": {
      "text/plain": [
       "'i started watching the show from the first season and at the beginning i was pretty skeptical about it original movie was kind of childish and i was just looking for some sci fi show while waiting for the bsg new season but after few episodes i became a fan i ve loved the characters the not so stupid as you think he is jack o neill the not only smart samantha carter the glorious teal c women and kids favorite and brilliant dr daniel jackson of course stories sometimes not serious sometimes even '"
      ]
     },
     "execution_count": 47,
     "metadata": {},
     "output_type": "execute_result"
    }
   ],
   "source": [
    "df['review_cleaned_500'] = df['review_cleaned'].apply(lambda x:x[:500])\n",
    "\n",
    "df['review_cleaned_500'][2]"
   ]
  },
  {
   "cell_type": "markdown",
   "id": "fdf27600",
   "metadata": {
    "execution": {
     "iopub.execute_input": "2021-08-31T02:26:42.678593Z",
     "iopub.status.busy": "2021-08-31T02:26:42.678223Z",
     "iopub.status.idle": "2021-08-31T02:26:42.682801Z",
     "shell.execute_reply": "2021-08-31T02:26:42.681705Z",
     "shell.execute_reply.started": "2021-08-31T02:26:42.678565Z"
    },
    "papermill": {
     "duration": 0.031329,
     "end_time": "2021-08-31T23:20:35.737929",
     "exception": false,
     "start_time": "2021-08-31T23:20:35.706600",
     "status": "completed"
    },
    "tags": []
   },
   "source": [
    "### Tokenize & Padding"
   ]
  },
  {
   "cell_type": "markdown",
   "id": "2e22e44e",
   "metadata": {
    "papermill": {
     "duration": 0.03275,
     "end_time": "2021-08-31T23:20:35.801581",
     "exception": false,
     "start_time": "2021-08-31T23:20:35.768831",
     "status": "completed"
    },
    "tags": []
   },
   "source": [
    "Let's convert tokens to ID. We will use keras Tokenizer which can filter punctuations and take only most-counted 10000 words."
   ]
  },
  {
   "cell_type": "code",
   "execution_count": 48,
   "id": "8c544c44",
   "metadata": {
    "execution": {
     "iopub.execute_input": "2021-08-31T23:20:35.870204Z",
     "iopub.status.busy": "2021-08-31T23:20:35.869087Z",
     "iopub.status.idle": "2021-08-31T23:20:35.872466Z",
     "shell.execute_reply": "2021-08-31T23:20:35.871892Z",
     "shell.execute_reply.started": "2021-08-31T12:03:44.928063Z"
    },
    "papermill": {
     "duration": 0.038869,
     "end_time": "2021-08-31T23:20:35.872603",
     "exception": false,
     "start_time": "2021-08-31T23:20:35.833734",
     "status": "completed"
    },
    "tags": []
   },
   "outputs": [],
   "source": [
    "tokenizer = Tokenizer(num_words=10000)"
   ]
  },
  {
   "cell_type": "code",
   "execution_count": 49,
   "id": "291aa51a",
   "metadata": {
    "execution": {
     "iopub.execute_input": "2021-08-31T23:20:35.971642Z",
     "iopub.status.busy": "2021-08-31T23:20:35.961416Z",
     "iopub.status.idle": "2021-08-31T23:20:44.192545Z",
     "shell.execute_reply": "2021-08-31T23:20:44.193063Z",
     "shell.execute_reply.started": "2021-08-31T12:03:45.575936Z"
    },
    "papermill": {
     "duration": 8.287641,
     "end_time": "2021-08-31T23:20:44.193237",
     "exception": false,
     "start_time": "2021-08-31T23:20:35.905596",
     "status": "completed"
    },
    "tags": []
   },
   "outputs": [
    {
     "name": "stdout",
     "output_type": "stream",
     "text": [
      "X_shape: (50000, 116), X_min: 0, X_max: 9999\n"
     ]
    }
   ],
   "source": [
    "tokenizer.fit_on_texts(df['review_cleaned_500'])\n",
    "seq = tokenizer.texts_to_sequences(df['review_cleaned_500'])\n",
    "X = pad_sequences(seq, padding='post')\n",
    "\n",
    "print(f'X_shape: {X.shape}, X_min: {np.min(X)}, X_max: {np.max(X)}')"
   ]
  },
  {
   "cell_type": "markdown",
   "id": "9d8e1326",
   "metadata": {
    "papermill": {
     "duration": 0.032201,
     "end_time": "2021-08-31T23:20:44.257662",
     "exception": false,
     "start_time": "2021-08-31T23:20:44.225461",
     "status": "completed"
    },
    "tags": []
   },
   "source": [
    "Sentiment is converted to 0 (negative) or 1 (positive)."
   ]
  },
  {
   "cell_type": "code",
   "execution_count": 50,
   "id": "f11f5484",
   "metadata": {
    "execution": {
     "iopub.execute_input": "2021-08-31T23:20:44.334536Z",
     "iopub.status.busy": "2021-08-31T23:20:44.333629Z",
     "iopub.status.idle": "2021-08-31T23:20:44.337442Z",
     "shell.execute_reply": "2021-08-31T23:20:44.336891Z",
     "shell.execute_reply.started": "2021-08-31T12:03:52.937088Z"
    },
    "papermill": {
     "duration": 0.04699,
     "end_time": "2021-08-31T23:20:44.337583",
     "exception": false,
     "start_time": "2021-08-31T23:20:44.290593",
     "status": "completed"
    },
    "tags": []
   },
   "outputs": [],
   "source": [
    "y = df['sentiment'].map({'negative' : 0, 'positive' : 1}).values"
   ]
  },
  {
   "cell_type": "markdown",
   "id": "3598006f",
   "metadata": {
    "papermill": {
     "duration": 0.032322,
     "end_time": "2021-08-31T23:20:44.401493",
     "exception": false,
     "start_time": "2021-08-31T23:20:44.369171",
     "status": "completed"
    },
    "tags": []
   },
   "source": [
    "Let's build the simple LSTM model using first 500 characters datasets."
   ]
  },
  {
   "cell_type": "code",
   "execution_count": 51,
   "id": "a61dabb5",
   "metadata": {
    "execution": {
     "iopub.execute_input": "2021-08-31T23:20:44.473689Z",
     "iopub.status.busy": "2021-08-31T23:20:44.472445Z",
     "iopub.status.idle": "2021-08-31T23:20:44.504687Z",
     "shell.execute_reply": "2021-08-31T23:20:44.505426Z",
     "shell.execute_reply.started": "2021-08-31T12:03:55.096779Z"
    },
    "papermill": {
     "duration": 0.07159,
     "end_time": "2021-08-31T23:20:44.505614",
     "exception": false,
     "start_time": "2021-08-31T23:20:44.434024",
     "status": "completed"
    },
    "tags": []
   },
   "outputs": [
    {
     "name": "stdout",
     "output_type": "stream",
     "text": [
      "(32000, 116) (8000, 116) (10000, 116) (32000,) (8000,) (10000,)\n"
     ]
    }
   ],
   "source": [
    "X_train_valid, X_test, y_train_valid, y_test = train_test_split(X, y, test_size=0.2, random_state=42)\n",
    "X_train, X_valid, y_train, y_valid = train_test_split(X_train_valid, y_train_valid, test_size=0.2, random_state=42)\n",
    "print(X_train.shape, X_valid.shape, X_test.shape, y_train.shape, y_valid.shape, y_test.shape)"
   ]
  },
  {
   "cell_type": "code",
   "execution_count": 52,
   "id": "bfdbb3bb",
   "metadata": {
    "execution": {
     "iopub.execute_input": "2021-08-31T23:20:44.577880Z",
     "iopub.status.busy": "2021-08-31T23:20:44.577202Z",
     "iopub.status.idle": "2021-08-31T23:20:44.584251Z",
     "shell.execute_reply": "2021-08-31T23:20:44.583627Z",
     "shell.execute_reply.started": "2021-08-31T12:03:59.360865Z"
    },
    "papermill": {
     "duration": 0.045048,
     "end_time": "2021-08-31T23:20:44.584397",
     "exception": false,
     "start_time": "2021-08-31T23:20:44.539349",
     "status": "completed"
    },
    "tags": []
   },
   "outputs": [
    {
     "data": {
      "text/plain": [
       "array([0, 1, 1, ..., 1, 0, 0], dtype=int64)"
      ]
     },
     "execution_count": 52,
     "metadata": {},
     "output_type": "execute_result"
    }
   ],
   "source": [
    "y_train"
   ]
  },
  {
   "cell_type": "code",
   "execution_count": 57,
   "id": "f3a20386",
   "metadata": {
    "execution": {
     "iopub.execute_input": "2021-08-31T23:20:44.655864Z",
     "iopub.status.busy": "2021-08-31T23:20:44.655144Z",
     "iopub.status.idle": "2021-08-31T23:20:48.196284Z",
     "shell.execute_reply": "2021-08-31T23:20:48.195237Z",
     "shell.execute_reply.started": "2021-08-31T12:04:02.825594Z"
    },
    "papermill": {
     "duration": 3.579497,
     "end_time": "2021-08-31T23:20:48.196504",
     "exception": false,
     "start_time": "2021-08-31T23:20:44.617007",
     "status": "completed"
    },
    "tags": []
   },
   "outputs": [
    {
     "name": "stdout",
     "output_type": "stream",
     "text": [
      "Model: \"sequential_1\"\n",
      "_________________________________________________________________\n",
      " Layer (type)                Output Shape              Param #   \n",
      "=================================================================\n",
      " embedding (Embedding)       (None, None, 64)          640000    \n",
      "                                                                 \n",
      " lstm_1 (LSTM)               (None, 64)                33024     \n",
      "                                                                 \n",
      " dense_1 (Dense)             (None, 1)                 65        \n",
      "                                                                 \n",
      "=================================================================\n",
      "Total params: 673089 (2.57 MB)\n",
      "Trainable params: 673089 (2.57 MB)\n",
      "Non-trainable params: 0 (0.00 Byte)\n",
      "_________________________________________________________________\n"
     ]
    }
   ],
   "source": [
    "embed_size = 64\n",
    "model = keras.models.Sequential([\n",
    "    # keras.layers.Embedding(input_dim=10000, output_dim=embed_size, input_shape=[None], mask_zero=True),\n",
    "    \n",
    "    keras.layers.LSTM(64),\n",
    "    keras.layers.Dense(1, activation='sigmoid')\n",
    "])\n",
    "model.summary()"
   ]
  },
  {
   "cell_type": "code",
   "execution_count": 58,
   "id": "96dd8502",
   "metadata": {
    "execution": {
     "iopub.execute_input": "2021-08-31T23:20:48.279360Z",
     "iopub.status.busy": "2021-08-31T23:20:48.278247Z",
     "iopub.status.idle": "2021-08-31T23:22:28.909482Z",
     "shell.execute_reply": "2021-08-31T23:22:28.908455Z",
     "shell.execute_reply.started": "2021-08-31T12:04:05.494273Z"
    },
    "papermill": {
     "duration": 100.677893,
     "end_time": "2021-08-31T23:22:28.909662",
     "exception": false,
     "start_time": "2021-08-31T23:20:48.231769",
     "status": "completed"
    },
    "tags": []
   },
   "outputs": [
    {
     "name": "stdout",
     "output_type": "stream",
     "text": [
      "Epoch 1/5\n",
      "1000/1000 [==============================] - 43s 41ms/step - loss: 0.4564 - accuracy: 0.7854 - val_loss: 0.3819 - val_accuracy: 0.8351\n",
      "Epoch 2/5\n",
      " 104/1000 [==>...........................] - ETA: 34s - loss: 0.3130 - accuracy: 0.8726"
     ]
    },
    {
     "ename": "KeyboardInterrupt",
     "evalue": "",
     "output_type": "error",
     "traceback": [
      "\u001b[1;31m---------------------------------------------------------------------------\u001b[0m",
      "\u001b[1;31mKeyboardInterrupt\u001b[0m                         Traceback (most recent call last)",
      "\u001b[1;32mc:\\Users\\admin\\Desktop\\THISONE\\AQUI\\ds_thebridge_1_22\\3-Machine_Learning\\5-NLP\\NLTK&CountVectorizer\\imdb-sentiment-analysis-keras-lstm.ipynb Cell 32\u001b[0m line \u001b[0;36m3\n\u001b[0;32m      <a href='vscode-notebook-cell:/c%3A/Users/admin/Desktop/THISONE/AQUI/ds_thebridge_1_22/3-Machine_Learning/5-NLP/NLTK%26CountVectorizer/imdb-sentiment-analysis-keras-lstm.ipynb#X36sZmlsZQ%3D%3D?line=0'>1</a>\u001b[0m optimizer \u001b[39m=\u001b[39mkeras\u001b[39m.\u001b[39moptimizers\u001b[39m.\u001b[39mAdam(learning_rate\u001b[39m=\u001b[39m\u001b[39m0.001\u001b[39m)\n\u001b[0;32m      <a href='vscode-notebook-cell:/c%3A/Users/admin/Desktop/THISONE/AQUI/ds_thebridge_1_22/3-Machine_Learning/5-NLP/NLTK%26CountVectorizer/imdb-sentiment-analysis-keras-lstm.ipynb#X36sZmlsZQ%3D%3D?line=1'>2</a>\u001b[0m model\u001b[39m.\u001b[39mcompile(loss\u001b[39m=\u001b[39m\u001b[39m'\u001b[39m\u001b[39mbinary_crossentropy\u001b[39m\u001b[39m'\u001b[39m, optimizer\u001b[39m=\u001b[39moptimizer, metrics\u001b[39m=\u001b[39m[\u001b[39m'\u001b[39m\u001b[39maccuracy\u001b[39m\u001b[39m'\u001b[39m])\n\u001b[1;32m----> <a href='vscode-notebook-cell:/c%3A/Users/admin/Desktop/THISONE/AQUI/ds_thebridge_1_22/3-Machine_Learning/5-NLP/NLTK%26CountVectorizer/imdb-sentiment-analysis-keras-lstm.ipynb#X36sZmlsZQ%3D%3D?line=2'>3</a>\u001b[0m history \u001b[39m=\u001b[39m model\u001b[39m.\u001b[39;49mfit(X_train, y_train, batch_size\u001b[39m=\u001b[39;49m\u001b[39m32\u001b[39;49m, epochs\u001b[39m=\u001b[39;49m\u001b[39m5\u001b[39;49m, validation_data\u001b[39m=\u001b[39;49m(X_valid, y_valid))\n",
      "File \u001b[1;32mc:\\Users\\admin\\anaconda3\\envs\\tensorflow_env\\lib\\site-packages\\keras\\src\\utils\\traceback_utils.py:65\u001b[0m, in \u001b[0;36mfilter_traceback.<locals>.error_handler\u001b[1;34m(*args, **kwargs)\u001b[0m\n\u001b[0;32m     63\u001b[0m filtered_tb \u001b[39m=\u001b[39m \u001b[39mNone\u001b[39;00m\n\u001b[0;32m     64\u001b[0m \u001b[39mtry\u001b[39;00m:\n\u001b[1;32m---> 65\u001b[0m     \u001b[39mreturn\u001b[39;00m fn(\u001b[39m*\u001b[39margs, \u001b[39m*\u001b[39m\u001b[39m*\u001b[39mkwargs)\n\u001b[0;32m     66\u001b[0m \u001b[39mexcept\u001b[39;00m \u001b[39mException\u001b[39;00m \u001b[39mas\u001b[39;00m e:\n\u001b[0;32m     67\u001b[0m     filtered_tb \u001b[39m=\u001b[39m _process_traceback_frames(e\u001b[39m.\u001b[39m__traceback__)\n",
      "File \u001b[1;32mc:\\Users\\admin\\anaconda3\\envs\\tensorflow_env\\lib\\site-packages\\keras\\src\\engine\\training.py:1742\u001b[0m, in \u001b[0;36mModel.fit\u001b[1;34m(self, x, y, batch_size, epochs, verbose, callbacks, validation_split, validation_data, shuffle, class_weight, sample_weight, initial_epoch, steps_per_epoch, validation_steps, validation_batch_size, validation_freq, max_queue_size, workers, use_multiprocessing)\u001b[0m\n\u001b[0;32m   1734\u001b[0m \u001b[39mwith\u001b[39;00m tf\u001b[39m.\u001b[39mprofiler\u001b[39m.\u001b[39mexperimental\u001b[39m.\u001b[39mTrace(\n\u001b[0;32m   1735\u001b[0m     \u001b[39m\"\u001b[39m\u001b[39mtrain\u001b[39m\u001b[39m\"\u001b[39m,\n\u001b[0;32m   1736\u001b[0m     epoch_num\u001b[39m=\u001b[39mepoch,\n\u001b[1;32m   (...)\u001b[0m\n\u001b[0;32m   1739\u001b[0m     _r\u001b[39m=\u001b[39m\u001b[39m1\u001b[39m,\n\u001b[0;32m   1740\u001b[0m ):\n\u001b[0;32m   1741\u001b[0m     callbacks\u001b[39m.\u001b[39mon_train_batch_begin(step)\n\u001b[1;32m-> 1742\u001b[0m     tmp_logs \u001b[39m=\u001b[39m \u001b[39mself\u001b[39;49m\u001b[39m.\u001b[39;49mtrain_function(iterator)\n\u001b[0;32m   1743\u001b[0m     \u001b[39mif\u001b[39;00m data_handler\u001b[39m.\u001b[39mshould_sync:\n\u001b[0;32m   1744\u001b[0m         context\u001b[39m.\u001b[39masync_wait()\n",
      "File \u001b[1;32mc:\\Users\\admin\\anaconda3\\envs\\tensorflow_env\\lib\\site-packages\\tensorflow\\python\\util\\traceback_utils.py:150\u001b[0m, in \u001b[0;36mfilter_traceback.<locals>.error_handler\u001b[1;34m(*args, **kwargs)\u001b[0m\n\u001b[0;32m    148\u001b[0m filtered_tb \u001b[39m=\u001b[39m \u001b[39mNone\u001b[39;00m\n\u001b[0;32m    149\u001b[0m \u001b[39mtry\u001b[39;00m:\n\u001b[1;32m--> 150\u001b[0m   \u001b[39mreturn\u001b[39;00m fn(\u001b[39m*\u001b[39margs, \u001b[39m*\u001b[39m\u001b[39m*\u001b[39mkwargs)\n\u001b[0;32m    151\u001b[0m \u001b[39mexcept\u001b[39;00m \u001b[39mException\u001b[39;00m \u001b[39mas\u001b[39;00m e:\n\u001b[0;32m    152\u001b[0m   filtered_tb \u001b[39m=\u001b[39m _process_traceback_frames(e\u001b[39m.\u001b[39m__traceback__)\n",
      "File \u001b[1;32mc:\\Users\\admin\\anaconda3\\envs\\tensorflow_env\\lib\\site-packages\\tensorflow\\python\\eager\\polymorphic_function\\polymorphic_function.py:825\u001b[0m, in \u001b[0;36mFunction.__call__\u001b[1;34m(self, *args, **kwds)\u001b[0m\n\u001b[0;32m    822\u001b[0m compiler \u001b[39m=\u001b[39m \u001b[39m\"\u001b[39m\u001b[39mxla\u001b[39m\u001b[39m\"\u001b[39m \u001b[39mif\u001b[39;00m \u001b[39mself\u001b[39m\u001b[39m.\u001b[39m_jit_compile \u001b[39melse\u001b[39;00m \u001b[39m\"\u001b[39m\u001b[39mnonXla\u001b[39m\u001b[39m\"\u001b[39m\n\u001b[0;32m    824\u001b[0m \u001b[39mwith\u001b[39;00m OptionalXlaContext(\u001b[39mself\u001b[39m\u001b[39m.\u001b[39m_jit_compile):\n\u001b[1;32m--> 825\u001b[0m   result \u001b[39m=\u001b[39m \u001b[39mself\u001b[39m\u001b[39m.\u001b[39m_call(\u001b[39m*\u001b[39margs, \u001b[39m*\u001b[39m\u001b[39m*\u001b[39mkwds)\n\u001b[0;32m    827\u001b[0m new_tracing_count \u001b[39m=\u001b[39m \u001b[39mself\u001b[39m\u001b[39m.\u001b[39mexperimental_get_tracing_count()\n\u001b[0;32m    828\u001b[0m without_tracing \u001b[39m=\u001b[39m (tracing_count \u001b[39m==\u001b[39m new_tracing_count)\n",
      "File \u001b[1;32mc:\\Users\\admin\\anaconda3\\envs\\tensorflow_env\\lib\\site-packages\\tensorflow\\python\\eager\\polymorphic_function\\polymorphic_function.py:857\u001b[0m, in \u001b[0;36mFunction._call\u001b[1;34m(self, *args, **kwds)\u001b[0m\n\u001b[0;32m    854\u001b[0m   \u001b[39mself\u001b[39m\u001b[39m.\u001b[39m_lock\u001b[39m.\u001b[39mrelease()\n\u001b[0;32m    855\u001b[0m   \u001b[39m# In this case we have created variables on the first call, so we run the\u001b[39;00m\n\u001b[0;32m    856\u001b[0m   \u001b[39m# defunned version which is guaranteed to never create variables.\u001b[39;00m\n\u001b[1;32m--> 857\u001b[0m   \u001b[39mreturn\u001b[39;00m \u001b[39mself\u001b[39m\u001b[39m.\u001b[39m_no_variable_creation_fn(\u001b[39m*\u001b[39margs, \u001b[39m*\u001b[39m\u001b[39m*\u001b[39mkwds)  \u001b[39m# pylint: disable=not-callable\u001b[39;00m\n\u001b[0;32m    858\u001b[0m \u001b[39melif\u001b[39;00m \u001b[39mself\u001b[39m\u001b[39m.\u001b[39m_variable_creation_fn \u001b[39mis\u001b[39;00m \u001b[39mnot\u001b[39;00m \u001b[39mNone\u001b[39;00m:\n\u001b[0;32m    859\u001b[0m   \u001b[39m# Release the lock early so that multiple threads can perform the call\u001b[39;00m\n\u001b[0;32m    860\u001b[0m   \u001b[39m# in parallel.\u001b[39;00m\n\u001b[0;32m    861\u001b[0m   \u001b[39mself\u001b[39m\u001b[39m.\u001b[39m_lock\u001b[39m.\u001b[39mrelease()\n",
      "File \u001b[1;32mc:\\Users\\admin\\anaconda3\\envs\\tensorflow_env\\lib\\site-packages\\tensorflow\\python\\eager\\polymorphic_function\\tracing_compiler.py:148\u001b[0m, in \u001b[0;36mTracingCompiler.__call__\u001b[1;34m(self, *args, **kwargs)\u001b[0m\n\u001b[0;32m    145\u001b[0m \u001b[39mwith\u001b[39;00m \u001b[39mself\u001b[39m\u001b[39m.\u001b[39m_lock:\n\u001b[0;32m    146\u001b[0m   (concrete_function,\n\u001b[0;32m    147\u001b[0m    filtered_flat_args) \u001b[39m=\u001b[39m \u001b[39mself\u001b[39m\u001b[39m.\u001b[39m_maybe_define_function(args, kwargs)\n\u001b[1;32m--> 148\u001b[0m \u001b[39mreturn\u001b[39;00m concrete_function\u001b[39m.\u001b[39;49m_call_flat(\n\u001b[0;32m    149\u001b[0m     filtered_flat_args, captured_inputs\u001b[39m=\u001b[39;49mconcrete_function\u001b[39m.\u001b[39;49mcaptured_inputs)\n",
      "File \u001b[1;32mc:\\Users\\admin\\anaconda3\\envs\\tensorflow_env\\lib\\site-packages\\tensorflow\\python\\eager\\polymorphic_function\\monomorphic_function.py:1349\u001b[0m, in \u001b[0;36mConcreteFunction._call_flat\u001b[1;34m(self, args, captured_inputs)\u001b[0m\n\u001b[0;32m   1345\u001b[0m possible_gradient_type \u001b[39m=\u001b[39m gradients_util\u001b[39m.\u001b[39mPossibleTapeGradientTypes(args)\n\u001b[0;32m   1346\u001b[0m \u001b[39mif\u001b[39;00m (possible_gradient_type \u001b[39m==\u001b[39m gradients_util\u001b[39m.\u001b[39mPOSSIBLE_GRADIENT_TYPES_NONE\n\u001b[0;32m   1347\u001b[0m     \u001b[39mand\u001b[39;00m executing_eagerly):\n\u001b[0;32m   1348\u001b[0m   \u001b[39m# No tape is watching; skip to running the function.\u001b[39;00m\n\u001b[1;32m-> 1349\u001b[0m   \u001b[39mreturn\u001b[39;00m \u001b[39mself\u001b[39m\u001b[39m.\u001b[39m_build_call_outputs(\u001b[39mself\u001b[39;49m\u001b[39m.\u001b[39;49m_inference_function(\u001b[39m*\u001b[39;49margs))\n\u001b[0;32m   1350\u001b[0m forward_backward \u001b[39m=\u001b[39m \u001b[39mself\u001b[39m\u001b[39m.\u001b[39m_select_forward_and_backward_functions(\n\u001b[0;32m   1351\u001b[0m     args,\n\u001b[0;32m   1352\u001b[0m     possible_gradient_type,\n\u001b[0;32m   1353\u001b[0m     executing_eagerly)\n\u001b[0;32m   1354\u001b[0m forward_function, args_with_tangents \u001b[39m=\u001b[39m forward_backward\u001b[39m.\u001b[39mforward()\n",
      "File \u001b[1;32mc:\\Users\\admin\\anaconda3\\envs\\tensorflow_env\\lib\\site-packages\\tensorflow\\python\\eager\\polymorphic_function\\atomic_function.py:196\u001b[0m, in \u001b[0;36mAtomicFunction.__call__\u001b[1;34m(self, *args)\u001b[0m\n\u001b[0;32m    194\u001b[0m \u001b[39mwith\u001b[39;00m record\u001b[39m.\u001b[39mstop_recording():\n\u001b[0;32m    195\u001b[0m   \u001b[39mif\u001b[39;00m \u001b[39mself\u001b[39m\u001b[39m.\u001b[39m_bound_context\u001b[39m.\u001b[39mexecuting_eagerly():\n\u001b[1;32m--> 196\u001b[0m     outputs \u001b[39m=\u001b[39m \u001b[39mself\u001b[39;49m\u001b[39m.\u001b[39;49m_bound_context\u001b[39m.\u001b[39;49mcall_function(\n\u001b[0;32m    197\u001b[0m         \u001b[39mself\u001b[39;49m\u001b[39m.\u001b[39;49mname,\n\u001b[0;32m    198\u001b[0m         \u001b[39mlist\u001b[39;49m(args),\n\u001b[0;32m    199\u001b[0m         \u001b[39mlen\u001b[39;49m(\u001b[39mself\u001b[39;49m\u001b[39m.\u001b[39;49mfunction_type\u001b[39m.\u001b[39;49mflat_outputs),\n\u001b[0;32m    200\u001b[0m     )\n\u001b[0;32m    201\u001b[0m   \u001b[39melse\u001b[39;00m:\n\u001b[0;32m    202\u001b[0m     outputs \u001b[39m=\u001b[39m make_call_op_in_graph(\u001b[39mself\u001b[39m, \u001b[39mlist\u001b[39m(args))\n",
      "File \u001b[1;32mc:\\Users\\admin\\anaconda3\\envs\\tensorflow_env\\lib\\site-packages\\tensorflow\\python\\eager\\context.py:1457\u001b[0m, in \u001b[0;36mContext.call_function\u001b[1;34m(self, name, tensor_inputs, num_outputs)\u001b[0m\n\u001b[0;32m   1455\u001b[0m cancellation_context \u001b[39m=\u001b[39m cancellation\u001b[39m.\u001b[39mcontext()\n\u001b[0;32m   1456\u001b[0m \u001b[39mif\u001b[39;00m cancellation_context \u001b[39mis\u001b[39;00m \u001b[39mNone\u001b[39;00m:\n\u001b[1;32m-> 1457\u001b[0m   outputs \u001b[39m=\u001b[39m execute\u001b[39m.\u001b[39;49mexecute(\n\u001b[0;32m   1458\u001b[0m       name\u001b[39m.\u001b[39;49mdecode(\u001b[39m\"\u001b[39;49m\u001b[39mutf-8\u001b[39;49m\u001b[39m\"\u001b[39;49m),\n\u001b[0;32m   1459\u001b[0m       num_outputs\u001b[39m=\u001b[39;49mnum_outputs,\n\u001b[0;32m   1460\u001b[0m       inputs\u001b[39m=\u001b[39;49mtensor_inputs,\n\u001b[0;32m   1461\u001b[0m       attrs\u001b[39m=\u001b[39;49mattrs,\n\u001b[0;32m   1462\u001b[0m       ctx\u001b[39m=\u001b[39;49m\u001b[39mself\u001b[39;49m,\n\u001b[0;32m   1463\u001b[0m   )\n\u001b[0;32m   1464\u001b[0m \u001b[39melse\u001b[39;00m:\n\u001b[0;32m   1465\u001b[0m   outputs \u001b[39m=\u001b[39m execute\u001b[39m.\u001b[39mexecute_with_cancellation(\n\u001b[0;32m   1466\u001b[0m       name\u001b[39m.\u001b[39mdecode(\u001b[39m\"\u001b[39m\u001b[39mutf-8\u001b[39m\u001b[39m\"\u001b[39m),\n\u001b[0;32m   1467\u001b[0m       num_outputs\u001b[39m=\u001b[39mnum_outputs,\n\u001b[1;32m   (...)\u001b[0m\n\u001b[0;32m   1471\u001b[0m       cancellation_manager\u001b[39m=\u001b[39mcancellation_context,\n\u001b[0;32m   1472\u001b[0m   )\n",
      "File \u001b[1;32mc:\\Users\\admin\\anaconda3\\envs\\tensorflow_env\\lib\\site-packages\\tensorflow\\python\\eager\\execute.py:53\u001b[0m, in \u001b[0;36mquick_execute\u001b[1;34m(op_name, num_outputs, inputs, attrs, ctx, name)\u001b[0m\n\u001b[0;32m     51\u001b[0m \u001b[39mtry\u001b[39;00m:\n\u001b[0;32m     52\u001b[0m   ctx\u001b[39m.\u001b[39mensure_initialized()\n\u001b[1;32m---> 53\u001b[0m   tensors \u001b[39m=\u001b[39m pywrap_tfe\u001b[39m.\u001b[39;49mTFE_Py_Execute(ctx\u001b[39m.\u001b[39;49m_handle, device_name, op_name,\n\u001b[0;32m     54\u001b[0m                                       inputs, attrs, num_outputs)\n\u001b[0;32m     55\u001b[0m \u001b[39mexcept\u001b[39;00m core\u001b[39m.\u001b[39m_NotOkStatusException \u001b[39mas\u001b[39;00m e:\n\u001b[0;32m     56\u001b[0m   \u001b[39mif\u001b[39;00m name \u001b[39mis\u001b[39;00m \u001b[39mnot\u001b[39;00m \u001b[39mNone\u001b[39;00m:\n",
      "\u001b[1;31mKeyboardInterrupt\u001b[0m: "
     ]
    }
   ],
   "source": [
    "optimizer =keras.optimizers.Adam(learning_rate=0.001)\n",
    "model.compile(loss='binary_crossentropy', optimizer=optimizer, metrics=['accuracy'])\n",
    "history = model.fit(X_train, y_train, batch_size=32, epochs=5, validation_data=(X_valid, y_valid))"
   ]
  },
  {
   "cell_type": "code",
   "execution_count": 16,
   "id": "8b069fe8",
   "metadata": {
    "execution": {
     "iopub.execute_input": "2021-08-31T23:22:29.928052Z",
     "iopub.status.busy": "2021-08-31T23:22:29.927273Z",
     "iopub.status.idle": "2021-08-31T23:22:30.238757Z",
     "shell.execute_reply": "2021-08-31T23:22:30.239349Z"
    },
    "papermill": {
     "duration": 0.817792,
     "end_time": "2021-08-31T23:22:30.239600",
     "exception": false,
     "start_time": "2021-08-31T23:22:29.421808",
     "status": "completed"
    },
    "tags": []
   },
   "outputs": [
    {
     "data": {
      "text/plain": [
       "<AxesSubplot:>"
      ]
     },
     "execution_count": 16,
     "metadata": {},
     "output_type": "execute_result"
    },
    {
     "data": {
      "image/png": "[encoded data removed]",
      "text/plain": [
       "<Figure size 432x288 with 1 Axes>"
      ]
     },
     "metadata": {
      "needs_background": "light"
     },
     "output_type": "display_data"
    }
   ],
   "source": [
    "pd.DataFrame(history.history).plot()"
   ]
  },
  {
   "cell_type": "markdown",
   "id": "ecb1da21",
   "metadata": {
    "papermill": {
     "duration": 0.4949,
     "end_time": "2021-08-31T23:22:31.228122",
     "exception": false,
     "start_time": "2021-08-31T23:22:30.733222",
     "status": "completed"
    },
    "tags": []
   },
   "source": [
    "This simple model is overfitted with training data as the validation loss increases."
   ]
  },
  {
   "cell_type": "code",
   "execution_count": 56,
   "id": "bd3570b5",
   "metadata": {
    "execution": {
     "iopub.execute_input": "2021-08-31T23:22:32.225574Z",
     "iopub.status.busy": "2021-08-31T23:22:32.223907Z",
     "iopub.status.idle": "2021-08-31T23:22:35.113068Z",
     "shell.execute_reply": "2021-08-31T23:22:35.113906Z",
     "shell.execute_reply.started": "2021-08-31T11:52:36.176808Z"
    },
    "papermill": {
     "duration": 3.387112,
     "end_time": "2021-08-31T23:22:35.114209",
     "exception": false,
     "start_time": "2021-08-31T23:22:31.727097",
     "status": "completed"
    },
    "tags": []
   },
   "outputs": [
    {
     "name": "stdout",
     "output_type": "stream",
     "text": [
      "313/313 [==============================] - 3s 9ms/step\n",
      "              precision    recall  f1-score   support\n",
      "\n",
      "           0       0.50      1.00      0.66      4976\n",
      "           1       0.00      0.00      0.00      5024\n",
      "\n",
      "    accuracy                           0.50     10000\n",
      "   macro avg       0.25      0.50      0.33     10000\n",
      "weighted avg       0.25      0.50      0.33     10000\n",
      "\n"
     ]
    },
    {
     "name": "stderr",
     "output_type": "stream",
     "text": [
      "c:\\Users\\admin\\anaconda3\\envs\\tensorflow_env\\lib\\site-packages\\sklearn\\metrics\\_classification.py:1469: UndefinedMetricWarning: Precision and F-score are ill-defined and being set to 0.0 in labels with no predicted samples. Use `zero_division` parameter to control this behavior.\n",
      "  _warn_prf(average, modifier, msg_start, len(result))\n",
      "c:\\Users\\admin\\anaconda3\\envs\\tensorflow_env\\lib\\site-packages\\sklearn\\metrics\\_classification.py:1469: UndefinedMetricWarning: Precision and F-score are ill-defined and being set to 0.0 in labels with no predicted samples. Use `zero_division` parameter to control this behavior.\n",
      "  _warn_prf(average, modifier, msg_start, len(result))\n",
      "c:\\Users\\admin\\anaconda3\\envs\\tensorflow_env\\lib\\site-packages\\sklearn\\metrics\\_classification.py:1469: UndefinedMetricWarning: Precision and F-score are ill-defined and being set to 0.0 in labels with no predicted samples. Use `zero_division` parameter to control this behavior.\n",
      "  _warn_prf(average, modifier, msg_start, len(result))\n"
     ]
    },
    {
     "data": {
      "text/plain": [
       "<Axes: >"
      ]
     },
     "execution_count": 56,
     "metadata": {},
     "output_type": "execute_result"
    },
    {
     "data": {
      "image/png": "[encoded data removed]",
      "text/plain": [
       "<Figure size 640x480 with 2 Axes>"
      ]
     },
     "metadata": {},
     "output_type": "display_data"
    }
   ],
   "source": [
    "y_pred = np.argmax(model.predict(X_test), axis=1)\n",
    "\n",
    "print(classification_report(y_test, y_pred))\n",
    "\n",
    "sns.heatmap(confusion_matrix(y_test, y_pred), \n",
    "            annot=True, fmt='.0f', \n",
    "            xticklabels=['Predicted negative', 'Predicted positive'], \n",
    "            yticklabels=['Negative', 'Positive'])"
   ]
  },
  {
   "cell_type": "markdown",
   "id": "5a65124d",
   "metadata": {
    "papermill": {
     "duration": 0.561187,
     "end_time": "2021-08-31T23:22:36.489135",
     "exception": false,
     "start_time": "2021-08-31T23:22:35.927948",
     "status": "completed"
    },
    "tags": []
   },
   "source": [
    "## Modified LSTM model"
   ]
  },
  {
   "cell_type": "markdown",
   "id": "1e2d6624",
   "metadata": {
    "papermill": {
     "duration": 0.500664,
     "end_time": "2021-08-31T23:22:37.491354",
     "exception": false,
     "start_time": "2021-08-31T23:22:36.990690",
     "status": "completed"
    },
    "tags": []
   },
   "source": [
    "We added Dropout layers to prevent overfitting."
   ]
  },
  {
   "cell_type": "code",
   "execution_count": 18,
   "id": "b6e577c9",
   "metadata": {
    "execution": {
     "iopub.execute_input": "2021-08-31T23:22:38.518728Z",
     "iopub.status.busy": "2021-08-31T23:22:38.517658Z",
     "iopub.status.idle": "2021-08-31T23:22:38.697237Z",
     "shell.execute_reply": "2021-08-31T23:22:38.698084Z",
     "shell.execute_reply.started": "2021-08-31T12:05:39.727573Z"
    },
    "papermill": {
     "duration": 0.696167,
     "end_time": "2021-08-31T23:22:38.698367",
     "exception": false,
     "start_time": "2021-08-31T23:22:38.002200",
     "status": "completed"
    },
    "tags": []
   },
   "outputs": [
    {
     "name": "stdout",
     "output_type": "stream",
     "text": [
      "Model: \"sequential_1\"\n",
      "_________________________________________________________________\n",
      "Layer (type)                 Output Shape              Param #   \n",
      "=================================================================\n",
      "embedding_1 (Embedding)      (None, None, 64)          640000    \n",
      "_________________________________________________________________\n",
      "spatial_dropout1d (SpatialDr (None, None, 64)          0         \n",
      "_________________________________________________________________\n",
      "lstm_1 (LSTM)                (None, 64)                33024     \n",
      "_________________________________________________________________\n",
      "dense_1 (Dense)              (None, 1)                 65        \n",
      "=================================================================\n",
      "Total params: 673,089\n",
      "Trainable params: 673,089\n",
      "Non-trainable params: 0\n",
      "_________________________________________________________________\n"
     ]
    }
   ],
   "source": [
    "embed_size = 64\n",
    "model_v2 = keras.models.Sequential([\n",
    "    keras.layers.Embedding(input_dim=10000, output_dim=embed_size, input_shape=[None], mask_zero=True),\n",
    "    keras.layers.LSTM(64, return_sequences=False, dropout=0.2, recurrent_dropout=0.2),\n",
    "    keras.layers.Dense(1, activation='sigmoid')\n",
    "])\n",
    "model_v2.summary()"
   ]
  },
  {
   "cell_type": "code",
   "execution_count": 19,
   "id": "c7daa7c5",
   "metadata": {
    "execution": {
     "iopub.execute_input": "2021-08-31T23:22:40.144546Z",
     "iopub.status.busy": "2021-08-31T23:22:40.143636Z",
     "iopub.status.idle": "2021-08-31T23:45:29.414806Z",
     "shell.execute_reply": "2021-08-31T23:45:29.414242Z",
     "shell.execute_reply.started": "2021-08-31T12:06:29.971333Z"
    },
    "papermill": {
     "duration": 1370.149209,
     "end_time": "2021-08-31T23:45:29.415018",
     "exception": false,
     "start_time": "2021-08-31T23:22:39.265809",
     "status": "completed"
    },
    "tags": []
   },
   "outputs": [
    {
     "name": "stdout",
     "output_type": "stream",
     "text": [
      "Epoch 1/20\n",
      "500/500 [==============================] - 138s 272ms/step - loss: 0.6812 - accuracy: 0.5376 - val_loss: 0.5057 - val_accuracy: 0.7641\n",
      "Epoch 2/20\n",
      "500/500 [==============================] - 135s 269ms/step - loss: 0.4742 - accuracy: 0.7870 - val_loss: 0.4150 - val_accuracy: 0.8160\n",
      "Epoch 3/20\n",
      "500/500 [==============================] - 135s 270ms/step - loss: 0.3804 - accuracy: 0.8357 - val_loss: 0.3884 - val_accuracy: 0.8259\n",
      "Epoch 4/20\n",
      "500/500 [==============================] - 137s 275ms/step - loss: 0.3407 - accuracy: 0.8563 - val_loss: 0.3890 - val_accuracy: 0.8266\n",
      "Epoch 5/20\n",
      "500/500 [==============================] - 137s 273ms/step - loss: 0.3138 - accuracy: 0.8686 - val_loss: 0.3768 - val_accuracy: 0.8329\n",
      "Epoch 6/20\n",
      "500/500 [==============================] - 135s 271ms/step - loss: 0.2913 - accuracy: 0.8806 - val_loss: 0.3969 - val_accuracy: 0.8319\n",
      "Epoch 7/20\n",
      "500/500 [==============================] - 138s 275ms/step - loss: 0.2769 - accuracy: 0.8877 - val_loss: 0.3902 - val_accuracy: 0.8290\n",
      "Epoch 8/20\n",
      "500/500 [==============================] - 137s 274ms/step - loss: 0.2637 - accuracy: 0.8954 - val_loss: 0.3896 - val_accuracy: 0.8306\n",
      "Epoch 9/20\n",
      "500/500 [==============================] - 138s 276ms/step - loss: 0.2498 - accuracy: 0.9016 - val_loss: 0.4136 - val_accuracy: 0.8325\n",
      "Epoch 10/20\n",
      "500/500 [==============================] - 139s 277ms/step - loss: 0.2434 - accuracy: 0.9030 - val_loss: 0.4254 - val_accuracy: 0.8291\n"
     ]
    }
   ],
   "source": [
    "early_stopping_cb = keras.callbacks.EarlyStopping(patience=5, restore_best_weights=True)\n",
    "optimizer = keras.optimizers.Adam(learning_rate=0.0001)\n",
    "model_v2.compile(loss='binary_crossentropy', optimizer=optimizer, metrics=['accuracy'])\n",
    "history = model_v2.fit(X_train, y_train, epochs=20, batch_size=64, validation_data=(X_valid, y_valid), callbacks=[early_stopping_cb])"
   ]
  },
  {
   "cell_type": "code",
   "execution_count": 20,
   "id": "9d2d1967",
   "metadata": {
    "execution": {
     "iopub.execute_input": "2021-08-31T23:45:34.083298Z",
     "iopub.status.busy": "2021-08-31T23:45:34.082168Z",
     "iopub.status.idle": "2021-08-31T23:45:34.314521Z",
     "shell.execute_reply": "2021-08-31T23:45:34.315155Z",
     "shell.execute_reply.started": "2021-08-31T12:32:45.464539Z"
    },
    "papermill": {
     "duration": 2.426961,
     "end_time": "2021-08-31T23:45:34.315431",
     "exception": false,
     "start_time": "2021-08-31T23:45:31.888470",
     "status": "completed"
    },
    "tags": []
   },
   "outputs": [
    {
     "data": {
      "text/plain": [
       "<AxesSubplot:>"
      ]
     },
     "execution_count": 20,
     "metadata": {},
     "output_type": "execute_result"
    },
    {
     "data": {
      "image/png": "[encoded data removed]",
      "text/plain": [
       "<Figure size 432x288 with 1 Axes>"
      ]
     },
     "metadata": {
      "needs_background": "light"
     },
     "output_type": "display_data"
    }
   ],
   "source": [
    "pd.DataFrame(history.history).plot()"
   ]
  },
  {
   "cell_type": "markdown",
   "id": "2965e389",
   "metadata": {
    "execution": {
     "iopub.execute_input": "2021-08-31T13:52:44.777685Z",
     "iopub.status.busy": "2021-08-31T13:52:44.777289Z",
     "iopub.status.idle": "2021-08-31T13:52:44.789145Z",
     "shell.execute_reply": "2021-08-31T13:52:44.787712Z",
     "shell.execute_reply.started": "2021-08-31T13:52:44.777606Z"
    },
    "papermill": {
     "duration": 2.581559,
     "end_time": "2021-08-31T23:45:39.289416",
     "exception": false,
     "start_time": "2021-08-31T23:45:36.707857",
     "status": "completed"
    },
    "tags": []
   },
   "source": [
    "Looks better than first model."
   ]
  },
  {
   "cell_type": "code",
   "execution_count": 21,
   "id": "082ef6a1",
   "metadata": {
    "execution": {
     "iopub.execute_input": "2021-08-31T23:45:43.956651Z",
     "iopub.status.busy": "2021-08-31T23:45:43.955667Z",
     "iopub.status.idle": "2021-08-31T23:45:57.319968Z",
     "shell.execute_reply": "2021-08-31T23:45:57.320539Z",
     "shell.execute_reply.started": "2021-08-31T12:33:18.060662Z"
    },
    "papermill": {
     "duration": 15.536904,
     "end_time": "2021-08-31T23:45:57.320724",
     "exception": false,
     "start_time": "2021-08-31T23:45:41.783820",
     "status": "completed"
    },
    "tags": []
   },
   "outputs": [
    {
     "name": "stderr",
     "output_type": "stream",
     "text": [
      "/opt/conda/lib/python3.7/site-packages/tensorflow/python/keras/engine/sequential.py:450: UserWarning: `model.predict_classes()` is deprecated and will be removed after 2021-01-01. Please use instead:* `np.argmax(model.predict(x), axis=-1)`,   if your model does multi-class classification   (e.g. if it uses a `softmax` last-layer activation).* `(model.predict(x) > 0.5).astype(\"int32\")`,   if your model does binary classification   (e.g. if it uses a `sigmoid` last-layer activation).\n",
      "  warnings.warn('`model.predict_classes()` is deprecated and '\n"
     ]
    },
    {
     "name": "stdout",
     "output_type": "stream",
     "text": [
      "              precision    recall  f1-score   support\n",
      "\n",
      "           0       0.85      0.81      0.83      4961\n",
      "           1       0.82      0.86      0.84      5039\n",
      "\n",
      "    accuracy                           0.83     10000\n",
      "   macro avg       0.83      0.83      0.83     10000\n",
      "weighted avg       0.83      0.83      0.83     10000\n",
      "\n"
     ]
    },
    {
     "data": {
      "text/plain": [
       "<AxesSubplot:>"
      ]
     },
     "execution_count": 21,
     "metadata": {},
     "output_type": "execute_result"
    },
    {
     "data": {
      "image/png": "[encoded data removed]",
      "text/plain": [
       "<Figure size 432x288 with 2 Axes>"
      ]
     },
     "metadata": {
      "needs_background": "light"
     },
     "output_type": "display_data"
    }
   ],
   "source": [
    "y_pred = model_v2.predict_classes(X_test)\n",
    "\n",
    "print(classification_report(y_test, y_pred))\n",
    "\n",
    "sns.heatmap(confusion_matrix(y_test, y_pred), \n",
    "            annot=True, fmt='.0f', \n",
    "            xticklabels=['Predicted negative', 'Predicted positive'], \n",
    "            yticklabels=['Negative', 'Positive'])"
   ]
  },
  {
   "cell_type": "markdown",
   "id": "808c2809",
   "metadata": {
    "papermill": {
     "duration": 2.236395,
     "end_time": "2021-08-31T23:46:01.757922",
     "exception": false,
     "start_time": "2021-08-31T23:45:59.521527",
     "status": "completed"
    },
    "tags": []
   },
   "source": [
    "Use of full-sentences would increase accurcy. But it is time-consuming and seems difficult to overwhelm simple Logistic regression model."
   ]
  }
 ],
 "metadata": {
  "kernelspec": {
   "display_name": "Python 3",
   "language": "python",
   "name": "python3"
  },
  "language_info": {
   "codemirror_mode": {
    "name": "ipython",
    "version": 3
   },
   "file_extension": ".py",
   "mimetype": "text/x-python",
   "name": "python",
   "nbconvert_exporter": "python",
   "pygments_lexer": "ipython3",
   "version": "3.9.17"
  },
  "papermill": {
   "default_parameters": {},
   "duration": 1576.321975,
   "end_time": "2021-08-31T23:46:07.770641",
   "environment_variables": {},
   "exception": null,
   "input_path": "__notebook__.ipynb",
   "output_path": "__notebook__.ipynb",
   "parameters": {},
   "start_time": "2021-08-31T23:19:51.448666",
   "version": "2.3.3"
  }
 },
 "nbformat": 4,
 "nbformat_minor": 5
}
