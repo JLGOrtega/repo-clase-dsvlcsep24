{
 "cells": [
  {
   "attachments": {},
   "cell_type": "markdown",
   "metadata": {},
   "source": [
    "# LSTM VS TRANSFORMER\n",
    "\n",
    "Utilizar los siguientes tutoriales de keras para poner en marcha ambos modelos con los mismos datos (IMDB Reviews).\n",
    "\n",
    "#### LSTM\n",
    "https://keras.io/examples/nlp/bidirectional_lstm_imdb/\n",
    "\n",
    "#### TRANSFORMERS\n",
    "https://keras.io/examples/nlp/text_classification_with_transformer/\n",
    "\n",
    "\n",
    "Tunead los modelos y haced un pequeño informe de la performance:\n",
    "\n",
    "1. Graficas de train vs test loss (history)\n",
    "2. Tambla comparativa metricas\n",
    "3. Grafica de metricas adicional\n",
    "4. Comentad cual es el mejor approach\n",
    "    - Cual entrena mas rapido\n",
    "    - Cual obtiene mejores resultados\n",
    "    - Cual os ha costado mas de tunear\n",
    "\n",
    "** Ambos modelos se pueden correr en colab, pero el informe hacedlo en un NB"
   ]
  },
  {
   "attachments": {},
   "cell_type": "markdown",
   "metadata": {},
   "source": []
  }
 ],
 "metadata": {
  "kernelspec": {
   "display_name": "tf_gpu",
   "language": "python",
   "name": "python3"
  },
  "language_info": {
   "codemirror_mode": {
    "name": "ipython",
    "version": 3
   },
   "file_extension": ".py",
   "mimetype": "text/x-python",
   "name": "python",
   "nbconvert_exporter": "python",
   "pygments_lexer": "ipython3",
   "version": "3.8.16"
  },
  "orig_nbformat": 4
 },
 "nbformat": 4,
 "nbformat_minor": 2
}
