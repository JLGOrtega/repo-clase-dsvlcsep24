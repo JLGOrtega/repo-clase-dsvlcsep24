{
 "cells": [
  {
   "cell_type": "markdown",
   "metadata": {},
   "source": [
    "![imagen](./img/numpy.png)\n",
    "\n",
    "# Numpy y matrices\n",
    "\n",
    "En este Notebook descubrirás la que es probablemente **la librería más utilizada en Python**, `numpy`, la cual nos va a permitir trabajar con una gran variedad de datos en memoria como colecciones de documentos, imágenes, audios o medidas numéricas.\n",
    "\n",
    "1. [Listas y matrices](#1.-Listas-y-matrices)\n",
    "2. [Numpy](#2.-Numpy)\n",
    "3. [Creacion de arrays](#3.-Creacion-de-arrays)\n",
    "4. [Atributos del array](#4.-Atributos-del-array)\n",
    "5. [Indexado](#5.-Indexado)\n",
    "6. [Slicing y subarrays](#6.-Slicing-y-subarrays)\n",
    "7. [Reshape](#7.-Reshape)\n",
    "8. [Tipos de los datos](#8.-Tipos-de-los-datos)\n",
    "9. [Concatenado](#9.-Concatenado)\n",
    "10. [Sustitucion](#10.-Sustitucion)\n",
    "11. [Copias](#11.-Copias)\n",
    "12. [Splitting](#12.-Splitting)\n",
    "13. [Agregaciones](#13.-Agregaciones)"
   ]
  },
  {
   "cell_type": "markdown",
   "metadata": {},
   "source": [
    "## 1. Listas y matrices\n",
    "Ya conocemos muy bien cómo funcionan las listas, aunque en este apartado profundizaremos un poco más en sus funcionalidades, acceso y dimensiones. **Las listas en Python son muy versátiles, lo que nos dan una gran flexibilidad a la hora de modelizar nuestros datos**. Además este apartado nos servirá para refrescar conceptos con vistas a **comparar listas de Python con los arrays de Numpy**.\n",
    "\n",
    "Declaramos una lista sencilla"
   ]
  },
  {
   "cell_type": "code",
   "execution_count": null,
   "metadata": {},
   "outputs": [],
   "source": [
    "my_list = [1,2,3,4,5,6,7,8,9]\n",
    "my_list"
   ]
  },
  {
   "cell_type": "markdown",
   "metadata": {},
   "source": [
    "Recordamos cómo accediamos a los elementos"
   ]
  },
  {
   "cell_type": "code",
   "execution_count": null,
   "metadata": {},
   "outputs": [],
   "source": [
    "# Primero\n",
    "print(my_list[0])\n",
    "\n",
    "# Segundo\n",
    "print(my_list[1])\n",
    "\n",
    "# Ultimo\n",
    "print(my_list[-1])\n",
    "\n",
    "# Del 2do al 4to incluidos\n",
    "print(my_list[1:4])\n",
    "\n",
    "# Desde el segundo elemento\n",
    "print(my_list[1:])\n"
   ]
  },
  {
   "cell_type": "markdown",
   "metadata": {},
   "source": [
    "¿Y si necesitamos una lista con múltiples dimensiones? ¡También podemos!"
   ]
  },
  {
   "cell_type": "code",
   "execution_count": null,
   "metadata": {},
   "outputs": [],
   "source": [
    "my_matrix = [[1,2,3],\n",
    "            [4,5,6],\n",
    "            [7,8,9]]\n",
    "my_matrix"
   ]
  },
  {
   "cell_type": "markdown",
   "metadata": {},
   "source": [
    "De esta forma estamos declarando una matriz de 3 filas x 3 columnas. ¿Cómo accedemos a sus elementos?"
   ]
  },
  {
   "cell_type": "code",
   "execution_count": null,
   "metadata": {},
   "outputs": [],
   "source": [
    "# Primera lista\n",
    "print(my_matrix[0])\n",
    "\n",
    "# Ultima lista\n",
    "print(my_matrix[-1])\n",
    "\n",
    "# Tercer elemento de la primera fila\n",
    "print(my_matrix[0][2])\n",
    "print(type(my_matrix[0][2]))\n",
    "\n",
    "# Añadir elementos\n",
    "my_matrix.append([10,11,12])\n",
    "print(my_matrix)\n",
    "\n",
    "# Queremo añadir más elementos a una de las listas de la matriz\n",
    "my_matrix[0].extend([1.5, 2.5, 3.5])\n",
    "my_matrix[1].append([1.5, 2.5, 3.5]) # Elemento nuevo\n",
    "print(my_matrix)"
   ]
  },
  {
   "cell_type": "markdown",
   "metadata": {},
   "source": [
    "En los ejemplos de arriba hemos accedido a los elementos de la matriz directamente con sus índices, pero si no sabemos cómo de grande es la matriz, habrá que iterarla mediante bucles."
   ]
  },
  {
   "cell_type": "code",
   "execution_count": null,
   "metadata": {},
   "outputs": [],
   "source": [
    "my_matrix = [[1,2,3],\n",
    "            [4,5,6],\n",
    "            [7,8,9]]\n",
    "\n",
    "for i in range(len(my_matrix)):\n",
    "    \n",
    "    for j in range(len(my_matrix)):\n",
    "        \n",
    "        print(my_matrix[i][j], end = ' ')\n",
    "        \n",
    "    print()"
   ]
  },
  {
   "cell_type": "markdown",
   "metadata": {},
   "source": [
    "Bien, hasta aquí todo correcto, **¿pero y si queremos multiplicar nuestra matriz por un escalar?** Es decir, simplemente aplicarle una operación a cada elemento de la matriz. Veamos cómo se hace."
   ]
  },
  {
   "cell_type": "code",
   "execution_count": null,
   "metadata": {},
   "outputs": [],
   "source": [
    "my_matrix = [[1,2,3],\n",
    "            [4,5,6],\n",
    "            [7,8,9]]\n",
    "\n",
    "for i in range(len(my_matrix)):\n",
    "    \n",
    "    for j in range(len(my_matrix)):\n",
    "        \n",
    "        my_matrix[i][j] = my_matrix[i][j] * 10\n",
    "        \n",
    "my_matrix"
   ]
  },
  {
   "cell_type": "markdown",
   "metadata": {},
   "source": [
    "¡Conseguido! Aunque un poco aparatoso para ser una operación tan sencilla como multiplicar una matriz por 10. ¿Y si queremos hacer una matriz traspuesta? ¿Y si tenemos dos matrices de las mismas dimensiones y queremos multiplicar elemento a elemento? Se complica todavía más la cosa y tendremos que acudir a los bucles para solucionarlo cuando realmente hay una librería que lo hace por nosotros :)\n",
    "\n",
    "Recuerda que gran parte de la potencia de Python reside en sus librerías, ya que ahorra muchísimo tiempo el no tener que implementar ciertas funciones en nuestro código ya que esas y muchas más vienen ya desarrolladas en paquetes más que probados como `numpy`."
   ]
  },
  {
   "cell_type": "markdown",
   "metadata": {},
   "source": [
    "## 2. Numpy\n",
    "Esta librería va un paso más allá que las listas y permite realizar operaciones entre arrays, listas o matrices de una manera óptima. Características de `numpy`:\n",
    "\n",
    "* **Librería**: Es una librería de Python por lo que tendrás que importarla mediante `import numpy as np`. Por costumbre se suele poner el alias `np`.\n",
    "\n",
    "* **Listas y matrices**: Si nunca has trabajado con estos formatos de datos, no te puedes imaginar la cantidad de cosas que puedes hacer. Formatos de datos como por ejemplo las imágenes no dejan de ser matrices de números, que interpretados de la manera adecuada, representan píxeles con sus posiciones y sus colores.\n",
    "\n",
    "* **Rendimiento**: no es un tema *core* en Data Science ya que para realizar tus análisis explotatorios o ejecutar tus modelos, lo vas a poder hacer igual sin preocuparte de este factor. Ahora bien, la cosa se complica cuando productivizamos productos de datos y el SLA (Service Learning Agreement) es exigente. Aquí entra en juego `numpy` ya que es una librería muy rápida.\n",
    "\n",
    "\n",
    "**¿Qué podemos tratar con `numpy`?**\n",
    "* **Imágenes**: las imágenes se pueden tratar como arrays de pixels, los cuales tienen unos valores dependiendo del color.\n",
    "* **Audio**: también se pueden manejar mediante arrays unidimensionales.\n",
    "* **Texto**: lo podemos representar también en un formato numérico.\n",
    "\n",
    "Podrás encontrar toda la [documentación de `numpy` en su página oficial](https://numpy.org/doc/)."
   ]
  },
  {
   "cell_type": "code",
   "execution_count": null,
   "metadata": {},
   "outputs": [],
   "source": [
    "!pip install numpy"
   ]
  },
  {
   "cell_type": "code",
   "execution_count": null,
   "metadata": {},
   "outputs": [],
   "source": [
    "# Importamos numpy\n",
    "import numpy as np\n",
    "np.__version__"
   ]
  },
  {
   "cell_type": "code",
   "execution_count": null,
   "metadata": {},
   "outputs": [],
   "source": [
    "help(np)"
   ]
  },
  {
   "cell_type": "code",
   "execution_count": null,
   "metadata": {
    "collapsed": true,
    "jupyter": {
     "outputs_hidden": true
    }
   },
   "outputs": [],
   "source": [
    "np?"
   ]
  },
  {
   "cell_type": "code",
   "execution_count": null,
   "metadata": {
    "collapsed": true,
    "jupyter": {
     "outputs_hidden": true
    }
   },
   "outputs": [],
   "source": [
    "help(np.random)"
   ]
  },
  {
   "cell_type": "markdown",
   "metadata": {},
   "source": [
    "Se verá más en detalle en posteriores apartados, pero algunos ejemplos de cosas que podemos hacer con `numpy` son:"
   ]
  },
  {
   "cell_type": "code",
   "execution_count": null,
   "metadata": {},
   "outputs": [],
   "source": [
    "array = np.array([1,2,3,4,5,6,7,8,9])\n",
    "\n",
    "array * 10"
   ]
  },
  {
   "cell_type": "code",
   "execution_count": null,
   "metadata": {},
   "outputs": [],
   "source": [
    "from skimage.io import imread\n",
    "import matplotlib.pyplot as plt\n",
    "\n",
    "imagen = imread(\"./img/python.jpg\")\n",
    "print(type(imagen))\n",
    "print(imagen.shape)\n",
    "\n",
    "plt.imshow(imagen)"
   ]
  },
  {
   "cell_type": "code",
   "execution_count": null,
   "metadata": {
    "collapsed": true,
    "jupyter": {
     "outputs_hidden": true
    }
   },
   "outputs": [],
   "source": [
    "imagen"
   ]
  },
  {
   "cell_type": "code",
   "execution_count": null,
   "metadata": {},
   "outputs": [],
   "source": [
    "print(imagen.ndim)\n",
    "print(imagen.shape)\n",
    "print(imagen.size)"
   ]
  },
  {
   "cell_type": "code",
   "execution_count": null,
   "metadata": {},
   "outputs": [],
   "source": [
    "imagen[200][200]"
   ]
  },
  {
   "cell_type": "markdown",
   "metadata": {},
   "source": [
    "## 3. Creacion de arrays\n",
    "Lo primero, importamos la librería de `numpy`"
   ]
  },
  {
   "cell_type": "code",
   "execution_count": 28,
   "metadata": {},
   "outputs": [],
   "source": [
    "import numpy as np"
   ]
  },
  {
   "cell_type": "markdown",
   "metadata": {},
   "source": [
    "**Vectores**\n",
    "\n",
    "Ya podemos crear nuestro primer vector. Que se trata de un array de 1D"
   ]
  },
  {
   "cell_type": "code",
   "execution_count": null,
   "metadata": {},
   "outputs": [],
   "source": [
    "array = np.array([1,2,3,4,5])\n",
    "print(array)\n",
    "print(type(array))"
   ]
  },
  {
   "cell_type": "markdown",
   "metadata": {},
   "source": [
    "El acceso a sus elementos es igual que en las listas"
   ]
  },
  {
   "cell_type": "code",
   "execution_count": null,
   "metadata": {},
   "outputs": [],
   "source": [
    "print(array[0])\n",
    "print(array[-1])\n",
    "print(array[-2])"
   ]
  },
  {
   "cell_type": "markdown",
   "metadata": {},
   "source": [
    "**Fíjate en el tipo**. Ya no son listas, aunque lo parecen. Incluso los tipos de los datos ya no son los que conocemos, sino que `numpy` aporta nuevos tipos de datos. Lo veremos más adelante."
   ]
  },
  {
   "cell_type": "code",
   "execution_count": null,
   "metadata": {},
   "outputs": [],
   "source": [
    "print(type(array))\n",
    "print(type(array[0]))\n",
    "print(array.dtype)"
   ]
  },
  {
   "cell_type": "markdown",
   "metadata": {},
   "source": [
    "**Matrices**\n",
    "\n",
    "Vamos a crear ahora un **array multidimensional**"
   ]
  },
  {
   "cell_type": "code",
   "execution_count": null,
   "metadata": {},
   "outputs": [],
   "source": [
    "my_list = [[1,2,3], [4,5,6], [7,8,9]]\n",
    "print(my_list)"
   ]
  },
  {
   "cell_type": "code",
   "execution_count": null,
   "metadata": {},
   "outputs": [],
   "source": [
    "array_multi = np.array([[1,2,3], [4,5,6], [7,8,9]])\n",
    "print(array_multi)"
   ]
  },
  {
   "cell_type": "markdown",
   "metadata": {},
   "source": [
    "Otra ventaja de usar `numpy` en vez de listas es que el `print` lo realiza en formato matriz, lo que nos permite ver los datos mucho mejor que si lo imprimiese en una sola línea.\n",
    "\n",
    "**Secuencias**\n",
    "\n",
    "¿Recuerdas `range()`? Lo usábamos en listas para crear secuencias, estableciendo el punto de inicio, de parada, y el salto entre elementos. En `numpy` hay algo parecido denominado `arange`. [Te dejo el enlace a la documentación](https://numpy.org/doc/stable/reference/generated/numpy.arange.html)."
   ]
  },
  {
   "cell_type": "code",
   "execution_count": null,
   "metadata": {},
   "outputs": [],
   "source": [
    "# Array del 0 al 9\n",
    "print(np.arange(10))\n",
    "\n",
    "# Del 0 al 9, con saltos de 2\n",
    "print(np.arange(start=0,stop=10,step=2))\n",
    "\n",
    "# Array de 0 al 10, con saltos de 0.5\n",
    "print(np.arange(0, 10, 0.5))\n",
    "\n",
    "# Especficiando el tipo de dato\n",
    "print(np.arange(0, 10, 2, np.float64))"
   ]
  },
  {
   "cell_type": "markdown",
   "metadata": {},
   "source": [
    "**Random**\n",
    "\n",
    "Otra opción es usar el paquete `random` de `numpy`. **Muy útil cuando tenemos que crear secuencias aleatorias**, y lo mejor de todo es que tiene una gran cantidad de opciones para configurar. [Consulta la documentación para más detalle](https://docs.scipy.org/doc/numpy-1.14.0/reference/routines.random.html)."
   ]
  },
  {
   "cell_type": "code",
   "execution_count": null,
   "metadata": {},
   "outputs": [],
   "source": [
    "print(np.random.rand(10))\n",
    "\n",
    "# Matriz de numeros aleatorios\n",
    "print(np.random.randint(5, size = (3,4)))\n",
    "\n",
    "# Unidimensional\n",
    "print(np.random.randint(5,10, size = (10)))"
   ]
  },
  {
   "cell_type": "code",
   "execution_count": null,
   "metadata": {},
   "outputs": [],
   "source": [
    "print(np.random.randint(5,20, size = (3,4)))"
   ]
  },
  {
   "cell_type": "code",
   "execution_count": null,
   "metadata": {},
   "outputs": [],
   "source": [
    "array_10 = np.random.rand(10)\n",
    "print(array_10)\n",
    "print(np.round(array_10,4))"
   ]
  },
  {
   "cell_type": "markdown",
   "metadata": {},
   "source": [
    "**Seed**\n",
    "\n",
    "Como habrás podido comprobar, cada ejecución de una secuencia aleatoria es diferente. **Fijando una semilla, todas las secuencias aleatorias que ejecutes (si tienen los mismos argumentos), tendrán siempre el mismo output**. Se usa mucho cuando queremos replicar resultados, o compartirlos con otros compañeros. Los resultados que obtengas en este Notebook no serán los mismos que obtenga el compañero, en caso de haber un factor aleatorio, por lo que no vamos a poder comparar los Notebooks... A no ser que ambos fijéis la misma semilla.\n",
    "\n",
    "**¿Qué valor ponemos en seed? El que queramos** mientras en el resto de Notebooks donde queramos replicar estos resultados, tengan la misma semilla."
   ]
  },
  {
   "cell_type": "code",
   "execution_count": null,
   "metadata": {},
   "outputs": [],
   "source": [
    "np.random.seed(1234)\n",
    "print(np.random.rand(10))\n",
    "\n",
    "np.random.seed(5678)\n",
    "print(np.random.rand(10))\n",
    "\n",
    "np.random.seed(None)\n",
    "print(np.random.rand(10))"
   ]
  },
  {
   "cell_type": "code",
   "execution_count": null,
   "metadata": {},
   "outputs": [],
   "source": [
    "np.random.seed(1234)\n",
    "print(np.random.rand(10))"
   ]
  },
  {
   "cell_type": "code",
   "execution_count": null,
   "metadata": {},
   "outputs": [],
   "source": [
    "np.random.seed(5678)\n",
    "print(np.random.rand(10))"
   ]
  },
  {
   "cell_type": "code",
   "execution_count": null,
   "metadata": {},
   "outputs": [],
   "source": [
    "np.random.seed(1234)\n",
    "print(np.random.randint(10))"
   ]
  },
  {
   "cell_type": "code",
   "execution_count": null,
   "metadata": {},
   "outputs": [],
   "source": [
    "np.random.seed(5678)\n",
    "print(np.random.randint(10))"
   ]
  },
  {
   "cell_type": "markdown",
   "metadata": {},
   "source": [
    "**Matrices con valores**\n",
    "[Hay diferentes maneras de crear arrays o matrices](https://numpy.org/doc/stable/reference/routines.array-creation.html), pero en ocasiones necesitamos tener predefinidas matrices con un único valor. Veamos algunos ejemplos."
   ]
  },
  {
   "cell_type": "code",
   "execution_count": null,
   "metadata": {},
   "outputs": [],
   "source": [
    "# Matriz identidad\n",
    "print(np.identity(3))"
   ]
  },
  {
   "cell_type": "code",
   "execution_count": null,
   "metadata": {},
   "outputs": [],
   "source": [
    "# Matriz de 0s\n",
    "np.zeros((3,3))"
   ]
  },
  {
   "cell_type": "code",
   "execution_count": null,
   "metadata": {},
   "outputs": [],
   "source": [
    "# Matriz de unos\n",
    "np.ones((3,3), np.int32)"
   ]
  },
  {
   "cell_type": "code",
   "execution_count": null,
   "metadata": {},
   "outputs": [],
   "source": [
    "# Matriz con 100es\n",
    "np.full((3,3), 100)"
   ]
  },
  {
   "cell_type": "markdown",
   "metadata": {},
   "source": [
    "<table align=\"left\">\n",
    " <tr><td width=\"80\"><img src=\"./img/ejercicio.png\" style=\"width:auto;height:auto\"></td>\n",
    "     <td style=\"text-align:left\">\n",
    "         <h3>Ejercicio creación de arrays en numpy</h3>\n",
    "\n",
    "      \n",
    "<ol>\n",
    "    <li>Crea un array con 3 deportes que te gusten</li>\n",
    "    <li>Accede al primer elemento y al último</li>\n",
    "    <li>Comprueba los tipos de los datos</li>\n",
    "    <li>Crea una secuencia de numeros del 10 al 0, con saltos de -0.5</li>\n",
    "    <li>Crea una matriz de 5x2 con numeros enteros aleatorios comprendidos entre el 10 y el 20</li>\n",
    "</ol>\n",
    "         \n",
    " </td></tr>\n",
    "</table>"
   ]
  },
  {
   "cell_type": "code",
   "execution_count": null,
   "metadata": {},
   "outputs": [],
   "source": []
  },
  {
   "cell_type": "markdown",
   "metadata": {},
   "source": [
    "## 4. Atributos del array"
   ]
  },
  {
   "cell_type": "markdown",
   "metadata": {},
   "source": [
    "Hay ciertos atributos que debemos conocer:\n",
    "* `ndim`: es el numero de dimensiones. Número de niveles que tiene el array de `numpy`.\n",
    "* `shape`: tamaño de cada una de las dimensiones. Devuelve el resultado en formato `tupla`\n",
    "* `size`: cantidad de elementos del array."
   ]
  },
  {
   "cell_type": "code",
   "execution_count": null,
   "metadata": {},
   "outputs": [],
   "source": [
    "array_multi = np.array([[1,2,3], [4,5,6], [7,8,9]])\n",
    "print(array_multi)\n",
    "print(array_multi.ndim)\n",
    "print(array_multi.shape)\n",
    "print(array_multi.size)"
   ]
  },
  {
   "cell_type": "code",
   "execution_count": null,
   "metadata": {},
   "outputs": [],
   "source": [
    "my_list = [[[1,10], [2, 20], [3, 30]],[[4, 40], [5, 50], [6, 60]],[[7, 70], [8, 80], [9, 90]]]\n",
    "\n",
    "for i in range(len(my_list)):\n",
    "    for j in range(len(my_list[i])):\n",
    "        for z in range(len(my_list[i][j])):\n",
    "            print(my_list[i][j][z])"
   ]
  },
  {
   "cell_type": "code",
   "execution_count": null,
   "metadata": {},
   "outputs": [],
   "source": [
    "my_list = [[[1,10], [2, 20], [3, 30]],[[4, 40], [5, 50], [6, 60]],[[7, 70], [8, 80], [9, 90]]]\n",
    "\n",
    "print(len(my_list))\n",
    "print(len(my_list[0]))\n",
    "print(len(my_list[0][0]))"
   ]
  },
  {
   "cell_type": "code",
   "execution_count": null,
   "metadata": {},
   "outputs": [],
   "source": [
    "array_multi_3 = np.array([[[1,10], [2, 20], [3, 30]],\n",
    "                          [[4, 40], [5, 50], [6, 60]],\n",
    "                          [[7, 70], [8, 80], [9, 90]]])\n",
    "print(array_multi_3)\n",
    "print(\"ndim:\", array_multi_3.ndim)\n",
    "print(\"shape:\", array_multi_3.shape)\n",
    "print(\"size:\", array_multi_3.size)"
   ]
  },
  {
   "cell_type": "markdown",
   "metadata": {},
   "source": [
    "Otros atributos interesantes son:\n",
    "* `itemsize`: tamaño en bytes de los items del array\n",
    "* `nbytes`: tamaño en bytes de todo el array"
   ]
  },
  {
   "cell_type": "code",
   "execution_count": null,
   "metadata": {},
   "outputs": [],
   "source": [
    "array = np.array([1,2,3,4,5])\n",
    "print(array)\n",
    "print(array.itemsize)\n",
    "print(array.nbytes)"
   ]
  },
  {
   "cell_type": "code",
   "execution_count": null,
   "metadata": {},
   "outputs": [],
   "source": [
    "array.dtype"
   ]
  },
  {
   "cell_type": "code",
   "execution_count": null,
   "metadata": {},
   "outputs": [],
   "source": [
    "array = np.array([1,2,3,4,5], dtype = np.float64)\n",
    "print(array.itemsize)\n",
    "print(array.nbytes)"
   ]
  },
  {
   "cell_type": "markdown",
   "metadata": {},
   "source": [
    "Vemos que aumentando el tamaño de los elementos, el array es el doble de pesado. Profundizaremos más adelante en los tipos."
   ]
  },
  {
   "cell_type": "markdown",
   "metadata": {},
   "source": [
    "## 5. Indexado\n",
    "¿Cómo accedemos a los elementos del array?\n",
    "\n",
    "Declaremos primero varios arrays"
   ]
  },
  {
   "cell_type": "code",
   "execution_count": null,
   "metadata": {},
   "outputs": [],
   "source": [
    "array_1 = np.array([1,2,3,4,5])\n",
    "array_2 = np.array([[1,2,3], [4,5,6], [7,8,9]])\n",
    "array_3 = np.array([[[1,10], [2, 20], [3, 30]],\n",
    "                    [[4, 40], [5, 50], [6, 60]],\n",
    "                    [[7, 70], [8, 80], [9, 90]]])\n",
    "\n",
    "print(array_1.ndim)\n",
    "print(array_2.ndim)\n",
    "print(array_3.ndim)"
   ]
  },
  {
   "cell_type": "markdown",
   "metadata": {},
   "source": [
    "Probamos primero con el primer array"
   ]
  },
  {
   "cell_type": "code",
   "execution_count": null,
   "metadata": {},
   "outputs": [],
   "source": [
    "print(array_1[0])\n",
    "print(array_1[2:5])"
   ]
  },
  {
   "cell_type": "markdown",
   "metadata": {},
   "source": [
    "Vamos ahora con el de dos dimensiones"
   ]
  },
  {
   "cell_type": "code",
   "execution_count": null,
   "metadata": {},
   "outputs": [],
   "source": [
    "print(array_2[0])\n",
    "\n",
    "# Segundo elemento de la primera fila\n",
    "print(array_2[0][1])\n",
    "print(array_2[0,1])\n",
    "\n",
    "# Tipo del primer elemento\n",
    "print(type(array_2[0]))\n",
    "print(type(array_2[0][0]))"
   ]
  },
  {
   "cell_type": "markdown",
   "metadata": {},
   "source": [
    "Y ahora con el de 3"
   ]
  },
  {
   "cell_type": "code",
   "execution_count": null,
   "metadata": {},
   "outputs": [],
   "source": [
    "print(array_3)"
   ]
  },
  {
   "cell_type": "code",
   "execution_count": null,
   "metadata": {},
   "outputs": [],
   "source": [
    "print(array_3[0])\n",
    "print(array_3[0][-1][-1])\n",
    "print(array_3[0,-1,-1])"
   ]
  },
  {
   "cell_type": "markdown",
   "metadata": {},
   "source": [
    "## 6. Slicing y subarrays\n",
    "Ya hemos visto que podemos acceder a los elementos individuales del array usamos la sintaxis con corchetes, pero si necesitamos acceder a un conjunto de valores, tendremos que usar `:`. El slicing sigue la siguiente sintaxis:\n",
    "```Python\n",
    "x[start:stop:step]\n",
    "```\n",
    "Por defecto, si no ponemos alguno de estos argumentos, `start = 0`, `stop = tamaño de la dimensión` y `step = 1`.\n",
    "\n",
    "Recuerda, al igual que en listas, el `start` está incluido, mientras que el stop no.\n",
    "\n",
    "Veamos primero un ejemplo para una dimensión"
   ]
  },
  {
   "cell_type": "code",
   "execution_count": null,
   "metadata": {},
   "outputs": [],
   "source": [
    "# Array de 10 elementos\n",
    "x = np.arange(10)\n",
    "print(x)\n",
    "\n",
    "print(\"Del primer elemento al quinto\", x[0:5])\n",
    "\n",
    "print(\"Del primero al quinto con saltos de dos\", x[0:5:2])\n",
    "\n",
    "print(\"Desde el quinto\", x[5::])\n",
    "print(\"Desde el quinto\", x[5:]) # equivalente\n",
    "\n",
    "print(\"Desde el quinto hasta el penultimo\", x[5:-1])\n",
    "\n",
    "print(\"Desde el quinto, al primero\", x[5::-1])\n",
    "\n",
    "print(\"Sacar una copia\", x[:])\n",
    "print(\"Sacar una copia\", x.copy())\n",
    "\n",
    "print(\"Ultimos dos elementos\",x[-2:])"
   ]
  },
  {
   "cell_type": "markdown",
   "metadata": {},
   "source": [
    "<table align=\"left\">\n",
    " <tr><td width=\"80\"><img src=\"./img/ejercicio.png\" style=\"width:auto;height:auto\"></td>\n",
    "     <td style=\"text-align:left\">\n",
    "         <h3>Ejercicio slicing</h3>\n",
    "\n",
    "      \n",
    "<ol>\n",
    "    <li>Todos los elementos, pero de dos en dos</li>\n",
    "    <li>Todos los elementos, pero de dos en dos, a partir del segundo item</li>\n",
    "    <li>Todo, pero invertido</li>\n",
    "    <li>Obtén los últimos dos items, y muéstralos invertidos</li>\n",
    "    <li>Todo, excepto los ultimos dos items, y muéstralos invertidos.</li>\n",
    "</ol>\n",
    "         \n",
    " </td></tr>\n",
    "</table>"
   ]
  },
  {
   "cell_type": "code",
   "execution_count": null,
   "metadata": {},
   "outputs": [],
   "source": []
  },
  {
   "cell_type": "markdown",
   "metadata": {},
   "source": [
    "Veamos ahora unos ejemplos multidimensionales. Funciona igual, lo unico que ahora cada dimension irá separado por comas"
   ]
  },
  {
   "cell_type": "code",
   "execution_count": null,
   "metadata": {},
   "outputs": [],
   "source": [
    "array_multi = np.array([[1,2,3,4,5], [6,7,8,9,10], [11,12,13,14,15]])\n",
    "print(array_multi)\n",
    "\n",
    "print(\"2 primeras filas y 3 primeras columnas\\n\", array_multi[:2, :3])\n",
    "\n",
    "print(\"Todas las filas, cada dos columnas\\n\", array_multi[::, ::2])\n",
    "\n",
    "print(\"Invertir las filas\\n\", array_multi[::-1])\n",
    "\n",
    "print(\"Invertir columnas\\n\", array_multi[::,::-1])\n",
    "\n",
    "print(\"Invertir filas y columnas\\n\", array_multi[::-1,::-1])"
   ]
  },
  {
   "cell_type": "markdown",
   "metadata": {},
   "source": [
    "Otra forma de quedarnos con subarrays, o de filtrarlos, es mediante una máscara de booleanos. La máscara tiene las mismas dimensiones que el array, y donde haya un `True`, se quedará con ese valor, pero donde haya un `False`, lo ignorará."
   ]
  },
  {
   "cell_type": "code",
   "execution_count": null,
   "metadata": {},
   "outputs": [],
   "source": [
    "x = np.array([2,4,5,2,3,7,2])\n",
    "\n",
    "print(x)\n",
    "print(x == 2)"
   ]
  },
  {
   "cell_type": "code",
   "execution_count": null,
   "metadata": {},
   "outputs": [],
   "source": [
    "x_bools = np.array(x == 2)\n",
    "print(x_bools)\n",
    "print(x[x_bools])\n",
    "print(x_bools[x_bools])"
   ]
  },
  {
   "cell_type": "markdown",
   "metadata": {},
   "source": [
    "## 7. Reshape\n",
    "Con el reshape podremos **cambiar las dimensiones de los arrays**, siempre y cuando en numero de elementos sea posible. Por ejemplo, si tenemos 4 elementos, no podremos hacer una matriz de 3x3.\n",
    "\n",
    "Éste método se puede utilizar en una infinidad de casos, pero lo más habitual sería, partiendo de un array de una dimensión, convirtiéndolo en multidimensión."
   ]
  },
  {
   "cell_type": "code",
   "execution_count": null,
   "metadata": {},
   "outputs": [],
   "source": [
    "x = np.arange(9)\n",
    "print(x)\n",
    "\n",
    "y = x.reshape((3,3))\n",
    "print(y)"
   ]
  },
  {
   "cell_type": "code",
   "execution_count": null,
   "metadata": {},
   "outputs": [],
   "source": [
    "x = np.arange(30).reshape(2,3,5)\n",
    "print(x)"
   ]
  },
  {
   "cell_type": "code",
   "execution_count": null,
   "metadata": {},
   "outputs": [],
   "source": [
    "x = np.arange(30).reshape((6,5))\n",
    "print(x)"
   ]
  },
  {
   "cell_type": "markdown",
   "metadata": {},
   "source": [
    "<table align=\"left\">\n",
    " <tr><td width=\"80\"><img src=\"./img/error.png\" style=\"width:auto;height:auto\"></td>\n",
    "     <td style=\"text-align:left\">\n",
    "         <h3>ERRORES con reshape</h3>\n",
    "         \n",
    " </td></tr>\n",
    "</table>"
   ]
  },
  {
   "cell_type": "code",
   "execution_count": null,
   "metadata": {},
   "outputs": [],
   "source": [
    "x = np.array([1,2,3])\n",
    "x.reshape((3,4))"
   ]
  },
  {
   "cell_type": "markdown",
   "metadata": {},
   "source": [
    "## 8. Tipos de los datos\n",
    "En `numpy` también hay **que tener en cuenta los tipos de datos con los que trabajamos**, para no cometer el error de *mezclar peras con manzanas*. Es más, **`numpy` es mucho más variado en cuanto a tipos**, que el propio intérprete de Python. \n",
    "\n",
    "En el caso de `numpy`, hay que pensar en el factor tamaño cuando especifiquemos los tipos de los datos. No es lo mismo el numero 12, que el 120000000000. Desde el punto de vista del intérprete de Python, son dos `int`s, pero para numpy son un `int32` o un `int64`. Ese número es la cantidad de bits que se necesita para representar el valor. Cuanto más grande sea el valor, mayor cantidad de bits utilizaremos.\n",
    "\n",
    "[En la documentación tienes el detalle de todos los tipos de datos.](https://numpy.org/devdocs/user/basics.types.html)\n",
    "\n",
    "Por ejemplo, valores numéricos"
   ]
  },
  {
   "cell_type": "code",
   "execution_count": null,
   "metadata": {},
   "outputs": [],
   "source": [
    "# Valores normales\n",
    "x = np.array([1,2,3,4])\n",
    "print(x)\n",
    "print(x.dtype)\n",
    "\n",
    "# Valores mas grandes\n",
    "x = np.array([100000000000000000])\n",
    "print(x)\n",
    "print(x.dtype)"
   ]
  },
  {
   "cell_type": "code",
   "execution_count": null,
   "metadata": {},
   "outputs": [],
   "source": [
    "# Floats\n",
    "x = np.array([1.])\n",
    "print(x)\n",
    "print(x.dtype)"
   ]
  },
  {
   "cell_type": "markdown",
   "metadata": {},
   "source": [
    "Si tenemos booleanos"
   ]
  },
  {
   "cell_type": "code",
   "execution_count": null,
   "metadata": {},
   "outputs": [],
   "source": [
    "x = np.array([True, False, True])\n",
    "print(x.dtype)"
   ]
  },
  {
   "cell_type": "markdown",
   "metadata": {},
   "source": [
    "Cadenas de texto. La `U` viene de unicode, que es la codificación que sigue `numpy`. Y el número de al lado es la longitud de la cadena de texto más larga del array."
   ]
  },
  {
   "cell_type": "code",
   "execution_count": null,
   "metadata": {},
   "outputs": [],
   "source": [
    "x = np.array(['aaaa', 'b', 'c'])\n",
    "print(x.dtype)"
   ]
  },
  {
   "cell_type": "markdown",
   "metadata": {},
   "source": [
    "Podemos mezclar varios tipos de datos, pero `numpy` forzará un solo tipo. ¿Cómo lo hace? Realiza las conversiones de tal manera que no pierda información en la conversión. En la conversión prima el siguiente orden: String -> Float -> Int -> Boolean"
   ]
  },
  {
   "cell_type": "code",
   "execution_count": null,
   "metadata": {},
   "outputs": [],
   "source": [
    "print(np.array(['a', True]))\n",
    "print(np.array([1, False]))\n",
    "print(np.array([1, 1.]))"
   ]
  },
  {
   "cell_type": "markdown",
   "metadata": {},
   "source": [
    "## 9. Concatenado\n",
    "Para concatenar matrices, `numpy` tiene varios métodos: `np.concatenate`, `np.vstack` o `np.hstack`. Lo único que hay que tener en cuenta es que coincidan las dimensiones, para que el concatenado sea correcto."
   ]
  },
  {
   "cell_type": "code",
   "execution_count": null,
   "metadata": {},
   "outputs": [],
   "source": [
    "x = np.array([1,2,3])\n",
    "y = np.array([3,2,1])\n",
    "np.concatenate((x,y))"
   ]
  },
  {
   "cell_type": "markdown",
   "metadata": {},
   "source": [
    "Como ves, el concatenado es horizontal. Al ser elementos de 1D, mantiene las dimensiones. Se pueden concatenar todos los arrays que queramos."
   ]
  },
  {
   "cell_type": "code",
   "execution_count": null,
   "metadata": {},
   "outputs": [],
   "source": [
    "z = np.array([99,99,99])\n",
    "np.concatenate([x,y,z])"
   ]
  },
  {
   "cell_type": "markdown",
   "metadata": {},
   "source": [
    "Probemos ahora con arrays bidimensionales"
   ]
  },
  {
   "cell_type": "code",
   "execution_count": null,
   "metadata": {},
   "outputs": [],
   "source": [
    "xy = np.array([[1,2,3],\n",
    "              [4,5,6]])\n",
    "\n",
    "np.concatenate([xy,xy])"
   ]
  },
  {
   "cell_type": "markdown",
   "metadata": {},
   "source": [
    "Ahora podemos jugar con los ejes. El método `concatenate` tiene un argumento que es `axis`, con el cual podemos jugar con las dimensiones y elegir el tipo de concatenado."
   ]
  },
  {
   "cell_type": "code",
   "execution_count": null,
   "metadata": {},
   "outputs": [],
   "source": [
    "np.concatenate([xy,xy], axis = 1)"
   ]
  },
  {
   "cell_type": "markdown",
   "metadata": {},
   "source": [
    "Si tenemos arrays de diferentes dimensiones, puede resultar más útil usar `vstack`"
   ]
  },
  {
   "cell_type": "code",
   "execution_count": null,
   "metadata": {},
   "outputs": [],
   "source": [
    "xy = np.array([[1,2,3],\n",
    "              [4,5,6]])\n",
    "\n",
    "x = np.array([7,8,9])\n",
    "\n",
    "np.vstack([xy,x])"
   ]
  },
  {
   "cell_type": "markdown",
   "metadata": {},
   "source": [
    "O si queremos hacer un concatenado horizontal, lo haremos mediante `hstack`."
   ]
  },
  {
   "cell_type": "code",
   "execution_count": null,
   "metadata": {},
   "outputs": [],
   "source": [
    "xy = np.array([[1,2,3],\n",
    "              [4,5,6]])\n",
    "\n",
    "x = np.array([[7], [8]])\n",
    "np.hstack([xy,x])"
   ]
  },
  {
   "cell_type": "markdown",
   "metadata": {},
   "source": [
    "## 10. Sustitucion\n",
    "En `numpy` podemos aplicar operaciones para sustituir elementos dependiendo de ciertas condiciones, y con esa sintaxis de sustitución también es posible filtrar datos de las matrices."
   ]
  },
  {
   "cell_type": "code",
   "execution_count": null,
   "metadata": {},
   "outputs": [],
   "source": [
    "xy = np.array([[1,2,3],\n",
    "              [4,5,6]])\n",
    "\n",
    "my_filter = ([True, False])\n",
    "\n",
    "xy[my_filter]"
   ]
  },
  {
   "cell_type": "markdown",
   "metadata": {},
   "source": [
    "De esta manera, lo que hacemos es preparar una lista de booleanos, y se lo aplicamos al array. Si lo queremos hacer de una manera más automática y entendible, utilizamos `where`."
   ]
  },
  {
   "cell_type": "code",
   "execution_count": null,
   "metadata": {},
   "outputs": [],
   "source": [
    "xy = np.array([[1,2,3],\n",
    "              [4,5,6]])\n",
    "\n",
    "\n",
    "print(np.where(xy < 4, 10, 20))\n",
    "print(np.where(xy < 4, 10, xy))"
   ]
  },
  {
   "cell_type": "markdown",
   "metadata": {},
   "source": [
    "O incluso podemos sustituit los que se den en la condición, y el resto mantener los valores del array."
   ]
  },
  {
   "cell_type": "markdown",
   "metadata": {},
   "source": [
    "## 11. Copias\n",
    "Una característica importante y extremadamente útil en los arrays es que cuando **hacemos *slicing*, realmente obtenemos de los arrays vistas, no copias**. ¿Esto qué significa? Que si hacemos *slicing*, creando un nuevo array, y lo modificamos, también estaremos modificando el original.\n",
    "\n",
    "Esto difiere con las listas de Python, que al aplicar *slicing* lo que obtenemos es una copia, y por tanto cualquier modificación sobre la nueva lista no afectará a la lista original.\n",
    "\n",
    "Declaro un array"
   ]
  },
  {
   "cell_type": "code",
   "execution_count": null,
   "metadata": {},
   "outputs": [],
   "source": [
    "x2 = np.ones((3, 4))\n",
    "x2"
   ]
  },
  {
   "cell_type": "markdown",
   "metadata": {},
   "source": [
    "Extraemos una matriz 2x2"
   ]
  },
  {
   "cell_type": "code",
   "execution_count": null,
   "metadata": {},
   "outputs": [],
   "source": [
    "x2_sub = x2[:2, :2]\n",
    "print(x2_sub)"
   ]
  },
  {
   "cell_type": "markdown",
   "metadata": {},
   "source": [
    "Si ahora modificamos un elemento del nuevo subarray, verás que el array original ha cambiado"
   ]
  },
  {
   "cell_type": "code",
   "execution_count": null,
   "metadata": {},
   "outputs": [],
   "source": [
    "x2_sub[0, 0] = 99\n",
    "print(x2_sub)"
   ]
  },
  {
   "cell_type": "code",
   "execution_count": null,
   "metadata": {},
   "outputs": [],
   "source": [
    "print(x2)"
   ]
  },
  {
   "cell_type": "markdown",
   "metadata": {},
   "source": [
    "Esta característica es bastante útil ya que si trabajamos con datasets muy grandes, podremos acceder y procesar partes del dataset original, sin necesidad de hacer copias, y por tanto, sin sobrecargar la memoria.\n",
    "\n",
    "Aunque siempre tenemos la opción de realizar copias del array mediante la sentencia `copy()`"
   ]
  },
  {
   "cell_type": "code",
   "execution_count": null,
   "metadata": {},
   "outputs": [],
   "source": [
    "x2_sub_copy = x2[:2, :2].copy()\n",
    "print(x2_sub_copy)"
   ]
  },
  {
   "cell_type": "markdown",
   "metadata": {},
   "source": [
    "Ahora si modificamos el subarray, el original se quedará como estaba"
   ]
  },
  {
   "cell_type": "code",
   "execution_count": null,
   "metadata": {},
   "outputs": [],
   "source": [
    "x2_sub_copy[0, 0] = 42\n",
    "print(x2_sub_copy)"
   ]
  },
  {
   "cell_type": "code",
   "execution_count": null,
   "metadata": {},
   "outputs": [],
   "source": [
    "print(x2)"
   ]
  },
  {
   "cell_type": "markdown",
   "metadata": {},
   "source": [
    "## 12. Splitting\n",
    "Al igual que hacíamos el concatenado, podemos realizar la operación contraria mediante `np.split`, `np.hsplit` y `np.vsplit`. Le podemos pasar una lista de indices por los que realizar el split."
   ]
  },
  {
   "cell_type": "code",
   "execution_count": null,
   "metadata": {},
   "outputs": [],
   "source": [
    "x = np.array([1, 2, 3, 99, 99, 3, 2, 1])\n",
    "x1, x2, x3 = np.split(x, [2, 5])\n",
    "print(x1, x2, x3)"
   ]
  },
  {
   "cell_type": "code",
   "execution_count": null,
   "metadata": {},
   "outputs": [],
   "source": [
    "print(x[:2])\n",
    "print(x[2:5])\n",
    "print(x[5:])"
   ]
  },
  {
   "cell_type": "markdown",
   "metadata": {},
   "source": [
    "N puntos de splitting, supone crear N + 1 subarrays nuevos.\n",
    "\n",
    "`np.hsplit` y `np.vsplit` funcionan de manera similar"
   ]
  },
  {
   "cell_type": "code",
   "execution_count": null,
   "metadata": {},
   "outputs": [],
   "source": [
    "grid = np.arange(16).reshape((4, 4))\n",
    "grid"
   ]
  },
  {
   "cell_type": "code",
   "execution_count": null,
   "metadata": {},
   "outputs": [],
   "source": [
    "upper, lower = np.vsplit(grid, [2])\n",
    "print(upper)\n",
    "print(lower)"
   ]
  },
  {
   "cell_type": "code",
   "execution_count": null,
   "metadata": {},
   "outputs": [],
   "source": [
    "left, right = np.hsplit(grid, [2])\n",
    "print(left)\n",
    "print(right)"
   ]
  },
  {
   "cell_type": "markdown",
   "metadata": {},
   "source": [
    "## 13. Agregaciones\n",
    "Cuando nos enfrentamos a una gran cantidad de datos, un primer paso es calcular estadísticos mediante agregaciones de los datos, como por ejemplo la media, mediana o la desviación estándar. Con estas medidads podemos resumir el conjunto de los datos.\n",
    "\n",
    "Numpy tiene una serie de funciones de agregación integradas rápidas para trabajar con sus matrices.\n",
    "\n",
    "#### Suma\n",
    "Como primer ejemplo, vamos a calcular la suma de los valores de un array. Lo podemos implementar con la función *built-in* de Python `sum`."
   ]
  },
  {
   "cell_type": "code",
   "execution_count": null,
   "metadata": {},
   "outputs": [],
   "source": [
    "L = np.random.random(100)\n",
    "print(L)\n",
    "sum(L)"
   ]
  },
  {
   "cell_type": "markdown",
   "metadata": {},
   "source": [
    "La sintaxis para el caso de Numpy es muy similar"
   ]
  },
  {
   "cell_type": "code",
   "execution_count": null,
   "metadata": {},
   "outputs": [],
   "source": [
    "np.sum(L)"
   ]
  },
  {
   "cell_type": "markdown",
   "metadata": {},
   "source": [
    "Sin embargo, Numpy es computacionalmente mucho más potente a la hora de realizar este tipo de cálculos"
   ]
  },
  {
   "cell_type": "code",
   "execution_count": null,
   "metadata": {},
   "outputs": [],
   "source": [
    "big_array = np.random.rand(1000000)\n",
    "%timeit sum(big_array)\n",
    "%timeit np.sum(big_array)"
   ]
  },
  {
   "cell_type": "markdown",
   "metadata": {},
   "source": [
    "Como ves, la función `sum` y `np.sum` son funciones diferentes. No solo computacionalmente, sino que `np.sum` está preparada para trabajar con arrays multidimensionales."
   ]
  },
  {
   "cell_type": "markdown",
   "metadata": {},
   "source": [
    "#### Mínimo y Máximo\n",
    "Al igual que antes, Python dispone de las funciones `min` y `max`, utilizadas para obtener los valores mínimo y máximo de un array."
   ]
  },
  {
   "cell_type": "code",
   "execution_count": null,
   "metadata": {},
   "outputs": [],
   "source": [
    "min(big_array), max(big_array)"
   ]
  },
  {
   "cell_type": "markdown",
   "metadata": {},
   "source": [
    "La función equivalente de Numpy tiene una sintaxis muy similar"
   ]
  },
  {
   "cell_type": "code",
   "execution_count": null,
   "metadata": {},
   "outputs": [],
   "source": [
    "np.min(big_array), np.max(big_array)"
   ]
  },
  {
   "cell_type": "code",
   "execution_count": null,
   "metadata": {},
   "outputs": [],
   "source": [
    "%timeit min(big_array)\n",
    "%timeit np.min(big_array)"
   ]
  },
  {
   "cell_type": "markdown",
   "metadata": {},
   "source": [
    "Para `min`, `max`, `sum` y otras funciones de agregación de Numpy, tienes disponible otra sintaxis, todavía más corta."
   ]
  },
  {
   "cell_type": "code",
   "execution_count": null,
   "metadata": {},
   "outputs": [],
   "source": [
    "print(big_array.min(), big_array.max(), big_array.sum())"
   ]
  },
  {
   "cell_type": "markdown",
   "metadata": {},
   "source": [
    "####  Agregaciones multidimensionales\n",
    "Un tipo de agregación muy habitual en Numpy es a lo largo de una fila, o de una columna."
   ]
  },
  {
   "cell_type": "code",
   "execution_count": null,
   "metadata": {},
   "outputs": [],
   "source": [
    "M = np.random.random((3, 4))\n",
    "print(M)"
   ]
  },
  {
   "cell_type": "markdown",
   "metadata": {},
   "source": [
    "Por defecto, cada función de agregación de Numpy se aplicará sobre toda la matriz"
   ]
  },
  {
   "cell_type": "code",
   "execution_count": null,
   "metadata": {},
   "outputs": [],
   "source": [
    "M.sum()"
   ]
  },
  {
   "cell_type": "markdown",
   "metadata": {},
   "source": [
    "Las funciones de agregación tienen un parámetro en el que especificamos el eje sobre el cual queremos aplicar dicha operación. Por ejemplo, podemos conseguir el valor mínimo de cada columna, simplemente introduciendo el parámetro `axis=0`"
   ]
  },
  {
   "cell_type": "code",
   "execution_count": null,
   "metadata": {},
   "outputs": [],
   "source": [
    "M.sum(axis=0)"
   ]
  },
  {
   "cell_type": "code",
   "execution_count": null,
   "metadata": {},
   "outputs": [],
   "source": [
    "M.min(axis=0)"
   ]
  },
  {
   "cell_type": "markdown",
   "metadata": {},
   "source": [
    "La función devuelve cuatro valores, que se corresponden con las cuatro columnas.\n",
    "\n",
    "Y de manera similar podemos obtener el valor máximo por fila."
   ]
  },
  {
   "cell_type": "code",
   "execution_count": null,
   "metadata": {},
   "outputs": [],
   "source": [
    "M.max(axis=1)"
   ]
  },
  {
   "cell_type": "markdown",
   "metadata": {},
   "source": [
    "La manera en la que se especifica el eje puede ser confusa, sobretodo si vienes de otro lenguaje. El argumento `axis` especifica la dimension sobre la que queremos aplicar la operación, en vez de la dimension que queremos que nos devuelva. Por lo que poniendo `axis=0` significa que el primer eje se quedará fijo, y agregará los valores de cada columna\n",
    "\n",
    "#### Otras funciones de agregación\n",
    "Numpy proporciona muchísimas funciones de agregación por lo que no veremos todas en detalle este notebook. No obstante, sí que es interesante conocer aquellas funciones de numpy que están hechas para ignorar los missings, es decir los `NaN`. Aquí tienes una tabla con varias funciones de agregación de gran utilidad, así como sus versiones compatibles para missings.\n",
    "\n",
    "|Function Name      |   NaN-safe Version  | Description                                   |\n",
    "|-------------------|---------------------|-----------------------------------------------|\n",
    "| ``np.sum``        | ``np.nansum``       | Compute sum of elements                       |\n",
    "| ``np.prod``       | ``np.nanprod``      | Compute product of elements                   |\n",
    "| ``np.mean``       | ``np.nanmean``      | Compute mean of elements                      |\n",
    "| ``np.std``        | ``np.nanstd``       | Compute standard deviation                    |\n",
    "| ``np.var``        | ``np.nanvar``       | Compute variance                              |\n",
    "| ``np.min``        | ``np.nanmin``       | Find minimum value                            |\n",
    "| ``np.max``        | ``np.nanmax``       | Find maximum value                            |\n",
    "| ``np.argmin``     | ``np.nanargmin``    | Find index of minimum value                   |\n",
    "| ``np.argmax``     | ``np.nanargmax``    | Find index of maximum value                   |\n",
    "| ``np.median``     | ``np.nanmedian``    | Compute median of elements                    |\n",
    "| ``np.percentile`` | ``np.nanpercentile``| Compute rank-based statistics of elements     |\n",
    "| ``np.any``        | N/A                 | Evaluate whether any elements are true        |\n",
    "| ``np.all``        | N/A                 | Evaluate whether all elements are true        |"
   ]
  },
  {
   "cell_type": "markdown",
   "metadata": {},
   "source": [
    "#### Ejemplo\n",
    "##### ¿Cuál es la estatura media de los presidentes de EEUU?\n",
    "Las funciones de agregación de Numpy pueden resultar de gran utilidad a la hora de resumir sets de datos. En este ejemplo vamos a considerar las diferentes estaturas de los presidentes de Estados Unidos. Tienes estos datos disponibles en el SV *president_heights.csv*.\n",
    "\n",
    "Utilizaremos el paquete Pandas para leer los datos"
   ]
  },
  {
   "cell_type": "code",
   "execution_count": null,
   "metadata": {},
   "outputs": [],
   "source": [
    "import pandas as pd\n",
    "data = pd.read_csv('data/president_heights.csv')\n",
    "data.head()"
   ]
  },
  {
   "cell_type": "code",
   "execution_count": null,
   "metadata": {},
   "outputs": [],
   "source": [
    "heights = np.array(data['height(cm)'])\n",
    "print(heights)"
   ]
  },
  {
   "cell_type": "markdown",
   "metadata": {},
   "source": [
    "Ahora que tenemos los datos en un array podemos calcular una serie de estadísticos"
   ]
  },
  {
   "cell_type": "code",
   "execution_count": null,
   "metadata": {},
   "outputs": [],
   "source": [
    "print(\"Mean height:       \", heights.mean())\n",
    "print(\"Standard deviation:\", heights.std())\n",
    "print(\"Minimum height:    \", heights.min())\n",
    "print(\"Maximum height:    \", heights.max())"
   ]
  },
  {
   "cell_type": "markdown",
   "metadata": {},
   "source": [
    "Fíjate que en cada operación de agregación, estamos reduciendo el array entero a un único valor, el cual nos da información sobre cómo se distribuyen los valores.\n",
    "\n",
    "Podemos ver también los cuantiles:"
   ]
  },
  {
   "cell_type": "code",
   "execution_count": null,
   "metadata": {},
   "outputs": [],
   "source": [
    "print(\"25th percentile:   \", np.percentile(heights, 25))\n",
    "print(\"Median:            \", np.median(heights))\n",
    "print(\"75th percentile:   \", np.percentile(heights, 75))"
   ]
  },
  {
   "cell_type": "markdown",
   "metadata": {},
   "source": [
    "Vemos que la altura mediana de los presidentes es de 182 cm.\n",
    "\n",
    "Por supuesto, en ocasiones resulta más útil desarrollar representaciones visuales de los datos, en vez de calcular simples estadísticos. Esto lo podemos hacer mediante librerías como seaborn o matplotlib."
   ]
  },
  {
   "cell_type": "code",
   "execution_count": 63,
   "metadata": {},
   "outputs": [],
   "source": [
    "%matplotlib inline\n",
    "import matplotlib.pyplot as plt\n",
    "import seaborn; seaborn.set()  # set plot style"
   ]
  },
  {
   "cell_type": "code",
   "execution_count": null,
   "metadata": {},
   "outputs": [],
   "source": [
    "plt.hist(heights)\n",
    "plt.title('Height Distribution of US Presidents')\n",
    "plt.xlabel('height (cm)')\n",
    "plt.ylabel('number');"
   ]
  }
 ],
 "metadata": {
  "interpreter": {
   "hash": "7c77fdb427e7cbc9bc1367dd530fc2b36aacdbbde1ac83c85833b10dfa8b831c"
  },
  "kernelspec": {
   "display_name": "Python 3.7.4 64-bit",
   "name": "python3"
  },
  "language_info": {
   "codemirror_mode": {
    "name": "ipython",
    "version": 3
   },
   "file_extension": ".py",
   "mimetype": "text/x-python",
   "name": "python",
   "nbconvert_exporter": "python",
   "pygments_lexer": "ipython3",
   "version": "3.9.18"
  }
 },
 "nbformat": 4,
 "nbformat_minor": 4
}
