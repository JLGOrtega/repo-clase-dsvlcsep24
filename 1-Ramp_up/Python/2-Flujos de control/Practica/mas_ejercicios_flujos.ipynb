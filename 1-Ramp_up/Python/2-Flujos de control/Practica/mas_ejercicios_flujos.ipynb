{
 "cells": [
  {
   "cell_type": "markdown",
   "metadata": {},
   "source": [
    "### Ejercicio 1\n",
    "Declara una variable numérica que representará un día cualquiera de la semana (1 a 7). Implementa la siguiente casuística:\n",
    "\n",
    "- Si el número es 1 o 7, imprime \"Fin de semana\"\n",
    "- Si está entre 2 y 5, imprime \"Día laboral\"\n",
    "- Si el número es 6, imprime \"Medio descanso\"\n",
    "- En cualquier otro caso, imprime \"Valor no válido\"\n"
   ]
  },
  {
   "cell_type": "markdown",
   "metadata": {},
   "source": [
    "\n",
    "### Ejercicio 2\n",
    "Vamos a crear un clasificador de vehículos. Declara las siguientes variables:\n",
    "\n",
    "> peso  \n",
    "> tipo\n",
    "\n",
    "Implementa la siguiente casuística:\n",
    "\n",
    "1. Si el tipo es \"Camión\" y el peso es superior a 5000 kg, el vehículo es \"Vehículo pesado\"\n",
    "2. Si el tipo es \"Coche\" y el peso está entre 1000 kg y 2000 kg, el vehículo es \"Vehículo ligero\"\n",
    "3. Si el tipo no es \"Moto\" y el peso es menor de 500 kg, el vehículo es \"Vehículo muy ligero\"\n",
    "4. En cualquier otro caso, clasifica el vehículo como \"Sin clasificación\"\n"
   ]
  },
  {
   "cell_type": "markdown",
   "metadata": {},
   "source": [
    "\n",
    "### Ejercicio 3\n",
    "Vamos a crear un sistema que determine si un alumno tiene derecho a una beca. Declara las siguientes variables:\n",
    "\n",
    "> nota  \n",
    "> ingresos\n",
    "\n",
    "Implementa la siguiente lógica:\n",
    "\n",
    "1. Si la nota es mayor de 8, imprime \"Posible candidato\"\n",
    "2. Si es así, comprueba si los ingresos son menores de 20000, en cuyo caso imprime \"Beca aprobada\". Si los ingresos son superiores, imprime \"No cumple los requisitos económicos\"\n",
    "3. Si la nota no es mayor de 8, imprime \"No cumple los requisitos académicos\"\n"
   ]
  },
  {
   "cell_type": "markdown",
   "metadata": {},
   "source": [
    "\n",
    "### Ejercicio 4\n",
    "Escribe un programa que tenga dos variables: un string y una lista de strings. El programa debe recorrer la lista e imprimir por pantalla cada elemento de la lista concatenado con el string.\n"
   ]
  },
  {
   "cell_type": "markdown",
   "metadata": {},
   "source": [
    "\n",
    "### Ejercicio 6\n",
    "Dada la siguiente lista:\n",
    "\n",
    "> list2 = [25, 35, 45, 55, 65, 75, 85, 95, 105, 115]\n",
    "\n",
    "Implementa un programa que los recorra e imprima por pantalla solo los divisibles por 15. Si nos encontramos con uno mayor que 100, detén el bucle.\n"
   ]
  },
  {
   "cell_type": "markdown",
   "metadata": {},
   "source": [
    "\n",
    "### Ejercicio 7\n",
    "Escribe un programa que imprima por pantalla todos los números que sean múltiplos de 3 y de 4, dentro del rango de valores (50, 150).\n"
   ]
  },
  {
   "cell_type": "markdown",
   "metadata": {},
   "source": [
    "\n",
    "### Ejercicio 8\n",
    "Implementa un programa que imprima por pantalla el siguiente patrón:\n",
    "\n",
    "```\n",
    "1 \n",
    "1 2 \n",
    "1 2 3 \n",
    "1 2 3 4 \n",
    "1 2 3 4 5\n",
    "```\n",
    "\n",
    "NOTA: No debe haber espacios al final de cada línea.\n"
   ]
  },
  {
   "cell_type": "markdown",
   "metadata": {},
   "source": [
    "\n",
    "### Ejercicio 9\n",
    "En este ejercicio vamos a crear otro juego sencillo. Se trata de intentar adivinar una palabra secreta entre dos intentos. Pasos a seguir:\n",
    "\n",
    "1. Declara la palabra secreta en una variable\n",
    "2. Declara una variable para el número de intentos, e implementa un bucle `while` que verifique que aún hay intentos restantes.\n",
    "3. Dentro del bucle, solicita al usuario que introduzca una palabra y compárala con la palabra secreta.\n",
    "4. Si el usuario acierta, imprime \"Has ganado\" y sal del bucle.\n",
    "5. Si se acaban los intentos sin acertar, imprime \"Lo siento, has perdido\".\n"
   ]
  },
  {
   "cell_type": "markdown",
   "metadata": {},
   "source": [
    "\n",
    "### Ejercicio 10\n",
    "Crea un programa que divida dos números introducidos por el usuario. Utiliza `try` y `except` para manejar posibles errores de división por cero. Si se produce un error, imprime \"No se puede dividir por cero\". Si no, imprime el resultado."
   ]
  }
 ],
 "metadata": {
  "language_info": {
   "name": "python"
  }
 },
 "nbformat": 4,
 "nbformat_minor": 2
}
