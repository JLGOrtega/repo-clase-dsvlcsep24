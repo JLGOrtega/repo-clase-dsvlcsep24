{
 "cells": [
  {
   "cell_type": "markdown",
   "metadata": {},
   "source": [
    "## Ejercicio 3\n",
    "Vamos a crear una clase para representar una biblioteca. La clase debe permitir gestionar libros y su disponibilidad.\n",
    "\n",
    "* Nombre de la clase: \"Biblioteca\"\n",
    "* Atributos comunes:\n",
    "    * Tipo: \"Pública\"\n",
    "    * Horario: \"09:00 - 20:00\"\n",
    "* Atributos propios de cada biblioteca:\n",
    "    * Nombre - String\n",
    "    * Dirección - String\n",
    "    * Lista de libros disponibles - Lista de strings\n",
    "    * Lista de libros prestados - Lista de strings\n",
    "* Método para añadir un libro a la lista de disponibles\n",
    "* Método para prestar un libro, que lo elimine de la lista de disponibles y lo añada a la de prestados\n",
    "* Método para devolver un libro, que lo elimine de la lista de prestados y lo añada a la de disponibles\n",
    "* Método que imprime el nombre de la biblioteca y su dirección\n",
    "* Método que devuelve la cantidad total de libros en la biblioteca (sumando disponibles y prestados)\n",
    "\n",
    "Se pide:\n",
    "1. Implementar la clase \"Biblioteca\"\n",
    "2. Crear dos bibliotecas con datos inventados\n",
    "3. Añadir libros y prestar algunos de ellos\n",
    "4. Verificar la cantidad total de libros en ambas bibliotecas\n",
    "5. Imprimir el nombre y dirección de todas las bibliotecas que contengan la palabra \"Central\"\n"
   ]
  },
  {
   "cell_type": "code",
   "execution_count": 1,
   "metadata": {},
   "outputs": [
    {
     "name": "stdout",
     "output_type": "stream",
     "text": [
      "2\n",
      "Biblioteca: Central Madrid, Dirección: Avenida del Sol 45\n"
     ]
    }
   ],
   "source": []
  },
  {
   "cell_type": "markdown",
   "metadata": {},
   "source": [
    "\n",
    "## Ejercicio 4\n",
    "Vamos a modelar un vehículo que se puede alquilar, como en una empresa de alquiler de coches.\n",
    "\n",
    "* Nombre de la clase: \"VehículoAlquiler\"\n",
    "* Atributos comunes:\n",
    "    * Disponible: True\n",
    "* Atributos propios de cada vehículo:\n",
    "    * Marca - String\n",
    "    * Modelo - String\n",
    "    * Año - int\n",
    "    * Kilometraje - float\n",
    "* Método para alquilar el vehículo, que cambie el atributo `Disponible` a False\n",
    "* Método para devolver el vehículo, que cambie `Disponible` a True y aumente el kilometraje con el valor que se pasa como argumento\n",
    "* Método para obtener la descripción del vehículo (marca, modelo y año)\n",
    "* Método que calcula el precio del alquiler según los kilómetros recorridos, con una tarifa fija de 0.50€/km\n",
    "\n",
    "Se pide:\n",
    "1. Implementar la clase \"VehículoAlquiler\"\n",
    "2. Crear tres vehículos y alquilar dos de ellos\n",
    "3. Devolver uno de los vehículos con un kilometraje añadido\n",
    "4. Imprimir la descripción de todos los vehículos disponibles\n",
    "5. Calcular el precio del alquiler de uno de los vehículos devueltos\n"
   ]
  },
  {
   "cell_type": "code",
   "execution_count": 2,
   "metadata": {},
   "outputs": [
    {
     "name": "stdout",
     "output_type": "stream",
     "text": [
      "Vehículo: Toyota Corolla (2021)\n",
      "Vehículo: BMW X5 (2022)\n",
      "Precio del alquiler: 60.0€\n"
     ]
    }
   ],
   "source": []
  },
  {
   "cell_type": "markdown",
   "metadata": {},
   "source": [
    "\n",
    "## Ejercicio 5\n",
    "Vamos a modelar un sistema de gestión de cursos para una plataforma educativa.\n",
    "\n",
    "* Nombre de la clase: \"Curso\"\n",
    "* Atributos comunes:\n",
    "    * Modalidad: \"Online\"\n",
    "* Atributos propios de cada curso:\n",
    "    * Nombre - String\n",
    "    * Profesor - String\n",
    "    * Número de lecciones - int\n",
    "    * Estudiantes inscritos - Lista de strings (nombres de los estudiantes)\n",
    "* Método para inscribir un estudiante, que añade un nombre a la lista de inscritos\n",
    "* Método para calcular el número total de estudiantes inscritos\n",
    "* Método que imprime un resumen del curso con su nombre y profesor\n",
    "* Método para cambiar al profesor del curso\n",
    "\n",
    "Se pide:\n",
    "1. Implementar la clase \"Curso\"\n",
    "2. Crear dos cursos con información inventada\n",
    "3. Inscribir a algunos estudiantes en cada curso\n",
    "4. Cambiar el profesor de uno de los cursos\n",
    "5. Imprimir el resumen de todos los cursos con más de 3 estudiantes inscritos\n"
   ]
  },
  {
   "cell_type": "code",
   "execution_count": 3,
   "metadata": {},
   "outputs": [
    {
     "name": "stdout",
     "output_type": "stream",
     "text": [
      "Curso: Python para Principiantes, Profesor: Laura Martínez\n"
     ]
    }
   ],
   "source": []
  },
  {
   "cell_type": "markdown",
   "metadata": {},
   "source": [
    "\n",
    "## Ejercicio 6\n",
    "Vamos a crear una clase para modelar una cuenta bancaria.\n",
    "\n",
    "* Nombre de la clase: \"CuentaBancaria\"\n",
    "* Atributos comunes:\n",
    "    * Moneda: \"EUR\"\n",
    "* Atributos propios de cada cuenta:\n",
    "    * Número de cuenta - String\n",
    "    * Titular - String\n",
    "    * Saldo - float\n",
    "* Método para realizar un depósito, que aumente el saldo con un valor pasado como argumento\n",
    "* Método para retirar una cantidad, que disminuya el saldo si hay fondos suficientes, sino devuelve un mensaje indicando falta de fondos\n",
    "* Método para obtener el saldo actual\n",
    "* Método para transferir dinero a otra cuenta (pasada como argumento), que disminuya el saldo si hay fondos suficientes y aumente el saldo de la cuenta destino\n",
    "\n",
    "Se pide:\n",
    "1. Implementar la clase \"CuentaBancaria\"\n",
    "2. Crear dos cuentas con información inventada\n",
    "3. Realizar depósitos y retirar dinero de las cuentas\n",
    "4. Transferir dinero de una cuenta a otra\n",
    "5. Imprimir el saldo de ambas cuentas después de la transferencia\n"
   ]
  },
  {
   "cell_type": "code",
   "execution_count": 4,
   "metadata": {},
   "outputs": [
    {
     "name": "stdout",
     "output_type": "stream",
     "text": [
      "Saldo de Juan Pérez: 800 EUR\n",
      "Saldo de María López: 800 EUR\n"
     ]
    }
   ],
   "source": []
  }
 ],
 "metadata": {
  "kernelspec": {
   "display_name": "gmail_env",
   "language": "python",
   "name": "python3"
  },
  "language_info": {
   "codemirror_mode": {
    "name": "ipython",
    "version": 3
   },
   "file_extension": ".py",
   "mimetype": "text/x-python",
   "name": "python",
   "nbconvert_exporter": "python",
   "pygments_lexer": "ipython3",
   "version": "3.9.19"
  }
 },
 "nbformat": 4,
 "nbformat_minor": 2
}
