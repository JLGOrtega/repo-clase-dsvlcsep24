{
 "cells": [
  {
   "cell_type": "markdown",
   "metadata": {},
   "source": [
    "![imagen](./img/ejercicios.png)\n",
    "\n",
    "# Ejercicios Clases y Objetos"
   ]
  },
  {
   "attachments": {},
   "cell_type": "markdown",
   "metadata": {},
   "source": [
    "## Ejercicio 1\n",
    "Somos una empresa que tiene varias tiendas de electrodomésticos. Necesitamos un programa para manejar las tiendas, ver las ventas que han tenido, cuántos empleados hay, etc... Para ello vamos a modelizar la tienda en una clase, que tendrá las siguientes características:\n",
    "* Nombre clase: \"Tienda\"\n",
    "* Atributos comunes:\n",
    "    * Tipo: \"Electrodomésticos\"\n",
    "    * Abierta: True\n",
    "* Atributos propios de cada tienda:\n",
    "    * Nombre - String\n",
    "    * Dirección - String\n",
    "    * Número de empleados - int\n",
    "    * Ventas últimos 3 meses - Lista de 3 numeros\n",
    "* Método para calcular las ventas de todos los meses, que devuelva un número con todas las ventas.\n",
    "* Método que calcula la media de ventas de los últimos meses, por empleado\n",
    "* Método que devuelve en un string el nombre de la tienda, junto con su dirección.\n",
    "* Método que obtiene las ventas del último mes.\n",
    "* Método para dar una proyección de las ventas en caso de haber invertido X dinero en marketing en esa tienda. Siendo X el parámetro de entrada. Si X es menor de 1000, las ventas de los ultimos 3 meses hubiesen sido de (1.2 x ventas), si es mayor o igual de 1000, las ventas hubiesen sido de (1.5 x venta). El método reescribe el atributo de ventas en los últimos 3 meses, y además devuelve las ventas con el aumento.\n",
    "\n",
    "Se pide:\n",
    "1. Implementar la clase \"Tienda\"\n",
    "2. Crear tres tiendas con datos inventados\n",
    "3. Comprueba en al menos una de ellas, todo lo implementado en la clase tienda (sus atributos, media de ventas, ventas/empleado...)\n",
    "3. Calcular las ventas del último mes de todas las tiendas. Para ello usa el bucle `for`\n",
    "4. Imprime por pantalla los nombres de las tiendas cuya dirección lleve el string \"Avenida\"\n",
    "5. Seguro que ya has hecho este apartado... Documenta la clase :)"
   ]
  },
  {
   "cell_type": "code",
   "execution_count": 17,
   "metadata": {},
   "outputs": [],
   "source": [
    "class Tienda(object):\n",
    "    tipo = \"Electrodomesticos\"\n",
    "    abierta = True\n",
    "\n",
    "    def __init__(self, nombre, direccion, n_emp, ventas_3m):\n",
    "        self.nombre = nombre\n",
    "        self.direccion = direccion\n",
    "        self.n_emp = n_emp\n",
    "        self.ventas_3m = ventas_3m\n",
    "\n",
    "    def suma_ventas(self):\n",
    "        return sum(self.ventas_3m)\n",
    "    \n",
    "    def media_emp(self):\n",
    "        return self.suma_ventas()/(self.n_emp+0.00000000000000000000000001)\n",
    "    \n",
    "    def stringtodo(self):\n",
    "        return self.direccion + \" \" + self.nombre\n",
    "    def last_ventas(self):\n",
    "        return self.ventas_3m[-1]\n",
    "        \n",
    "    def proyeccion(self, X):\n",
    "        if X < 1000:\n",
    "            incremento = 1.2\n",
    "        else:\n",
    "            incremento = 1.5\n",
    "        \n",
    "        valores_proyectados = []\n",
    "        for numerin in self.ventas_3m:\n",
    "            valores_proyectados.append(numerin*incremento)\n",
    "        \n",
    "        self.ventas_3m = valores_proyectados\n",
    "        return self.ventas_3m\n",
    "\n",
    "    \n"
   ]
  },
  {
   "cell_type": "code",
   "execution_count": 19,
   "metadata": {},
   "outputs": [
    {
     "data": {
      "text/plain": [
       "3"
      ]
     },
     "execution_count": 19,
     "metadata": {},
     "output_type": "execute_result"
    }
   ],
   "source": [
    "tienda = Tienda(\"a\", \"b\", 2, [1,2,3])\n",
    "tienda.last_ventas()"
   ]
  },
  {
   "cell_type": "markdown",
   "metadata": {},
   "source": [
    "1. Implementar la clase \"Tienda\"\n",
    "2. Crear tres tiendas con datos inventados\n",
    "3. Comprueba en al menos una de ellas, todo lo implementado en la clase tienda (sus atributos, media de ventas, ventas/empleado...)\n",
    "3. Calcular las ventas del último mes de todas las tiendas. Para ello usa el bucle `for`\n",
    "4. Imprime por pantalla los nombres de las tiendas cuya dirección lleve el string \"Avenida\"\n",
    "5. Seguro que ya has hecho este apartado... Documenta la clase :)"
   ]
  },
  {
   "cell_type": "code",
   "execution_count": 23,
   "metadata": {},
   "outputs": [],
   "source": [
    "tienda1 = Tienda(\"a\", \"b\", 2, [1,2,3])\n",
    "tienda2 = Tienda(\"c\", \"d\", 3, [1,5,3])\n",
    "tienda3 = Tienda(\"e\", \"f\", 4, [1,6,3])"
   ]
  },
  {
   "cell_type": "code",
   "execution_count": 29,
   "metadata": {},
   "outputs": [
    {
     "name": "stdout",
     "output_type": "stream",
     "text": [
      "a\n"
     ]
    },
    {
     "data": {
      "text/plain": [
       "25"
      ]
     },
     "execution_count": 29,
     "metadata": {},
     "output_type": "execute_result"
    }
   ],
   "source": [
    "venta = 0\n",
    "for tienda in [tienda1, tienda2, tienda3]:\n",
    "    venta += tienda.suma_ventas()\n",
    "    if \"b\" in tienda.direccion:\n",
    "        print(tienda.nombre)\n",
    "venta"
   ]
  },
  {
   "cell_type": "code",
   "execution_count": null,
   "metadata": {},
   "outputs": [],
   "source": [
    "for tienda in "
   ]
  },
  {
   "cell_type": "code",
   "execution_count": null,
   "metadata": {},
   "outputs": [],
   "source": []
  },
  {
   "cell_type": "markdown",
   "metadata": {},
   "source": [
    "## Ejercicio 2\n",
    "En este ejercicio vamos a implementar una clase *Perro* en Python. La clase tiene las siguientes características:\n",
    "* Cosas que sabemos seguro que tiene un perro\n",
    "    * Tiene 4 patas\n",
    "    * 2 orejas\n",
    "    * 2 ojos\n",
    "    * Una velocidad de 0. Por defecto, el perro está parado\n",
    "* Cuando se inicialice:\n",
    "    * El perro será de una determinada raza\n",
    "    * Por defecto tendrá pelo \"Marrón\", a no ser que se diga lo contrario.\n",
    "    * Por defecto no tendrá dueño, a no ser que se diga lo contrario.\n",
    "    \n",
    "* Dispondrá también de un método llamado andar, que tiene un argumento de entrada (aumento_velocidad). Este valor se le sumará a la velocidad que ya llevaba el perro.\n",
    "* Necesita otro método (parar), donde pondremos la velocidad a 0.\n",
    "* Otro método llamado \"ladrar\", que tendrá un argumento de entrada, y la salida será el siguiente string: \"GUAU!\" + el argumento de entrada.\n",
    "\n",
    "\n",
    "Se pide:\n",
    "* Implementa la clase *Perro*\n",
    "* Crea un objeto de tipo *Perro*, sin dueño\n",
    "* Comprueba que están bien todos sus atributos\n",
    "* Prueba que ande, y comprueba su velocidad\n",
    "* Páralo\n",
    "* Documenta la clase *Perro*"
   ]
  },
  {
   "cell_type": "code",
   "execution_count": 30,
   "metadata": {},
   "outputs": [],
   "source": [
    "class Perro:\n",
    "    patas = 4\n",
    "    orejas = 2\n",
    "    ojos = 2\n",
    "    velocidad = 0\n",
    "\n",
    "    def __init__(self, raza, pelo = \"marron\", owner = False):\n",
    "        self.pelo = pelo\n",
    "        self.owner = owner\n",
    "        self.raza = raza\n",
    "\n",
    "    def andar(self, vel):\n",
    "        self.velocidad = self.velocidad + vel\n",
    "\n",
    "    def parar(self):\n",
    "        self.velocidad = 0\n",
    "\n",
    "    def ladrar(self, message):\n",
    "        return f\"Guau!! {message}\"\n",
    "    \n",
    "    \n",
    "\n",
    "\n"
   ]
  },
  {
   "cell_type": "code",
   "execution_count": 32,
   "metadata": {},
   "outputs": [],
   "source": [
    "perro = Perro(\"ghj\", \"vhjk\")"
   ]
  },
  {
   "cell_type": "code",
   "execution_count": 33,
   "metadata": {},
   "outputs": [
    {
     "data": {
      "text/plain": [
       "'Guau!! tuprima'"
      ]
     },
     "execution_count": 33,
     "metadata": {},
     "output_type": "execute_result"
    }
   ],
   "source": [
    "perro.ladrar(\"tuprima\")"
   ]
  },
  {
   "cell_type": "code",
   "execution_count": 43,
   "metadata": {},
   "outputs": [
    {
     "data": {
      "text/plain": [
       "0"
      ]
     },
     "execution_count": 43,
     "metadata": {},
     "output_type": "execute_result"
    }
   ],
   "source": [
    "perro.velocidad"
   ]
  },
  {
   "cell_type": "markdown",
   "metadata": {},
   "source": [
    "## EJERCICIO DE 2 BUCLES FOR"
   ]
  },
  {
   "cell_type": "markdown",
   "metadata": {},
   "source": [
    "Escribe una función en Python llamada `busca_matrix` que cumpla con los siguientes requisitos:\n",
    "\n",
    "**Parámetros de entrada**:\n",
    "\n",
    "- `ancho`: un número entero que representa el tamaño de una matriz cuadrada (número de filas y columnas).\n",
    "- `numero`: un número entero que se desea buscar dentro de la matriz.\n",
    "\n",
    "**Funcionalidad de la función**:\n",
    "\n",
    "1. **Generación de la matriz**:\n",
    "   - Crear una matriz cuadrada de tamaño `ancho` x `ancho`.\n",
    "   - Cada elemento de la matriz debe ser un número entero aleatorio entre 1 y 10 (incluyendo ambos).\n",
    "\n",
    "2. **Impresión de la matriz**:\n",
    "   - Imprimir la matriz generada, mostrando cada fila en una línea separada para facilitar su lectura.\n",
    "\n",
    "3. **Búsqueda del número**:\n",
    "   - Recorrer la matriz para encontrar todas las posiciones donde aparece el número especificado en el parámetro `numero`.\n",
    "   - Las posiciones deben identificarse mediante sus coordenadas de fila y columna dentro de la matriz.\n",
    "\n",
    "4. **Retorno de coordenadas**:\n",
    "   - Devolver una lista de coordenadas donde se encuentra el número buscado.\n",
    "   - Cada coordenada debe ser una lista o tupla en el formato `[indice_fila, indice_columna]`.\n",
    "\n",
    "**Ejemplo de uso**:\n",
    "\n",
    "Si se invoca la función de la siguiente manera:\n",
    "\n",
    "```python\n",
    "coordenadas_encontradas = busca_matrix(3, 5)\n",
    "```\n",
    "\n",
    "Y la matriz generada es:\n",
    "\n",
    "```\n",
    "[3, 5, 7]\n",
    "[5, 2, 5]\n",
    "[1, 4, 5]\n",
    "```\n",
    "\n",
    "La función debería imprimir:\n",
    "\n",
    "```\n",
    "[3, 5, 7]\n",
    "[5, 2, 5]\n",
    "[1, 4, 5]\n",
    "```\n",
    "\n",
    "Y el valor de `coordenadas_encontradas` sería:\n",
    "\n",
    "```python\n",
    "[[0, 1], [1, 0], [1, 2], [2, 2]]\n",
    "```\n",
    "\n",
    "**Instrucciones adicionales**:\n",
    "\n",
    "- Utiliza la biblioteca `random` de Python para generar números aleatorios.\n",
    "- Asegúrate de que el código sea eficiente y esté bien estructurado.\n",
    "- Añade comentarios si lo consideras necesario para mejorar la comprensión del código."
   ]
  },
  {
   "cell_type": "code",
   "execution_count": 53,
   "metadata": {},
   "outputs": [],
   "source": [
    "def busca_matrix(ancho, numero):\n",
    "    import random\n",
    "\n",
    "    \n",
    "    matrix = []\n",
    "    for indice_fila in  range(ancho):\n",
    "        matrix.append([])\n",
    "        for indice_columna in range(ancho):\n",
    "            matrix[indice_fila].append(random.randint(1,10))\n",
    "    \n",
    "    \n",
    "    [print(fila) for fila in matrix]\n",
    "\n",
    "    \n",
    "    coordenadas = []\n",
    "    for indice_fila in  range(ancho):\n",
    "        for indice_columna in range(ancho):\n",
    "            if matrix[indice_fila][indice_columna] == numero:\n",
    "                coordenadas.append([indice_fila, indice_columna])\n",
    "    \n",
    "    return coordenadas"
   ]
  },
  {
   "cell_type": "code",
   "execution_count": 54,
   "metadata": {},
   "outputs": [
    {
     "name": "stdout",
     "output_type": "stream",
     "text": [
      "[2, 10, 5, 6, 10]\n",
      "[1, 1, 3, 9, 3]\n",
      "[5, 3, 8, 7, 2]\n",
      "[7, 1, 2, 3, 10]\n",
      "[3, 2, 2, 10, 4]\n"
     ]
    },
    {
     "data": {
      "text/plain": [
       "[[0, 0], [2, 4], [3, 2], [4, 1], [4, 2]]"
      ]
     },
     "execution_count": 54,
     "metadata": {},
     "output_type": "execute_result"
    }
   ],
   "source": [
    "busca_matrix(5, 2)"
   ]
  },
  {
   "cell_type": "code",
   "execution_count": null,
   "metadata": {},
   "outputs": [],
   "source": []
  },
  {
   "cell_type": "code",
   "execution_count": 62,
   "metadata": {},
   "outputs": [],
   "source": [
    "class Calculin:\n",
    "    import math\n",
    "    marca = \"Joseluispowernumerics\"\n",
    "    memoria = []\n",
    "\n",
    "    def sumar(self, num1, num2):\n",
    "        suma = num1+num2\n",
    "        self.memoria.append({\"operacion\": \"suma\", \"Num1\": num1, \"Num2\": num2, \"Resultado\": suma})\n",
    "        print(f\"la suma de {num1} y {num2} es {suma}\")\n",
    "        \n",
    "    def division(self, num1, num2):\n",
    "        if num2 != 0:\n",
    "            division = num1/num2\n",
    "            self.memoria.append({\"operacion\": \"division\", \"Num1\": num1, \"Num2\": num2, \"Resultado\": division})\n",
    "            print(f\"la suma de {num1} y {num2} es {division}\")\n",
    "        else:\n",
    "            print(\"Division by zero\")\n",
    "\n",
    "    def sqrt(self, num1):\n",
    "        import math\n",
    "        if num1>0:\n",
    "            raiz = math.sqrt(num1)\n",
    "            self.memoria.append({\"operacion\": \"raiz\", \"Num1\": num1, \"Num2\": None, \"Resultado\": raiz})\n",
    "            print(f\"la raiz de {num1}  es {raiz}\")\n",
    "        else:\n",
    "            print(\"SQRT of a negative\")"
   ]
  },
  {
   "cell_type": "code",
   "execution_count": 33,
   "metadata": {},
   "outputs": [],
   "source": [
    "class Calculin:\n",
    "    import math\n",
    "    marca = \"Joseluispowernumerics\"\n",
    "    memoria = []\n",
    "\n",
    "    def sumar(self, num1, num2):\n",
    "        suma = num1+num2\n",
    "        self.memoria.append({\"operacion\": \"suma\", \"Num1\": num1, \"Num2\": num2, \"Resultado\": suma})\n",
    "        print(f\"la suma de {num1} y {num2} es {suma}\")\n",
    "        self.recortar_memoria()\n",
    "        \n",
    "    def division(self, num1, num2):\n",
    "        if num2 != 0:\n",
    "            division = num1/num2\n",
    "            self.memoria.append({\"operacion\": \"division\", \"Num1\": num1, \"Num2\": num2, \"Resultado\": division})\n",
    "            print(f\"la suma de {num1} y {num2} es {division}\")\n",
    "            self.recortar_memoria()\n",
    "        else:\n",
    "            print(\"Division by zero\")\n",
    "\n",
    "    def sqrt(self, num1):\n",
    "        import math\n",
    "        if num1>0:\n",
    "            raiz = math.sqrt(num1)\n",
    "            self.memoria.append({\"operacion\": \"raiz\", \"Num1\": num1, \"Num2\": None, \"Resultado\": raiz})\n",
    "            print(f\"la raiz de {num1}  es {raiz}\")\n",
    "            self.recortar_memoria()\n",
    "        else:\n",
    "            print(\"SQRT of a negative\")\n",
    "\n",
    "    def recortar_memoria(self):\n",
    "        if len(self.memoria)>10:\n",
    "            self.memoria.pop(0)"
   ]
  },
  {
   "cell_type": "code",
   "execution_count": 34,
   "metadata": {},
   "outputs": [],
   "source": [
    "calc = Calculin()"
   ]
  },
  {
   "cell_type": "code",
   "execution_count": 36,
   "metadata": {},
   "outputs": [
    {
     "name": "stdout",
     "output_type": "stream",
     "text": [
      "la suma de 0 y 0 es 0\n",
      "la suma de 1 y 1 es 2\n",
      "la suma de 2 y 2 es 4\n",
      "la suma de 3 y 3 es 6\n",
      "la suma de 4 y 4 es 8\n",
      "la suma de 5 y 5 es 10\n",
      "la suma de 6 y 6 es 12\n",
      "la suma de 7 y 7 es 14\n",
      "la suma de 8 y 8 es 16\n",
      "la suma de 9 y 9 es 18\n",
      "la suma de 10 y 10 es 20\n",
      "la suma de 11 y 11 es 22\n",
      "la suma de 12 y 12 es 24\n",
      "la suma de 13 y 13 es 26\n",
      "la suma de 14 y 14 es 28\n",
      "la suma de 15 y 15 es 30\n",
      "la suma de 16 y 16 es 32\n",
      "la suma de 17 y 17 es 34\n",
      "la suma de 18 y 18 es 36\n",
      "la suma de 19 y 19 es 38\n"
     ]
    }
   ],
   "source": [
    "for i in range(20): #para que veais que solo se guarda 10\n",
    "    calc.sumar(i,i)"
   ]
  },
  {
   "cell_type": "code",
   "execution_count": 37,
   "metadata": {},
   "outputs": [
    {
     "data": {
      "text/plain": [
       "[{'operacion': 'suma', 'Num1': 10, 'Num2': 10, 'Resultado': 20},\n",
       " {'operacion': 'suma', 'Num1': 11, 'Num2': 11, 'Resultado': 22},\n",
       " {'operacion': 'suma', 'Num1': 12, 'Num2': 12, 'Resultado': 24},\n",
       " {'operacion': 'suma', 'Num1': 13, 'Num2': 13, 'Resultado': 26},\n",
       " {'operacion': 'suma', 'Num1': 14, 'Num2': 14, 'Resultado': 28},\n",
       " {'operacion': 'suma', 'Num1': 15, 'Num2': 15, 'Resultado': 30},\n",
       " {'operacion': 'suma', 'Num1': 16, 'Num2': 16, 'Resultado': 32},\n",
       " {'operacion': 'suma', 'Num1': 17, 'Num2': 17, 'Resultado': 34},\n",
       " {'operacion': 'suma', 'Num1': 18, 'Num2': 18, 'Resultado': 36},\n",
       " {'operacion': 'suma', 'Num1': 19, 'Num2': 19, 'Resultado': 38}]"
      ]
     },
     "execution_count": 37,
     "metadata": {},
     "output_type": "execute_result"
    }
   ],
   "source": [
    "calc.memoria # solo 10"
   ]
  },
  {
   "cell_type": "code",
   "execution_count": null,
   "metadata": {},
   "outputs": [],
   "source": []
  },
  {
   "cell_type": "code",
   "execution_count": null,
   "metadata": {},
   "outputs": [],
   "source": []
  },
  {
   "cell_type": "code",
   "execution_count": null,
   "metadata": {},
   "outputs": [],
   "source": []
  },
  {
   "cell_type": "code",
   "execution_count": 5,
   "metadata": {},
   "outputs": [
    {
     "data": {
      "text/plain": [
       "[0, 1, 3, 4, 5, 6, 7, 9]"
      ]
     },
     "execution_count": 5,
     "metadata": {},
     "output_type": "execute_result"
    }
   ],
   "source": [
    "sorted([1,4,3,6,7,9,5,0])"
   ]
  },
  {
   "cell_type": "code",
   "execution_count": 7,
   "metadata": {},
   "outputs": [
    {
     "name": "stdout",
     "output_type": "stream",
     "text": [
      "aqui!\n",
      "derecha\n",
      "aqui!\n",
      "izquierda\n",
      "aqui!\n",
      "Encontrado\n"
     ]
    },
    {
     "data": {
      "text/plain": [
       "6"
      ]
     },
     "execution_count": 7,
     "metadata": {},
     "output_type": "execute_result"
    }
   ],
   "source": [
    "arr = [1,4,3,6,7,9,5,0]\n",
    "num_a_buscar = 6\n",
    "\n",
    "\n",
    "def binary_search(arr, num_a_buscar):\n",
    "    print(\"aqui!\")\n",
    "    arr = sorted(arr)\n",
    "    \n",
    "    if arr == []:\n",
    "        print(\"No encontrado\")\n",
    "        return None\n",
    "    else:\n",
    "        punto_medio = len(arr)//2\n",
    "        numero_a_comparar = arr[punto_medio]\n",
    "        # print(punto_medio)\n",
    "        # print(num_a_buscar)\n",
    "        # print(arr)\n",
    "        if num_a_buscar == numero_a_comparar:\n",
    "            print(\"Encontrado\")\n",
    "            return num_a_buscar\n",
    "        else:\n",
    "            if num_a_buscar > numero_a_comparar:\n",
    "                print(\"derecha\")\n",
    "                return binary_search(arr[punto_medio+1:], num_a_buscar)\n",
    "            else:\n",
    "                print(\"izquierda\")\n",
    "                return binary_search(arr[:punto_medio], num_a_buscar)\n",
    "            \n",
    "binary_search(arr, num_a_buscar)"
   ]
  },
  {
   "cell_type": "code",
   "execution_count": null,
   "metadata": {},
   "outputs": [],
   "source": []
  }
 ],
 "metadata": {
  "kernelspec": {
   "display_name": "opencv_environ",
   "language": "python",
   "name": "python3"
  },
  "language_info": {
   "codemirror_mode": {
    "name": "ipython",
    "version": 3
   },
   "file_extension": ".py",
   "mimetype": "text/x-python",
   "name": "python",
   "nbconvert_exporter": "python",
   "pygments_lexer": "ipython3",
   "version": "3.9.19"
  }
 },
 "nbformat": 4,
 "nbformat_minor": 4
}
