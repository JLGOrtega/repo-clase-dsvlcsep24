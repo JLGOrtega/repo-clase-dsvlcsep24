{
 "cells": [
  {
   "cell_type": "markdown",
   "metadata": {},
   "source": [
    "![imagen](./img/ejercicios.png)"
   ]
  },
  {
   "cell_type": "markdown",
   "metadata": {},
   "source": [
    "# Ejercicios Python Basics I"
   ]
  },
  {
   "cell_type": "markdown",
   "metadata": {},
   "source": [
    "## Ejercicio 1\n",
    "Imprime por pantalla esta cita con el siguiente formato\n",
    "\n",
    "![imagen](./img/frase_Einstein.PNG)"
   ]
  },
  {
   "cell_type": "code",
   "execution_count": 2,
   "metadata": {},
   "outputs": [
    {
     "name": "stdout",
     "output_type": "stream",
     "text": [
      "¿Por qué esta magnífica tecnología científica,\n",
      "\t que ahorra trabajo y nos hace la vida más fácil,\n",
      "\t\t nos aporta tan poca felicidad?\n",
      "\t\t\t La respuesta está, simplemente: porque aún no hemos aprendido a usarla con tino.\n",
      "\"Albert Einstein\"\n"
     ]
    }
   ],
   "source": []
  },
  {
   "cell_type": "markdown",
   "metadata": {},
   "source": [
    "## Ejercicio 2\n",
    "1. Escribe el nombre de la calle de tu domicilio en una variable\n",
    "2. Escribe el numero de la calle en otra\n",
    "3. Ciudad en una tercera\n",
    "4. Codigo postal en la cuarta variable\n",
    "5. Crea una quinta variable que concatene todas ellas\n",
    "6. Imprimela por pantalla"
   ]
  },
  {
   "cell_type": "code",
   "execution_count": 16,
   "metadata": {},
   "outputs": [
    {
     "name": "stdout",
     "output_type": "stream",
     "text": [
      "Recoletos 15 Madrid 28004\n"
     ]
    }
   ],
   "source": []
  },
  {
   "cell_type": "markdown",
   "metadata": {},
   "source": [
    "## Ejercicio 3\n",
    "Replica el output del ejercicio dos, pero está vez sin usar una variable intermedia que concatene todas las demas. Realiza este ejercicio en una línea, con un  único `print`"
   ]
  },
  {
   "cell_type": "code",
   "execution_count": 17,
   "metadata": {},
   "outputs": [
    {
     "name": "stdout",
     "output_type": "stream",
     "text": [
      "Recoletos 15 Madrid 28004\n"
     ]
    }
   ],
   "source": []
  },
  {
   "cell_type": "markdown",
   "metadata": {},
   "source": [
    "## Ejercicio 4\n",
    "¿Qué variables están mal escritas y por qué? Realiza primero tu hipótesis y luego ejecuta las variables para comprobarlo. En ese orden :)\n",
    "\n",
    "\n",
    "1. mi_variable = \"Economía\"\n",
    "2. otra_var = \"Ejercicio\n",
    "3. True = \"Ejercicio\"\n",
    "4. mi variab1e = \"Alpha\"\n",
    "5. import = 40\n",
    "6. 81mi_variable = \"Agua\"\n",
    "7. mi_variable10 = 6"
   ]
  },
  {
   "cell_type": "markdown",
   "metadata": {},
   "source": []
  },
  {
   "cell_type": "markdown",
   "metadata": {},
   "source": [
    "## Ejercicio 5\n",
    "Realiza un conversor de grados Celsius a Fahrenheit. El conversor tiene que recibir el input del usuario y devolver la conversión.\n",
    "\n",
    "La conversión de grados sigue la siguiente fórmula: F = C × (9 / 5) + 32 "
   ]
  },
  {
   "cell_type": "code",
   "execution_count": 27,
   "metadata": {},
   "outputs": [
    {
     "name": "stdout",
     "output_type": "stream",
     "text": [
      "El equivalente en grados Fahrenheit es 60.6\n"
     ]
    }
   ],
   "source": []
  },
  {
   "cell_type": "code",
   "execution_count": null,
   "metadata": {},
   "outputs": [],
   "source": []
  },
  {
   "cell_type": "markdown",
   "metadata": {},
   "source": []
  },
  {
   "cell_type": "markdown",
   "metadata": {},
   "source": [
    "## Ejercicio 6\n",
    "Comenta en la medida de lo posible el Ejercicio 5. Será suficiente con poner al menos un comentario de línea, y otro multilínea"
   ]
  },
  {
   "cell_type": "code",
   "execution_count": null,
   "metadata": {},
   "outputs": [],
   "source": []
  }
 ],
 "metadata": {
  "kernelspec": {
   "display_name": "Python 3",
   "language": "python",
   "name": "python3"
  },
  "language_info": {
   "codemirror_mode": {
    "name": "ipython",
    "version": 3
   },
   "file_extension": ".py",
   "mimetype": "text/x-python",
   "name": "python",
   "nbconvert_exporter": "python",
   "pygments_lexer": "ipython3",
   "version": "3.7.4"
  },
  "nbTranslate": {
   "displayLangs": [
    "*"
   ],
   "hotkey": "alt-t",
   "langInMainMenu": true,
   "sourceLang": "en",
   "targetLang": "fr",
   "useGoogleTranslate": true
  },
  "varInspector": {
   "cols": {
    "lenName": 16,
    "lenType": 16,
    "lenVar": 40
   },
   "kernels_config": {
    "python": {
     "delete_cmd_postfix": "",
     "delete_cmd_prefix": "del ",
     "library": "var_list.py",
     "varRefreshCmd": "print(var_dic_list())"
    },
    "r": {
     "delete_cmd_postfix": ") ",
     "delete_cmd_prefix": "rm(",
     "library": "var_list.r",
     "varRefreshCmd": "cat(var_dic_list()) "
    }
   },
   "types_to_exclude": [
    "module",
    "function",
    "builtin_function_or_method",
    "instance",
    "_Feature"
   ],
   "window_display": false
  }
 },
 "nbformat": 4,
 "nbformat_minor": 4
}
