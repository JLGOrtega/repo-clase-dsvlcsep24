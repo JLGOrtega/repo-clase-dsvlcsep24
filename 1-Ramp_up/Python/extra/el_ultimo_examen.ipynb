{
 "cells": [
  {
   "cell_type": "markdown",
   "metadata": {},
   "source": [
    "### **Ejercicio 1 (1 punto)**  \n",
    "En este ejercicio trabajarás con variables de diferentes tipos. Sigue las instrucciones detalladas a continuación:\n",
    "\n",
    "1. Crea una variable llamada `capacidad_restaurante` de tipo Integer que represente el número máximo de personas que caben en el restaurante.\n",
    "2. Crea una variable llamada `nombre_chef` de tipo String que contenga el nombre del chef principal del restaurante.\n",
    "3. Crea una variable llamada `rating_restaurante` de tipo Float que represente la puntuación promedio del restaurante en una escala de 1 a 5.\n",
    "4. Crea una variable llamada `es_gastronomia_internacional` de tipo Boolean que sea True si el restaurante ofrece comida internacional, y False en caso contrario.\n",
    "5. Crea una variable llamada `platos_especiales` de tipo List que contenga tres platos principales que sean los más populares del menú.\n",
    "6. Crea una variable llamada `tupla_personal` que contenga dos tuplas. Cada tupla debe incluir el nombre de un empleado, su edad y su puesto de trabajo.\n",
    "7. Crea una variable llamada `dict_proveedores` con tres claves: `nombre`, `producto`, y `telefono`. Cada clave debe tener una lista de tres valores: nombres de los proveedores, productos que suministran y sus números de teléfono.\n",
    "8. Añade todos estos elementos a una lista llamada `detalles_restaurante` en el orden de aparición **usando una función de lista**.\n",
    "9. Responde en un comentario: ¿Cómo podrías verificar si un proveedor específico ya está en el diccionario antes de agregar uno nuevo?\n"
   ]
  },
  {
   "cell_type": "code",
   "execution_count": null,
   "metadata": {
    "vscode": {
     "languageId": "plaintext"
    }
   },
   "outputs": [],
   "source": []
  },
  {
   "cell_type": "markdown",
   "metadata": {},
   "source": [
    "\n",
    "\n",
    "### **Ejercicio 2 (2 puntos)**  \n",
    "\n",
    "Utiliza la lista `detalles_restaurante` creada en el ejercicio anterior. Lee cuidadosamente cada parte del ejercicio.\n",
    "\n",
    "1. Muestra por pantalla, sin usar funciones ni bucles:\n",
    "   - El nombre del chef y la capacidad del restaurante.\n",
    "   - El tercer plato del menú de platos especiales.\n",
    "   - Si el restaurante ofrece comida internacional, muestra el nombre de uno de los proveedores. Si no, muestra el producto que ese proveedor suministra.\n",
    "   - El número de teléfono del primer proveedor.\n",
    "\n",
    "2. Muestra por pantalla, usando un bucle `for`:\n",
    "   - Todos los elementos de `detalles_restaurante`.\n",
    "   - Los elementos de `detalles_restaurante` en orden inverso.\n",
    "   - Todos los platos especiales que tengan más de 10 caracteres en su nombre.\n",
    "   - El primer nombre del chef si su nombre empieza con vocal, y el último si empieza con consonante.\n",
    "\n",
    "3. Con un bucle `while`, elimina los platos especiales de la lista uno por uno hasta que queden solo dos. Guarda los platos eliminados en una lista llamada `platos_eliminados` y muestra el contenido de esta lista.\n",
    "\n"
   ]
  },
  {
   "cell_type": "code",
   "execution_count": null,
   "metadata": {
    "vscode": {
     "languageId": "plaintext"
    }
   },
   "outputs": [],
   "source": []
  },
  {
   "cell_type": "markdown",
   "metadata": {},
   "source": [
    "\n",
    "\n",
    "### **Ejercicio 3: Cálculo de facturas en un restaurante (2 puntos)**  \n",
    "\n",
    "En este ejercicio, implementarás un sistema básico para calcular facturas de los clientes en un restaurante utilizando funciones.\n",
    "\n",
    "1. **Cálculo del total de la factura:**\n",
    "\n",
    "   Crea una función llamada `calcular_total_factura` que reciba dos parámetros: `precio_platos` (lista de floats con los precios de los platos consumidos) y `porcentaje_propina` (float). La función debe calcular el total de la factura sumando los precios de los platos y aplicando el porcentaje de propina.\n",
    "\n",
    "   **total_factura = sum(precio_platos) * (1 + porcentaje_propina / 100)**\n",
    "\n",
    "   Solicita al usuario que ingrese los precios de tres platos y el porcentaje de propina e invoca la función para mostrar el total de la factura.\n",
    "\n",
    "2. **Descuento para clientes VIP:**\n",
    "\n",
    "   Crea una función llamada `aplicar_descuento` que reciba como parámetros el `total_factura` (float) y `es_vip` (boolean). Si el cliente es VIP, se aplica un descuento del 10% sobre el total de la factura. Retorna el monto total a pagar después del descuento.\n",
    "\n",
    "3. **División de la factura entre comensales:**\n",
    "\n",
    "   Crea una función llamada `dividir_factura` que reciba como parámetros el `total_factura` (float) y el número de personas que van a compartir el pago. Retorna la cantidad que cada persona debe pagar.\n",
    "\n",
    "4. **Función final:**\n",
    "\n",
    "   Crea una función llamada `gestionar_factura` que combine las tres funciones anteriores. Solicita los precios de los platos, el porcentaje de propina, si el cliente es VIP y el número de personas que comparten la cuenta. Muestra el total de la factura y cuánto debe pagar cada persona.\n",
    "\n"
   ]
  },
  {
   "cell_type": "code",
   "execution_count": null,
   "metadata": {
    "vscode": {
     "languageId": "plaintext"
    }
   },
   "outputs": [],
   "source": []
  },
  {
   "cell_type": "markdown",
   "metadata": {},
   "source": [
    "\n",
    "\n",
    "### **Ejercicio 4: Gestión de un restaurante con clases (2 puntos)**  \n",
    "\n",
    "En este ejercicio crearás una clase para gestionar un restaurante.\n",
    "\n",
    "1. **Nombre de la clase:** `Restaurante`\n",
    "\n",
    "   **Atributos:**\n",
    "   - `nombre`: Nombre del restaurante (str).\n",
    "   - `mesas_disponibles`: Número de mesas disponibles en el restaurante (int).\n",
    "   - `reservas`: Lista de diccionarios donde cada diccionario representa una reserva, con las claves: `nombre_cliente`, `numero_mesa`, `personas`, y `hora_reserva`.\n",
    "\n",
    "2. **Métodos:**\n",
    "   - `realizar_reserva(nombre_cliente, numero_mesa, personas, hora_reserva)`: Si hay mesas disponibles, crea una nueva reserva y añade el diccionario correspondiente a la lista de reservas. Si no hay mesas, muestra un mensaje indicando que no se puede realizar la reserva.\n",
    "   - `cancelar_reserva(nombre_cliente)`: Elimina la reserva de un cliente en la lista de reservas si existe. Si no existe, muestra un mensaje indicando que no se encontró la reserva.\n",
    "   - `disponibilidad_mesa(numero_mesa)`: Verifica si una mesa está disponible. Retorna True si está disponible, y False si ya está reservada.\n",
    "   - `mostrar_reservas()`: Muestra todas las reservas actuales con el nombre del cliente, número de mesa, número de personas y hora de la reserva.\n",
    "\n",
    "3. **Simulación:**\n",
    "\n",
    "   Crea una instancia de la clase `Restaurante` llamada `mi_restaurante`. Realiza al menos tres reservas diferentes, cancela una de ellas, y muestra la lista de reservas actualizada.\n",
    "\n"
   ]
  },
  {
   "cell_type": "markdown",
   "metadata": {},
   "source": []
  }
 ],
 "metadata": {
  "language_info": {
   "name": "python"
  }
 },
 "nbformat": 4,
 "nbformat_minor": 2
}
