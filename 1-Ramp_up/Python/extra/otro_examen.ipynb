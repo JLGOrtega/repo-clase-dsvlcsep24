{
 "cells": [
  {
   "cell_type": "markdown",
   "metadata": {},
   "source": [
    "\n",
    "### Ejercicio 1 (1 punto)\n",
    "En este ejercicio trabajarás con variables de distintos tipos. Sigue las instrucciones detalladas a continuación:\n",
    "\n",
    "1. Crea una variable llamada `precio_habitacion` de tipo Integer que represente el costo por noche de una habitación en un hotel.\n",
    "2. Crea una variable llamada `nombre_cliente` de tipo String que contenga el nombre completo de un cliente que reserva la habitación.\n",
    "3. Crea una variable llamada `descuento` de tipo Float que contenga el porcentaje de descuento aplicado por reservar más de tres noches (por ejemplo, 15.5).\n",
    "4. Crea una variable llamada `es_vip` de tipo Boolean que sea True si el cliente es parte del programa VIP del hotel, y False en caso contrario.\n",
    "5. Crea una variable llamada `dias_estancia` de tipo Integer que contenga el número de días que el cliente se hospedará en el hotel.\n",
    "6. Crea una variable llamada `servicios_extras` de tipo List que contenga tres servicios adicionales que el cliente ha solicitado (por ejemplo, 'Desayuno', 'Gimnasio', 'Spa').\n",
    "7. Crea una variable llamada `tupla_contacto` de tipo Tuple que contenga el número de teléfono y la dirección de correo electrónico del cliente.\n",
    "8. Añade todas estas variables a una lista llamada `detalles_reserva` en el orden de aparición **usando una función de lista**.\n",
    "9. Responde en un comentario a la siguiente pregunta: ¿Cómo podrías calcular el total a pagar de la estancia si sabes el precio por noche, los días de estancia y el descuento?\n",
    "\n"
   ]
  },
  {
   "cell_type": "code",
   "execution_count": 4,
   "metadata": {},
   "outputs": [],
   "source": [
    "precio_habitacion = 100\n",
    "nombre_cliente = \"Antonio Tupri Ma\"\n",
    "descuento = 15.5\n",
    "es_vip = True\n",
    "dias_estancia = 10\n",
    "servicios_extra = [\"Aircon\", \"Piruletas\", \"Baño con leche de burra\"]\n",
    "tupla_contacto = (5555555, \"antotupri@ma.com\")\n",
    "\n",
    "detalles_reserva = []\n",
    "detalles_reserva.append(precio_habitacion)\n",
    "detalles_reserva.append(nombre_cliente)\n",
    "detalles_reserva.append(descuento)\n",
    "detalles_reserva.append(es_vip)\n",
    "detalles_reserva.append(dias_estancia)\n",
    "detalles_reserva.append(servicios_extra)\n",
    "detalles_reserva.append(tupla_contacto)"
   ]
  },
  {
   "cell_type": "code",
   "execution_count": 5,
   "metadata": {},
   "outputs": [
    {
     "data": {
      "text/plain": [
       "[100,\n",
       " 'Antonio Tupri Ma',\n",
       " 15.5,\n",
       " True,\n",
       " 10,\n",
       " ['Aircon', 'Piruletas', 'Baño con leche de burra'],\n",
       " (5555555, 'antotupri@ma.com')]"
      ]
     },
     "execution_count": 5,
     "metadata": {},
     "output_type": "execute_result"
    }
   ],
   "source": [
    "detalles_reserva"
   ]
  },
  {
   "cell_type": "code",
   "execution_count": 8,
   "metadata": {},
   "outputs": [
    {
     "data": {
      "text/plain": [
       "845.0"
      ]
     },
     "execution_count": 8,
     "metadata": {},
     "output_type": "execute_result"
    }
   ],
   "source": [
    "precio_habitacion*dias_estancia*(100-descuento)/100"
   ]
  },
  {
   "cell_type": "markdown",
   "metadata": {},
   "source": [
    "### Ejercicio 2 (2 puntos)\n",
    "\n",
    "Para este ejercicio trabajarás con colecciones. Utiliza la lista `detalles_reserva` que has creado en el ejercicio anterior. Lee atentamente cada punto antes de comenzar.\n",
    "\n",
    "1. Mostrar por pantalla, sin uso de funciones (puedes usar `print`) ni bucles:\n",
    "   - Un mensaje de presentación que incluya el nombre del cliente y su número de teléfono.\n",
    "   - El precio de la habitación y el número de días de estancia.\n",
    "   - El segundo servicio adicional solicitado por el cliente.\n",
    "   - Si el cliente es VIP, muestra el descuento aplicado; en caso contrario, muestra un mensaje indicando que no tiene descuento.\n",
    "   - Muestra el correo electrónico del cliente.\n",
    "\n",
    "2. Mostrar por pantalla, con uso de un bucle `for`:\n",
    "   - Todos los elementos de `detalles_reserva`.\n",
    "   - Todos los elementos de `detalles_reserva` en orden inverso.\n",
    "   - Todos aquellos elementos que sean strings.\n",
    "   - El número de caracteres de cada servicio adicional solicitado por el cliente.\n",
    "\n",
    "3. Con uso de un bucle `while`, elimina los servicios extras de la lista uno por uno hasta que no queden más servicios en `detalles_reserva`, y guarda los eliminados en una lista llamada `servicios_eliminados`.\n",
    "\n"
   ]
  },
  {
   "cell_type": "code",
   "execution_count": 10,
   "metadata": {},
   "outputs": [
    {
     "data": {
      "text/plain": [
       "[100,\n",
       " 'Antonio Tupri Ma',\n",
       " 15.5,\n",
       " True,\n",
       " 10,\n",
       " ['Aircon', 'Piruletas', 'Baño con leche de burra'],\n",
       " (5555555, 'antotupri@ma.com')]"
      ]
     },
     "execution_count": 10,
     "metadata": {},
     "output_type": "execute_result"
    }
   ],
   "source": [
    "detalles_reserva"
   ]
  },
  {
   "cell_type": "markdown",
   "metadata": {},
   "source": [
    "1. Mostrar por pantalla, sin uso de funciones (puedes usar `print`) ni bucles:\n",
    "   - Un mensaje de presentación que incluya el nombre del cliente y su número de teléfono.\n",
    "   - El precio de la habitación y el número de días de estancia.\n",
    "   - El segundo servicio adicional solicitado por el cliente.\n",
    "   - Si el cliente es VIP, muestra el descuento aplicado; en caso contrario, muestra un mensaje indicando que no tiene descuento.\n",
    "   - Muestra el correo electrónico del cliente."
   ]
  },
  {
   "cell_type": "code",
   "execution_count": 11,
   "metadata": {},
   "outputs": [
    {
     "name": "stdout",
     "output_type": "stream",
     "text": [
      "Hola, soy Antonio Tupri Ma y mi numero es 10\n"
     ]
    }
   ],
   "source": [
    "print(f\"Hola, soy {detalles_reserva[1]} y mi numero es {detalles_reserva[-1][0]}\")"
   ]
  },
  {
   "cell_type": "code",
   "execution_count": 12,
   "metadata": {},
   "outputs": [
    {
     "name": "stdout",
     "output_type": "stream",
     "text": [
      "El precio de la habitacion es 100 y los dias de estancia son  10\n"
     ]
    }
   ],
   "source": [
    "print(f\"El precio de la habitacion es {detalles_reserva[0]} y los dias de estancia son {detalles_reserva[4]}\")"
   ]
  },
  {
   "cell_type": "code",
   "execution_count": 13,
   "metadata": {},
   "outputs": [
    {
     "data": {
      "text/plain": [
       "'Piruletas'"
      ]
     },
     "execution_count": 13,
     "metadata": {},
     "output_type": "execute_result"
    }
   ],
   "source": [
    "detalles_reserva[5][1]"
   ]
  },
  {
   "cell_type": "code",
   "execution_count": 17,
   "metadata": {},
   "outputs": [
    {
     "name": "stdout",
     "output_type": "stream",
     "text": [
      "El cliente es VIP y el descuento es 15.5 por ciento\n"
     ]
    }
   ],
   "source": [
    "if detalles_reserva[3]:\n",
    "    print(f\"El cliente es VIP y el descuento es {detalles_reserva[2]} por ciento\")\n",
    "else:\n",
    "    print(\"El cliente no tiene descuento\")"
   ]
  },
  {
   "cell_type": "code",
   "execution_count": 18,
   "metadata": {},
   "outputs": [
    {
     "name": "stdout",
     "output_type": "stream",
     "text": [
      "correo antotupri@ma.com\n"
     ]
    }
   ],
   "source": [
    "print(\"correo\", detalles_reserva[-1][-1])"
   ]
  },
  {
   "cell_type": "markdown",
   "metadata": {},
   "source": [
    "2. Mostrar por pantalla, con uso de un bucle `for`:\n",
    "   - Todos los elementos de `detalles_reserva`.\n",
    "   - Todos los elementos de `detalles_reserva` en orden inverso.\n",
    "   - Todos aquellos elementos que sean strings.\n",
    "   - El número de caracteres de cada servicio adicional solicitado por el cliente."
   ]
  },
  {
   "cell_type": "code",
   "execution_count": 22,
   "metadata": {},
   "outputs": [
    {
     "name": "stdout",
     "output_type": "stream",
     "text": [
      "100\n",
      "Antonio Tupri Ma\n",
      "15.5\n",
      "True\n",
      "10\n",
      "['Aircon', 'Piruletas', 'Baño con leche de burra']\n",
      "(5555555, 'antotupri@ma.com')\n"
     ]
    }
   ],
   "source": [
    "for cosa in detalles_reserva:\n",
    "    print(cosa)"
   ]
  },
  {
   "cell_type": "code",
   "execution_count": 23,
   "metadata": {},
   "outputs": [
    {
     "name": "stdout",
     "output_type": "stream",
     "text": [
      "(5555555, 'antotupri@ma.com')\n",
      "['Aircon', 'Piruletas', 'Baño con leche de burra']\n",
      "10\n",
      "True\n",
      "15.5\n",
      "Antonio Tupri Ma\n",
      "100\n"
     ]
    }
   ],
   "source": [
    "for cosa in detalles_reserva[::-1]:\n",
    "    print(cosa)"
   ]
  },
  {
   "cell_type": "code",
   "execution_count": 25,
   "metadata": {},
   "outputs": [
    {
     "name": "stdout",
     "output_type": "stream",
     "text": [
      "Antonio Tupri Ma\n",
      "Aircon\n",
      "Piruletas\n",
      "Baño con leche de burra\n",
      "antotupri@ma.com\n"
     ]
    }
   ],
   "source": [
    "for cosa in detalles_reserva:\n",
    "    if type(cosa) == str:\n",
    "        print(cosa)\n",
    "    elif type(cosa) in [list, tuple]:\n",
    "        for otra_cosa in cosa:\n",
    "            if type(otra_cosa) == str:\n",
    "                print(otra_cosa)"
   ]
  },
  {
   "cell_type": "code",
   "execution_count": 27,
   "metadata": {},
   "outputs": [
    {
     "name": "stdout",
     "output_type": "stream",
     "text": [
      "6\n",
      "9\n",
      "23\n"
     ]
    }
   ],
   "source": [
    "for cosa in detalles_reserva[-2]:\n",
    "    print(len(cosa))"
   ]
  },
  {
   "cell_type": "code",
   "execution_count": 28,
   "metadata": {},
   "outputs": [
    {
     "data": {
      "text/plain": [
       "[100,\n",
       " 'Antonio Tupri Ma',\n",
       " 15.5,\n",
       " True,\n",
       " 10,\n",
       " ['Aircon', 'Piruletas', 'Baño con leche de burra'],\n",
       " (5555555, 'antotupri@ma.com')]"
      ]
     },
     "execution_count": 28,
     "metadata": {},
     "output_type": "execute_result"
    }
   ],
   "source": [
    "detalles_reserva"
   ]
  },
  {
   "cell_type": "markdown",
   "metadata": {},
   "source": [
    "3. Con uso de un bucle `while`, elimina los servicios extras de la lista uno por uno hasta que no queden más servicios en `detalles_reserva`, y guarda los eliminados en una lista llamada `servicios_eliminados`."
   ]
  },
  {
   "cell_type": "code",
   "execution_count": 29,
   "metadata": {},
   "outputs": [
    {
     "name": "stdout",
     "output_type": "stream",
     "text": [
      "Baño con leche de burra\n",
      "Piruletas\n",
      "Aircon\n"
     ]
    }
   ],
   "source": [
    "servicios_eliminados = []\n",
    "while len(detalles_reserva[-2])>0:\n",
    "    loquesaco = detalles_reserva[-2].pop(-1)\n",
    "    print(loquesaco)\n",
    "    servicios_eliminados.append(loquesaco)\n"
   ]
  },
  {
   "cell_type": "code",
   "execution_count": 31,
   "metadata": {},
   "outputs": [
    {
     "data": {
      "text/plain": [
       "['Baño con leche de burra', 'Piruletas', 'Aircon']"
      ]
     },
     "execution_count": 31,
     "metadata": {},
     "output_type": "execute_result"
    }
   ],
   "source": [
    "servicios_eliminados"
   ]
  },
  {
   "cell_type": "code",
   "execution_count": 30,
   "metadata": {},
   "outputs": [
    {
     "data": {
      "text/plain": [
       "[100, 'Antonio Tupri Ma', 15.5, True, 10, [], (5555555, 'antotupri@ma.com')]"
      ]
     },
     "execution_count": 30,
     "metadata": {},
     "output_type": "execute_result"
    }
   ],
   "source": [
    "detalles_reserva"
   ]
  },
  {
   "cell_type": "markdown",
   "metadata": {},
   "source": [
    "\n",
    "\n",
    "### Ejercicio 3: Simulación de préstamos bancarios (2 puntos)\n",
    "\n",
    "En este ejercicio, implementarás un sistema básico de cálculo de préstamos bancarios utilizando funciones.\n",
    "\n",
    "1. **Cálculo del monto total a pagar:**\n",
    "\n",
    "   Crea una función llamada `calcular_monto_total` que reciba tres parámetros: `monto_prestamo` (float), `tasa_interes` (float, en porcentaje) y `plazo_anios` (int). La función debe calcular el monto total a pagar por el préstamo utilizando la siguiente fórmula:\n",
    "\n",
    "   **monto_total = monto_prestamo * (1 + (tasa_interes / 100) * plazo_anios)**\n",
    "\n",
    "   Solicita al usuario que ingrese los valores de cada parámetro e invoca la función para mostrar el monto total a pagar.\n",
    "\n",
    "2. **Cálculo de la cuota mensual:**\n",
    "\n",
    "   Crea una función llamada `calcular_cuota_mensual` que reciba como parámetros el `monto_total` (float) calculado anteriormente y el `plazo_anios` (int). La función debe calcular y retornar la cuota mensual utilizando la fórmula:\n",
    "\n",
    "   **cuota_mensual = monto_total / (plazo_anios * 12)**\n",
    "\n",
    "   Muestra la cuota mensual que deberá pagar el usuario.\n",
    "\n",
    "3. **Simulación del pago del préstamo:**\n",
    "\n",
    "   Crea una función llamada `simular_pago` que reciba como parámetros `monto_total`, `cuota_mensual` y `ingresos_mensuales` (float). La función debe simular los pagos mensuales y calcular cuántos meses le llevará pagar el préstamo completamente. Si en algún mes la cuota mensual es superior al 40% de los ingresos mensuales del usuario, el préstamo se considerará \"incumplido\" y se mostrará un mensaje.\n",
    "\n",
    "4. **Función final:**\n",
    "\n",
    "   Crea una función llamada `evaluar_prestamo` que combine las anteriores. La función debe solicitar los datos del préstamo (monto, tasa de interés, plazo), calcular el monto total y la cuota mensual, y finalmente llamar a `simular_pago` para verificar si el usuario puede cumplir con los pagos.\n",
    "\n"
   ]
  },
  {
   "cell_type": "code",
   "execution_count": 32,
   "metadata": {},
   "outputs": [
    {
     "data": {
      "text/plain": [
       "2500.0"
      ]
     },
     "execution_count": 32,
     "metadata": {},
     "output_type": "execute_result"
    }
   ],
   "source": [
    "def calculo_monto_total(monto_prestamo, tasa_interes, plazo):\n",
    "    return monto_prestamo * (1 + (tasa_interes / 100) * plazo)\n",
    "\n",
    "monto_prestamo = float(input(\"Dame el monto: \"))\n",
    "tasa_interes = float(input(\"Dame la tasa_interes: \"))\n",
    "plazo = int(input(\"Dame el plazo: \"))\n",
    "\n",
    "calculo_monto_total(monto_prestamo, tasa_interes, plazo)"
   ]
  },
  {
   "cell_type": "code",
   "execution_count": 35,
   "metadata": {},
   "outputs": [],
   "source": [
    "monto_total = calculo_monto_total(monto_prestamo, tasa_interes, plazo)\n",
    "\n",
    "def calcular_cuota_mensual(monto_total, plazo):\n",
    "    return monto_total / (plazo * 12)\n",
    "\n",
    "calcular_cuota_mensual(monto_total, plazo)"
   ]
  },
  {
   "cell_type": "code",
   "execution_count": 40,
   "metadata": {},
   "outputs": [],
   "source": [
    "\n",
    "def simular_pago(ingresos_mensuales, cuota_mensual, monto_total):\n",
    "    \n",
    "    \n",
    "    # meses_pago = monto_total/cuota_mensual\n",
    "    if ingresos_mensuales*0.4>cuota_mensual:\n",
    "        \n",
    "\n",
    "        return True\n",
    "    else:\n",
    "        return False\n"
   ]
  },
  {
   "cell_type": "code",
   "execution_count": null,
   "metadata": {},
   "outputs": [],
   "source": [
    "def evaluar_prestamo():\n",
    "\n",
    "    monto_prestamo = float(input(\"Dame el monto: \"))\n",
    "    tasa_interes = float(input(\"Dame la tasa_interes: \"))\n",
    "    plazo = int(input(\"Dame el plazo: \"))\n",
    "    ingresos_mensuales = float(input(\"Dame los ingresos mensuales: \"))\n",
    "\n",
    "    monto_total = calculo_monto_total(monto_prestamo, tasa_interes, plazo)\n",
    "    cuota_mensual = calcular_cuota_mensual(monto_total, plazo)\n",
    "    puedes_pagar = simular_pago(ingresos_mensuales, cuota_mensual, monto_total)\n",
    "\n",
    "    return monto_total, cuota_mensual, puedes_pagar\n"
   ]
  },
  {
   "cell_type": "markdown",
   "metadata": {},
   "source": [
    "\n",
    "### Ejercicio 4: Gestión de un hotel (2 puntos)\n",
    "\n",
    "En este ejercicio crearás una clase para gestionar un hotel.\n",
    "\n",
    "1. **Nombre de la clase:** `Hotel`\n",
    "\n",
    "   **Atributos:**\n",
    "\n",
    "   COMUNES\n",
    "   - `reservas`: Lista de diccionarios donde cada diccionario representa una reserva, con las claves: `nombre_cliente`, `numero_habitacion/es`, `dias_reserva`, y `costo_total`.\n",
    "   - `precio_habitacion` = 100\n",
    "   - `capacidad_habitacion` = 2\n",
    "   \n",
    "   VARIABLES\n",
    "   - `nombre`: Nombre del hotel (str).\n",
    "   - `habitaciones_disponibles`: Número de habitaciones disponibles en el hotel (int).\n",
    "\n",
    "\n",
    "2. **Métodos:**\n",
    "   - `realizar_reserva(nombre_cliente, personas, dias_reserva)`: Si hay habitaciones disponibles (en funcion de las personas), crea una nueva reserva, calcula el costo total (número de días por precio por noche), y añade la reserva a la lista de `reservas`. Si no hay habitaciones disponibles, muestra un mensaje indicando que no se puede realizar la reserva.\n",
    "   - `cancelar_reserva(nombre_cliente)`: Elimina la reserva de un cliente en la lista de reservas si existe. Si no existe, muestra un mensaje indicando que no hay reserva a cancelar.\n",
    "   - `mostrar_reservas()`: Muestra todas las reservas actuales con el nombre del cliente, número de habitación y costo total.\n",
    "\n",
    "3. **Simulación:**\n",
    "   Crea una instancia de la clase `Hotel` llamada `mi_hotel`. Realiza al menos tres reservas diferentes, cancela una de ellas, y muestra la lista de reservas actualizada.\n",
    "\n"
   ]
  },
  {
   "cell_type": "code",
   "execution_count": 67,
   "metadata": {},
   "outputs": [],
   "source": [
    "class Hotel:\n",
    "    reservas = []\n",
    "    precio = 100\n",
    "    capacidad = 2\n",
    "\n",
    "    def __init__(self, nombre, disponibles=10):\n",
    "        self.nombre = nombre\n",
    "        self.disponibles = disponibles\n",
    "\n",
    "    def realizar_reserva(self, nombre_cliente, personas, dias_reserva):\n",
    "        import math\n",
    "        numero_hab_que_necesitan = math.ceil(personas/self.capacidad)\n",
    "\n",
    "        if numero_hab_que_necesitan <= self.disponibles:\n",
    "            costo = numero_hab_que_necesitan * self.precio * dias_reserva\n",
    "\n",
    "            nombre_cliente = nombre_cliente\n",
    "            numero_habitacion = numero_hab_que_necesitan\n",
    "            dias_reserva = dias_reserva \n",
    "            costo_total = costo \n",
    "\n",
    "            reserva = {\"nombre_cliente\": nombre_cliente, \n",
    "                       \"numero_habitacion\": numero_habitacion,\n",
    "                       \"dias_reserva\":dias_reserva,\n",
    "                       \"costo_total\": costo_total}\n",
    "\n",
    "            self.reservas.append(reserva)\n",
    "            self.disponibles = self.disponibles - numero_hab_que_necesitan\n",
    "            return self.reservas\n",
    "\n",
    "        else:\n",
    "            print(\"No hy rooms\")\n",
    "    \n",
    "    def cancelar_reserva(self, nombre_cliente):\n",
    "        for reserva in self.reservas:\n",
    "            if reserva[\"nombre_cliente\"] == nombre_cliente:\n",
    "                self.reservas.remove(reserva)\n",
    "\n",
    "                self.disponibles = self.disponibles + reserva[\"numero_habitacion\"]\n",
    "\n",
    "\n",
    "                return self.reservas\n",
    "            \n",
    "        print(\"No hay reseervas con ese nombre\")\n",
    "\n",
    "            \n",
    "\n",
    "\n",
    "\n",
    "\n"
   ]
  },
  {
   "cell_type": "code",
   "execution_count": 68,
   "metadata": {},
   "outputs": [],
   "source": [
    "hotel1 = Hotel(\"tururu\", 5)"
   ]
  },
  {
   "cell_type": "code",
   "execution_count": 69,
   "metadata": {},
   "outputs": [
    {
     "data": {
      "text/plain": [
       "[{'nombre_cliente': 'antonio',\n",
       "  'numero_habitacion': 3,\n",
       "  'dias_reserva': 2,\n",
       "  'costo_total': 600}]"
      ]
     },
     "execution_count": 69,
     "metadata": {},
     "output_type": "execute_result"
    }
   ],
   "source": [
    "hotel1.realizar_reserva(\"antonio\", 5, 2)"
   ]
  },
  {
   "cell_type": "code",
   "execution_count": 70,
   "metadata": {},
   "outputs": [
    {
     "data": {
      "text/plain": [
       "2"
      ]
     },
     "execution_count": 70,
     "metadata": {},
     "output_type": "execute_result"
    }
   ],
   "source": [
    "hotel1.disponibles"
   ]
  },
  {
   "cell_type": "code",
   "execution_count": 71,
   "metadata": {},
   "outputs": [
    {
     "data": {
      "text/plain": [
       "[{'nombre_cliente': 'antonio',\n",
       "  'numero_habitacion': 3,\n",
       "  'dias_reserva': 2,\n",
       "  'costo_total': 600},\n",
       " {'nombre_cliente': 'juan',\n",
       "  'numero_habitacion': 2,\n",
       "  'dias_reserva': 2,\n",
       "  'costo_total': 400}]"
      ]
     },
     "execution_count": 71,
     "metadata": {},
     "output_type": "execute_result"
    }
   ],
   "source": [
    "hotel1.realizar_reserva(\"juan\", 4, 2)"
   ]
  },
  {
   "cell_type": "code",
   "execution_count": 72,
   "metadata": {},
   "outputs": [
    {
     "data": {
      "text/plain": [
       "0"
      ]
     },
     "execution_count": 72,
     "metadata": {},
     "output_type": "execute_result"
    }
   ],
   "source": [
    "hotel1.disponibles"
   ]
  },
  {
   "cell_type": "code",
   "execution_count": 73,
   "metadata": {},
   "outputs": [
    {
     "data": {
      "text/plain": [
       "[{'nombre_cliente': 'antonio',\n",
       "  'numero_habitacion': 3,\n",
       "  'dias_reserva': 2,\n",
       "  'costo_total': 600}]"
      ]
     },
     "execution_count": 73,
     "metadata": {},
     "output_type": "execute_result"
    }
   ],
   "source": [
    "hotel1.cancelar_reserva(\"juan\")"
   ]
  },
  {
   "cell_type": "markdown",
   "metadata": {},
   "source": []
  },
  {
   "cell_type": "code",
   "execution_count": 19,
   "metadata": {},
   "outputs": [],
   "source": [
    "biblio = {}"
   ]
  },
  {
   "cell_type": "code",
   "execution_count": 20,
   "metadata": {},
   "outputs": [],
   "source": [
    "biblio[\"01241\"] = {\"Nombre\": \"Moby Dick\", \"Year\": 1852, \"paginas\": 200}"
   ]
  },
  {
   "cell_type": "code",
   "execution_count": 21,
   "metadata": {},
   "outputs": [
    {
     "data": {
      "text/plain": [
       "{'01241': {'Nombre': 'Moby Dick', 'Year': 1852, 'paginas': 200}}"
      ]
     },
     "execution_count": 21,
     "metadata": {},
     "output_type": "execute_result"
    }
   ],
   "source": [
    "biblio"
   ]
  },
  {
   "cell_type": "code",
   "execution_count": null,
   "metadata": {},
   "outputs": [],
   "source": []
  }
 ],
 "metadata": {
  "kernelspec": {
   "display_name": "opencv_environ",
   "language": "python",
   "name": "python3"
  },
  "language_info": {
   "codemirror_mode": {
    "name": "ipython",
    "version": 3
   },
   "file_extension": ".py",
   "mimetype": "text/x-python",
   "name": "python",
   "nbconvert_exporter": "python",
   "pygments_lexer": "ipython3",
   "version": "3.9.19"
  }
 },
 "nbformat": 4,
 "nbformat_minor": 2
}
