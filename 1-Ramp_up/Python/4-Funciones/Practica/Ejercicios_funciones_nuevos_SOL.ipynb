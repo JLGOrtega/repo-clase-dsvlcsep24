{
 "cells": [
  {
   "cell_type": "markdown",
   "id": "683b4b11",
   "metadata": {},
   "source": [
    "## Ejercicio 1\n",
    "Escribe una función que convierta números del 1 al 12 en los nombres de los meses del año. La función tendrá un único argumento numérico y devolverá el nombre del mes correspondiente como una cadena de texto."
   ]
  },
  {
   "cell_type": "code",
   "execution_count": null,
   "id": "0cdcaa71",
   "metadata": {},
   "outputs": [],
   "source": [
    "def numero_a_mes(numero):\n",
    "    meses = [\n",
    "        \"Enero\", \"Febrero\", \"Marzo\", \"Abril\", \"Mayo\", \"Junio\",\n",
    "        \"Julio\", \"Agosto\", \"Septiembre\", \"Octubre\", \"Noviembre\", \"Diciembre\"\n",
    "    ]\n",
    "    if 1 <= numero <= 12:\n",
    "        return meses[numero - 1]\n",
    "    else:\n",
    "        return \"Número fuera de rango\"\n",
    "\n",
    "# Ejemplo de uso\n",
    "print(numero_a_mes(5))  # Mayo"
   ]
  },
  {
   "cell_type": "markdown",
   "id": "8e8a100b",
   "metadata": {},
   "source": [
    "## Ejercicio 2\n",
    "Crea una función que reciba un número entero y genere una pirámide creciente de estrellas (`*`). El número de filas de la pirámide estará determinado por el parámetro de entrada. Cada fila tendrá un número creciente de estrellas."
   ]
  },
  {
   "cell_type": "code",
   "execution_count": null,
   "id": "38e9d22b",
   "metadata": {},
   "outputs": [],
   "source": [
    "def piramide_estrellas(filas):\n",
    "    for i in range(1, filas + 1):\n",
    "        print('*' * i)\n",
    "\n",
    "# Ejemplo de uso\n",
    "piramide_estrellas(4)"
   ]
  },
  {
   "cell_type": "markdown",
   "id": "c15a0113",
   "metadata": {},
   "source": [
    "## Ejercicio 3\n",
    "Escribe una función que reciba una lista de números y devuelva una nueva lista con los números elevados al cuadrado. Asegúrate de que la función sea capaz de manejar listas vacías o listas que contengan elementos no numéricos y devuelva un mensaje de error en esos casos."
   ]
  },
  {
   "cell_type": "code",
   "execution_count": null,
   "id": "f7922f82",
   "metadata": {},
   "outputs": [],
   "source": [
    "def elevar_al_cuadrado(lista):\n",
    "    if not all(isinstance(x, (int, float)) for x in lista):\n",
    "        return \"Error: La lista contiene elementos no numéricos\"\n",
    "    return [x**2 for x in lista]\n",
    "\n",
    "# Ejemplo de uso\n",
    "print(elevar_al_cuadrado([1, 2, 3]))  # [1, 4, 9]\n",
    "print(elevar_al_cuadrado([1, 'a', 3]))  # Error: La lista contiene elementos no numéricos"
   ]
  },
  {
   "cell_type": "markdown",
   "id": "20ee6ab7",
   "metadata": {},
   "source": [
    "## Ejercicio 4\n",
    "Crea una función que acepte dos argumentos: una cadena de texto y un número. La función deberá repetir la cadena tantas veces como lo indique el número, y devolver la cadena repetida. Si el número es negativo, devuelve un mensaje indicando que la repetición no es válida."
   ]
  },
  {
   "cell_type": "code",
   "execution_count": null,
   "id": "9dd13006",
   "metadata": {},
   "outputs": [],
   "source": [
    "def repetir_cadena(cadena, veces):\n",
    "    if veces < 0:\n",
    "        return \"Número de repeticiones no válido\"\n",
    "    return cadena * veces\n",
    "\n",
    "# Ejemplo de uso\n",
    "print(repetir_cadena('Hola', 3))  # HolaHolaHola\n",
    "print(repetir_cadena('Hola', -1))  # Número de repeticiones no válido"
   ]
  },
  {
   "cell_type": "markdown",
   "id": "9bf287a0",
   "metadata": {},
   "source": [
    "## Ejercicio 5\n",
    "Escribe una función que acepte una lista de cadenas de texto y devuelva la cadena más larga. Si hay dos o más cadenas con la misma longitud máxima, devuelve la primera que aparezca en la lista."
   ]
  },
  {
   "cell_type": "code",
   "execution_count": null,
   "id": "16274fdd",
   "metadata": {},
   "outputs": [],
   "source": [
    "def cadena_mas_larga(lista_cadenas):\n",
    "    if not lista_cadenas:\n",
    "        return None\n",
    "    return max(lista_cadenas, key=len)\n",
    "\n",
    "# Ejemplo de uso\n",
    "print(cadena_mas_larga(['Hola', 'Mundo', 'Pythonista']))  # Pythonista"
   ]
  },
  {
   "cell_type": "markdown",
   "id": "63b48ddb",
   "metadata": {},
   "source": [
    "## Ejercicio 6\n",
    "Crea una función que reciba una palabra y devuelva `True` si la palabra es un palíndromo (es decir, si se lee igual hacia adelante y hacia atrás), y `False` en caso contrario. Ignora mayúsculas y espacios."
   ]
  },
  {
   "cell_type": "code",
   "execution_count": null,
   "id": "3630376a",
   "metadata": {},
   "outputs": [],
   "source": [
    "def es_palindromo(palabra):\n",
    "    palabra_limpia = palabra.replace(' ', '').lower()\n",
    "    return palabra_limpia == palabra_limpia[::-1]\n",
    "\n",
    "# Ejemplo de uso\n",
    "print(es_palindromo('Anita lava la tina'))  # True"
   ]
  },
  {
   "cell_type": "markdown",
   "id": "09d543ae",
   "metadata": {},
   "source": [
    "## Ejercicio 7\n",
    "Escribe una función que convierta grados Celsius a grados Fahrenheit. La función debe aceptar un valor numérico y devolver el resultado de la conversión."
   ]
  },
  {
   "cell_type": "code",
   "execution_count": null,
   "id": "87440511",
   "metadata": {},
   "outputs": [],
   "source": [
    "def celsius_a_fahrenheit(celsius):\n",
    "    return celsius * 9/5 + 32\n",
    "\n",
    "# Ejemplo de uso\n",
    "print(celsius_a_fahrenheit(25))  # 77.0"
   ]
  },
  {
   "cell_type": "markdown",
   "id": "9e6ec810",
   "metadata": {},
   "source": [
    "## Ejercicio 8\n",
    "Crea una función que reciba un número y devuelva una lista con todos los divisores de ese número. La lista deberá estar ordenada de menor a mayor."
   ]
  },
  {
   "cell_type": "code",
   "execution_count": null,
   "id": "28db25f2",
   "metadata": {},
   "outputs": [],
   "source": [
    "def divisores(numero):\n",
    "    return [i for i in range(1, numero + 1) if numero % i == 0]\n",
    "\n",
    "# Ejemplo de uso\n",
    "print(divisores(12))  # [1, 2, 3, 4, 6, 12]"
   ]
  },
  {
   "cell_type": "markdown",
   "id": "1419e750",
   "metadata": {},
   "source": [
    "## Ejercicio 9\n",
    "Escribe una función que acepte un número entero positivo y devuelva `True` si el número es primo, y `False` en caso contrario."
   ]
  },
  {
   "cell_type": "code",
   "execution_count": null,
   "id": "257e1983",
   "metadata": {},
   "outputs": [],
   "source": [
    "def es_primo(numero):\n",
    "    if numero < 2:\n",
    "        return False\n",
    "    for i in range(2, int(numero**0.5) + 1):\n",
    "        if numero % i == 0:\n",
    "            return False\n",
    "    return True\n",
    "\n",
    "# Ejemplo de uso\n",
    "print(es_primo(11))  # True"
   ]
  },
  {
   "cell_type": "markdown",
   "id": "1703f1db",
   "metadata": {},
   "source": [
    "## Ejercicio 10\n",
    "Crea una función que tome una lista de números enteros y devuelva `True` si todos los números de la lista son pares, y `False` si al menos uno de los números no lo es."
   ]
  },
  {
   "cell_type": "code",
   "execution_count": null,
   "id": "62393d41",
   "metadata": {},
   "outputs": [],
   "source": [
    "def todos_pares(lista):\n",
    "    return all(x % 2 == 0 for x in lista)\n",
    "\n",
    "# Ejemplo de uso\n",
    "print(todos_pares([2, 4, 6, 8]))  # True\n",
    "print(todos_pares([2, 3, 6, 8]))  # False"
   ]
  }
 ],
 "metadata": {},
 "nbformat": 4,
 "nbformat_minor": 5
}
