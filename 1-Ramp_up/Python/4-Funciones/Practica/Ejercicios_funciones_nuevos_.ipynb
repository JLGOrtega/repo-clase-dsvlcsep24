{
 "cells": [
  {
   "cell_type": "markdown",
   "id": "683b4b11",
   "metadata": {},
   "source": [
    "## Ejercicio 1\n",
    "Escribe una función que convierta números del 1 al 12 en los nombres de los meses del año. La función tendrá un único argumento numérico y devolverá el nombre del mes correspondiente como una cadena de texto."
   ]
  },
  {
   "cell_type": "code",
   "execution_count": null,
   "id": "72356d9e",
   "metadata": {},
   "outputs": [],
   "source": []
  },
  {
   "cell_type": "markdown",
   "id": "8e8a100b",
   "metadata": {},
   "source": [
    "## Ejercicio 2\n",
    "Crea una función que reciba un número entero y genere una pirámide creciente de estrellas (`*`). El número de filas de la pirámide estará determinado por el parámetro de entrada. Cada fila tendrá un número creciente de estrellas."
   ]
  },
  {
   "cell_type": "code",
   "execution_count": null,
   "id": "0070e54e",
   "metadata": {},
   "outputs": [],
   "source": []
  },
  {
   "cell_type": "markdown",
   "id": "c15a0113",
   "metadata": {},
   "source": [
    "## Ejercicio 3\n",
    "Escribe una función que reciba una lista de números y devuelva una nueva lista con los números elevados al cuadrado. Asegúrate de que la función sea capaz de manejar listas vacías o listas que contengan elementos no numéricos y devuelva un mensaje de error en esos casos."
   ]
  },
  {
   "cell_type": "code",
   "execution_count": null,
   "id": "fef643f9",
   "metadata": {},
   "outputs": [],
   "source": []
  },
  {
   "cell_type": "markdown",
   "id": "20ee6ab7",
   "metadata": {},
   "source": [
    "## Ejercicio 4\n",
    "Crea una función que acepte dos argumentos: una cadena de texto y un número. La función deberá repetir la cadena tantas veces como lo indique el número, y devolver la cadena repetida. Si el número es negativo, devuelve un mensaje indicando que la repetición no es válida."
   ]
  },
  {
   "cell_type": "code",
   "execution_count": null,
   "id": "d4b7cd9a",
   "metadata": {},
   "outputs": [],
   "source": []
  },
  {
   "cell_type": "markdown",
   "id": "9bf287a0",
   "metadata": {},
   "source": [
    "## Ejercicio 5\n",
    "Escribe una función que acepte una lista de cadenas de texto y devuelva la cadena más larga. Si hay dos o más cadenas con la misma longitud máxima, devuelve la primera que aparezca en la lista."
   ]
  },
  {
   "cell_type": "code",
   "execution_count": null,
   "id": "d079b4a6",
   "metadata": {},
   "outputs": [],
   "source": []
  },
  {
   "cell_type": "markdown",
   "id": "63b48ddb",
   "metadata": {},
   "source": [
    "## Ejercicio 6\n",
    "Crea una función que reciba una palabra y devuelva `True` si la palabra es un palíndromo (es decir, si se lee igual hacia adelante y hacia atrás), y `False` en caso contrario. Ignora mayúsculas y espacios."
   ]
  },
  {
   "cell_type": "code",
   "execution_count": null,
   "id": "5e5a6fd7",
   "metadata": {},
   "outputs": [],
   "source": []
  },
  {
   "cell_type": "markdown",
   "id": "09d543ae",
   "metadata": {},
   "source": [
    "## Ejercicio 7\n",
    "Escribe una función que convierta grados Celsius a grados Fahrenheit. La función debe aceptar un valor numérico y devolver el resultado de la conversión."
   ]
  },
  {
   "cell_type": "code",
   "execution_count": null,
   "id": "9d15a634",
   "metadata": {},
   "outputs": [],
   "source": []
  },
  {
   "cell_type": "markdown",
   "id": "9e6ec810",
   "metadata": {},
   "source": [
    "## Ejercicio 8\n",
    "Crea una función que reciba un número y devuelva una lista con todos los divisores de ese número. La lista deberá estar ordenada de menor a mayor."
   ]
  },
  {
   "cell_type": "code",
   "execution_count": null,
   "id": "58aa31c6",
   "metadata": {},
   "outputs": [],
   "source": []
  },
  {
   "cell_type": "markdown",
   "id": "1419e750",
   "metadata": {},
   "source": [
    "## Ejercicio 9\n",
    "Escribe una función que acepte un número entero positivo y devuelva `True` si el número es primo, y `False` en caso contrario."
   ]
  },
  {
   "cell_type": "code",
   "execution_count": null,
   "id": "7222f225",
   "metadata": {},
   "outputs": [],
   "source": []
  },
  {
   "cell_type": "markdown",
   "id": "1703f1db",
   "metadata": {},
   "source": [
    "## Ejercicio 10\n",
    "Crea una función que tome una lista de números enteros y devuelva `True` si todos los números de la lista son pares, y `False` si al menos uno de los números no lo es."
   ]
  },
  {
   "cell_type": "code",
   "execution_count": null,
   "id": "20c9592e",
   "metadata": {},
   "outputs": [],
   "source": []
  }
 ],
 "metadata": {
  "language_info": {
   "name": "python"
  }
 },
 "nbformat": 4,
 "nbformat_minor": 5
}
