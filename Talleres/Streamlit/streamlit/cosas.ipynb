{
 "cells": [
  {
   "cell_type": "code",
   "execution_count": 28,
   "metadata": {},
   "outputs": [],
   "source": [
    "import pandas as pd\n",
    "df = pd.read_csv(\"data/red_recarga_acceso_publico_2021.csv\", sep=\";\")\n",
    "df = df.loc[ df[\"DISTRITO\"].isin([\"Arganzuela\", \"Carabanchel\"])    ,  :]\n",
    "df = df.loc[ df[\"OPERADOR\"].isin([\"REPSOL\", \"GIC\"])    ,  :]"
   ]
  },
  {
   "cell_type": "code",
   "execution_count": null,
   "metadata": {},
   "outputs": [
    {
     "data": {
      "text/html": [
       "<div>\n",
       "<style scoped>\n",
       "    .dataframe tbody tr th:only-of-type {\n",
       "        vertical-align: middle;\n",
       "    }\n",
       "\n",
       "    .dataframe tbody tr th {\n",
       "        vertical-align: top;\n",
       "    }\n",
       "\n",
       "    .dataframe thead th {\n",
       "        text-align: right;\n",
       "    }\n",
       "</style>\n",
       "<table border=\"1\" class=\"dataframe\">\n",
       "  <thead>\n",
       "    <tr style=\"text-align: right;\">\n",
       "      <th></th>\n",
       "      <th>DISTRITO</th>\n",
       "      <th>Nº CARGADORES</th>\n",
       "    </tr>\n",
       "  </thead>\n",
       "  <tbody>\n",
       "    <tr>\n",
       "      <th>0</th>\n",
       "      <td>Arganzuela</td>\n",
       "      <td>2</td>\n",
       "    </tr>\n",
       "    <tr>\n",
       "      <th>1</th>\n",
       "      <td>Carabanchel</td>\n",
       "      <td>1</td>\n",
       "    </tr>\n",
       "  </tbody>\n",
       "</table>\n",
       "</div>"
      ],
      "text/plain": [
       "      DISTRITO  Nº CARGADORES\n",
       "0   Arganzuela              2\n",
       "1  Carabanchel              1"
      ]
     },
     "execution_count": 29,
     "metadata": {},
     "output_type": "execute_result"
    }
   ],
   "source": [
    "df.groupby(\"DISTRITO\")[[\"Nº CARGADORES\"]].sum().reset_index()"
   ]
  },
  {
   "cell_type": "code",
   "execution_count": 30,
   "metadata": {},
   "outputs": [
    {
     "data": {
      "text/html": [
       "<div>\n",
       "<style scoped>\n",
       "    .dataframe tbody tr th:only-of-type {\n",
       "        vertical-align: middle;\n",
       "    }\n",
       "\n",
       "    .dataframe tbody tr th {\n",
       "        vertical-align: top;\n",
       "    }\n",
       "\n",
       "    .dataframe thead th {\n",
       "        text-align: right;\n",
       "    }\n",
       "</style>\n",
       "<table border=\"1\" class=\"dataframe\">\n",
       "  <thead>\n",
       "    <tr style=\"text-align: right;\">\n",
       "      <th></th>\n",
       "      <th>OPERADOR</th>\n",
       "      <th>Nº CARGADORES</th>\n",
       "    </tr>\n",
       "  </thead>\n",
       "  <tbody>\n",
       "    <tr>\n",
       "      <th>0</th>\n",
       "      <td>GIC</td>\n",
       "      <td>1</td>\n",
       "    </tr>\n",
       "    <tr>\n",
       "      <th>1</th>\n",
       "      <td>REPSOL</td>\n",
       "      <td>2</td>\n",
       "    </tr>\n",
       "  </tbody>\n",
       "</table>\n",
       "</div>"
      ],
      "text/plain": [
       "  OPERADOR  Nº CARGADORES\n",
       "0      GIC              1\n",
       "1   REPSOL              2"
      ]
     },
     "execution_count": 30,
     "metadata": {},
     "output_type": "execute_result"
    }
   ],
   "source": [
    "df.groupby(\"OPERADOR\")[[\"Nº CARGADORES\"]].sum().reset_index()"
   ]
  },
  {
   "cell_type": "code",
   "execution_count": 31,
   "metadata": {},
   "outputs": [
    {
     "data": {
      "text/html": [
       "<div>\n",
       "<style scoped>\n",
       "    .dataframe tbody tr th:only-of-type {\n",
       "        vertical-align: middle;\n",
       "    }\n",
       "\n",
       "    .dataframe tbody tr th {\n",
       "        vertical-align: top;\n",
       "    }\n",
       "\n",
       "    .dataframe thead th {\n",
       "        text-align: right;\n",
       "    }\n",
       "</style>\n",
       "<table border=\"1\" class=\"dataframe\">\n",
       "  <thead>\n",
       "    <tr style=\"text-align: right;\">\n",
       "      <th></th>\n",
       "      <th>DISTRITO</th>\n",
       "      <th>DIRECCION</th>\n",
       "      <th>EMPLAZAMIENTO</th>\n",
       "      <th>Nº CARGADORES</th>\n",
       "      <th>OPERADOR</th>\n",
       "      <th>COORX</th>\n",
       "      <th>COORY</th>\n",
       "      <th>longitud</th>\n",
       "      <th>latidtud</th>\n",
       "    </tr>\n",
       "  </thead>\n",
       "  <tbody>\n",
       "    <tr>\n",
       "      <th>0</th>\n",
       "      <td>Arganzuela</td>\n",
       "      <td>Calle Chulapos s/n</td>\n",
       "      <td>Vía pública</td>\n",
       "      <td>1</td>\n",
       "      <td>REPSOL</td>\n",
       "      <td>438893,73</td>\n",
       "      <td>4473226,26</td>\n",
       "      <td>-3.720163</td>\n",
       "      <td>40.407410</td>\n",
       "    </tr>\n",
       "    <tr>\n",
       "      <th>1</th>\n",
       "      <td>Arganzuela</td>\n",
       "      <td>Ronda de Valencia 1</td>\n",
       "      <td>Vía pública</td>\n",
       "      <td>1</td>\n",
       "      <td>GIC</td>\n",
       "      <td>440624,23</td>\n",
       "      <td>4473016,22</td>\n",
       "      <td>-3.699750</td>\n",
       "      <td>40.405643</td>\n",
       "    </tr>\n",
       "    <tr>\n",
       "      <th>4</th>\n",
       "      <td>Carabanchel</td>\n",
       "      <td>Avenida de la Peseta 6</td>\n",
       "      <td>Estación de servicio</td>\n",
       "      <td>1</td>\n",
       "      <td>REPSOL</td>\n",
       "      <td>434997,82</td>\n",
       "      <td>4468934,81</td>\n",
       "      <td>-3.765636</td>\n",
       "      <td>40.368456</td>\n",
       "    </tr>\n",
       "  </tbody>\n",
       "</table>\n",
       "</div>"
      ],
      "text/plain": [
       "      DISTRITO               DIRECCION          EMPLAZAMIENTO  Nº CARGADORES  \\\n",
       "0   Arganzuela      Calle Chulapos s/n            Vía pública              1   \n",
       "1   Arganzuela     Ronda de Valencia 1            Vía pública              1   \n",
       "4  Carabanchel  Avenida de la Peseta 6  Estación de servicio               1   \n",
       "\n",
       "  OPERADOR      COORX       COORY  longitud   latidtud  \n",
       "0   REPSOL  438893,73  4473226,26 -3.720163  40.407410  \n",
       "1      GIC  440624,23  4473016,22 -3.699750  40.405643  \n",
       "4   REPSOL  434997,82  4468934,81 -3.765636  40.368456  "
      ]
     },
     "execution_count": 31,
     "metadata": {},
     "output_type": "execute_result"
    }
   ],
   "source": [
    "df"
   ]
  },
  {
   "cell_type": "code",
   "execution_count": null,
   "metadata": {},
   "outputs": [],
   "source": []
  }
 ],
 "metadata": {
  "kernelspec": {
   "display_name": "data_analysis_env",
   "language": "python",
   "name": "python3"
  },
  "language_info": {
   "codemirror_mode": {
    "name": "ipython",
    "version": 3
   },
   "file_extension": ".py",
   "mimetype": "text/x-python",
   "name": "python",
   "nbconvert_exporter": "python",
   "pygments_lexer": "ipython3",
   "version": "3.10.15"
  }
 },
 "nbformat": 4,
 "nbformat_minor": 2
}
