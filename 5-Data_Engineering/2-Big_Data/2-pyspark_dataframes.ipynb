{
 "cells": [
  {
   "cell_type": "markdown",
   "id": "a4e3626d",
   "metadata": {},
   "source": [
    "# Pyspark Dataframes\n",
    "### Qué vamos a ver\n",
    "- PySpark Dataframe \n",
    "- Leer un dataset\n",
    "- Comprobar los Datatypes de las columnas (Schema)\n",
    "- Seleccionar columnas e indexarlas\n",
    "- Check Describe option similar to Pandas\n",
    "- Añadir columnas\n",
    "- Eliminar columnas\n",
    "- Renombrar Columnas"
   ]
  },
  {
   "cell_type": "code",
   "execution_count": 1,
   "id": "beb48484",
   "metadata": {},
   "outputs": [],
   "source": [
    "import pyspark\n",
    "from pyspark.sql import SparkSession"
   ]
  },
  {
   "cell_type": "code",
   "execution_count": 2,
   "id": "74bf850d",
   "metadata": {},
   "outputs": [],
   "source": [
    "spark = SparkSession.builder.appName('Practise').getOrCreate()"
   ]
  },
  {
   "cell_type": "code",
   "execution_count": 3,
   "id": "c8ec9421",
   "metadata": {},
   "outputs": [
    {
     "data": {
      "text/html": [
       "\n",
       "            <div>\n",
       "                <p><b>SparkSession - in-memory</b></p>\n",
       "                \n",
       "        <div>\n",
       "            <p><b>SparkContext</b></p>\n",
       "\n",
       "            <p><a href=\"http://172.28.176.191:4041\">Spark UI</a></p>\n",
       "\n",
       "            <dl>\n",
       "              <dt>Version</dt>\n",
       "                <dd><code>v3.5.1</code></dd>\n",
       "              <dt>Master</dt>\n",
       "                <dd><code>local[*]</code></dd>\n",
       "              <dt>AppName</dt>\n",
       "                <dd><code>Practise</code></dd>\n",
       "            </dl>\n",
       "        </div>\n",
       "        \n",
       "            </div>\n",
       "        "
      ],
      "text/plain": [
       "<pyspark.sql.session.SparkSession at 0x25454f5bc10>"
      ]
     },
     "execution_count": 3,
     "metadata": {},
     "output_type": "execute_result"
    }
   ],
   "source": [
    "spark"
   ]
  },
  {
   "cell_type": "markdown",
   "id": "d6a0eede",
   "metadata": {},
   "source": [
    "LEEMOS EL DATASET"
   ]
  },
  {
   "cell_type": "code",
   "execution_count": 17,
   "id": "32574de8",
   "metadata": {},
   "outputs": [],
   "source": [
    "from sys import getsizeof"
   ]
  },
  {
   "cell_type": "code",
   "execution_count": 23,
   "id": "73855335",
   "metadata": {},
   "outputs": [
    {
     "data": {
      "text/html": [
       "<div>\n",
       "<style scoped>\n",
       "    .dataframe tbody tr th:only-of-type {\n",
       "        vertical-align: middle;\n",
       "    }\n",
       "\n",
       "    .dataframe tbody tr th {\n",
       "        vertical-align: top;\n",
       "    }\n",
       "\n",
       "    .dataframe thead th {\n",
       "        text-align: right;\n",
       "    }\n",
       "</style>\n",
       "<table border=\"1\" class=\"dataframe\">\n",
       "  <thead>\n",
       "    <tr style=\"text-align: right;\">\n",
       "      <th></th>\n",
       "      <th>x</th>\n",
       "      <th>age</th>\n",
       "      <th>workclass</th>\n",
       "      <th>fnlwgt</th>\n",
       "      <th>education</th>\n",
       "      <th>educational-num</th>\n",
       "      <th>marital-status</th>\n",
       "      <th>occupation</th>\n",
       "      <th>relationship</th>\n",
       "      <th>race</th>\n",
       "      <th>gender</th>\n",
       "      <th>capital-gain</th>\n",
       "      <th>capital-loss</th>\n",
       "      <th>hours-per-week</th>\n",
       "      <th>native-country</th>\n",
       "      <th>income</th>\n",
       "    </tr>\n",
       "  </thead>\n",
       "  <tbody>\n",
       "    <tr>\n",
       "      <th>0</th>\n",
       "      <td>1</td>\n",
       "      <td>25</td>\n",
       "      <td>Private</td>\n",
       "      <td>226802</td>\n",
       "      <td>11th</td>\n",
       "      <td>7</td>\n",
       "      <td>Never-married</td>\n",
       "      <td>Machine-op-inspct</td>\n",
       "      <td>Own-child</td>\n",
       "      <td>Black</td>\n",
       "      <td>Male</td>\n",
       "      <td>0</td>\n",
       "      <td>0</td>\n",
       "      <td>40</td>\n",
       "      <td>United-States</td>\n",
       "      <td>&lt;=50K</td>\n",
       "    </tr>\n",
       "    <tr>\n",
       "      <th>1</th>\n",
       "      <td>2</td>\n",
       "      <td>38</td>\n",
       "      <td>Private</td>\n",
       "      <td>89814</td>\n",
       "      <td>HS-grad</td>\n",
       "      <td>9</td>\n",
       "      <td>Married-civ-spouse</td>\n",
       "      <td>Farming-fishing</td>\n",
       "      <td>Husband</td>\n",
       "      <td>White</td>\n",
       "      <td>Male</td>\n",
       "      <td>0</td>\n",
       "      <td>0</td>\n",
       "      <td>50</td>\n",
       "      <td>United-States</td>\n",
       "      <td>&lt;=50K</td>\n",
       "    </tr>\n",
       "    <tr>\n",
       "      <th>2</th>\n",
       "      <td>3</td>\n",
       "      <td>28</td>\n",
       "      <td>Local-gov</td>\n",
       "      <td>336951</td>\n",
       "      <td>Assoc-acdm</td>\n",
       "      <td>12</td>\n",
       "      <td>Married-civ-spouse</td>\n",
       "      <td>Protective-serv</td>\n",
       "      <td>Husband</td>\n",
       "      <td>White</td>\n",
       "      <td>Male</td>\n",
       "      <td>0</td>\n",
       "      <td>0</td>\n",
       "      <td>40</td>\n",
       "      <td>United-States</td>\n",
       "      <td>&gt;50K</td>\n",
       "    </tr>\n",
       "    <tr>\n",
       "      <th>3</th>\n",
       "      <td>4</td>\n",
       "      <td>44</td>\n",
       "      <td>Private</td>\n",
       "      <td>160323</td>\n",
       "      <td>Some-college</td>\n",
       "      <td>10</td>\n",
       "      <td>Married-civ-spouse</td>\n",
       "      <td>Machine-op-inspct</td>\n",
       "      <td>Husband</td>\n",
       "      <td>Black</td>\n",
       "      <td>Male</td>\n",
       "      <td>7688</td>\n",
       "      <td>0</td>\n",
       "      <td>40</td>\n",
       "      <td>United-States</td>\n",
       "      <td>&gt;50K</td>\n",
       "    </tr>\n",
       "    <tr>\n",
       "      <th>4</th>\n",
       "      <td>5</td>\n",
       "      <td>18</td>\n",
       "      <td>?</td>\n",
       "      <td>103497</td>\n",
       "      <td>Some-college</td>\n",
       "      <td>10</td>\n",
       "      <td>Never-married</td>\n",
       "      <td>?</td>\n",
       "      <td>Own-child</td>\n",
       "      <td>White</td>\n",
       "      <td>Female</td>\n",
       "      <td>0</td>\n",
       "      <td>0</td>\n",
       "      <td>30</td>\n",
       "      <td>United-States</td>\n",
       "      <td>&lt;=50K</td>\n",
       "    </tr>\n",
       "    <tr>\n",
       "      <th>...</th>\n",
       "      <td>...</td>\n",
       "      <td>...</td>\n",
       "      <td>...</td>\n",
       "      <td>...</td>\n",
       "      <td>...</td>\n",
       "      <td>...</td>\n",
       "      <td>...</td>\n",
       "      <td>...</td>\n",
       "      <td>...</td>\n",
       "      <td>...</td>\n",
       "      <td>...</td>\n",
       "      <td>...</td>\n",
       "      <td>...</td>\n",
       "      <td>...</td>\n",
       "      <td>...</td>\n",
       "      <td>...</td>\n",
       "    </tr>\n",
       "    <tr>\n",
       "      <th>48837</th>\n",
       "      <td>48838</td>\n",
       "      <td>27</td>\n",
       "      <td>Private</td>\n",
       "      <td>257302</td>\n",
       "      <td>Assoc-acdm</td>\n",
       "      <td>12</td>\n",
       "      <td>Married-civ-spouse</td>\n",
       "      <td>Tech-support</td>\n",
       "      <td>Wife</td>\n",
       "      <td>White</td>\n",
       "      <td>Female</td>\n",
       "      <td>0</td>\n",
       "      <td>0</td>\n",
       "      <td>38</td>\n",
       "      <td>United-States</td>\n",
       "      <td>&lt;=50K</td>\n",
       "    </tr>\n",
       "    <tr>\n",
       "      <th>48838</th>\n",
       "      <td>48839</td>\n",
       "      <td>40</td>\n",
       "      <td>Private</td>\n",
       "      <td>154374</td>\n",
       "      <td>HS-grad</td>\n",
       "      <td>9</td>\n",
       "      <td>Married-civ-spouse</td>\n",
       "      <td>Machine-op-inspct</td>\n",
       "      <td>Husband</td>\n",
       "      <td>White</td>\n",
       "      <td>Male</td>\n",
       "      <td>0</td>\n",
       "      <td>0</td>\n",
       "      <td>40</td>\n",
       "      <td>United-States</td>\n",
       "      <td>&gt;50K</td>\n",
       "    </tr>\n",
       "    <tr>\n",
       "      <th>48839</th>\n",
       "      <td>48840</td>\n",
       "      <td>58</td>\n",
       "      <td>Private</td>\n",
       "      <td>151910</td>\n",
       "      <td>HS-grad</td>\n",
       "      <td>9</td>\n",
       "      <td>Widowed</td>\n",
       "      <td>Adm-clerical</td>\n",
       "      <td>Unmarried</td>\n",
       "      <td>White</td>\n",
       "      <td>Female</td>\n",
       "      <td>0</td>\n",
       "      <td>0</td>\n",
       "      <td>40</td>\n",
       "      <td>United-States</td>\n",
       "      <td>&lt;=50K</td>\n",
       "    </tr>\n",
       "    <tr>\n",
       "      <th>48840</th>\n",
       "      <td>48841</td>\n",
       "      <td>22</td>\n",
       "      <td>Private</td>\n",
       "      <td>201490</td>\n",
       "      <td>HS-grad</td>\n",
       "      <td>9</td>\n",
       "      <td>Never-married</td>\n",
       "      <td>Adm-clerical</td>\n",
       "      <td>Own-child</td>\n",
       "      <td>White</td>\n",
       "      <td>Male</td>\n",
       "      <td>0</td>\n",
       "      <td>0</td>\n",
       "      <td>20</td>\n",
       "      <td>United-States</td>\n",
       "      <td>&lt;=50K</td>\n",
       "    </tr>\n",
       "    <tr>\n",
       "      <th>48841</th>\n",
       "      <td>48842</td>\n",
       "      <td>52</td>\n",
       "      <td>Self-emp-inc</td>\n",
       "      <td>287927</td>\n",
       "      <td>HS-grad</td>\n",
       "      <td>9</td>\n",
       "      <td>Married-civ-spouse</td>\n",
       "      <td>Exec-managerial</td>\n",
       "      <td>Wife</td>\n",
       "      <td>White</td>\n",
       "      <td>Female</td>\n",
       "      <td>15024</td>\n",
       "      <td>0</td>\n",
       "      <td>40</td>\n",
       "      <td>United-States</td>\n",
       "      <td>&gt;50K</td>\n",
       "    </tr>\n",
       "  </tbody>\n",
       "</table>\n",
       "<p>48842 rows × 16 columns</p>\n",
       "</div>"
      ],
      "text/plain": [
       "           x  age     workclass  fnlwgt     education  educational-num  \\\n",
       "0          1   25       Private  226802          11th                7   \n",
       "1          2   38       Private   89814       HS-grad                9   \n",
       "2          3   28     Local-gov  336951    Assoc-acdm               12   \n",
       "3          4   44       Private  160323  Some-college               10   \n",
       "4          5   18             ?  103497  Some-college               10   \n",
       "...      ...  ...           ...     ...           ...              ...   \n",
       "48837  48838   27       Private  257302    Assoc-acdm               12   \n",
       "48838  48839   40       Private  154374       HS-grad                9   \n",
       "48839  48840   58       Private  151910       HS-grad                9   \n",
       "48840  48841   22       Private  201490       HS-grad                9   \n",
       "48841  48842   52  Self-emp-inc  287927       HS-grad                9   \n",
       "\n",
       "           marital-status         occupation relationship   race  gender  \\\n",
       "0           Never-married  Machine-op-inspct    Own-child  Black    Male   \n",
       "1      Married-civ-spouse    Farming-fishing      Husband  White    Male   \n",
       "2      Married-civ-spouse    Protective-serv      Husband  White    Male   \n",
       "3      Married-civ-spouse  Machine-op-inspct      Husband  Black    Male   \n",
       "4           Never-married                  ?    Own-child  White  Female   \n",
       "...                   ...                ...          ...    ...     ...   \n",
       "48837  Married-civ-spouse       Tech-support         Wife  White  Female   \n",
       "48838  Married-civ-spouse  Machine-op-inspct      Husband  White    Male   \n",
       "48839             Widowed       Adm-clerical    Unmarried  White  Female   \n",
       "48840       Never-married       Adm-clerical    Own-child  White    Male   \n",
       "48841  Married-civ-spouse    Exec-managerial         Wife  White  Female   \n",
       "\n",
       "       capital-gain  capital-loss  hours-per-week native-country income  \n",
       "0                 0             0              40  United-States  <=50K  \n",
       "1                 0             0              50  United-States  <=50K  \n",
       "2                 0             0              40  United-States   >50K  \n",
       "3              7688             0              40  United-States   >50K  \n",
       "4                 0             0              30  United-States  <=50K  \n",
       "...             ...           ...             ...            ...    ...  \n",
       "48837             0             0              38  United-States  <=50K  \n",
       "48838             0             0              40  United-States   >50K  \n",
       "48839             0             0              40  United-States  <=50K  \n",
       "48840             0             0              20  United-States  <=50K  \n",
       "48841         15024             0              40  United-States   >50K  \n",
       "\n",
       "[48842 rows x 16 columns]"
      ]
     },
     "execution_count": 23,
     "metadata": {},
     "output_type": "execute_result"
    }
   ],
   "source": [
    "import pandas as pd\n",
    "df = pd.read_csv(\"data/adult_data.csv\")\n",
    "df"
   ]
  },
  {
   "cell_type": "code",
   "execution_count": 24,
   "id": "42cec32f",
   "metadata": {},
   "outputs": [
    {
     "data": {
      "text/plain": [
       "31663665"
      ]
     },
     "execution_count": 24,
     "metadata": {},
     "output_type": "execute_result"
    }
   ],
   "source": [
    "getsizeof(df)"
   ]
  },
  {
   "cell_type": "code",
   "execution_count": 25,
   "id": "4bb097f6",
   "metadata": {},
   "outputs": [],
   "source": [
    "df_pyspark = spark.read.option('header', 'true').csv('data/adult_data.csv')\n"
   ]
  },
  {
   "cell_type": "code",
   "execution_count": 26,
   "id": "7b377b79",
   "metadata": {},
   "outputs": [
    {
     "data": {
      "text/plain": [
       "48"
      ]
     },
     "execution_count": 26,
     "metadata": {},
     "output_type": "execute_result"
    }
   ],
   "source": [
    "getsizeof(df_pyspark)"
   ]
  },
  {
   "cell_type": "code",
   "execution_count": null,
   "id": "f9fd9dfc",
   "metadata": {},
   "outputs": [],
   "source": []
  },
  {
   "cell_type": "code",
   "execution_count": 27,
   "id": "bad76311",
   "metadata": {},
   "outputs": [
    {
     "name": "stdout",
     "output_type": "stream",
     "text": [
      "+---------+---+----------+------+\n",
      "|     Name|age|Experience|Salary|\n",
      "+---------+---+----------+------+\n",
      "|    Krish| 31|        10| 30000|\n",
      "|Sudhanshu| 30|         8| 25000|\n",
      "|    Sunny| 29|         4| 20000|\n",
      "|     Paul| 24|         3| 20000|\n",
      "|   Harsha| 21|         1| 15000|\n",
      "|  Shubham| 23|         2| 18000|\n",
      "+---------+---+----------+------+\n",
      "\n"
     ]
    }
   ],
   "source": [
    "df_pyspark = spark.read.option('header', 'true').csv('data/test1.csv')\n",
    "df_pyspark.show()"
   ]
  },
  {
   "cell_type": "markdown",
   "id": "bc4c194c",
   "metadata": {},
   "source": [
    "COMPROBAMOS EL TIPO DE DATOS QUE TENEMOS"
   ]
  },
  {
   "cell_type": "code",
   "execution_count": 28,
   "id": "85a9ce1f",
   "metadata": {},
   "outputs": [
    {
     "name": "stdout",
     "output_type": "stream",
     "text": [
      "root\n",
      " |-- Name: string (nullable = true)\n",
      " |-- age: string (nullable = true)\n",
      " |-- Experience: string (nullable = true)\n",
      " |-- Salary: string (nullable = true)\n",
      "\n"
     ]
    }
   ],
   "source": [
    "df_pyspark.printSchema()"
   ]
  },
  {
   "cell_type": "code",
   "execution_count": 29,
   "id": "1f62ab79",
   "metadata": {},
   "outputs": [
    {
     "name": "stdout",
     "output_type": "stream",
     "text": [
      "+---------+---+----------+------+\n",
      "|     Name|age|Experience|Salary|\n",
      "+---------+---+----------+------+\n",
      "|    Krish| 31|        10| 30000|\n",
      "|Sudhanshu| 30|         8| 25000|\n",
      "|    Sunny| 29|         4| 20000|\n",
      "|     Paul| 24|         3| 20000|\n",
      "|   Harsha| 21|         1| 15000|\n",
      "|  Shubham| 23|         2| 18000|\n",
      "+---------+---+----------+------+\n",
      "\n"
     ]
    }
   ],
   "source": [
    "df_pyspark = spark.read.csv('data/test1.csv', header=True, inferSchema=True) # equivalente a spark.read.option('header', 'true').option('inferSchema', 'true').csv('data/test1.csv')\n",
    "df_pyspark.show()"
   ]
  },
  {
   "cell_type": "code",
   "execution_count": 30,
   "metadata": {},
   "outputs": [],
   "source": [
    "from pyspark.sql.types import StructField, TimestampType, StringType, StructType, IntegerType, FloatType"
   ]
  },
  {
   "cell_type": "code",
   "execution_count": 31,
   "id": "0d6daa12",
   "metadata": {},
   "outputs": [
    {
     "name": "stdout",
     "output_type": "stream",
     "text": [
      "+---------+----+----------+-------+\n",
      "|     name| age|Experience| Salary|\n",
      "+---------+----+----------+-------+\n",
      "|    Krish|NULL|        10|30000.0|\n",
      "|Sudhanshu|NULL|         8|25000.0|\n",
      "|    Sunny|NULL|         4|20000.0|\n",
      "|     Paul|NULL|         3|20000.0|\n",
      "|   Harsha|NULL|         1|15000.0|\n",
      "|  Shubham|NULL|         2|18000.0|\n",
      "+---------+----+----------+-------+\n",
      "\n"
     ]
    }
   ],
   "source": [
    "# también podríamos pasarle el esquema manualmente, muy últil para formatos timestamps por ejemplo\n",
    "\n",
    "\n",
    "data_schema = StructType([StructField(\"name\", StringType(), True),\n",
    "               StructField(\"age\", TimestampType(), True),\n",
    "               StructField(\"Experience\", IntegerType(), True),\n",
    "               StructField(\"Salary\", FloatType(), True),\n",
    "               ])\n",
    "\n",
    "df_pyspark = spark.read.format(\"csv\").option(\"header\", True).schema(data_schema).load('data/test1.csv')\n",
    "df_pyspark.show()"
   ]
  },
  {
   "cell_type": "markdown",
   "id": "7425b880",
   "metadata": {},
   "source": [
    "VOLVEMOS A COMPROBAR LOS DATOS"
   ]
  },
  {
   "cell_type": "code",
   "execution_count": 15,
   "id": "5158dcbb",
   "metadata": {},
   "outputs": [
    {
     "name": "stdout",
     "output_type": "stream",
     "text": [
      "root\n",
      " |-- time: timestamp (nullable = true)\n",
      " |-- action: string (nullable = true)\n",
      "\n"
     ]
    }
   ],
   "source": [
    "df_pyspark.printSchema()"
   ]
  },
  {
   "cell_type": "code",
   "execution_count": null,
   "id": "4dcc3380",
   "metadata": {},
   "outputs": [],
   "source": [
    "df_pyspark.dtypes"
   ]
  },
  {
   "cell_type": "code",
   "execution_count": null,
   "id": "798af2f7",
   "metadata": {},
   "outputs": [],
   "source": [
    "df_pyspark.describe().show()"
   ]
  },
  {
   "cell_type": "markdown",
   "id": "4349715e",
   "metadata": {},
   "source": [
    "MOSTRAMOS LOS PRIMEROS VALORES"
   ]
  },
  {
   "cell_type": "code",
   "execution_count": 32,
   "id": "2cd5c13d",
   "metadata": {},
   "outputs": [
    {
     "data": {
      "text/plain": [
       "[Row(name='Krish', age=None, Experience=10, Salary=30000.0),\n",
       " Row(name='Sudhanshu', age=None, Experience=8, Salary=25000.0),\n",
       " Row(name='Sunny', age=None, Experience=4, Salary=20000.0)]"
      ]
     },
     "execution_count": 32,
     "metadata": {},
     "output_type": "execute_result"
    }
   ],
   "source": [
    "df_pyspark.head(3)"
   ]
  },
  {
   "cell_type": "markdown",
   "id": "98a68d4b",
   "metadata": {},
   "source": [
    "#### SELECCIONAR COLUMNAS (select)"
   ]
  },
  {
   "cell_type": "markdown",
   "id": "7f033842",
   "metadata": {},
   "source": [
    "SELECCIONAR COLUMNAS POR NOMBRE"
   ]
  },
  {
   "cell_type": "code",
   "execution_count": 34,
   "id": "e4e8920f",
   "metadata": {},
   "outputs": [
    {
     "name": "stdout",
     "output_type": "stream",
     "text": [
      "+---------+----------+---------+\n",
      "|     Name|Experience|     Name|\n",
      "+---------+----------+---------+\n",
      "|    Krish|        10|    Krish|\n",
      "|Sudhanshu|         8|Sudhanshu|\n",
      "|    Sunny|         4|    Sunny|\n",
      "|     Paul|         3|     Paul|\n",
      "|   Harsha|         1|   Harsha|\n",
      "|  Shubham|         2|  Shubham|\n",
      "+---------+----------+---------+\n",
      "\n"
     ]
    }
   ],
   "source": [
    "df_pyspark.select(['Name', 'Experience', \"Name\"]).show()"
   ]
  },
  {
   "cell_type": "code",
   "execution_count": 44,
   "id": "4eed0f25",
   "metadata": {},
   "outputs": [
    {
     "data": {
      "text/plain": [
       "Column<'Name'>"
      ]
     },
     "execution_count": 44,
     "metadata": {},
     "output_type": "execute_result"
    }
   ],
   "source": [
    "df_pyspark[\"Name\"]"
   ]
  },
  {
   "cell_type": "markdown",
   "id": "ade3b90c",
   "metadata": {},
   "source": [
    "SELECCIONAR COLUMNAS POR ÍNDICE"
   ]
  },
  {
   "cell_type": "markdown",
   "id": "13519351",
   "metadata": {},
   "source": [
    "No existe el comando como tal, pero podemos trampearlo de esta forma:"
   ]
  },
  {
   "cell_type": "code",
   "execution_count": 45,
   "id": "0bc84cc6",
   "metadata": {},
   "outputs": [
    {
     "data": {
      "text/plain": [
       "['name', 'age', 'Experience']"
      ]
     },
     "execution_count": 45,
     "metadata": {},
     "output_type": "execute_result"
    }
   ],
   "source": [
    "# El método columns nos devuelve una lista de las columnas que le indiquemos por índice\n",
    "\n",
    "df_pyspark.columns[:3]"
   ]
  },
  {
   "cell_type": "code",
   "execution_count": 47,
   "id": "3ce6c4ae",
   "metadata": {},
   "outputs": [
    {
     "name": "stdout",
     "output_type": "stream",
     "text": [
      "+---------+----+----------+\n",
      "|     name| age|Experience|\n",
      "+---------+----+----------+\n",
      "|    Krish|null|        10|\n",
      "|Sudhanshu|null|         8|\n",
      "|    Sunny|null|         4|\n",
      "+---------+----+----------+\n",
      "only showing top 3 rows\n",
      "\n"
     ]
    }
   ],
   "source": [
    "# De este modo, podemos obtener de forma indirecta las columnas por índice\n",
    "\n",
    "df_pyspark.select(df_pyspark.columns[:3]).show(3)"
   ]
  },
  {
   "cell_type": "markdown",
   "id": "0dc7ee61",
   "metadata": {},
   "source": [
    "#### AÑADIR, ELIMINAR Y RENOMBRAR COLUMNAS"
   ]
  },
  {
   "cell_type": "markdown",
   "id": "08595b60",
   "metadata": {},
   "source": [
    "AÑADIR COLUMNAS"
   ]
  },
  {
   "cell_type": "code",
   "execution_count": 36,
   "id": "227fcee5",
   "metadata": {},
   "outputs": [],
   "source": [
    "df_pyspark_new_column = df_pyspark.withColumn('Experience after 2 years', df_pyspark['Experience']+2) # Nombre de la columna y valores de la columna"
   ]
  },
  {
   "cell_type": "code",
   "execution_count": 37,
   "id": "c26bdaff",
   "metadata": {},
   "outputs": [
    {
     "name": "stdout",
     "output_type": "stream",
     "text": [
      "+---------+----+----------+-------+------------------------+\n",
      "|     name| age|Experience| Salary|Experience after 2 years|\n",
      "+---------+----+----------+-------+------------------------+\n",
      "|    Krish|NULL|        10|30000.0|                      12|\n",
      "|Sudhanshu|NULL|         8|25000.0|                      10|\n",
      "|    Sunny|NULL|         4|20000.0|                       6|\n",
      "|     Paul|NULL|         3|20000.0|                       5|\n",
      "|   Harsha|NULL|         1|15000.0|                       3|\n",
      "|  Shubham|NULL|         2|18000.0|                       4|\n",
      "+---------+----+----------+-------+------------------------+\n",
      "\n"
     ]
    }
   ],
   "source": [
    "df_pyspark_new_column.show()"
   ]
  },
  {
   "cell_type": "markdown",
   "id": "c104a4a2",
   "metadata": {},
   "source": [
    "ELIMINAR COLUMNAS"
   ]
  },
  {
   "cell_type": "code",
   "execution_count": 38,
   "id": "67252acb",
   "metadata": {},
   "outputs": [],
   "source": [
    "df_pyspark_drop_column = df_pyspark.drop('Experience after 2 years')\n"
   ]
  },
  {
   "cell_type": "code",
   "execution_count": 39,
   "id": "dbaaaf72",
   "metadata": {},
   "outputs": [
    {
     "name": "stdout",
     "output_type": "stream",
     "text": [
      "+---------+----+----------+-------+\n",
      "|     name| age|Experience| Salary|\n",
      "+---------+----+----------+-------+\n",
      "|    Krish|NULL|        10|30000.0|\n",
      "|Sudhanshu|NULL|         8|25000.0|\n",
      "|    Sunny|NULL|         4|20000.0|\n",
      "|     Paul|NULL|         3|20000.0|\n",
      "|   Harsha|NULL|         1|15000.0|\n",
      "|  Shubham|NULL|         2|18000.0|\n",
      "+---------+----+----------+-------+\n",
      "\n"
     ]
    }
   ],
   "source": [
    "df_pyspark_drop_column.show()"
   ]
  },
  {
   "cell_type": "markdown",
   "id": "63799878",
   "metadata": {},
   "source": [
    "RENOMBRAR COLUMNAS"
   ]
  },
  {
   "cell_type": "code",
   "execution_count": 40,
   "id": "6c023025",
   "metadata": {},
   "outputs": [
    {
     "name": "stdout",
     "output_type": "stream",
     "text": [
      "+---------+----+----------+-------+\n",
      "| New_name| age|Experience| Salary|\n",
      "+---------+----+----------+-------+\n",
      "|    Krish|NULL|        10|30000.0|\n",
      "|Sudhanshu|NULL|         8|25000.0|\n",
      "|    Sunny|NULL|         4|20000.0|\n",
      "|     Paul|NULL|         3|20000.0|\n",
      "|   Harsha|NULL|         1|15000.0|\n",
      "|  Shubham|NULL|         2|18000.0|\n",
      "+---------+----+----------+-------+\n",
      "\n"
     ]
    }
   ],
   "source": [
    "df_pyspark.withColumnRenamed('Name', 'New_name').show()"
   ]
  },
  {
   "cell_type": "code",
   "execution_count": null,
   "id": "72f71928",
   "metadata": {},
   "outputs": [],
   "source": []
  }
 ],
 "metadata": {
  "kernelspec": {
   "display_name": "Python 3.8.13 ('pyspark_env')",
   "language": "python",
   "name": "python3"
  },
  "language_info": {
   "codemirror_mode": {
    "name": "ipython",
    "version": 3
   },
   "file_extension": ".py",
   "mimetype": "text/x-python",
   "name": "python",
   "nbconvert_exporter": "python",
   "pygments_lexer": "ipython3",
   "version": "3.8.19"
  },
  "vscode": {
   "interpreter": {
    "hash": "3a3a425e162f4862738cbecfd5f787bbbf005b9ca551466c5a6c30f0a4f3fc04"
   }
  }
 },
 "nbformat": 4,
 "nbformat_minor": 5
}
